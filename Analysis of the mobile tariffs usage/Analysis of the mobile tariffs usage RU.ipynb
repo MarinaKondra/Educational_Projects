{
 "cells": [
  {
   "cell_type": "markdown",
   "metadata": {},
   "source": [
    "#  Определение тарифа для телеком компании\n",
    "\n",
    "В нашем распоряжении данные 500 пользователей оператора \"Мегалайн\" за 2018 год.\n",
    "\n",
    "**Цель исследования** - установить какой из тарифов является наиболее прибыльным и проверить две гипотезы:\n",
    "1. Средняя выручка пользователей тарифов «Ультра» и «Смарт» различаются;\n",
    "2. Средняя выручка пользователей из Москвы отличается от выручки пользователей из других регионов.\n",
    "\n",
    "**Задачи исследования** - для выполнения поставленной цели мы проверим несколько датасетов на ошибки и оценим их влияние на исследование. Затем, на этапе предобработки мы сгруппируем и объединим датасеты для анализа. Далее мы рассчитаем и проанализируем параметры, которые помогут проверить установленные гипотезы. Также, нам нужно будет сравнить среднюю выручку по тарифам в Москве с остальными регионами.\n",
    "\n",
    "**Ход исследования**\n",
    "\n",
    "Нам необходимо сделать предварительный анализ тарифов на небольшой выборке клиентов. Данная информация находится в пяти датасетах:\n",
    "\n",
    "1. Данные о звонках пользователей содержатся в датасете `/datasets/calls.csv`;\n",
    "2. Данные о пользовании интернетом пользователей содержатся в датасете `/datasets/internet.csv`;\n",
    "3. Данные о сообщениях пользователей содержатся в датасете `/datasets/messages.csv`;\n",
    "4. Данные об используемом тарифе содержатся в датасете `/datasets/tariffs.csv`;\n",
    "5. Данные о местонахождении пользователей содержатся в датасете `/datasets/users.csv`.\n",
    "\n",
    "Мы проверим данные на ошибки, объединим их в общий датафрейм и проведем статистическую оценку данной выборки. Все это нужно для того чтобы проанализировать поведение клиентов и сделать вывод — какой тариф лучше.\n",
    "\n",
    "Таким образом, исследование пройдёт в три этапа:\n",
    " 1. Обзор данных.\n",
    " 2. Предобработка данных.\n",
    " 3. Анализ и описание данных.\n",
    " 4. Проверка гипотез.\n"
   ]
  },
  {
   "cell_type": "markdown",
   "metadata": {},
   "source": [
    "## Изучение общей информации"
   ]
  },
  {
   "cell_type": "markdown",
   "metadata": {},
   "source": [
    "Составим первое представление о данных. Импортируем библиотеку pandas и остальные библиотеки для проведения анализа, сохраним файлы в переменные `df` и выведем первые 5 строк таблицы методом `.head`"
   ]
  },
  {
   "cell_type": "code",
   "execution_count": 1,
   "metadata": {},
   "outputs": [
    {
     "data": {
      "text/html": [
       "<div>\n",
       "<style scoped>\n",
       "    .dataframe tbody tr th:only-of-type {\n",
       "        vertical-align: middle;\n",
       "    }\n",
       "\n",
       "    .dataframe tbody tr th {\n",
       "        vertical-align: top;\n",
       "    }\n",
       "\n",
       "    .dataframe thead th {\n",
       "        text-align: right;\n",
       "    }\n",
       "</style>\n",
       "<table border=\"1\" class=\"dataframe\">\n",
       "  <thead>\n",
       "    <tr style=\"text-align: right;\">\n",
       "      <th></th>\n",
       "      <th>id</th>\n",
       "      <th>call_date</th>\n",
       "      <th>duration</th>\n",
       "      <th>user_id</th>\n",
       "    </tr>\n",
       "  </thead>\n",
       "  <tbody>\n",
       "    <tr>\n",
       "      <td>0</td>\n",
       "      <td>1000_0</td>\n",
       "      <td>2018-07-25</td>\n",
       "      <td>0.00</td>\n",
       "      <td>1000</td>\n",
       "    </tr>\n",
       "    <tr>\n",
       "      <td>1</td>\n",
       "      <td>1000_1</td>\n",
       "      <td>2018-08-17</td>\n",
       "      <td>0.00</td>\n",
       "      <td>1000</td>\n",
       "    </tr>\n",
       "    <tr>\n",
       "      <td>2</td>\n",
       "      <td>1000_2</td>\n",
       "      <td>2018-06-11</td>\n",
       "      <td>2.85</td>\n",
       "      <td>1000</td>\n",
       "    </tr>\n",
       "    <tr>\n",
       "      <td>3</td>\n",
       "      <td>1000_3</td>\n",
       "      <td>2018-09-21</td>\n",
       "      <td>13.80</td>\n",
       "      <td>1000</td>\n",
       "    </tr>\n",
       "    <tr>\n",
       "      <td>4</td>\n",
       "      <td>1000_4</td>\n",
       "      <td>2018-12-15</td>\n",
       "      <td>5.18</td>\n",
       "      <td>1000</td>\n",
       "    </tr>\n",
       "  </tbody>\n",
       "</table>\n",
       "</div>"
      ],
      "text/plain": [
       "       id   call_date  duration  user_id\n",
       "0  1000_0  2018-07-25      0.00     1000\n",
       "1  1000_1  2018-08-17      0.00     1000\n",
       "2  1000_2  2018-06-11      2.85     1000\n",
       "3  1000_3  2018-09-21     13.80     1000\n",
       "4  1000_4  2018-12-15      5.18     1000"
      ]
     },
     "execution_count": 1,
     "metadata": {},
     "output_type": "execute_result"
    }
   ],
   "source": [
    "import pandas as pd\n",
    "import math \n",
    "from scipy import stats as st\n",
    "import matplotlib.pyplot as plt\n",
    "import seaborn as sns\n",
    "import numpy as np #импортируем библиотеку numpy\n",
    "from math import ceil\n",
    "df_calls = pd.read_csv('/datasets/calls.csv')\n",
    "df_internet = pd.read_csv('/datasets/internet.csv')\n",
    "df_messages = pd.read_csv('/datasets/messages.csv')\n",
    "df_tariffs = pd.read_csv('/datasets/tariffs.csv')\n",
    "df_users = pd.read_csv('/datasets/users.csv')\n",
    "\n",
    "df_calls.head(5)"
   ]
  },
  {
   "cell_type": "markdown",
   "metadata": {},
   "source": [
    "Итак, у нас есть информация о дате звонка, его длительности и пользователе который его совершил. Одной командой получим общую информацию о таблице."
   ]
  },
  {
   "cell_type": "code",
   "execution_count": 2,
   "metadata": {},
   "outputs": [
    {
     "name": "stdout",
     "output_type": "stream",
     "text": [
      "<class 'pandas.core.frame.DataFrame'>\n",
      "RangeIndex: 202607 entries, 0 to 202606\n",
      "Data columns (total 4 columns):\n",
      "id           202607 non-null object\n",
      "call_date    202607 non-null object\n",
      "duration     202607 non-null float64\n",
      "user_id      202607 non-null int64\n",
      "dtypes: float64(1), int64(1), object(2)\n",
      "memory usage: 6.2+ MB\n"
     ]
    }
   ],
   "source": [
    "df_calls.info()"
   ]
  },
  {
   "cell_type": "markdown",
   "metadata": {},
   "source": [
    "Всего в датасете `df_calls` 202 607 строк с различным типом данных `float`, `int`, `object`. Пропущенных значений нет. \n",
    "\n",
    "Взглянем на датасет с информацией об интернете `df_internet`."
   ]
  },
  {
   "cell_type": "code",
   "execution_count": 3,
   "metadata": {},
   "outputs": [
    {
     "data": {
      "text/html": [
       "<div>\n",
       "<style scoped>\n",
       "    .dataframe tbody tr th:only-of-type {\n",
       "        vertical-align: middle;\n",
       "    }\n",
       "\n",
       "    .dataframe tbody tr th {\n",
       "        vertical-align: top;\n",
       "    }\n",
       "\n",
       "    .dataframe thead th {\n",
       "        text-align: right;\n",
       "    }\n",
       "</style>\n",
       "<table border=\"1\" class=\"dataframe\">\n",
       "  <thead>\n",
       "    <tr style=\"text-align: right;\">\n",
       "      <th></th>\n",
       "      <th>Unnamed: 0</th>\n",
       "      <th>id</th>\n",
       "      <th>mb_used</th>\n",
       "      <th>session_date</th>\n",
       "      <th>user_id</th>\n",
       "    </tr>\n",
       "  </thead>\n",
       "  <tbody>\n",
       "    <tr>\n",
       "      <td>0</td>\n",
       "      <td>0</td>\n",
       "      <td>1000_0</td>\n",
       "      <td>112.95</td>\n",
       "      <td>2018-11-25</td>\n",
       "      <td>1000</td>\n",
       "    </tr>\n",
       "    <tr>\n",
       "      <td>1</td>\n",
       "      <td>1</td>\n",
       "      <td>1000_1</td>\n",
       "      <td>1052.81</td>\n",
       "      <td>2018-09-07</td>\n",
       "      <td>1000</td>\n",
       "    </tr>\n",
       "    <tr>\n",
       "      <td>2</td>\n",
       "      <td>2</td>\n",
       "      <td>1000_2</td>\n",
       "      <td>1197.26</td>\n",
       "      <td>2018-06-25</td>\n",
       "      <td>1000</td>\n",
       "    </tr>\n",
       "    <tr>\n",
       "      <td>3</td>\n",
       "      <td>3</td>\n",
       "      <td>1000_3</td>\n",
       "      <td>550.27</td>\n",
       "      <td>2018-08-22</td>\n",
       "      <td>1000</td>\n",
       "    </tr>\n",
       "    <tr>\n",
       "      <td>4</td>\n",
       "      <td>4</td>\n",
       "      <td>1000_4</td>\n",
       "      <td>302.56</td>\n",
       "      <td>2018-09-24</td>\n",
       "      <td>1000</td>\n",
       "    </tr>\n",
       "  </tbody>\n",
       "</table>\n",
       "</div>"
      ],
      "text/plain": [
       "   Unnamed: 0      id  mb_used session_date  user_id\n",
       "0           0  1000_0   112.95   2018-11-25     1000\n",
       "1           1  1000_1  1052.81   2018-09-07     1000\n",
       "2           2  1000_2  1197.26   2018-06-25     1000\n",
       "3           3  1000_3   550.27   2018-08-22     1000\n",
       "4           4  1000_4   302.56   2018-09-24     1000"
      ]
     },
     "execution_count": 3,
     "metadata": {},
     "output_type": "execute_result"
    }
   ],
   "source": [
    "df_internet.head(5)"
   ]
  },
  {
   "cell_type": "markdown",
   "metadata": {},
   "source": [
    "Здесь у нас есть информация о количестве использованного интернета в мегабайтах, периоде использования интернета и пользователе который его совершил. Каждая сессия имеет свой идентификационный номер. Одной командой получим общую информацию о таблице."
   ]
  },
  {
   "cell_type": "code",
   "execution_count": 4,
   "metadata": {},
   "outputs": [
    {
     "name": "stdout",
     "output_type": "stream",
     "text": [
      "<class 'pandas.core.frame.DataFrame'>\n",
      "RangeIndex: 149396 entries, 0 to 149395\n",
      "Data columns (total 5 columns):\n",
      "Unnamed: 0      149396 non-null int64\n",
      "id              149396 non-null object\n",
      "mb_used         149396 non-null float64\n",
      "session_date    149396 non-null object\n",
      "user_id         149396 non-null int64\n",
      "dtypes: float64(1), int64(2), object(2)\n",
      "memory usage: 5.7+ MB\n"
     ]
    }
   ],
   "source": [
    "df_internet.info()"
   ]
  },
  {
   "cell_type": "markdown",
   "metadata": {},
   "source": [
    "Всего в датасете `df_internet` 149 396 строк с различным типом данных `float`, `int`, `object`.\n",
    "Пропущенных значений нет.\n",
    "Взглянем на датасет с информацией об сообщениях `df_messages`."
   ]
  },
  {
   "cell_type": "code",
   "execution_count": 5,
   "metadata": {},
   "outputs": [
    {
     "data": {
      "text/html": [
       "<div>\n",
       "<style scoped>\n",
       "    .dataframe tbody tr th:only-of-type {\n",
       "        vertical-align: middle;\n",
       "    }\n",
       "\n",
       "    .dataframe tbody tr th {\n",
       "        vertical-align: top;\n",
       "    }\n",
       "\n",
       "    .dataframe thead th {\n",
       "        text-align: right;\n",
       "    }\n",
       "</style>\n",
       "<table border=\"1\" class=\"dataframe\">\n",
       "  <thead>\n",
       "    <tr style=\"text-align: right;\">\n",
       "      <th></th>\n",
       "      <th>id</th>\n",
       "      <th>message_date</th>\n",
       "      <th>user_id</th>\n",
       "    </tr>\n",
       "  </thead>\n",
       "  <tbody>\n",
       "    <tr>\n",
       "      <td>0</td>\n",
       "      <td>1000_0</td>\n",
       "      <td>2018-06-27</td>\n",
       "      <td>1000</td>\n",
       "    </tr>\n",
       "    <tr>\n",
       "      <td>1</td>\n",
       "      <td>1000_1</td>\n",
       "      <td>2018-10-08</td>\n",
       "      <td>1000</td>\n",
       "    </tr>\n",
       "    <tr>\n",
       "      <td>2</td>\n",
       "      <td>1000_2</td>\n",
       "      <td>2018-08-04</td>\n",
       "      <td>1000</td>\n",
       "    </tr>\n",
       "    <tr>\n",
       "      <td>3</td>\n",
       "      <td>1000_3</td>\n",
       "      <td>2018-06-16</td>\n",
       "      <td>1000</td>\n",
       "    </tr>\n",
       "    <tr>\n",
       "      <td>4</td>\n",
       "      <td>1000_4</td>\n",
       "      <td>2018-12-05</td>\n",
       "      <td>1000</td>\n",
       "    </tr>\n",
       "  </tbody>\n",
       "</table>\n",
       "</div>"
      ],
      "text/plain": [
       "       id message_date  user_id\n",
       "0  1000_0   2018-06-27     1000\n",
       "1  1000_1   2018-10-08     1000\n",
       "2  1000_2   2018-08-04     1000\n",
       "3  1000_3   2018-06-16     1000\n",
       "4  1000_4   2018-12-05     1000"
      ]
     },
     "execution_count": 5,
     "metadata": {},
     "output_type": "execute_result"
    }
   ],
   "source": [
    "df_messages.head(5)"
   ]
  },
  {
   "cell_type": "markdown",
   "metadata": {},
   "source": [
    "Здесь у нас есть информация о количестве отправленных смс, дате их отправки и пользователе который его совершил. Каждое сообщение имеет свой идентификационный номер. Одной командой получим общую информацию о таблице."
   ]
  },
  {
   "cell_type": "code",
   "execution_count": 6,
   "metadata": {},
   "outputs": [
    {
     "name": "stdout",
     "output_type": "stream",
     "text": [
      "<class 'pandas.core.frame.DataFrame'>\n",
      "RangeIndex: 123036 entries, 0 to 123035\n",
      "Data columns (total 3 columns):\n",
      "id              123036 non-null object\n",
      "message_date    123036 non-null object\n",
      "user_id         123036 non-null int64\n",
      "dtypes: int64(1), object(2)\n",
      "memory usage: 2.8+ MB\n"
     ]
    }
   ],
   "source": [
    "df_messages.info()"
   ]
  },
  {
   "cell_type": "markdown",
   "metadata": {},
   "source": [
    "Всего в датасете `df_messages` 123 036 строк с различным типом данных `float`, `int`, `object`.\n",
    "Пропущенных значений нет.\n",
    "Взглянем на датасет с информацией о пользователях `df_users`."
   ]
  },
  {
   "cell_type": "code",
   "execution_count": 7,
   "metadata": {},
   "outputs": [
    {
     "data": {
      "text/html": [
       "<div>\n",
       "<style scoped>\n",
       "    .dataframe tbody tr th:only-of-type {\n",
       "        vertical-align: middle;\n",
       "    }\n",
       "\n",
       "    .dataframe tbody tr th {\n",
       "        vertical-align: top;\n",
       "    }\n",
       "\n",
       "    .dataframe thead th {\n",
       "        text-align: right;\n",
       "    }\n",
       "</style>\n",
       "<table border=\"1\" class=\"dataframe\">\n",
       "  <thead>\n",
       "    <tr style=\"text-align: right;\">\n",
       "      <th></th>\n",
       "      <th>user_id</th>\n",
       "      <th>age</th>\n",
       "      <th>churn_date</th>\n",
       "      <th>city</th>\n",
       "      <th>first_name</th>\n",
       "      <th>last_name</th>\n",
       "      <th>reg_date</th>\n",
       "      <th>tariff</th>\n",
       "    </tr>\n",
       "  </thead>\n",
       "  <tbody>\n",
       "    <tr>\n",
       "      <td>0</td>\n",
       "      <td>1000</td>\n",
       "      <td>52</td>\n",
       "      <td>NaN</td>\n",
       "      <td>Краснодар</td>\n",
       "      <td>Рафаил</td>\n",
       "      <td>Верещагин</td>\n",
       "      <td>2018-05-25</td>\n",
       "      <td>ultra</td>\n",
       "    </tr>\n",
       "    <tr>\n",
       "      <td>1</td>\n",
       "      <td>1001</td>\n",
       "      <td>41</td>\n",
       "      <td>NaN</td>\n",
       "      <td>Москва</td>\n",
       "      <td>Иван</td>\n",
       "      <td>Ежов</td>\n",
       "      <td>2018-11-01</td>\n",
       "      <td>smart</td>\n",
       "    </tr>\n",
       "    <tr>\n",
       "      <td>2</td>\n",
       "      <td>1002</td>\n",
       "      <td>59</td>\n",
       "      <td>NaN</td>\n",
       "      <td>Стерлитамак</td>\n",
       "      <td>Евгений</td>\n",
       "      <td>Абрамович</td>\n",
       "      <td>2018-06-17</td>\n",
       "      <td>smart</td>\n",
       "    </tr>\n",
       "    <tr>\n",
       "      <td>3</td>\n",
       "      <td>1003</td>\n",
       "      <td>23</td>\n",
       "      <td>NaN</td>\n",
       "      <td>Москва</td>\n",
       "      <td>Белла</td>\n",
       "      <td>Белякова</td>\n",
       "      <td>2018-08-17</td>\n",
       "      <td>ultra</td>\n",
       "    </tr>\n",
       "    <tr>\n",
       "      <td>4</td>\n",
       "      <td>1004</td>\n",
       "      <td>68</td>\n",
       "      <td>NaN</td>\n",
       "      <td>Новокузнецк</td>\n",
       "      <td>Татьяна</td>\n",
       "      <td>Авдеенко</td>\n",
       "      <td>2018-05-14</td>\n",
       "      <td>ultra</td>\n",
       "    </tr>\n",
       "  </tbody>\n",
       "</table>\n",
       "</div>"
      ],
      "text/plain": [
       "   user_id  age churn_date         city first_name  last_name    reg_date  \\\n",
       "0     1000   52        NaN    Краснодар     Рафаил  Верещагин  2018-05-25   \n",
       "1     1001   41        NaN       Москва       Иван       Ежов  2018-11-01   \n",
       "2     1002   59        NaN  Стерлитамак    Евгений  Абрамович  2018-06-17   \n",
       "3     1003   23        NaN       Москва      Белла   Белякова  2018-08-17   \n",
       "4     1004   68        NaN  Новокузнецк    Татьяна   Авдеенко  2018-05-14   \n",
       "\n",
       "  tariff  \n",
       "0  ultra  \n",
       "1  smart  \n",
       "2  smart  \n",
       "3  ultra  \n",
       "4  ultra  "
      ]
     },
     "execution_count": 7,
     "metadata": {},
     "output_type": "execute_result"
    }
   ],
   "source": [
    "df_users.head(5)"
   ]
  },
  {
   "cell_type": "markdown",
   "metadata": {},
   "source": [
    "Здесь у нас есть информация о самом пользователе: его идентификационный номер, возраст, дата прекращения пользования тарифом, город пребывания, имя и фамилия, дата подключения тарифа и название тарифного плана. Одной командой получим общую информацию о таблице."
   ]
  },
  {
   "cell_type": "code",
   "execution_count": 8,
   "metadata": {},
   "outputs": [
    {
     "name": "stdout",
     "output_type": "stream",
     "text": [
      "<class 'pandas.core.frame.DataFrame'>\n",
      "RangeIndex: 500 entries, 0 to 499\n",
      "Data columns (total 8 columns):\n",
      "user_id       500 non-null int64\n",
      "age           500 non-null int64\n",
      "churn_date    38 non-null object\n",
      "city          500 non-null object\n",
      "first_name    500 non-null object\n",
      "last_name     500 non-null object\n",
      "reg_date      500 non-null object\n",
      "tariff        500 non-null object\n",
      "dtypes: int64(2), object(6)\n",
      "memory usage: 31.4+ KB\n"
     ]
    }
   ],
   "source": [
    "df_users.info()"
   ]
  },
  {
   "cell_type": "markdown",
   "metadata": {},
   "source": [
    "Всего в датасете `df_users` 500 строк с типом данных `int`, `object`. Пропущенные значения имеются в дате прекращения пользования тарифом, что значит клиент на момент выгрузки данных еще пользовался тарифом. Всего мы имеем данные о 500 пользователях для изучения.\n",
    "Взглянем на датасет с информацией о тарифах `df_tariffs`."
   ]
  },
  {
   "cell_type": "code",
   "execution_count": 9,
   "metadata": {},
   "outputs": [
    {
     "data": {
      "text/html": [
       "<div>\n",
       "<style scoped>\n",
       "    .dataframe tbody tr th:only-of-type {\n",
       "        vertical-align: middle;\n",
       "    }\n",
       "\n",
       "    .dataframe tbody tr th {\n",
       "        vertical-align: top;\n",
       "    }\n",
       "\n",
       "    .dataframe thead th {\n",
       "        text-align: right;\n",
       "    }\n",
       "</style>\n",
       "<table border=\"1\" class=\"dataframe\">\n",
       "  <thead>\n",
       "    <tr style=\"text-align: right;\">\n",
       "      <th></th>\n",
       "      <th>messages_included</th>\n",
       "      <th>mb_per_month_included</th>\n",
       "      <th>minutes_included</th>\n",
       "      <th>rub_monthly_fee</th>\n",
       "      <th>rub_per_gb</th>\n",
       "      <th>rub_per_message</th>\n",
       "      <th>rub_per_minute</th>\n",
       "      <th>tariff_name</th>\n",
       "    </tr>\n",
       "  </thead>\n",
       "  <tbody>\n",
       "    <tr>\n",
       "      <td>0</td>\n",
       "      <td>50</td>\n",
       "      <td>15360</td>\n",
       "      <td>500</td>\n",
       "      <td>550</td>\n",
       "      <td>200</td>\n",
       "      <td>3</td>\n",
       "      <td>3</td>\n",
       "      <td>smart</td>\n",
       "    </tr>\n",
       "    <tr>\n",
       "      <td>1</td>\n",
       "      <td>1000</td>\n",
       "      <td>30720</td>\n",
       "      <td>3000</td>\n",
       "      <td>1950</td>\n",
       "      <td>150</td>\n",
       "      <td>1</td>\n",
       "      <td>1</td>\n",
       "      <td>ultra</td>\n",
       "    </tr>\n",
       "  </tbody>\n",
       "</table>\n",
       "</div>"
      ],
      "text/plain": [
       "   messages_included  mb_per_month_included  minutes_included  \\\n",
       "0                 50                  15360               500   \n",
       "1               1000                  30720              3000   \n",
       "\n",
       "   rub_monthly_fee  rub_per_gb  rub_per_message  rub_per_minute tariff_name  \n",
       "0              550         200                3               3       smart  \n",
       "1             1950         150                1               1       ultra  "
      ]
     },
     "execution_count": 9,
     "metadata": {},
     "output_type": "execute_result"
    }
   ],
   "source": [
    "df_tariffs.head(5)"
   ]
  },
  {
   "cell_type": "markdown",
   "metadata": {},
   "source": [
    "Здесь мы имеем просто информацию о самих тарифах, а имено пакет услуг, предлагаемый в тарифе, его абонентская плата и стоимость услуг сверх пакета, установленного тарифом. \n",
    "Еще раз взглянем на количество строк в каждом датасете."
   ]
  },
  {
   "cell_type": "code",
   "execution_count": 10,
   "metadata": {},
   "outputs": [
    {
     "name": "stdout",
     "output_type": "stream",
     "text": [
      "Количество строк в df_users 500\n",
      "Количество строк в df_messages 123036\n",
      "Количество строк в df_calls 202607\n",
      "Количество строк в df_internet 149396\n"
     ]
    }
   ],
   "source": [
    "print('Количество строк в df_users',df_users['user_id'].count())\n",
    "print('Количество строк в df_messages',df_messages['user_id'].count())\n",
    "print('Количество строк в df_calls',df_calls['user_id'].count())\n",
    "print('Количество строк в df_internet',df_internet['user_id'].count())\n"
   ]
  },
  {
   "cell_type": "markdown",
   "metadata": {},
   "source": [
    "Исходя из полученной информации мы видим, что 500 пользователей чаще пользуются звонками, реже - интернетом и гораздо реже смс-сообщениями."
   ]
  },
  {
   "cell_type": "markdown",
   "metadata": {},
   "source": [
    "**Вывод**"
   ]
  },
  {
   "cell_type": "markdown",
   "metadata": {},
   "source": [
    "В каждой строке таблицы — данные о пользователях оператора «Мегалайн», а именно:  кто они, откуда, каким тарифом пользуются, сколько звонков и сообщений каждый отправил за определенный промежуток времени.\n",
    "\n",
    "Предварительно можно утверждать, что, данных достаточно для проверки гипотез. Однако, для дальнейшего анализа необходимо привести данные к общему типу и проверить данные на предмет ошибок."
   ]
  },
  {
   "cell_type": "markdown",
   "metadata": {},
   "source": [
    "## Предобработка данных"
   ]
  },
  {
   "cell_type": "markdown",
   "metadata": {},
   "source": [
    "### Исследование пропусков и нулевых значений"
   ]
  },
  {
   "cell_type": "markdown",
   "metadata": {},
   "source": [
    "В примечании указано, что «Мегалайн» всегда округляет секунды до минут, а мегабайты — до гигабайт. Каждый звонок округляется отдельно: даже если он длился всего 1 секунду, будет засчитан как 1 минута.\n",
    "В данных звонки указаны в дробных значениях, поэтому округлим их до целых чисел в большую сторону."
   ]
  },
  {
   "cell_type": "code",
   "execution_count": 11,
   "metadata": {},
   "outputs": [
    {
     "data": {
      "text/html": [
       "<div>\n",
       "<style scoped>\n",
       "    .dataframe tbody tr th:only-of-type {\n",
       "        vertical-align: middle;\n",
       "    }\n",
       "\n",
       "    .dataframe tbody tr th {\n",
       "        vertical-align: top;\n",
       "    }\n",
       "\n",
       "    .dataframe thead th {\n",
       "        text-align: right;\n",
       "    }\n",
       "</style>\n",
       "<table border=\"1\" class=\"dataframe\">\n",
       "  <thead>\n",
       "    <tr style=\"text-align: right;\">\n",
       "      <th></th>\n",
       "      <th>id</th>\n",
       "      <th>call_date</th>\n",
       "      <th>duration</th>\n",
       "      <th>user_id</th>\n",
       "    </tr>\n",
       "  </thead>\n",
       "  <tbody>\n",
       "    <tr>\n",
       "      <td>0</td>\n",
       "      <td>1000_0</td>\n",
       "      <td>2018-07-25</td>\n",
       "      <td>0.0</td>\n",
       "      <td>1000</td>\n",
       "    </tr>\n",
       "    <tr>\n",
       "      <td>1</td>\n",
       "      <td>1000_1</td>\n",
       "      <td>2018-08-17</td>\n",
       "      <td>0.0</td>\n",
       "      <td>1000</td>\n",
       "    </tr>\n",
       "    <tr>\n",
       "      <td>2</td>\n",
       "      <td>1000_2</td>\n",
       "      <td>2018-06-11</td>\n",
       "      <td>3.0</td>\n",
       "      <td>1000</td>\n",
       "    </tr>\n",
       "    <tr>\n",
       "      <td>3</td>\n",
       "      <td>1000_3</td>\n",
       "      <td>2018-09-21</td>\n",
       "      <td>14.0</td>\n",
       "      <td>1000</td>\n",
       "    </tr>\n",
       "    <tr>\n",
       "      <td>4</td>\n",
       "      <td>1000_4</td>\n",
       "      <td>2018-12-15</td>\n",
       "      <td>6.0</td>\n",
       "      <td>1000</td>\n",
       "    </tr>\n",
       "  </tbody>\n",
       "</table>\n",
       "</div>"
      ],
      "text/plain": [
       "       id   call_date  duration  user_id\n",
       "0  1000_0  2018-07-25       0.0     1000\n",
       "1  1000_1  2018-08-17       0.0     1000\n",
       "2  1000_2  2018-06-11       3.0     1000\n",
       "3  1000_3  2018-09-21      14.0     1000\n",
       "4  1000_4  2018-12-15       6.0     1000"
      ]
     },
     "execution_count": 11,
     "metadata": {},
     "output_type": "execute_result"
    }
   ],
   "source": [
    "df_calls['duration'] = np.ceil(df_calls['duration'])\n",
    "df_calls.head(5)"
   ]
  },
  {
   "cell_type": "markdown",
   "metadata": {},
   "source": [
    "Взглянем на данные в столбце \"duration\" при помощи `.describe`  и выявим медиану."
   ]
  },
  {
   "cell_type": "code",
   "execution_count": 12,
   "metadata": {},
   "outputs": [
    {
     "name": "stdout",
     "output_type": "stream",
     "text": [
      "Медиана в длительности звонков равна 6.0 мин.\n"
     ]
    },
    {
     "data": {
      "text/plain": [
       "count    202607.000000\n",
       "mean          7.158198\n",
       "std           5.959173\n",
       "min           0.000000\n",
       "25%           2.000000\n",
       "50%           6.000000\n",
       "75%          11.000000\n",
       "max          38.000000\n",
       "Name: duration, dtype: float64"
      ]
     },
     "execution_count": 12,
     "metadata": {},
     "output_type": "execute_result"
    }
   ],
   "source": [
    "print('Медиана в длительности звонков равна', df_calls['duration'].median(), 'мин.')\n",
    "df_calls['duration'].describe()"
   ]
  },
  {
   "cell_type": "markdown",
   "metadata": {},
   "source": [
    "Мы видим что в среднем пользователи разговаривают 6 минут. Среднее превышает медиану, что значит датасет имеет скошееность вправо, проиллюстрируем это на графике. "
   ]
  },
  {
   "cell_type": "code",
   "execution_count": 13,
   "metadata": {},
   "outputs": [
    {
     "data": {
      "image/png": "[encoded data removed]",
      "text/plain": [
       "<Figure size 432x288 with 1 Axes>"
      ]
     },
     "metadata": {
      "needs_background": "light"
     },
     "output_type": "display_data"
    }
   ],
   "source": [
    "df_calls['duration'].hist()\n",
    "plt.title('Длительность звонков, мин.');"
   ]
  },
  {
   "cell_type": "markdown",
   "metadata": {},
   "source": [
    "По графику видно что явных аномалий нет и мы имеем дело с  датасетом с положительной скошенностью. Также можно заметить, что в датасете есть внушительное количество звонков с нулевой продолжительностью - это пропущенные звонки, проверим, есть ли нулевые значения в использовании интернета."
   ]
  },
  {
   "cell_type": "code",
   "execution_count": 14,
   "metadata": {},
   "outputs": [
    {
     "data": {
      "text/plain": [
       "count    149396.000000\n",
       "mean        370.192426\n",
       "std         278.300951\n",
       "min           0.000000\n",
       "25%         138.187500\n",
       "50%         348.015000\n",
       "75%         559.552500\n",
       "max        1724.830000\n",
       "Name: mb_used, dtype: float64"
      ]
     },
     "execution_count": 14,
     "metadata": {},
     "output_type": "execute_result"
    }
   ],
   "source": [
    "df_internet['mb_used'].describe()"
   ]
  },
  {
   "cell_type": "markdown",
   "metadata": {},
   "source": [
    "Мы видим, что и при использовании интеренета есть нулевые сессии, взглянем на график, чтобы понять количество таких сессий."
   ]
  },
  {
   "cell_type": "code",
   "execution_count": 15,
   "metadata": {
    "scrolled": true
   },
   "outputs": [
    {
     "data": {
      "image/png": "[encoded data removed]",
      "text/plain": [
       "<Figure size 432x288 with 1 Axes>"
      ]
     },
     "metadata": {
      "needs_background": "light"
     },
     "output_type": "display_data"
    }
   ],
   "source": [
    "df_internet['mb_used'].hist()\n",
    "plt.title('Объём потраченного за сессию интернет-трафика, мб.');"
   ]
  },
  {
   "cell_type": "markdown",
   "metadata": {},
   "source": [
    "Объем переваливает за 40 000 сессий. Но в целом можно утверждать, что явных аномалий в датасете нет. По аналогии со звонками датасет также скошен в право."
   ]
  },
  {
   "cell_type": "markdown",
   "metadata": {},
   "source": [
    "### Замена типа данных"
   ]
  },
  {
   "cell_type": "markdown",
   "metadata": {},
   "source": [
    "Ранее мы обнаружили, что у нас разнородный тип данных в датафреймах. В первую очередь необходимо перевести столбцы с датами в формат данных `datetime64`, а затем - столбцы с числами из `object` в `int`."
   ]
  },
  {
   "cell_type": "code",
   "execution_count": 16,
   "metadata": {},
   "outputs": [],
   "source": [
    "#преобразования в датафрейме df_calls\n",
    "df_calls['call_date'] = pd.to_datetime(df_calls['call_date'], format='%Y-%m-%dT%H:%M:%S')\n",
    "df_calls['id'] = df_calls['id'].astype(int)\n",
    "\n",
    "#преобразования в датафрейме df_internet\n",
    "df_internet['session_date'] = pd.to_datetime(df_internet['session_date'], format='%Y-%m-%dT%H:%M:%S')\n",
    "df_internet['id'] = df_internet['id'].astype(int)\n",
    "\n",
    "#преобразования в датафрейме df_messages\n",
    "df_messages['message_date'] = pd.to_datetime(df_messages['message_date'], format='%Y-%m-%dT%H:%M:%S')\n",
    "df_messages['id'] = df_messages['id'].astype(int)\n",
    "\n",
    "#преобразования в датафрейме df_users\n",
    "df_users['reg_date'] = pd.to_datetime(df_users['reg_date'], format='%Y-%m-%dT%H:%M:%S')\n",
    "df_users['churn_date'] = pd.to_datetime(df_users['churn_date'], format='%Y-%m-%dT%H:%M:%S')"
   ]
  },
  {
   "cell_type": "markdown",
   "metadata": {},
   "source": [
    "Далее для того чтобы объединить подготовленные датафрейме, нам необходимо определить главный признак объединения - id пользователя, однако этого недостаточно для структуризации, поэтому дополнительно будем объединять по месяцу пользования услугой. В наших датасетах есть только даты - переведем их в новый формат. Для этого создадим в каждом датасете новый столбец \"month\" и выполним преобразования, используя `.dt.month`. "
   ]
  },
  {
   "cell_type": "code",
   "execution_count": 17,
   "metadata": {},
   "outputs": [],
   "source": [
    "#создаем новый столбец \"month\" в каждом датафрейме\n",
    "\n",
    "df_calls['month'] = df_calls['call_date'].dt.month\n",
    "df_internet['month'] = df_internet['session_date'].dt.month\n",
    "df_messages['month'] = df_messages['message_date'].dt.month"
   ]
  },
  {
   "cell_type": "markdown",
   "metadata": {},
   "source": [
    "### Подготовка пользовательских данных"
   ]
  },
  {
   "cell_type": "markdown",
   "metadata": {},
   "source": [
    "Итак, мы приведи данные к нужному типу и теперь готовы объединять полученные датафреймы. Однако, в наших датафреймах находятся данные о каждом дне отдельно. Поэтому, предварительно нам нужно сгруппировать каждый датафрйем по пользователю и месяцу, используя `.groupby` и просуммировать  каждый параметр с помощью `.agg`. "
   ]
  },
  {
   "cell_type": "code",
   "execution_count": 18,
   "metadata": {},
   "outputs": [],
   "source": [
    "#группируем \"df_calls\" по user_id и month \n",
    "df_calls = (df_calls.groupby(['user_id', 'month'])\n",
    "            .agg({'duration': 'sum','id': 'count'}). # суммируем длительность звонков и их количество\n",
    "            rename(columns={'id':'calls'}).reset_index() # переименовываем столбец \"id\"\n",
    "           )\n",
    "\n",
    "#группируем \"df_internet\" по user_id и month \n",
    "df_internet = (df_internet.groupby(['user_id', 'month'])\n",
    "               .agg({'mb_used': 'sum'}).reset_index()\n",
    "              )\n",
    "               \n",
    " #группируем \"df_messages\" по user_id и month              \n",
    "df_messages = (df_messages.groupby(['user_id', 'month'])\n",
    "               .agg({'id': 'count'})\n",
    "               .rename(columns={'id':'messages'}).reset_index()\n",
    "              )"
   ]
  },
  {
   "cell_type": "markdown",
   "metadata": {},
   "source": [
    "Группировки выполнены. Прежде чем приступать к объединению, добавим еще один параметр в таблицу об использованных гигабайтах, поскольку тарификация осуществляется по гигабайтам, а в нашем датасете информация по мегабайтам.\n",
    "В примечании указано, что «Мегалайн» всегда округляет мегабайты — до гигабайт. Для веб-трафика отдельные сессии не считаются. Вместо этого общая сумма за месяц округляется в бо́льшую сторону. На 1 гб приходится 1024 мб.Используем это при расчете."
   ]
  },
  {
   "cell_type": "code",
   "execution_count": 19,
   "metadata": {},
   "outputs": [],
   "source": [
    "# создаем новый столбец \"mb_to_pay\" с окргулением до мегабайтов, которые будут оплачены пользователем\n",
    "df_internet['mb_to_pay'] = (df_internet['mb_used']/1024).apply(math.ceil)*1024"
   ]
  },
  {
   "cell_type": "markdown",
   "metadata": {},
   "source": [
    "Далее, можем приступить к созданию единого датафрейма при помощи метода `.merge`. Поскольку некотрыми услугами (например смс) пользователь мог не пользоваться вообще, при объединении у нас могут появится пустые значения. Заменим пропуски на ноль."
   ]
  },
  {
   "cell_type": "code",
   "execution_count": 20,
   "metadata": {},
   "outputs": [
    {
     "data": {
      "text/html": [
       "<div>\n",
       "<style scoped>\n",
       "    .dataframe tbody tr th:only-of-type {\n",
       "        vertical-align: middle;\n",
       "    }\n",
       "\n",
       "    .dataframe tbody tr th {\n",
       "        vertical-align: top;\n",
       "    }\n",
       "\n",
       "    .dataframe thead th {\n",
       "        text-align: right;\n",
       "    }\n",
       "</style>\n",
       "<table border=\"1\" class=\"dataframe\">\n",
       "  <thead>\n",
       "    <tr style=\"text-align: right;\">\n",
       "      <th></th>\n",
       "      <th>user_id</th>\n",
       "      <th>month</th>\n",
       "      <th>duration</th>\n",
       "      <th>calls</th>\n",
       "      <th>mb_used</th>\n",
       "      <th>mb_to_pay</th>\n",
       "      <th>messages</th>\n",
       "      <th>age</th>\n",
       "      <th>churn_date</th>\n",
       "      <th>city</th>\n",
       "      <th>...</th>\n",
       "      <th>reg_date</th>\n",
       "      <th>tariff</th>\n",
       "      <th>messages_included</th>\n",
       "      <th>mb_per_month_included</th>\n",
       "      <th>minutes_included</th>\n",
       "      <th>rub_monthly_fee</th>\n",
       "      <th>rub_per_gb</th>\n",
       "      <th>rub_per_message</th>\n",
       "      <th>rub_per_minute</th>\n",
       "      <th>tariff_name</th>\n",
       "    </tr>\n",
       "  </thead>\n",
       "  <tbody>\n",
       "    <tr>\n",
       "      <td>0</td>\n",
       "      <td>1000</td>\n",
       "      <td>5</td>\n",
       "      <td>159.0</td>\n",
       "      <td>22.0</td>\n",
       "      <td>2253.49</td>\n",
       "      <td>3072.0</td>\n",
       "      <td>22.0</td>\n",
       "      <td>52</td>\n",
       "      <td>NaT</td>\n",
       "      <td>Краснодар</td>\n",
       "      <td>...</td>\n",
       "      <td>2018-05-25</td>\n",
       "      <td>ultra</td>\n",
       "      <td>1000</td>\n",
       "      <td>30720</td>\n",
       "      <td>3000</td>\n",
       "      <td>1950</td>\n",
       "      <td>150</td>\n",
       "      <td>1</td>\n",
       "      <td>1</td>\n",
       "      <td>ultra</td>\n",
       "    </tr>\n",
       "    <tr>\n",
       "      <td>1</td>\n",
       "      <td>1000</td>\n",
       "      <td>6</td>\n",
       "      <td>172.0</td>\n",
       "      <td>43.0</td>\n",
       "      <td>23233.77</td>\n",
       "      <td>23552.0</td>\n",
       "      <td>60.0</td>\n",
       "      <td>52</td>\n",
       "      <td>NaT</td>\n",
       "      <td>Краснодар</td>\n",
       "      <td>...</td>\n",
       "      <td>2018-05-25</td>\n",
       "      <td>ultra</td>\n",
       "      <td>1000</td>\n",
       "      <td>30720</td>\n",
       "      <td>3000</td>\n",
       "      <td>1950</td>\n",
       "      <td>150</td>\n",
       "      <td>1</td>\n",
       "      <td>1</td>\n",
       "      <td>ultra</td>\n",
       "    </tr>\n",
       "    <tr>\n",
       "      <td>2</td>\n",
       "      <td>1000</td>\n",
       "      <td>7</td>\n",
       "      <td>340.0</td>\n",
       "      <td>47.0</td>\n",
       "      <td>14003.64</td>\n",
       "      <td>14336.0</td>\n",
       "      <td>75.0</td>\n",
       "      <td>52</td>\n",
       "      <td>NaT</td>\n",
       "      <td>Краснодар</td>\n",
       "      <td>...</td>\n",
       "      <td>2018-05-25</td>\n",
       "      <td>ultra</td>\n",
       "      <td>1000</td>\n",
       "      <td>30720</td>\n",
       "      <td>3000</td>\n",
       "      <td>1950</td>\n",
       "      <td>150</td>\n",
       "      <td>1</td>\n",
       "      <td>1</td>\n",
       "      <td>ultra</td>\n",
       "    </tr>\n",
       "    <tr>\n",
       "      <td>3</td>\n",
       "      <td>1000</td>\n",
       "      <td>8</td>\n",
       "      <td>408.0</td>\n",
       "      <td>52.0</td>\n",
       "      <td>14055.93</td>\n",
       "      <td>14336.0</td>\n",
       "      <td>81.0</td>\n",
       "      <td>52</td>\n",
       "      <td>NaT</td>\n",
       "      <td>Краснодар</td>\n",
       "      <td>...</td>\n",
       "      <td>2018-05-25</td>\n",
       "      <td>ultra</td>\n",
       "      <td>1000</td>\n",
       "      <td>30720</td>\n",
       "      <td>3000</td>\n",
       "      <td>1950</td>\n",
       "      <td>150</td>\n",
       "      <td>1</td>\n",
       "      <td>1</td>\n",
       "      <td>ultra</td>\n",
       "    </tr>\n",
       "    <tr>\n",
       "      <td>4</td>\n",
       "      <td>1000</td>\n",
       "      <td>9</td>\n",
       "      <td>466.0</td>\n",
       "      <td>58.0</td>\n",
       "      <td>14568.91</td>\n",
       "      <td>15360.0</td>\n",
       "      <td>57.0</td>\n",
       "      <td>52</td>\n",
       "      <td>NaT</td>\n",
       "      <td>Краснодар</td>\n",
       "      <td>...</td>\n",
       "      <td>2018-05-25</td>\n",
       "      <td>ultra</td>\n",
       "      <td>1000</td>\n",
       "      <td>30720</td>\n",
       "      <td>3000</td>\n",
       "      <td>1950</td>\n",
       "      <td>150</td>\n",
       "      <td>1</td>\n",
       "      <td>1</td>\n",
       "      <td>ultra</td>\n",
       "    </tr>\n",
       "  </tbody>\n",
       "</table>\n",
       "<p>5 rows × 22 columns</p>\n",
       "</div>"
      ],
      "text/plain": [
       "   user_id  month  duration  calls   mb_used  mb_to_pay  messages  age  \\\n",
       "0     1000      5     159.0   22.0   2253.49     3072.0      22.0   52   \n",
       "1     1000      6     172.0   43.0  23233.77    23552.0      60.0   52   \n",
       "2     1000      7     340.0   47.0  14003.64    14336.0      75.0   52   \n",
       "3     1000      8     408.0   52.0  14055.93    14336.0      81.0   52   \n",
       "4     1000      9     466.0   58.0  14568.91    15360.0      57.0   52   \n",
       "\n",
       "  churn_date       city  ...   reg_date tariff messages_included  \\\n",
       "0        NaT  Краснодар  ... 2018-05-25  ultra              1000   \n",
       "1        NaT  Краснодар  ... 2018-05-25  ultra              1000   \n",
       "2        NaT  Краснодар  ... 2018-05-25  ultra              1000   \n",
       "3        NaT  Краснодар  ... 2018-05-25  ultra              1000   \n",
       "4        NaT  Краснодар  ... 2018-05-25  ultra              1000   \n",
       "\n",
       "  mb_per_month_included  minutes_included  rub_monthly_fee  rub_per_gb  \\\n",
       "0                 30720              3000             1950         150   \n",
       "1                 30720              3000             1950         150   \n",
       "2                 30720              3000             1950         150   \n",
       "3                 30720              3000             1950         150   \n",
       "4                 30720              3000             1950         150   \n",
       "\n",
       "   rub_per_message  rub_per_minute  tariff_name  \n",
       "0                1               1        ultra  \n",
       "1                1               1        ultra  \n",
       "2                1               1        ultra  \n",
       "3                1               1        ultra  \n",
       "4                1               1        ultra  \n",
       "\n",
       "[5 rows x 22 columns]"
      ]
     },
     "metadata": {},
     "output_type": "display_data"
    }
   ],
   "source": [
    "#объединяем df_calls, df_internet и df_messages по двум парметрам \"user_id\" и \"month\"\n",
    "report = (df_calls.merge(df_internet, on = ['user_id', 'month'],how = 'outer')\n",
    "          .merge(df_messages, on = ['user_id', 'month'], how = 'outer')\n",
    "          .fillna(0)\n",
    "         )\n",
    "\n",
    "#добавляем к объединению df_users и df_tariffs\n",
    "report = (report.merge(df_users, on = 'user_id', how = 'left')\n",
    "          .merge(df_tariffs,left_on = 'tariff',right_on = 'tariff_name', how = 'left')\n",
    "         )\n",
    "\n",
    "display(report.head())"
   ]
  },
  {
   "cell_type": "markdown",
   "metadata": {},
   "source": [
    "Таким образом мы получили полный датасет, который можем использовать для анализа данных. Для того, чтобы понять какой тариф приносит больше денег компании, нам не хватает расчета одного показателя - выручки. Создадим функцию, которая будет вычитать бесплатный лимит из суммарного количества звонков, сообщений и интернет-трафика и умножать остаток на стоимость услуг сверх тарифного пакета. В случае если остатка не будет, то в сумму выручки будет включена только абонентская плата."
   ]
  },
  {
   "cell_type": "code",
   "execution_count": 21,
   "metadata": {},
   "outputs": [],
   "source": [
    "def revenue_per_user(row):\n",
    "    # считаем потенциальную выручку\n",
    "    minutes_revenue = (row['duration'] - row['minutes_included']) *  row['rub_per_minute']\n",
    "    messages_revenue = (row['messages'] - row['messages_included']) *  row['rub_per_message']\n",
    "    internet_revenue = (row['mb_to_pay'] - row['mb_per_month_included'])/1024 * row['rub_per_gb']\n",
    "    # убираем отрицательные значения\n",
    "    if minutes_revenue < 0: minutes_revenue = 0\n",
    "    if messages_revenue < 0: messages_revenue = 0\n",
    "    if internet_revenue < 0: internet_revenue = 0\n",
    "        \n",
    "    return minutes_revenue + messages_revenue + internet_revenue + row['rub_monthly_fee']\n",
    "\n",
    "\n",
    "report['revenue'] = report.apply(revenue_per_user, axis = 1)"
   ]
  },
  {
   "cell_type": "code",
   "execution_count": 22,
   "metadata": {},
   "outputs": [
    {
     "data": {
      "text/html": [
       "<div>\n",
       "<style scoped>\n",
       "    .dataframe tbody tr th:only-of-type {\n",
       "        vertical-align: middle;\n",
       "    }\n",
       "\n",
       "    .dataframe tbody tr th {\n",
       "        vertical-align: top;\n",
       "    }\n",
       "\n",
       "    .dataframe thead th {\n",
       "        text-align: right;\n",
       "    }\n",
       "</style>\n",
       "<table border=\"1\" class=\"dataframe\">\n",
       "  <thead>\n",
       "    <tr style=\"text-align: right;\">\n",
       "      <th></th>\n",
       "      <th>user_id</th>\n",
       "      <th>month</th>\n",
       "      <th>duration</th>\n",
       "      <th>calls</th>\n",
       "      <th>mb_used</th>\n",
       "      <th>mb_to_pay</th>\n",
       "      <th>messages</th>\n",
       "      <th>age</th>\n",
       "      <th>churn_date</th>\n",
       "      <th>city</th>\n",
       "      <th>...</th>\n",
       "      <th>tariff</th>\n",
       "      <th>messages_included</th>\n",
       "      <th>mb_per_month_included</th>\n",
       "      <th>minutes_included</th>\n",
       "      <th>rub_monthly_fee</th>\n",
       "      <th>rub_per_gb</th>\n",
       "      <th>rub_per_message</th>\n",
       "      <th>rub_per_minute</th>\n",
       "      <th>tariff_name</th>\n",
       "      <th>revenue</th>\n",
       "    </tr>\n",
       "  </thead>\n",
       "  <tbody>\n",
       "    <tr>\n",
       "      <td>0</td>\n",
       "      <td>1000</td>\n",
       "      <td>5</td>\n",
       "      <td>159.0</td>\n",
       "      <td>22.0</td>\n",
       "      <td>2253.49</td>\n",
       "      <td>3072.0</td>\n",
       "      <td>22.0</td>\n",
       "      <td>52</td>\n",
       "      <td>NaT</td>\n",
       "      <td>Краснодар</td>\n",
       "      <td>...</td>\n",
       "      <td>ultra</td>\n",
       "      <td>1000</td>\n",
       "      <td>30720</td>\n",
       "      <td>3000</td>\n",
       "      <td>1950</td>\n",
       "      <td>150</td>\n",
       "      <td>1</td>\n",
       "      <td>1</td>\n",
       "      <td>ultra</td>\n",
       "      <td>1950.0</td>\n",
       "    </tr>\n",
       "    <tr>\n",
       "      <td>1</td>\n",
       "      <td>1000</td>\n",
       "      <td>6</td>\n",
       "      <td>172.0</td>\n",
       "      <td>43.0</td>\n",
       "      <td>23233.77</td>\n",
       "      <td>23552.0</td>\n",
       "      <td>60.0</td>\n",
       "      <td>52</td>\n",
       "      <td>NaT</td>\n",
       "      <td>Краснодар</td>\n",
       "      <td>...</td>\n",
       "      <td>ultra</td>\n",
       "      <td>1000</td>\n",
       "      <td>30720</td>\n",
       "      <td>3000</td>\n",
       "      <td>1950</td>\n",
       "      <td>150</td>\n",
       "      <td>1</td>\n",
       "      <td>1</td>\n",
       "      <td>ultra</td>\n",
       "      <td>1950.0</td>\n",
       "    </tr>\n",
       "    <tr>\n",
       "      <td>2</td>\n",
       "      <td>1000</td>\n",
       "      <td>7</td>\n",
       "      <td>340.0</td>\n",
       "      <td>47.0</td>\n",
       "      <td>14003.64</td>\n",
       "      <td>14336.0</td>\n",
       "      <td>75.0</td>\n",
       "      <td>52</td>\n",
       "      <td>NaT</td>\n",
       "      <td>Краснодар</td>\n",
       "      <td>...</td>\n",
       "      <td>ultra</td>\n",
       "      <td>1000</td>\n",
       "      <td>30720</td>\n",
       "      <td>3000</td>\n",
       "      <td>1950</td>\n",
       "      <td>150</td>\n",
       "      <td>1</td>\n",
       "      <td>1</td>\n",
       "      <td>ultra</td>\n",
       "      <td>1950.0</td>\n",
       "    </tr>\n",
       "    <tr>\n",
       "      <td>3</td>\n",
       "      <td>1000</td>\n",
       "      <td>8</td>\n",
       "      <td>408.0</td>\n",
       "      <td>52.0</td>\n",
       "      <td>14055.93</td>\n",
       "      <td>14336.0</td>\n",
       "      <td>81.0</td>\n",
       "      <td>52</td>\n",
       "      <td>NaT</td>\n",
       "      <td>Краснодар</td>\n",
       "      <td>...</td>\n",
       "      <td>ultra</td>\n",
       "      <td>1000</td>\n",
       "      <td>30720</td>\n",
       "      <td>3000</td>\n",
       "      <td>1950</td>\n",
       "      <td>150</td>\n",
       "      <td>1</td>\n",
       "      <td>1</td>\n",
       "      <td>ultra</td>\n",
       "      <td>1950.0</td>\n",
       "    </tr>\n",
       "    <tr>\n",
       "      <td>4</td>\n",
       "      <td>1000</td>\n",
       "      <td>9</td>\n",
       "      <td>466.0</td>\n",
       "      <td>58.0</td>\n",
       "      <td>14568.91</td>\n",
       "      <td>15360.0</td>\n",
       "      <td>57.0</td>\n",
       "      <td>52</td>\n",
       "      <td>NaT</td>\n",
       "      <td>Краснодар</td>\n",
       "      <td>...</td>\n",
       "      <td>ultra</td>\n",
       "      <td>1000</td>\n",
       "      <td>30720</td>\n",
       "      <td>3000</td>\n",
       "      <td>1950</td>\n",
       "      <td>150</td>\n",
       "      <td>1</td>\n",
       "      <td>1</td>\n",
       "      <td>ultra</td>\n",
       "      <td>1950.0</td>\n",
       "    </tr>\n",
       "  </tbody>\n",
       "</table>\n",
       "<p>5 rows × 23 columns</p>\n",
       "</div>"
      ],
      "text/plain": [
       "   user_id  month  duration  calls   mb_used  mb_to_pay  messages  age  \\\n",
       "0     1000      5     159.0   22.0   2253.49     3072.0      22.0   52   \n",
       "1     1000      6     172.0   43.0  23233.77    23552.0      60.0   52   \n",
       "2     1000      7     340.0   47.0  14003.64    14336.0      75.0   52   \n",
       "3     1000      8     408.0   52.0  14055.93    14336.0      81.0   52   \n",
       "4     1000      9     466.0   58.0  14568.91    15360.0      57.0   52   \n",
       "\n",
       "  churn_date       city  ... tariff messages_included mb_per_month_included  \\\n",
       "0        NaT  Краснодар  ...  ultra              1000                 30720   \n",
       "1        NaT  Краснодар  ...  ultra              1000                 30720   \n",
       "2        NaT  Краснодар  ...  ultra              1000                 30720   \n",
       "3        NaT  Краснодар  ...  ultra              1000                 30720   \n",
       "4        NaT  Краснодар  ...  ultra              1000                 30720   \n",
       "\n",
       "  minutes_included  rub_monthly_fee  rub_per_gb  rub_per_message  \\\n",
       "0             3000             1950         150                1   \n",
       "1             3000             1950         150                1   \n",
       "2             3000             1950         150                1   \n",
       "3             3000             1950         150                1   \n",
       "4             3000             1950         150                1   \n",
       "\n",
       "   rub_per_minute  tariff_name  revenue  \n",
       "0               1        ultra   1950.0  \n",
       "1               1        ultra   1950.0  \n",
       "2               1        ultra   1950.0  \n",
       "3               1        ultra   1950.0  \n",
       "4               1        ultra   1950.0  \n",
       "\n",
       "[5 rows x 23 columns]"
      ]
     },
     "metadata": {},
     "output_type": "display_data"
    }
   ],
   "source": [
    "display(report.head())\n"
   ]
  },
  {
   "cell_type": "markdown",
   "metadata": {},
   "source": [
    "**Вывод**"
   ]
  },
  {
   "cell_type": "markdown",
   "metadata": {},
   "source": [
    "Таким образом, мы обработали каждый датафрейм, добавили недостающие параметры и создали общий датасет, который мы можем анализировать и проверять гипотезы."
   ]
  },
  {
   "cell_type": "markdown",
   "metadata": {},
   "source": [
    "## Анализ и описание данных"
   ]
  },
  {
   "cell_type": "markdown",
   "metadata": {},
   "source": [
    "Для того что определить какой тариф прибыльнее для компании, выведем статистики для звонков, сообщений, использованных мегабайт и выручки с помощью `.describe`. Также построим графие выручки через `.distplot`."
   ]
  },
  {
   "cell_type": "code",
   "execution_count": 23,
   "metadata": {},
   "outputs": [
    {
     "name": "stdout",
     "output_type": "stream",
     "text": [
      "Статистика для тарифа  ultra :\n"
     ]
    },
    {
     "data": {
      "text/html": [
       "<style  type=\"text/css\" >\n",
       "</style><table id=\"T_e4d22054_9d48_11ec_98e2_02420a391731\" ><thead>    <tr>        <th class=\"blank level0\" ></th>        <th class=\"col_heading level0 col0\" >count</th>        <th class=\"col_heading level0 col1\" >mean</th>        <th class=\"col_heading level0 col2\" >std</th>        <th class=\"col_heading level0 col3\" >min</th>        <th class=\"col_heading level0 col4\" >25%</th>        <th class=\"col_heading level0 col5\" >50%</th>        <th class=\"col_heading level0 col6\" >75%</th>        <th class=\"col_heading level0 col7\" >max</th>    </tr></thead><tbody>\n",
       "                <tr>\n",
       "                        <th id=\"T_e4d22054_9d48_11ec_98e2_02420a391731level0_row0\" class=\"row_heading level0 row0\" >duration</th>\n",
       "                        <td id=\"T_e4d22054_9d48_11ec_98e2_02420a391731row0_col0\" class=\"data row0 col0\" >985.00</td>\n",
       "                        <td id=\"T_e4d22054_9d48_11ec_98e2_02420a391731row0_col1\" class=\"data row0 col1\" >526.62</td>\n",
       "                        <td id=\"T_e4d22054_9d48_11ec_98e2_02420a391731row0_col2\" class=\"data row0 col2\" >317.61</td>\n",
       "                        <td id=\"T_e4d22054_9d48_11ec_98e2_02420a391731row0_col3\" class=\"data row0 col3\" >0.00</td>\n",
       "                        <td id=\"T_e4d22054_9d48_11ec_98e2_02420a391731row0_col4\" class=\"data row0 col4\" >284.00</td>\n",
       "                        <td id=\"T_e4d22054_9d48_11ec_98e2_02420a391731row0_col5\" class=\"data row0 col5\" >518.00</td>\n",
       "                        <td id=\"T_e4d22054_9d48_11ec_98e2_02420a391731row0_col6\" class=\"data row0 col6\" >752.00</td>\n",
       "                        <td id=\"T_e4d22054_9d48_11ec_98e2_02420a391731row0_col7\" class=\"data row0 col7\" >1673.00</td>\n",
       "            </tr>\n",
       "            <tr>\n",
       "                        <th id=\"T_e4d22054_9d48_11ec_98e2_02420a391731level0_row1\" class=\"row_heading level0 row1\" >mb_used</th>\n",
       "                        <td id=\"T_e4d22054_9d48_11ec_98e2_02420a391731row1_col0\" class=\"data row1 col0\" >985.00</td>\n",
       "                        <td id=\"T_e4d22054_9d48_11ec_98e2_02420a391731row1_col1\" class=\"data row1 col1\" >19468.81</td>\n",
       "                        <td id=\"T_e4d22054_9d48_11ec_98e2_02420a391731row1_col2\" class=\"data row1 col2\" >10087.17</td>\n",
       "                        <td id=\"T_e4d22054_9d48_11ec_98e2_02420a391731row1_col3\" class=\"data row1 col3\" >0.00</td>\n",
       "                        <td id=\"T_e4d22054_9d48_11ec_98e2_02420a391731row1_col4\" class=\"data row1 col4\" >11770.26</td>\n",
       "                        <td id=\"T_e4d22054_9d48_11ec_98e2_02420a391731row1_col5\" class=\"data row1 col5\" >19308.01</td>\n",
       "                        <td id=\"T_e4d22054_9d48_11ec_98e2_02420a391731row1_col6\" class=\"data row1 col6\" >26837.69</td>\n",
       "                        <td id=\"T_e4d22054_9d48_11ec_98e2_02420a391731row1_col7\" class=\"data row1 col7\" >49745.69</td>\n",
       "            </tr>\n",
       "            <tr>\n",
       "                        <th id=\"T_e4d22054_9d48_11ec_98e2_02420a391731level0_row2\" class=\"row_heading level0 row2\" >messages</th>\n",
       "                        <td id=\"T_e4d22054_9d48_11ec_98e2_02420a391731row2_col0\" class=\"data row2 col0\" >985.00</td>\n",
       "                        <td id=\"T_e4d22054_9d48_11ec_98e2_02420a391731row2_col1\" class=\"data row2 col1\" >49.36</td>\n",
       "                        <td id=\"T_e4d22054_9d48_11ec_98e2_02420a391731row2_col2\" class=\"data row2 col2\" >47.80</td>\n",
       "                        <td id=\"T_e4d22054_9d48_11ec_98e2_02420a391731row2_col3\" class=\"data row2 col3\" >0.00</td>\n",
       "                        <td id=\"T_e4d22054_9d48_11ec_98e2_02420a391731row2_col4\" class=\"data row2 col4\" >6.00</td>\n",
       "                        <td id=\"T_e4d22054_9d48_11ec_98e2_02420a391731row2_col5\" class=\"data row2 col5\" >38.00</td>\n",
       "                        <td id=\"T_e4d22054_9d48_11ec_98e2_02420a391731row2_col6\" class=\"data row2 col6\" >79.00</td>\n",
       "                        <td id=\"T_e4d22054_9d48_11ec_98e2_02420a391731row2_col7\" class=\"data row2 col7\" >224.00</td>\n",
       "            </tr>\n",
       "            <tr>\n",
       "                        <th id=\"T_e4d22054_9d48_11ec_98e2_02420a391731level0_row3\" class=\"row_heading level0 row3\" >revenue</th>\n",
       "                        <td id=\"T_e4d22054_9d48_11ec_98e2_02420a391731row3_col0\" class=\"data row3 col0\" >985.00</td>\n",
       "                        <td id=\"T_e4d22054_9d48_11ec_98e2_02420a391731row3_col1\" class=\"data row3 col1\" >2070.15</td>\n",
       "                        <td id=\"T_e4d22054_9d48_11ec_98e2_02420a391731row3_col2\" class=\"data row3 col2\" >376.19</td>\n",
       "                        <td id=\"T_e4d22054_9d48_11ec_98e2_02420a391731row3_col3\" class=\"data row3 col3\" >1950.00</td>\n",
       "                        <td id=\"T_e4d22054_9d48_11ec_98e2_02420a391731row3_col4\" class=\"data row3 col4\" >1950.00</td>\n",
       "                        <td id=\"T_e4d22054_9d48_11ec_98e2_02420a391731row3_col5\" class=\"data row3 col5\" >1950.00</td>\n",
       "                        <td id=\"T_e4d22054_9d48_11ec_98e2_02420a391731row3_col6\" class=\"data row3 col6\" >1950.00</td>\n",
       "                        <td id=\"T_e4d22054_9d48_11ec_98e2_02420a391731row3_col7\" class=\"data row3 col7\" >4800.00</td>\n",
       "            </tr>\n",
       "    </tbody></table>"
      ],
      "text/plain": [
       "<pandas.io.formats.style.Styler at 0x7fb01d69be90>"
      ]
     },
     "metadata": {},
     "output_type": "display_data"
    },
    {
     "name": "stdout",
     "output_type": "stream",
     "text": [
      "Статистика для тарифа  smart :\n"
     ]
    },
    {
     "data": {
      "text/html": [
       "<style  type=\"text/css\" >\n",
       "</style><table id=\"T_e4dc5c04_9d48_11ec_98e2_02420a391731\" ><thead>    <tr>        <th class=\"blank level0\" ></th>        <th class=\"col_heading level0 col0\" >count</th>        <th class=\"col_heading level0 col1\" >mean</th>        <th class=\"col_heading level0 col2\" >std</th>        <th class=\"col_heading level0 col3\" >min</th>        <th class=\"col_heading level0 col4\" >25%</th>        <th class=\"col_heading level0 col5\" >50%</th>        <th class=\"col_heading level0 col6\" >75%</th>        <th class=\"col_heading level0 col7\" >max</th>    </tr></thead><tbody>\n",
       "                <tr>\n",
       "                        <th id=\"T_e4dc5c04_9d48_11ec_98e2_02420a391731level0_row0\" class=\"row_heading level0 row0\" >duration</th>\n",
       "                        <td id=\"T_e4dc5c04_9d48_11ec_98e2_02420a391731row0_col0\" class=\"data row0 col0\" >2229.00</td>\n",
       "                        <td id=\"T_e4dc5c04_9d48_11ec_98e2_02420a391731row0_col1\" class=\"data row0 col1\" >417.93</td>\n",
       "                        <td id=\"T_e4dc5c04_9d48_11ec_98e2_02420a391731row0_col2\" class=\"data row0 col2\" >190.31</td>\n",
       "                        <td id=\"T_e4dc5c04_9d48_11ec_98e2_02420a391731row0_col3\" class=\"data row0 col3\" >0.00</td>\n",
       "                        <td id=\"T_e4dc5c04_9d48_11ec_98e2_02420a391731row0_col4\" class=\"data row0 col4\" >282.00</td>\n",
       "                        <td id=\"T_e4dc5c04_9d48_11ec_98e2_02420a391731row0_col5\" class=\"data row0 col5\" >422.00</td>\n",
       "                        <td id=\"T_e4dc5c04_9d48_11ec_98e2_02420a391731row0_col6\" class=\"data row0 col6\" >545.00</td>\n",
       "                        <td id=\"T_e4dc5c04_9d48_11ec_98e2_02420a391731row0_col7\" class=\"data row0 col7\" >1435.00</td>\n",
       "            </tr>\n",
       "            <tr>\n",
       "                        <th id=\"T_e4dc5c04_9d48_11ec_98e2_02420a391731level0_row1\" class=\"row_heading level0 row1\" >mb_used</th>\n",
       "                        <td id=\"T_e4dc5c04_9d48_11ec_98e2_02420a391731row1_col0\" class=\"data row1 col0\" >2229.00</td>\n",
       "                        <td id=\"T_e4dc5c04_9d48_11ec_98e2_02420a391731row1_col1\" class=\"data row1 col1\" >16208.39</td>\n",
       "                        <td id=\"T_e4dc5c04_9d48_11ec_98e2_02420a391731row1_col2\" class=\"data row1 col2\" >5870.48</td>\n",
       "                        <td id=\"T_e4dc5c04_9d48_11ec_98e2_02420a391731row1_col3\" class=\"data row1 col3\" >0.00</td>\n",
       "                        <td id=\"T_e4dc5c04_9d48_11ec_98e2_02420a391731row1_col4\" class=\"data row1 col4\" >12643.01</td>\n",
       "                        <td id=\"T_e4dc5c04_9d48_11ec_98e2_02420a391731row1_col5\" class=\"data row1 col5\" >16506.84</td>\n",
       "                        <td id=\"T_e4dc5c04_9d48_11ec_98e2_02420a391731row1_col6\" class=\"data row1 col6\" >20042.93</td>\n",
       "                        <td id=\"T_e4dc5c04_9d48_11ec_98e2_02420a391731row1_col7\" class=\"data row1 col7\" >38552.45</td>\n",
       "            </tr>\n",
       "            <tr>\n",
       "                        <th id=\"T_e4dc5c04_9d48_11ec_98e2_02420a391731level0_row2\" class=\"row_heading level0 row2\" >messages</th>\n",
       "                        <td id=\"T_e4dc5c04_9d48_11ec_98e2_02420a391731row2_col0\" class=\"data row2 col0\" >2229.00</td>\n",
       "                        <td id=\"T_e4dc5c04_9d48_11ec_98e2_02420a391731row2_col1\" class=\"data row2 col1\" >33.38</td>\n",
       "                        <td id=\"T_e4dc5c04_9d48_11ec_98e2_02420a391731row2_col2\" class=\"data row2 col2\" >28.23</td>\n",
       "                        <td id=\"T_e4dc5c04_9d48_11ec_98e2_02420a391731row2_col3\" class=\"data row2 col3\" >0.00</td>\n",
       "                        <td id=\"T_e4dc5c04_9d48_11ec_98e2_02420a391731row2_col4\" class=\"data row2 col4\" >10.00</td>\n",
       "                        <td id=\"T_e4dc5c04_9d48_11ec_98e2_02420a391731row2_col5\" class=\"data row2 col5\" >28.00</td>\n",
       "                        <td id=\"T_e4dc5c04_9d48_11ec_98e2_02420a391731row2_col6\" class=\"data row2 col6\" >51.00</td>\n",
       "                        <td id=\"T_e4dc5c04_9d48_11ec_98e2_02420a391731row2_col7\" class=\"data row2 col7\" >143.00</td>\n",
       "            </tr>\n",
       "            <tr>\n",
       "                        <th id=\"T_e4dc5c04_9d48_11ec_98e2_02420a391731level0_row3\" class=\"row_heading level0 row3\" >revenue</th>\n",
       "                        <td id=\"T_e4dc5c04_9d48_11ec_98e2_02420a391731row3_col0\" class=\"data row3 col0\" >2229.00</td>\n",
       "                        <td id=\"T_e4dc5c04_9d48_11ec_98e2_02420a391731row3_col1\" class=\"data row3 col1\" >1289.97</td>\n",
       "                        <td id=\"T_e4dc5c04_9d48_11ec_98e2_02420a391731row3_col2\" class=\"data row3 col2\" >818.40</td>\n",
       "                        <td id=\"T_e4dc5c04_9d48_11ec_98e2_02420a391731row3_col3\" class=\"data row3 col3\" >550.00</td>\n",
       "                        <td id=\"T_e4dc5c04_9d48_11ec_98e2_02420a391731row3_col4\" class=\"data row3 col4\" >550.00</td>\n",
       "                        <td id=\"T_e4dc5c04_9d48_11ec_98e2_02420a391731row3_col5\" class=\"data row3 col5\" >1023.00</td>\n",
       "                        <td id=\"T_e4dc5c04_9d48_11ec_98e2_02420a391731row3_col6\" class=\"data row3 col6\" >1750.00</td>\n",
       "                        <td id=\"T_e4dc5c04_9d48_11ec_98e2_02420a391731row3_col7\" class=\"data row3 col7\" >6770.00</td>\n",
       "            </tr>\n",
       "    </tbody></table>"
      ],
      "text/plain": [
       "<pandas.io.formats.style.Styler at 0x7fb01c985790>"
      ]
     },
     "metadata": {},
     "output_type": "display_data"
    },
    {
     "data": {
      "image/png": "[encoded data removed]",
      "text/plain": [
       "<Figure size 432x288 with 1 Axes>"
      ]
     },
     "metadata": {
      "needs_background": "light"
     },
     "output_type": "display_data"
    }
   ],
   "source": [
    "for tariff in report['tariff'].unique():\n",
    "    table =  report.query('tariff == @tariff')\n",
    "    print('Статистика для тарифа ', tariff, ':')\n",
    "    # T отвечает за транспонированную таблицу\n",
    "    display(table[['duration', 'mb_used', 'messages', 'revenue']].describe().T.style.format('{:.2f}'))\n",
    "    sns.distplot(table['revenue'], label = tariff)\n",
    "plt.legend();    "
   ]
  },
  {
   "cell_type": "markdown",
   "metadata": {},
   "source": [
    "Судя по полученным средним выручки мы можем определить, что средний пользователь тарифа \"Ультра\" приносит больше денег оператору, нежели средний пользователь тарифа \"Смарт\". НО судя по стандратным отклонениям и полученному графику мы видим, что пользователи \"Смарт\" склонны чаще выходить за пределы лимита (более высокое стандартное отклонение говорит о большем разбросе данных).\n",
    "\n",
    "В целом, мы видим, что пользователи тарифа \"Ультра\" тратят больше минут, сообщений и мегабайт, но сопоставимо ли это с полным пакетом услуг? Построим графики по каждому параметру, чтобы это определить. "
   ]
  },
  {
   "cell_type": "code",
   "execution_count": 24,
   "metadata": {},
   "outputs": [
    {
     "data": {
      "image/png": "[encoded data removed]",
      "text/plain": [
       "<Figure size 1080x288 with 2 Axes>"
      ]
     },
     "metadata": {
      "needs_background": "light"
     },
     "output_type": "display_data"
    },
    {
     "name": "stdout",
     "output_type": "stream",
     "text": [
      "В тарифе Ультра 0 пользователей выходят за рамки лимита минут.\n",
      "В тарифе Смарт 754 пользователей выходят за рамки лимита минут.\n"
     ]
    }
   ],
   "source": [
    "#разделим датасет по тарифам, используя метод `.query`\n",
    "df_ultra = report.query('tariff == \"ultra\"')\n",
    "df_smart = report.query('tariff == \"smart\"')\n",
    "\n",
    "parameter = ['duration']\n",
    "lim_ultra = df_ultra['minutes_included'].mean()\n",
    "lim_smart = df_smart['minutes_included'].mean()\n",
    "\n",
    "for title in parameter:\n",
    "    myhex = '#00CC99' #параметр задающий  цвет\n",
    "    fig, axes = plt.subplots(1,2, figsize=(15,4)) #параметр, располагающий 2 графика в одной плоскости\n",
    "    df_ultra[title].hist(bins=10, ax=axes[0], color=myhex)#строим гистограмму для тарифа Ультра\n",
    "    axes[0].axvline(x=lim_ultra, ymin=0, ymax=600, linewidth = 3, color ='red')#рисуем красную линию лимита\n",
    "    axes[0].set_title('Тариф \"Ультра\"')#устанавливаем название тарифа\n",
    "        \n",
    "    myhex = '#0099FF'\n",
    "    df_smart[title].hist(bins=6, ax=axes[1], color=myhex)#строим гистограмму для тарифа Смарт\n",
    "    axes[1].set_title('Тариф \"Смарт\"')#устанавливаем название тарифа\n",
    "    axes[1].axvline(x=lim_smart, ymin=0, ymax=600, linewidth = 3, color ='red')#рисуем красную линию лимита\n",
    "    plt.show();\n",
    "    \n",
    "    print('В тарифе Ультра', df_ultra.query('duration> @lim_ultra').shape[0] , 'пользователей выходят за рамки лимита минут.')\n",
    "    print('В тарифе Смарт', df_smart.query('duration>@lim_smart').shape[0] , 'пользователей выходят за рамки лимита минут.')   "
   ]
  },
  {
   "cell_type": "markdown",
   "metadata": {},
   "source": [
    "Таким образом мы видим, что пользователи тарифа \"Ультра\" никогда не выходят за пределы включенных в тариф минут, в то время как треть пользователей тарифа \"Смарт\" выходят за пределы пакета, тем самым принося дополнительный доход компании.\n",
    "\n",
    "Посмотрим, повторяется ли тенденция в использовании сообщений."
   ]
  },
  {
   "cell_type": "code",
   "execution_count": 25,
   "metadata": {},
   "outputs": [
    {
     "data": {
      "image/png": "[encoded data removed]",
      "text/plain": [
       "<Figure size 1080x288 with 2 Axes>"
      ]
     },
     "metadata": {
      "needs_background": "light"
     },
     "output_type": "display_data"
    },
    {
     "name": "stdout",
     "output_type": "stream",
     "text": [
      "В тарифе Ультра 0 пользователей выходят за рамки лимита сообщений.\n",
      "В тарифе Смарт 564 пользователей выходят за рамки лимита сообщений.\n"
     ]
    }
   ],
   "source": [
    "parameter = ['messages']\n",
    "lim_ultra = df_ultra['messages_included'].mean()\n",
    "lim_smart = df_smart['messages_included'].mean()\n",
    "\n",
    "for title in parameter:\n",
    "    myhex = '#00CC99' #параметр задающий  цвет\n",
    "    fig, axes = plt.subplots(1,2, figsize=(15,4)) #параметр, располагающий 2 графика в одной плоскости\n",
    "    df_ultra[title].hist(bins=10, ax=axes[0], color=myhex)#строим гистограмму для тарифа Ультра\n",
    "    axes[0].axvline(x=lim_ultra, ymin=0, ymax=600, linewidth = 3, color ='red')\n",
    "    axes[0].set_title('Тариф \"Ультра\"')#устанавливаем название тарифа\n",
    "    \n",
    "    \n",
    "    myhex = '#0099FF'\n",
    "    df_smart[title].hist(bins=6, ax=axes[1], color=myhex)#строим гистограмму для тарифа Смарт\n",
    "    axes[1].set_title('Тариф \"Смарт\"')#устанавливаем название тарифа\n",
    "    axes[1].axvline(x=lim_smart, ymin=0, ymax=600, linewidth = 3, color ='red')\n",
    "    \n",
    "    plt.show();\n",
    "    \n",
    "    print('В тарифе Ультра', df_ultra.query('messages> @lim_ultra').shape[0] , 'пользователей выходят за рамки лимита сообщений.')\n",
    "    print('В тарифе Смарт', df_smart.query('messages>@lim_smart').shape[0] , 'пользователей выходят за рамки лимита сообщений.')"
   ]
  },
  {
   "cell_type": "markdown",
   "metadata": {},
   "source": [
    "Судя по графику, аналогично использованным минутам, сообщения в тарифе \"Ультра\" находятся на далеком уровне от предела, в то время как четверть пользователей тарифа \"Смарт\" выходят за рамки лимита.\n",
    "\n",
    "Пронализируем использование интернета   этим же способом."
   ]
  },
  {
   "cell_type": "code",
   "execution_count": 26,
   "metadata": {},
   "outputs": [
    {
     "data": {
      "image/png": "[encoded data removed]",
      "text/plain": [
       "<Figure size 1080x288 with 2 Axes>"
      ]
     },
     "metadata": {
      "needs_background": "light"
     },
     "output_type": "display_data"
    },
    {
     "name": "stdout",
     "output_type": "stream",
     "text": [
      "В тарифе Ультра 134 пользователей выходят за рамки лимита мегабайт.\n",
      "В тарифе Смарт 1304 пользователей выходят за рамки лимита мегабайт.\n"
     ]
    }
   ],
   "source": [
    "parameter = ['mb_used']\n",
    "lim_ultra = df_ultra['mb_per_month_included'].mean()\n",
    "lim_smart = df_smart['mb_per_month_included'].mean()\n",
    "\n",
    "for title in parameter:\n",
    "    myhex = '#00CC99' #параметр задающий  цвет\n",
    "    fig, axes = plt.subplots(1,2, figsize=(15,4)) #параметр, располагающий 2 графика в одной плоскости\n",
    "    df_ultra[title].hist(bins=10, ax=axes[0], color=myhex)#строим гистограмму для тарифа Ультра\n",
    "    axes[0].axvline(x=lim_ultra, ymin=0, ymax=600, linewidth = 3, color ='red')\n",
    "    axes[0].set_title('Тариф \"Ультра\"')#устанавливаем название тарифа\n",
    "    \n",
    "    \n",
    "    myhex = '#0099FF'\n",
    "    df_smart[title].hist(bins=6, ax=axes[1], color=myhex)#строим гистограмму для тарифа Смарт\n",
    "    axes[1].set_title('Тариф \"Смарт\"')#устанавливаем название тарифа\n",
    "    axes[1].axvline(x=lim_smart, ymin=0, ymax=600, linewidth = 3, color ='red')\n",
    "    \n",
    "    plt.show();\n",
    "    \n",
    "    print('В тарифе Ультра', df_ultra.query('mb_used> @lim_ultra').shape[0] , 'пользователей выходят за рамки лимита мегабайт.')\n",
    "    print('В тарифе Смарт', df_smart.query('mb_used>@lim_smart').shape[0] , 'пользователей выходят за рамки лимита мегабайт.')"
   ]
  },
  {
   "cell_type": "markdown",
   "metadata": {},
   "source": [
    "В отличии от предыдущих параметров, использование интернет-трафика превышается как у пользователей \"Ультра\", так и у пользователей \"Смарт\". Но конечно, у пользователей последнего тенденция выходить за рамки пакета около 50%, в то время как у пользователей \"Ультра\" всего 15%. "
   ]
  },
  {
   "cell_type": "raw",
   "metadata": {},
   "source": [
    "print(df_ultra['revenue'].sum())\n",
    "print(df_smart['revenue'].sum())\n",
    "print(df_ultra['revenue'].sum()/df_ultra.shape[0])\n",
    "print(df_smart['revenue'].sum()/df_smart.shape[0])"
   ]
  },
  {
   "cell_type": "raw",
   "metadata": {},
   "source": [
    "df_smart.query('duration>500').shape[0]"
   ]
  },
  {
   "cell_type": "raw",
   "metadata": {},
   "source": [
    "df_ultra['duration'].hist()\n",
    "parameter = ['duration', 'messages', 'mb_used']"
   ]
  },
  {
   "cell_type": "markdown",
   "metadata": {},
   "source": [
    "**Вывод**"
   ]
  },
  {
   "cell_type": "markdown",
   "metadata": {},
   "source": [
    "По первому взгляду на средние мы определили, что наиболее выгодным тарифом для компании является тариф \"Ультра\", однако из-за высокой стоиомсти лишь треть пользователей пользуется данным тарифом, в то время как \"Смарт\" является наиболее популярным тарифом и в сумме приносит больше денег компании из-за большего количества абонентов, а также дополнительного дохода от превышения абонентами пакета включенных в тариф услуг.\n",
    "\n",
    "Для того чтобы убедить в правильности сделанного вывода, проверим гипотезы о неравенстве средних совокупностей двух тарифов."
   ]
  },
  {
   "cell_type": "markdown",
   "metadata": {},
   "source": [
    "## 4.  Проверка гипотез и пояснения"
   ]
  },
  {
   "cell_type": "markdown",
   "metadata": {},
   "source": [
    "На данном этапе наша цель проверить две гипотезы:\n",
    "\n",
    "1. Средняя выручка тарифов «Ультра» и «Смарт» различаются;\n",
    "2. Средняя выручка от пользователей из Москвы отличается от выручки пользователей из других регионов.\n",
    "\n",
    "Начнем с первой гипотезы. Установим нулевую гипотезу о равенстве средних двух совокупностей и противопоставим ей альтрнативную гипотезу:\n",
    "\n",
    "H₀: Средняя выручка тарифа «Ультра» равна средней выручке тарифа «Смарт»;\\\n",
    "H₁: Средняя выручка тарифа «Ультра» не равна средней выручке тарифа «Смарт».\n",
    "\n",
    "Для проверки нулевой и альтернативной гипотезы нам необходимо установить критический уровень и определить равенство дисперсий в двух совокупностях.\\\n",
    "Критические значения задаются выбранным уровнем значимости проверки гипотезы. Уровень значимости — это суммарная вероятность того, что измеренное эмпирически значение окажется далеко от среднего. Предположим, что допустимая вероятность этого - 5%.\\\n",
    "Касательно дисперсий воспользуемся методом `.var`, который поможет нам установить равны дисперсии изучаемых выборок или нет. "
   ]
  },
  {
   "cell_type": "code",
   "execution_count": 27,
   "metadata": {},
   "outputs": [
    {
     "name": "stdout",
     "output_type": "stream",
     "text": [
      "Дисперсии выборок не равны.\n"
     ]
    }
   ],
   "source": [
    "smart_var = np.var(df_smart['revenue'])\n",
    "ultra_var = np.var(df_ultra['revenue'])\n",
    "\n",
    "if smart_var == ultra_var: print('Дисперсии выборок равны.')\n",
    "else: print('Дисперсии выборок не равны.')     "
   ]
  },
  {
   "cell_type": "markdown",
   "metadata": {},
   "source": [
    "Мы получили всю необходимую информацию и теперь можем провести t-тест. Применим метод scipy.stats.ttest_ind() и передадим ему следующие параметры: массивы, содержащие выборки выручки каждого тарифа отдельно; equal_var=False, т.к. мы установили что дисперсии не равны."
   ]
  },
  {
   "cell_type": "code",
   "execution_count": 28,
   "metadata": {},
   "outputs": [
    {
     "name": "stdout",
     "output_type": "stream",
     "text": [
      "p-значение:  4.2606313931076085e-250\n",
      "Отвергаем нулевую гипотезу.\n"
     ]
    }
   ],
   "source": [
    "alpha = .05 # критический уровень статистической значимости\n",
    "# если p-value окажется меньше него - отвергнем гипотезу\n",
    "\n",
    "results = st.ttest_ind(df_smart['revenue'],df_ultra['revenue'], equal_var = False)\n",
    "# equal_var - считать ли равными дисперсии выборок\n",
    "\n",
    "print('p-значение: ', results.pvalue)\n",
    "\n",
    "if results.pvalue < alpha:\n",
    "    print(\"Отвергаем нулевую гипотезу.\")\n",
    "else:\n",
    "    print(\"Не получилось отвергнуть нулевую гипотезу.\") "
   ]
  },
  {
   "cell_type": "markdown",
   "metadata": {},
   "source": [
    "Благодаря t-тесту мы установили что средняя выручка тарифа «Ультра» не равна средней выручке тарифа «Смарт», что подтверждает правильность выводов предыдущего пункта.\n",
    "\n",
    "Далее, установим нулевую и альтернативную гипотезы о равенстве средней выручки оператора в Москве и остальных регионов:\n",
    "\n",
    "H₀: Средняя выручка от пользователей из Москвы равна выручке пользователей из других регионов;\\\n",
    "H₁: Средняя выручка от пользователей из Москвы не равна выручке пользователей из других регионов.\n",
    "\n",
    "Сначала определим равенство дисперсий, а затем проведем t-тест по аналогии с предыдущей гипотезой."
   ]
  },
  {
   "cell_type": "code",
   "execution_count": 29,
   "metadata": {},
   "outputs": [
    {
     "name": "stdout",
     "output_type": "stream",
     "text": [
      "Дисперсии выборок не равны.\n"
     ]
    }
   ],
   "source": [
    "#разделим датасет на Москву и другие регионы, используя метод `.query`\n",
    "moscow = report.query('city == \"Москва\"')\n",
    "regions = report.query('city != \"Москва\"')\n",
    "\n",
    "moscow_var = np.var(moscow['revenue'])\n",
    "regions_var = np.var(regions['revenue'])\n",
    "\n",
    "if moscow_var == regions_var: print('Дисперсии выборок равны.')\n",
    "else: print('Дисперсии выборок не равны.')   "
   ]
  },
  {
   "cell_type": "code",
   "execution_count": 30,
   "metadata": {},
   "outputs": [
    {
     "name": "stdout",
     "output_type": "stream",
     "text": [
      "p-значение:  0.5257376663729298\n",
      "Не получилось отвергнуть нулевую гипотезу.\n"
     ]
    }
   ],
   "source": [
    "alpha = .05 # критический уровень статистической значимости\n",
    "# если p-value окажется меньше него - отвергнем гипотезу\n",
    "\n",
    "results = st.ttest_ind(moscow['revenue'],regions['revenue'], equal_var = False)\n",
    "# equal_var - считать ли равными дисперсии выборок\n",
    "\n",
    "print('p-значение: ', results.pvalue)\n",
    "\n",
    "if results.pvalue < alpha:\n",
    "    print(\"Отвергаем нулевую гипотезу.\")\n",
    "else:\n",
    "    print(\"Не получилось отвергнуть нулевую гипотезу.\") "
   ]
  },
  {
   "cell_type": "markdown",
   "metadata": {},
   "source": [
    "Таким образом, мы определили, что в среднем пользователи Москвы тратят столько же денег на пользованиями услугами \"Мегалайн\" сколько тратят пользователи в регионах."
   ]
  },
  {
   "cell_type": "markdown",
   "metadata": {},
   "source": [
    "**Вывод**"
   ]
  },
  {
   "cell_type": "markdown",
   "metadata": {},
   "source": [
    "Мы установили нулевую и альтернативную гипотезы для каждого вопроса и разделили датафрейм на две выборки по каждому вопросу отдельно. Затем чтобы проверить гипотезы о равенстве среднего двух выборок, мы применили метод scipy.stats.ttest_ind()."
   ]
  },
  {
   "cell_type": "markdown",
   "metadata": {},
   "source": [
    "## 5. Общий вывод"
   ]
  },
  {
   "cell_type": "markdown",
   "metadata": {},
   "source": [
    "Мы получили данные 500 пользователей оператора \"Мегалайн\" за 2018 год. С помощью предобработки данных  мы сгруппировали и объединили датасеты для анализа и смогли обработать полученный датасет. Далее мы рассчитали показатели выручки и провели исследовательский анализ данных. Это помогло нам проанализировать поведение клиентов и определить что наиболее прибыльный тариф для оператора - тариф \"Ультра\". Однако нам понадобилось проверить достоверность этого анализа с помощью проверки статистических гипотез. Благодаря этой проверке мы проверили две гипотезы и установили:\n",
    "\n",
    "1. Средняя выручка пользователей тарифов «Ультра» и «Смарт» различаются. \n",
    "\n",
    "Первая гипотеза полностью подтвердилась.\n",
    "\n",
    "2. Средняя выручка пользователей из Москвы отличается от выручки пользователей из других регионов.\n",
    "\n",
    "Таким образом, вторая гипотеза не подтвердилась. Однако, из данных только 500 пользователей не всегда можно сделать вывод о всех пользователях оператора \"Мегалайн\". Проверки статистических гипотез показали, насколько они достоверны, исходя из имеющихся данных.\n"
   ]
  }
 ],
 "metadata": {
  "ExecuteTimeLog": [
   {
    "duration": 1915,
    "start_time": "2022-02-19T11:49:18.988Z"
   },
   {
    "duration": 498,
    "start_time": "2022-02-19T11:53:17.616Z"
   },
   {
    "duration": 504,
    "start_time": "2022-02-19T11:53:34.099Z"
   },
   {
    "duration": 15,
    "start_time": "2022-02-19T11:53:53.326Z"
   },
   {
    "duration": 14,
    "start_time": "2022-02-19T11:54:00.223Z"
   },
   {
    "duration": 13,
    "start_time": "2022-02-19T11:54:12.799Z"
   },
   {
    "duration": 16,
    "start_time": "2022-02-19T11:54:16.951Z"
   },
   {
    "duration": 525,
    "start_time": "2022-02-19T11:54:27.051Z"
   },
   {
    "duration": 652,
    "start_time": "2022-02-19T11:54:36.951Z"
   },
   {
    "duration": 511,
    "start_time": "2022-02-19T11:54:48.840Z"
   },
   {
    "duration": 17,
    "start_time": "2022-02-19T11:55:43.224Z"
   },
   {
    "duration": 15,
    "start_time": "2022-02-19T11:55:49.992Z"
   },
   {
    "duration": 11,
    "start_time": "2022-02-19T11:56:10.944Z"
   },
   {
    "duration": 12,
    "start_time": "2022-02-19T11:56:42.240Z"
   },
   {
    "duration": 9,
    "start_time": "2022-02-19T12:21:31.632Z"
   },
   {
    "duration": 9,
    "start_time": "2022-02-19T12:21:39.236Z"
   },
   {
    "duration": 7,
    "start_time": "2022-02-19T12:21:59.328Z"
   },
   {
    "duration": 9,
    "start_time": "2022-02-19T12:22:29.664Z"
   },
   {
    "duration": 10,
    "start_time": "2022-02-19T12:23:27.578Z"
   },
   {
    "duration": 18,
    "start_time": "2022-02-19T12:23:53.377Z"
   },
   {
    "duration": 10,
    "start_time": "2022-02-19T12:24:11.393Z"
   },
   {
    "duration": 525,
    "start_time": "2022-02-19T13:29:54.926Z"
   },
   {
    "duration": 524,
    "start_time": "2022-02-19T13:30:28.680Z"
   },
   {
    "duration": 34,
    "start_time": "2022-02-19T13:32:53.008Z"
   },
   {
    "duration": 34,
    "start_time": "2022-02-19T13:33:25.969Z"
   },
   {
    "duration": 24,
    "start_time": "2022-02-19T13:37:25.598Z"
   },
   {
    "duration": 29,
    "start_time": "2022-02-19T13:40:47.262Z"
   },
   {
    "duration": 15,
    "start_time": "2022-02-19T13:41:51.146Z"
   },
   {
    "duration": 21,
    "start_time": "2022-02-19T13:41:51.553Z"
   },
   {
    "duration": 9,
    "start_time": "2022-02-19T13:42:33.204Z"
   },
   {
    "duration": 23,
    "start_time": "2022-02-19T13:45:44.583Z"
   },
   {
    "duration": 12,
    "start_time": "2022-02-19T13:45:46.030Z"
   },
   {
    "duration": 710,
    "start_time": "2022-02-19T13:49:42.717Z"
   },
   {
    "duration": 31,
    "start_time": "2022-02-19T13:49:43.431Z"
   },
   {
    "duration": 13,
    "start_time": "2022-02-19T13:49:43.465Z"
   },
   {
    "duration": 25,
    "start_time": "2022-02-19T13:49:43.480Z"
   },
   {
    "duration": 11,
    "start_time": "2022-02-19T13:49:44.441Z"
   },
   {
    "duration": 21,
    "start_time": "2022-02-19T13:49:45.241Z"
   },
   {
    "duration": 20,
    "start_time": "2022-02-19T13:49:45.873Z"
   },
   {
    "duration": 13,
    "start_time": "2022-02-19T13:49:48.101Z"
   },
   {
    "duration": 48,
    "start_time": "2022-02-19T14:12:40.747Z"
   },
   {
    "duration": 69,
    "start_time": "2022-02-19T14:12:56.930Z"
   },
   {
    "duration": 57,
    "start_time": "2022-02-19T14:13:23.099Z"
   },
   {
    "duration": 2011,
    "start_time": "2022-02-19T14:14:17.228Z"
   },
   {
    "duration": 456,
    "start_time": "2022-02-19T14:15:40.658Z"
   },
   {
    "duration": 12,
    "start_time": "2022-02-19T14:19:29.033Z"
   },
   {
    "duration": 480,
    "start_time": "2022-02-19T14:19:32.500Z"
   },
   {
    "duration": 311,
    "start_time": "2022-02-19T14:19:40.628Z"
   },
   {
    "duration": 312,
    "start_time": "2022-02-19T14:26:57.051Z"
   },
   {
    "duration": 98,
    "start_time": "2022-02-19T14:28:42.618Z"
   },
   {
    "duration": 82,
    "start_time": "2022-02-19T14:28:47.459Z"
   },
   {
    "duration": 329,
    "start_time": "2022-02-19T14:33:13.237Z"
   },
   {
    "duration": 35,
    "start_time": "2022-02-19T14:33:48.178Z"
   },
   {
    "duration": 18,
    "start_time": "2022-02-19T14:39:58.230Z"
   },
   {
    "duration": 20,
    "start_time": "2022-02-19T14:41:16.125Z"
   },
   {
    "duration": 24,
    "start_time": "2022-02-19T14:41:23.040Z"
   },
   {
    "duration": 26,
    "start_time": "2022-02-19T14:41:25.464Z"
   },
   {
    "duration": 408,
    "start_time": "2022-02-19T14:43:34.966Z"
   },
   {
    "duration": 359,
    "start_time": "2022-02-19T14:45:50.614Z"
   },
   {
    "duration": 306,
    "start_time": "2022-02-19T14:46:21.200Z"
   },
   {
    "duration": 319,
    "start_time": "2022-02-19T14:46:35.414Z"
   },
   {
    "duration": 33,
    "start_time": "2022-02-19T14:46:42.208Z"
   },
   {
    "duration": 26,
    "start_time": "2022-02-19T14:46:53.201Z"
   },
   {
    "duration": 20,
    "start_time": "2022-02-19T14:46:59.783Z"
   },
   {
    "duration": 22,
    "start_time": "2022-02-19T14:47:07.758Z"
   },
   {
    "duration": 24,
    "start_time": "2022-02-19T14:51:18.908Z"
   },
   {
    "duration": 340,
    "start_time": "2022-02-19T14:51:30.538Z"
   },
   {
    "duration": 14,
    "start_time": "2022-02-19T14:51:54.755Z"
   },
   {
    "duration": 16,
    "start_time": "2022-02-19T14:52:03.695Z"
   },
   {
    "duration": 99,
    "start_time": "2022-02-19T14:52:54.072Z"
   },
   {
    "duration": 30,
    "start_time": "2022-02-19T14:53:19.206Z"
   },
   {
    "duration": 332,
    "start_time": "2022-02-19T14:53:41.054Z"
   },
   {
    "duration": 463,
    "start_time": "2022-02-19T14:54:02.303Z"
   },
   {
    "duration": 363,
    "start_time": "2022-02-19T14:54:10.460Z"
   },
   {
    "duration": 358,
    "start_time": "2022-02-19T14:54:13.304Z"
   },
   {
    "duration": 486,
    "start_time": "2022-02-19T14:54:33.149Z"
   },
   {
    "duration": 450,
    "start_time": "2022-02-19T14:54:57.041Z"
   },
   {
    "duration": 18,
    "start_time": "2022-02-19T14:55:25.158Z"
   },
   {
    "duration": 21,
    "start_time": "2022-02-19T15:01:45.838Z"
   },
   {
    "duration": 8209,
    "start_time": "2022-02-19T15:05:32.427Z"
   },
   {
    "duration": 353,
    "start_time": "2022-02-19T15:05:41.547Z"
   },
   {
    "duration": 31,
    "start_time": "2022-02-19T15:08:12.089Z"
   },
   {
    "duration": 6,
    "start_time": "2022-02-19T15:11:59.638Z"
   },
   {
    "duration": 6,
    "start_time": "2022-02-19T15:12:19.976Z"
   },
   {
    "duration": 21,
    "start_time": "2022-02-19T15:27:54.238Z"
   },
   {
    "duration": 20,
    "start_time": "2022-02-19T15:29:50.851Z"
   },
   {
    "duration": 418,
    "start_time": "2022-02-19T15:29:51.863Z"
   },
   {
    "duration": 2052,
    "start_time": "2022-02-19T15:30:34.149Z"
   },
   {
    "duration": 31,
    "start_time": "2022-02-19T15:30:36.204Z"
   },
   {
    "duration": 16,
    "start_time": "2022-02-19T15:30:36.240Z"
   },
   {
    "duration": 24,
    "start_time": "2022-02-19T15:30:36.260Z"
   },
   {
    "duration": 11,
    "start_time": "2022-02-19T15:30:36.287Z"
   },
   {
    "duration": 59,
    "start_time": "2022-02-19T15:30:36.301Z"
   },
   {
    "duration": 21,
    "start_time": "2022-02-19T15:30:36.363Z"
   },
   {
    "duration": 12,
    "start_time": "2022-02-19T15:30:36.387Z"
   },
   {
    "duration": 50,
    "start_time": "2022-02-19T15:30:36.404Z"
   },
   {
    "duration": 16,
    "start_time": "2022-02-19T15:30:36.457Z"
   },
   {
    "duration": 20,
    "start_time": "2022-02-19T15:30:36.476Z"
   },
   {
    "duration": 55,
    "start_time": "2022-02-19T15:30:36.499Z"
   },
   {
    "duration": 361,
    "start_time": "2022-02-19T15:30:36.557Z"
   },
   {
    "duration": 33,
    "start_time": "2022-02-19T15:30:36.920Z"
   },
   {
    "duration": 474,
    "start_time": "2022-02-19T15:30:36.956Z"
   },
   {
    "duration": 21,
    "start_time": "2022-02-19T15:44:46.374Z"
   },
   {
    "duration": 450,
    "start_time": "2022-02-19T15:44:59.357Z"
   },
   {
    "duration": 20,
    "start_time": "2022-02-19T15:45:03.872Z"
   },
   {
    "duration": 30,
    "start_time": "2022-02-19T15:49:23.818Z"
   },
   {
    "duration": 310,
    "start_time": "2022-02-19T15:50:35.005Z"
   },
   {
    "duration": 29,
    "start_time": "2022-02-19T15:50:35.468Z"
   },
   {
    "duration": 46,
    "start_time": "2022-02-19T15:50:53.758Z"
   },
   {
    "duration": 22,
    "start_time": "2022-02-19T15:50:55.382Z"
   },
   {
    "duration": 75,
    "start_time": "2022-02-19T15:52:18.534Z"
   },
   {
    "duration": 21,
    "start_time": "2022-02-19T15:52:19.848Z"
   },
   {
    "duration": 12,
    "start_time": "2022-02-19T15:52:26.895Z"
   },
   {
    "duration": 27,
    "start_time": "2022-02-19T15:52:31.550Z"
   },
   {
    "duration": 30,
    "start_time": "2022-02-19T15:52:52.188Z"
   },
   {
    "duration": 22,
    "start_time": "2022-02-19T15:52:55.836Z"
   },
   {
    "duration": 57,
    "start_time": "2022-02-19T15:53:22.139Z"
   },
   {
    "duration": 18,
    "start_time": "2022-02-19T15:53:49.275Z"
   },
   {
    "duration": 21,
    "start_time": "2022-02-19T15:54:45.858Z"
   },
   {
    "duration": 10,
    "start_time": "2022-02-19T15:55:19.974Z"
   },
   {
    "duration": 66,
    "start_time": "2022-02-19T15:56:02.696Z"
   },
   {
    "duration": 11,
    "start_time": "2022-02-19T15:56:03.234Z"
   },
   {
    "duration": 515,
    "start_time": "2022-02-19T16:06:02.774Z"
   },
   {
    "duration": 46,
    "start_time": "2022-02-19T16:06:03.293Z"
   },
   {
    "duration": 19,
    "start_time": "2022-02-19T16:06:03.343Z"
   },
   {
    "duration": 34,
    "start_time": "2022-02-19T16:06:03.365Z"
   },
   {
    "duration": 11,
    "start_time": "2022-02-19T16:06:03.402Z"
   },
   {
    "duration": 48,
    "start_time": "2022-02-19T16:06:03.415Z"
   },
   {
    "duration": 15,
    "start_time": "2022-02-19T16:06:03.466Z"
   },
   {
    "duration": 14,
    "start_time": "2022-02-19T16:06:03.485Z"
   },
   {
    "duration": 52,
    "start_time": "2022-02-19T16:06:03.502Z"
   },
   {
    "duration": 16,
    "start_time": "2022-02-19T16:06:03.557Z"
   },
   {
    "duration": 16,
    "start_time": "2022-02-19T16:06:03.576Z"
   },
   {
    "duration": 65,
    "start_time": "2022-02-19T16:06:03.595Z"
   },
   {
    "duration": 365,
    "start_time": "2022-02-19T16:06:03.663Z"
   },
   {
    "duration": 27,
    "start_time": "2022-02-19T16:06:04.031Z"
   },
   {
    "duration": 540,
    "start_time": "2022-02-19T16:06:04.061Z"
   },
   {
    "duration": 304,
    "start_time": "2022-02-19T16:06:04.604Z"
   },
   {
    "duration": 71,
    "start_time": "2022-02-19T16:06:04.910Z"
   },
   {
    "duration": 23,
    "start_time": "2022-02-19T16:06:04.984Z"
   },
   {
    "duration": 75,
    "start_time": "2022-02-19T16:07:29.660Z"
   },
   {
    "duration": 19,
    "start_time": "2022-02-19T16:16:53.575Z"
   },
   {
    "duration": 21,
    "start_time": "2022-02-19T16:17:24.234Z"
   },
   {
    "duration": 327,
    "start_time": "2022-02-19T16:17:50.296Z"
   },
   {
    "duration": 293,
    "start_time": "2022-02-19T16:17:57.486Z"
   },
   {
    "duration": 287,
    "start_time": "2022-02-19T16:18:10.827Z"
   },
   {
    "duration": 15,
    "start_time": "2022-02-19T16:18:32.385Z"
   },
   {
    "duration": 21,
    "start_time": "2022-02-19T16:18:38.799Z"
   },
   {
    "duration": 327,
    "start_time": "2022-02-19T16:20:57.979Z"
   },
   {
    "duration": 86,
    "start_time": "2022-02-19T16:29:06.438Z"
   },
   {
    "duration": 49,
    "start_time": "2022-02-19T16:29:07.026Z"
   },
   {
    "duration": 46,
    "start_time": "2022-02-19T17:38:19.342Z"
   },
   {
    "duration": 6,
    "start_time": "2022-02-19T17:39:39.420Z"
   },
   {
    "duration": 40,
    "start_time": "2022-02-19T17:39:54.584Z"
   },
   {
    "duration": 18,
    "start_time": "2022-02-19T17:39:55.158Z"
   },
   {
    "duration": 7668,
    "start_time": "2022-02-19T17:48:41.830Z"
   },
   {
    "duration": 2129,
    "start_time": "2022-02-19T17:50:34.240Z"
   },
   {
    "duration": 27,
    "start_time": "2022-02-19T17:50:36.372Z"
   },
   {
    "duration": 12,
    "start_time": "2022-02-19T17:50:36.402Z"
   },
   {
    "duration": 47,
    "start_time": "2022-02-19T17:50:36.416Z"
   },
   {
    "duration": 11,
    "start_time": "2022-02-19T17:50:36.465Z"
   },
   {
    "duration": 25,
    "start_time": "2022-02-19T17:50:36.479Z"
   },
   {
    "duration": 46,
    "start_time": "2022-02-19T17:50:36.507Z"
   },
   {
    "duration": 13,
    "start_time": "2022-02-19T17:50:36.556Z"
   },
   {
    "duration": 14,
    "start_time": "2022-02-19T17:50:36.575Z"
   },
   {
    "duration": 27,
    "start_time": "2022-02-19T17:50:36.591Z"
   },
   {
    "duration": 37,
    "start_time": "2022-02-19T17:50:36.621Z"
   },
   {
    "duration": 32,
    "start_time": "2022-02-19T17:50:36.660Z"
   },
   {
    "duration": 369,
    "start_time": "2022-02-19T17:50:36.695Z"
   },
   {
    "duration": 20,
    "start_time": "2022-02-19T17:50:37.067Z"
   },
   {
    "duration": 361,
    "start_time": "2022-02-19T17:50:37.090Z"
   },
   {
    "duration": 178,
    "start_time": "2022-02-19T17:50:37.453Z"
   },
   {
    "duration": 82,
    "start_time": "2022-02-19T17:50:37.633Z"
   },
   {
    "duration": 91,
    "start_time": "2022-02-19T17:50:37.718Z"
   },
   {
    "duration": 18,
    "start_time": "2022-02-19T17:50:37.811Z"
   },
   {
    "duration": 32,
    "start_time": "2022-02-19T17:50:37.832Z"
   },
   {
    "duration": 47,
    "start_time": "2022-02-19T17:50:37.867Z"
   },
   {
    "duration": 36,
    "start_time": "2022-02-19T17:50:37.917Z"
   },
   {
    "duration": 2065,
    "start_time": "2022-02-19T18:01:01.476Z"
   },
   {
    "duration": 28,
    "start_time": "2022-02-19T18:01:03.544Z"
   },
   {
    "duration": 21,
    "start_time": "2022-02-19T18:01:03.576Z"
   },
   {
    "duration": 35,
    "start_time": "2022-02-19T18:01:03.601Z"
   },
   {
    "duration": 12,
    "start_time": "2022-02-19T18:01:03.650Z"
   },
   {
    "duration": 40,
    "start_time": "2022-02-19T18:01:03.666Z"
   },
   {
    "duration": 45,
    "start_time": "2022-02-19T18:01:03.708Z"
   },
   {
    "duration": 22,
    "start_time": "2022-02-19T18:01:03.756Z"
   },
   {
    "duration": 26,
    "start_time": "2022-02-19T18:01:03.782Z"
   },
   {
    "duration": 18,
    "start_time": "2022-02-19T18:01:03.811Z"
   },
   {
    "duration": 29,
    "start_time": "2022-02-19T18:01:03.832Z"
   },
   {
    "duration": 48,
    "start_time": "2022-02-19T18:01:03.864Z"
   },
   {
    "duration": 321,
    "start_time": "2022-02-19T18:01:03.914Z"
   },
   {
    "duration": 25,
    "start_time": "2022-02-19T18:01:04.239Z"
   },
   {
    "duration": 354,
    "start_time": "2022-02-19T18:01:04.266Z"
   },
   {
    "duration": 182,
    "start_time": "2022-02-19T18:01:04.624Z"
   },
   {
    "duration": 85,
    "start_time": "2022-02-19T18:01:04.809Z"
   },
   {
    "duration": 103,
    "start_time": "2022-02-19T18:01:04.897Z"
   },
   {
    "duration": 54,
    "start_time": "2022-02-19T18:01:05.003Z"
   },
   {
    "duration": 39,
    "start_time": "2022-02-19T18:01:05.059Z"
   },
   {
    "duration": 12,
    "start_time": "2022-02-19T18:01:05.101Z"
   },
   {
    "duration": 17,
    "start_time": "2022-02-19T18:02:37.789Z"
   },
   {
    "duration": 25,
    "start_time": "2022-02-19T18:02:44.529Z"
   },
   {
    "duration": 110,
    "start_time": "2022-02-19T18:06:30.482Z"
   },
   {
    "duration": 27,
    "start_time": "2022-02-19T18:06:30.924Z"
   },
   {
    "duration": 8654,
    "start_time": "2022-02-19T18:07:16.672Z"
   },
   {
    "duration": 502,
    "start_time": "2022-02-19T18:07:24.827Z"
   },
   {
    "duration": 310,
    "start_time": "2022-02-19T18:07:53.714Z"
   },
   {
    "duration": 7868,
    "start_time": "2022-02-19T18:08:33.281Z"
   },
   {
    "duration": 508,
    "start_time": "2022-02-19T18:08:40.644Z"
   },
   {
    "duration": 495,
    "start_time": "2022-02-19T18:09:29.110Z"
   },
   {
    "duration": 28,
    "start_time": "2022-02-19T18:09:29.608Z"
   },
   {
    "duration": 17,
    "start_time": "2022-02-19T18:09:29.640Z"
   },
   {
    "duration": 33,
    "start_time": "2022-02-19T18:09:29.660Z"
   },
   {
    "duration": 11,
    "start_time": "2022-02-19T18:09:29.695Z"
   },
   {
    "duration": 46,
    "start_time": "2022-02-19T18:09:29.708Z"
   },
   {
    "duration": 16,
    "start_time": "2022-02-19T18:09:29.757Z"
   },
   {
    "duration": 23,
    "start_time": "2022-02-19T18:09:29.777Z"
   },
   {
    "duration": 23,
    "start_time": "2022-02-19T18:09:29.804Z"
   },
   {
    "duration": 30,
    "start_time": "2022-02-19T18:09:29.830Z"
   },
   {
    "duration": 34,
    "start_time": "2022-02-19T18:09:29.863Z"
   },
   {
    "duration": 45,
    "start_time": "2022-02-19T18:09:29.900Z"
   },
   {
    "duration": 348,
    "start_time": "2022-02-19T18:09:29.948Z"
   },
   {
    "duration": 19,
    "start_time": "2022-02-19T18:09:30.298Z"
   },
   {
    "duration": 409,
    "start_time": "2022-02-19T18:09:30.320Z"
   },
   {
    "duration": 172,
    "start_time": "2022-02-19T18:09:30.732Z"
   },
   {
    "duration": 85,
    "start_time": "2022-02-19T18:09:30.907Z"
   },
   {
    "duration": 116,
    "start_time": "2022-02-19T18:09:30.995Z"
   },
   {
    "duration": 43,
    "start_time": "2022-02-19T18:09:31.113Z"
   },
   {
    "duration": 12,
    "start_time": "2022-02-19T18:09:31.159Z"
   },
   {
    "duration": 7976,
    "start_time": "2022-02-19T18:10:10.262Z"
   },
   {
    "duration": 2117,
    "start_time": "2022-02-19T18:13:07.954Z"
   },
   {
    "duration": 30,
    "start_time": "2022-02-19T18:13:10.073Z"
   },
   {
    "duration": 13,
    "start_time": "2022-02-19T18:13:10.107Z"
   },
   {
    "duration": 25,
    "start_time": "2022-02-19T18:13:10.148Z"
   },
   {
    "duration": 13,
    "start_time": "2022-02-19T18:13:10.177Z"
   },
   {
    "duration": 21,
    "start_time": "2022-02-19T18:13:10.193Z"
   },
   {
    "duration": 46,
    "start_time": "2022-02-19T18:13:10.216Z"
   },
   {
    "duration": 12,
    "start_time": "2022-02-19T18:13:10.266Z"
   },
   {
    "duration": 17,
    "start_time": "2022-02-19T18:13:10.282Z"
   },
   {
    "duration": 50,
    "start_time": "2022-02-19T18:13:10.303Z"
   },
   {
    "duration": 20,
    "start_time": "2022-02-19T18:13:10.356Z"
   },
   {
    "duration": 30,
    "start_time": "2022-02-19T18:13:10.378Z"
   },
   {
    "duration": 362,
    "start_time": "2022-02-19T18:13:10.410Z"
   },
   {
    "duration": 18,
    "start_time": "2022-02-19T18:13:10.774Z"
   },
   {
    "duration": 349,
    "start_time": "2022-02-19T18:13:10.794Z"
   },
   {
    "duration": 175,
    "start_time": "2022-02-19T18:13:11.148Z"
   },
   {
    "duration": 89,
    "start_time": "2022-02-19T18:13:11.325Z"
   },
   {
    "duration": 108,
    "start_time": "2022-02-19T18:13:11.417Z"
   },
   {
    "duration": 36,
    "start_time": "2022-02-19T18:13:11.527Z"
   },
   {
    "duration": 14,
    "start_time": "2022-02-19T18:13:11.566Z"
   },
   {
    "duration": 128,
    "start_time": "2022-02-19T18:34:32.513Z"
   },
   {
    "duration": 490,
    "start_time": "2022-02-19T18:34:54.598Z"
   },
   {
    "duration": 487,
    "start_time": "2022-02-19T18:34:54.603Z"
   },
   {
    "duration": 486,
    "start_time": "2022-02-19T18:34:54.606Z"
   },
   {
    "duration": 483,
    "start_time": "2022-02-19T18:34:54.611Z"
   },
   {
    "duration": 482,
    "start_time": "2022-02-19T18:34:54.614Z"
   },
   {
    "duration": 480,
    "start_time": "2022-02-19T18:34:54.618Z"
   },
   {
    "duration": 480,
    "start_time": "2022-02-19T18:34:54.620Z"
   },
   {
    "duration": 477,
    "start_time": "2022-02-19T18:34:54.624Z"
   },
   {
    "duration": 475,
    "start_time": "2022-02-19T18:34:54.628Z"
   },
   {
    "duration": 473,
    "start_time": "2022-02-19T18:34:54.632Z"
   },
   {
    "duration": 464,
    "start_time": "2022-02-19T18:34:54.642Z"
   },
   {
    "duration": 462,
    "start_time": "2022-02-19T18:34:54.645Z"
   },
   {
    "duration": 462,
    "start_time": "2022-02-19T18:34:54.647Z"
   },
   {
    "duration": 461,
    "start_time": "2022-02-19T18:34:54.649Z"
   },
   {
    "duration": 459,
    "start_time": "2022-02-19T18:34:54.653Z"
   },
   {
    "duration": 458,
    "start_time": "2022-02-19T18:34:54.655Z"
   },
   {
    "duration": 455,
    "start_time": "2022-02-19T18:34:54.660Z"
   },
   {
    "duration": 452,
    "start_time": "2022-02-19T18:34:54.664Z"
   },
   {
    "duration": 446,
    "start_time": "2022-02-19T18:34:54.672Z"
   },
   {
    "duration": 442,
    "start_time": "2022-02-19T18:34:54.677Z"
   },
   {
    "duration": 2039,
    "start_time": "2022-02-19T18:35:10.416Z"
   },
   {
    "duration": 27,
    "start_time": "2022-02-19T18:35:12.457Z"
   },
   {
    "duration": 22,
    "start_time": "2022-02-19T18:35:12.488Z"
   },
   {
    "duration": 41,
    "start_time": "2022-02-19T18:35:12.512Z"
   },
   {
    "duration": 10,
    "start_time": "2022-02-19T18:35:12.555Z"
   },
   {
    "duration": 25,
    "start_time": "2022-02-19T18:35:12.567Z"
   },
   {
    "duration": 15,
    "start_time": "2022-02-19T18:35:12.594Z"
   },
   {
    "duration": 41,
    "start_time": "2022-02-19T18:35:12.613Z"
   },
   {
    "duration": 15,
    "start_time": "2022-02-19T18:35:12.657Z"
   },
   {
    "duration": 14,
    "start_time": "2022-02-19T18:35:12.675Z"
   },
   {
    "duration": 14,
    "start_time": "2022-02-19T18:35:12.692Z"
   },
   {
    "duration": 68,
    "start_time": "2022-02-19T18:35:12.708Z"
   },
   {
    "duration": 355,
    "start_time": "2022-02-19T18:35:12.779Z"
   },
   {
    "duration": 28,
    "start_time": "2022-02-19T18:35:13.138Z"
   },
   {
    "duration": 353,
    "start_time": "2022-02-19T18:35:13.169Z"
   },
   {
    "duration": 184,
    "start_time": "2022-02-19T18:35:13.524Z"
   },
   {
    "duration": 81,
    "start_time": "2022-02-19T18:35:13.710Z"
   },
   {
    "duration": 116,
    "start_time": "2022-02-19T18:35:13.794Z"
   },
   {
    "duration": 31,
    "start_time": "2022-02-19T18:35:13.913Z"
   },
   {
    "duration": 14,
    "start_time": "2022-02-19T18:35:13.948Z"
   },
   {
    "duration": 444,
    "start_time": "2022-02-19T18:38:38.392Z"
   },
   {
    "duration": 443,
    "start_time": "2022-02-19T18:38:38.395Z"
   },
   {
    "duration": 442,
    "start_time": "2022-02-19T18:38:38.397Z"
   },
   {
    "duration": 442,
    "start_time": "2022-02-19T18:38:38.399Z"
   },
   {
    "duration": 441,
    "start_time": "2022-02-19T18:38:38.401Z"
   },
   {
    "duration": 441,
    "start_time": "2022-02-19T18:38:38.403Z"
   },
   {
    "duration": 435,
    "start_time": "2022-02-19T18:38:38.410Z"
   },
   {
    "duration": 433,
    "start_time": "2022-02-19T18:38:38.413Z"
   },
   {
    "duration": 433,
    "start_time": "2022-02-19T18:38:38.415Z"
   },
   {
    "duration": 431,
    "start_time": "2022-02-19T18:38:38.418Z"
   },
   {
    "duration": 430,
    "start_time": "2022-02-19T18:38:38.421Z"
   },
   {
    "duration": 428,
    "start_time": "2022-02-19T18:38:38.424Z"
   },
   {
    "duration": 427,
    "start_time": "2022-02-19T18:38:38.427Z"
   },
   {
    "duration": 427,
    "start_time": "2022-02-19T18:38:38.429Z"
   },
   {
    "duration": 421,
    "start_time": "2022-02-19T18:38:38.437Z"
   },
   {
    "duration": 421,
    "start_time": "2022-02-19T18:38:38.439Z"
   },
   {
    "duration": 420,
    "start_time": "2022-02-19T18:38:38.441Z"
   },
   {
    "duration": 420,
    "start_time": "2022-02-19T18:38:38.443Z"
   },
   {
    "duration": 419,
    "start_time": "2022-02-19T18:38:38.445Z"
   },
   {
    "duration": 421,
    "start_time": "2022-02-19T18:38:38.447Z"
   },
   {
    "duration": 1970,
    "start_time": "2022-02-19T18:38:56.767Z"
   },
   {
    "duration": 29,
    "start_time": "2022-02-19T18:38:58.741Z"
   },
   {
    "duration": 13,
    "start_time": "2022-02-19T18:38:58.774Z"
   },
   {
    "duration": 27,
    "start_time": "2022-02-19T18:38:58.790Z"
   },
   {
    "duration": 37,
    "start_time": "2022-02-19T18:38:58.819Z"
   },
   {
    "duration": 28,
    "start_time": "2022-02-19T18:38:58.858Z"
   },
   {
    "duration": 14,
    "start_time": "2022-02-19T18:38:58.888Z"
   },
   {
    "duration": 17,
    "start_time": "2022-02-19T18:38:58.906Z"
   },
   {
    "duration": 33,
    "start_time": "2022-02-19T18:38:58.926Z"
   },
   {
    "duration": 11,
    "start_time": "2022-02-19T18:38:58.961Z"
   },
   {
    "duration": 18,
    "start_time": "2022-02-19T18:38:58.974Z"
   },
   {
    "duration": 71,
    "start_time": "2022-02-19T18:38:58.994Z"
   },
   {
    "duration": 349,
    "start_time": "2022-02-19T18:38:59.067Z"
   },
   {
    "duration": 30,
    "start_time": "2022-02-19T18:38:59.418Z"
   },
   {
    "duration": 338,
    "start_time": "2022-02-19T18:38:59.450Z"
   },
   {
    "duration": 173,
    "start_time": "2022-02-19T18:38:59.790Z"
   },
   {
    "duration": 86,
    "start_time": "2022-02-19T18:38:59.966Z"
   },
   {
    "duration": 112,
    "start_time": "2022-02-19T18:39:00.055Z"
   },
   {
    "duration": 32,
    "start_time": "2022-02-19T18:39:00.169Z"
   },
   {
    "duration": 30,
    "start_time": "2022-02-19T18:39:00.204Z"
   },
   {
    "duration": 50,
    "start_time": "2022-02-19T18:46:10.050Z"
   },
   {
    "duration": 506,
    "start_time": "2022-02-19T18:52:04.702Z"
   },
   {
    "duration": 504,
    "start_time": "2022-02-19T18:52:04.706Z"
   },
   {
    "duration": 503,
    "start_time": "2022-02-19T18:52:04.709Z"
   },
   {
    "duration": 503,
    "start_time": "2022-02-19T18:52:04.712Z"
   },
   {
    "duration": 503,
    "start_time": "2022-02-19T18:52:04.714Z"
   },
   {
    "duration": 503,
    "start_time": "2022-02-19T18:52:04.716Z"
   },
   {
    "duration": 503,
    "start_time": "2022-02-19T18:52:04.718Z"
   },
   {
    "duration": 502,
    "start_time": "2022-02-19T18:52:04.721Z"
   },
   {
    "duration": 502,
    "start_time": "2022-02-19T18:52:04.723Z"
   },
   {
    "duration": 502,
    "start_time": "2022-02-19T18:52:04.725Z"
   },
   {
    "duration": 501,
    "start_time": "2022-02-19T18:52:04.728Z"
   },
   {
    "duration": 501,
    "start_time": "2022-02-19T18:52:04.730Z"
   },
   {
    "duration": 500,
    "start_time": "2022-02-19T18:52:04.733Z"
   },
   {
    "duration": 495,
    "start_time": "2022-02-19T18:52:04.740Z"
   },
   {
    "duration": 492,
    "start_time": "2022-02-19T18:52:04.745Z"
   },
   {
    "duration": 491,
    "start_time": "2022-02-19T18:52:04.748Z"
   },
   {
    "duration": 491,
    "start_time": "2022-02-19T18:52:04.751Z"
   },
   {
    "duration": 494,
    "start_time": "2022-02-19T18:52:04.753Z"
   },
   {
    "duration": 493,
    "start_time": "2022-02-19T18:52:04.756Z"
   },
   {
    "duration": 494,
    "start_time": "2022-02-19T18:52:04.758Z"
   },
   {
    "duration": 494,
    "start_time": "2022-02-19T18:52:04.760Z"
   },
   {
    "duration": 493,
    "start_time": "2022-02-19T18:52:04.763Z"
   },
   {
    "duration": 2067,
    "start_time": "2022-02-19T18:52:15.684Z"
   },
   {
    "duration": 28,
    "start_time": "2022-02-19T18:52:17.754Z"
   },
   {
    "duration": 12,
    "start_time": "2022-02-19T18:52:17.785Z"
   },
   {
    "duration": 55,
    "start_time": "2022-02-19T18:52:17.800Z"
   },
   {
    "duration": 10,
    "start_time": "2022-02-19T18:52:17.858Z"
   },
   {
    "duration": 39,
    "start_time": "2022-02-19T18:52:17.870Z"
   },
   {
    "duration": 21,
    "start_time": "2022-02-19T18:52:17.911Z"
   },
   {
    "duration": 38,
    "start_time": "2022-02-19T18:52:17.935Z"
   },
   {
    "duration": 23,
    "start_time": "2022-02-19T18:52:17.977Z"
   },
   {
    "duration": 23,
    "start_time": "2022-02-19T18:52:18.003Z"
   },
   {
    "duration": 25,
    "start_time": "2022-02-19T18:52:18.028Z"
   },
   {
    "duration": 31,
    "start_time": "2022-02-19T18:52:18.056Z"
   },
   {
    "duration": 385,
    "start_time": "2022-02-19T18:52:18.090Z"
   },
   {
    "duration": 36,
    "start_time": "2022-02-19T18:52:18.478Z"
   },
   {
    "duration": 632,
    "start_time": "2022-02-19T18:52:18.519Z"
   },
   {
    "duration": 246,
    "start_time": "2022-02-19T18:52:19.163Z"
   },
   {
    "duration": 82,
    "start_time": "2022-02-19T18:52:19.412Z"
   },
   {
    "duration": 120,
    "start_time": "2022-02-19T18:52:19.496Z"
   },
   {
    "duration": 32,
    "start_time": "2022-02-19T18:52:31.545Z"
   },
   {
    "duration": 9,
    "start_time": "2022-02-19T18:53:51.324Z"
   },
   {
    "duration": 32,
    "start_time": "2022-02-19T18:53:52.435Z"
   },
   {
    "duration": 14,
    "start_time": "2022-02-19T18:55:14.500Z"
   },
   {
    "duration": 13,
    "start_time": "2022-02-19T18:55:32.922Z"
   },
   {
    "duration": 21,
    "start_time": "2022-02-19T18:56:10.393Z"
   },
   {
    "duration": 48,
    "start_time": "2022-02-19T18:56:23.378Z"
   },
   {
    "duration": 34,
    "start_time": "2022-02-19T18:57:02.708Z"
   },
   {
    "duration": 4567,
    "start_time": "2022-02-19T19:14:08.970Z"
   },
   {
    "duration": 565,
    "start_time": "2022-02-19T19:16:11.852Z"
   },
   {
    "duration": 586,
    "start_time": "2022-02-19T19:16:53.565Z"
   },
   {
    "duration": 1972,
    "start_time": "2022-02-19T19:17:44.675Z"
   },
   {
    "duration": 28,
    "start_time": "2022-02-19T19:17:46.650Z"
   },
   {
    "duration": 12,
    "start_time": "2022-02-19T19:17:46.682Z"
   },
   {
    "duration": 26,
    "start_time": "2022-02-19T19:17:46.697Z"
   },
   {
    "duration": 13,
    "start_time": "2022-02-19T19:17:46.749Z"
   },
   {
    "duration": 22,
    "start_time": "2022-02-19T19:17:46.765Z"
   },
   {
    "duration": 15,
    "start_time": "2022-02-19T19:17:46.790Z"
   },
   {
    "duration": 46,
    "start_time": "2022-02-19T19:17:46.807Z"
   },
   {
    "duration": 15,
    "start_time": "2022-02-19T19:17:46.857Z"
   },
   {
    "duration": 13,
    "start_time": "2022-02-19T19:17:46.875Z"
   },
   {
    "duration": 25,
    "start_time": "2022-02-19T19:17:46.890Z"
   },
   {
    "duration": 57,
    "start_time": "2022-02-19T19:17:46.918Z"
   },
   {
    "duration": 369,
    "start_time": "2022-02-19T19:17:46.979Z"
   },
   {
    "duration": 19,
    "start_time": "2022-02-19T19:17:47.351Z"
   },
   {
    "duration": 359,
    "start_time": "2022-02-19T19:17:47.372Z"
   },
   {
    "duration": 202,
    "start_time": "2022-02-19T19:17:47.734Z"
   },
   {
    "duration": 75,
    "start_time": "2022-02-19T19:17:47.938Z"
   },
   {
    "duration": 129,
    "start_time": "2022-02-19T19:17:48.016Z"
   },
   {
    "duration": 35,
    "start_time": "2022-02-19T19:17:48.148Z"
   },
   {
    "duration": 711,
    "start_time": "2022-02-19T19:17:48.186Z"
   },
   {
    "duration": 500,
    "start_time": "2022-02-19T19:17:48.400Z"
   },
   {
    "duration": 498,
    "start_time": "2022-02-19T19:17:48.403Z"
   },
   {
    "duration": 572,
    "start_time": "2022-02-19T19:17:58.054Z"
   },
   {
    "duration": 545,
    "start_time": "2022-02-19T19:22:54.550Z"
   },
   {
    "duration": 2052,
    "start_time": "2022-02-19T19:23:10.624Z"
   },
   {
    "duration": 27,
    "start_time": "2022-02-19T19:23:12.679Z"
   },
   {
    "duration": 21,
    "start_time": "2022-02-19T19:23:12.709Z"
   },
   {
    "duration": 40,
    "start_time": "2022-02-19T19:23:12.732Z"
   },
   {
    "duration": 11,
    "start_time": "2022-02-19T19:23:12.774Z"
   },
   {
    "duration": 44,
    "start_time": "2022-02-19T19:23:12.788Z"
   },
   {
    "duration": 19,
    "start_time": "2022-02-19T19:23:12.835Z"
   },
   {
    "duration": 13,
    "start_time": "2022-02-19T19:23:12.858Z"
   },
   {
    "duration": 24,
    "start_time": "2022-02-19T19:23:12.873Z"
   },
   {
    "duration": 14,
    "start_time": "2022-02-19T19:23:12.900Z"
   },
   {
    "duration": 23,
    "start_time": "2022-02-19T19:23:12.917Z"
   },
   {
    "duration": 32,
    "start_time": "2022-02-19T19:23:12.949Z"
   },
   {
    "duration": 366,
    "start_time": "2022-02-19T19:23:12.985Z"
   },
   {
    "duration": 18,
    "start_time": "2022-02-19T19:23:13.354Z"
   },
   {
    "duration": 357,
    "start_time": "2022-02-19T19:23:13.374Z"
   },
   {
    "duration": 174,
    "start_time": "2022-02-19T19:23:13.734Z"
   },
   {
    "duration": 81,
    "start_time": "2022-02-19T19:23:13.910Z"
   },
   {
    "duration": 125,
    "start_time": "2022-02-19T19:23:13.994Z"
   },
   {
    "duration": 39,
    "start_time": "2022-02-19T19:23:14.122Z"
   },
   {
    "duration": 795,
    "start_time": "2022-02-19T19:23:14.163Z"
   },
   {
    "duration": 483,
    "start_time": "2022-02-19T19:23:14.478Z"
   },
   {
    "duration": 847,
    "start_time": "2022-02-19T19:28:45.556Z"
   },
   {
    "duration": 380,
    "start_time": "2022-02-20T09:47:36.541Z"
   },
   {
    "duration": 2047,
    "start_time": "2022-02-20T09:47:55.113Z"
   },
   {
    "duration": 30,
    "start_time": "2022-02-20T09:47:57.163Z"
   },
   {
    "duration": 12,
    "start_time": "2022-02-20T09:47:57.196Z"
   },
   {
    "duration": 57,
    "start_time": "2022-02-20T09:47:57.212Z"
   },
   {
    "duration": 11,
    "start_time": "2022-02-20T09:47:57.272Z"
   },
   {
    "duration": 26,
    "start_time": "2022-02-20T09:47:57.285Z"
   },
   {
    "duration": 43,
    "start_time": "2022-02-20T09:47:57.314Z"
   },
   {
    "duration": 10,
    "start_time": "2022-02-20T09:47:57.361Z"
   },
   {
    "duration": 15,
    "start_time": "2022-02-20T09:47:57.374Z"
   },
   {
    "duration": 10,
    "start_time": "2022-02-20T09:47:57.392Z"
   },
   {
    "duration": 58,
    "start_time": "2022-02-20T09:47:57.405Z"
   },
   {
    "duration": 30,
    "start_time": "2022-02-20T09:47:57.466Z"
   },
   {
    "duration": 365,
    "start_time": "2022-02-20T09:47:57.498Z"
   },
   {
    "duration": 19,
    "start_time": "2022-02-20T09:47:57.866Z"
   },
   {
    "duration": 347,
    "start_time": "2022-02-20T09:47:57.887Z"
   },
   {
    "duration": 172,
    "start_time": "2022-02-20T09:47:58.237Z"
   },
   {
    "duration": 80,
    "start_time": "2022-02-20T09:47:58.411Z"
   },
   {
    "duration": 119,
    "start_time": "2022-02-20T09:47:58.494Z"
   },
   {
    "duration": 35,
    "start_time": "2022-02-20T09:47:58.616Z"
   },
   {
    "duration": 410,
    "start_time": "2022-02-20T09:47:58.654Z"
   },
   {
    "duration": 34,
    "start_time": "2022-02-20T09:47:59.067Z"
   },
   {
    "duration": 44,
    "start_time": "2022-02-20T09:47:59.104Z"
   },
   {
    "duration": 303,
    "start_time": "2022-02-20T10:32:22.747Z"
   },
   {
    "duration": 485,
    "start_time": "2022-02-20T10:34:25.595Z"
   },
   {
    "duration": 116,
    "start_time": "2022-02-20T10:34:25.967Z"
   },
   {
    "duration": 409,
    "start_time": "2022-02-20T10:34:44.653Z"
   },
   {
    "duration": 17,
    "start_time": "2022-02-20T10:35:49.576Z"
   },
   {
    "duration": 50,
    "start_time": "2022-02-20T10:35:51.090Z"
   },
   {
    "duration": 50,
    "start_time": "2022-02-20T10:36:01.314Z"
   },
   {
    "duration": 53,
    "start_time": "2022-02-20T10:36:08.865Z"
   },
   {
    "duration": 33,
    "start_time": "2022-02-20T10:36:50.462Z"
   },
   {
    "duration": 317,
    "start_time": "2022-02-20T10:37:52.394Z"
   },
   {
    "duration": 2102,
    "start_time": "2022-02-20T10:44:51.020Z"
   },
   {
    "duration": 2170,
    "start_time": "2022-02-20T10:47:06.208Z"
   },
   {
    "duration": 2049,
    "start_time": "2022-02-20T10:47:17.284Z"
   },
   {
    "duration": 2187,
    "start_time": "2022-02-20T10:47:57.961Z"
   },
   {
    "duration": 2068,
    "start_time": "2022-02-20T10:50:50.606Z"
   },
   {
    "duration": 2131,
    "start_time": "2022-02-20T10:51:58.062Z"
   },
   {
    "duration": 1986,
    "start_time": "2022-02-20T10:52:22.852Z"
   },
   {
    "duration": 2049,
    "start_time": "2022-02-20T10:52:54.338Z"
   },
   {
    "duration": 2329,
    "start_time": "2022-02-20T10:57:21.647Z"
   },
   {
    "duration": 2086,
    "start_time": "2022-02-20T10:57:54.109Z"
   },
   {
    "duration": 2238,
    "start_time": "2022-02-20T10:59:10.925Z"
   },
   {
    "duration": 2316,
    "start_time": "2022-02-20T10:59:19.949Z"
   },
   {
    "duration": 2134,
    "start_time": "2022-02-20T11:00:07.996Z"
   },
   {
    "duration": 2099,
    "start_time": "2022-02-20T11:00:13.732Z"
   },
   {
    "duration": 1977,
    "start_time": "2022-02-20T11:00:46.248Z"
   },
   {
    "duration": 5,
    "start_time": "2022-02-20T11:02:59.996Z"
   },
   {
    "duration": 5,
    "start_time": "2022-02-20T11:03:53.012Z"
   },
   {
    "duration": 6,
    "start_time": "2022-02-20T11:05:08.514Z"
   },
   {
    "duration": 34,
    "start_time": "2022-02-20T11:18:06.876Z"
   },
   {
    "duration": 12,
    "start_time": "2022-02-20T11:18:55.367Z"
   },
   {
    "duration": 674,
    "start_time": "2022-02-20T11:38:29.980Z"
   },
   {
    "duration": 769,
    "start_time": "2022-02-20T11:38:44.068Z"
   },
   {
    "duration": 665,
    "start_time": "2022-02-20T11:40:20.064Z"
   },
   {
    "duration": 647,
    "start_time": "2022-02-20T11:40:22.414Z"
   },
   {
    "duration": 641,
    "start_time": "2022-02-20T11:40:23.808Z"
   },
   {
    "duration": 658,
    "start_time": "2022-02-20T11:40:25.422Z"
   },
   {
    "duration": 806,
    "start_time": "2022-02-20T11:40:27.245Z"
   },
   {
    "duration": 666,
    "start_time": "2022-02-20T11:40:28.919Z"
   },
   {
    "duration": 727,
    "start_time": "2022-02-20T11:41:18.160Z"
   },
   {
    "duration": 653,
    "start_time": "2022-02-20T11:42:17.397Z"
   },
   {
    "duration": 752,
    "start_time": "2022-02-20T12:06:48.899Z"
   },
   {
    "duration": 756,
    "start_time": "2022-02-20T12:07:28.655Z"
   },
   {
    "duration": 655,
    "start_time": "2022-02-20T12:07:32.399Z"
   },
   {
    "duration": 651,
    "start_time": "2022-02-20T12:07:42.855Z"
   },
   {
    "duration": 2003,
    "start_time": "2022-02-20T13:32:55.567Z"
   },
   {
    "duration": 28,
    "start_time": "2022-02-20T13:32:57.573Z"
   },
   {
    "duration": 11,
    "start_time": "2022-02-20T13:32:57.604Z"
   },
   {
    "duration": 43,
    "start_time": "2022-02-20T13:32:57.619Z"
   },
   {
    "duration": 12,
    "start_time": "2022-02-20T13:32:57.665Z"
   },
   {
    "duration": 23,
    "start_time": "2022-02-20T13:32:57.679Z"
   },
   {
    "duration": 45,
    "start_time": "2022-02-20T13:32:57.705Z"
   },
   {
    "duration": 14,
    "start_time": "2022-02-20T13:32:57.753Z"
   },
   {
    "duration": 13,
    "start_time": "2022-02-20T13:32:57.771Z"
   },
   {
    "duration": 10,
    "start_time": "2022-02-20T13:32:57.787Z"
   },
   {
    "duration": 54,
    "start_time": "2022-02-20T13:32:57.800Z"
   },
   {
    "duration": 32,
    "start_time": "2022-02-20T13:32:57.857Z"
   },
   {
    "duration": 359,
    "start_time": "2022-02-20T13:32:57.892Z"
   },
   {
    "duration": 17,
    "start_time": "2022-02-20T13:32:58.254Z"
   },
   {
    "duration": 374,
    "start_time": "2022-02-20T13:32:58.274Z"
   },
   {
    "duration": 177,
    "start_time": "2022-02-20T13:32:58.651Z"
   },
   {
    "duration": 92,
    "start_time": "2022-02-20T13:32:58.831Z"
   },
   {
    "duration": 71,
    "start_time": "2022-02-20T13:33:12.616Z"
   },
   {
    "duration": 76,
    "start_time": "2022-02-20T13:37:49.895Z"
   },
   {
    "duration": 545,
    "start_time": "2022-02-20T13:47:55.962Z"
   },
   {
    "duration": 32,
    "start_time": "2022-02-20T13:47:56.511Z"
   },
   {
    "duration": 11,
    "start_time": "2022-02-20T13:47:56.546Z"
   },
   {
    "duration": 29,
    "start_time": "2022-02-20T13:47:56.560Z"
   },
   {
    "duration": 10,
    "start_time": "2022-02-20T13:47:56.592Z"
   },
   {
    "duration": 49,
    "start_time": "2022-02-20T13:47:56.605Z"
   },
   {
    "duration": 15,
    "start_time": "2022-02-20T13:47:56.657Z"
   },
   {
    "duration": 11,
    "start_time": "2022-02-20T13:47:56.678Z"
   },
   {
    "duration": 13,
    "start_time": "2022-02-20T13:47:56.693Z"
   },
   {
    "duration": 10,
    "start_time": "2022-02-20T13:47:56.750Z"
   },
   {
    "duration": 22,
    "start_time": "2022-02-20T13:47:56.763Z"
   },
   {
    "duration": 26,
    "start_time": "2022-02-20T13:47:56.788Z"
   },
   {
    "duration": 366,
    "start_time": "2022-02-20T13:47:56.817Z"
   },
   {
    "duration": 18,
    "start_time": "2022-02-20T13:47:57.185Z"
   },
   {
    "duration": 364,
    "start_time": "2022-02-20T13:47:57.206Z"
   },
   {
    "duration": 173,
    "start_time": "2022-02-20T13:47:57.573Z"
   },
   {
    "duration": 71,
    "start_time": "2022-02-20T13:47:57.749Z"
   },
   {
    "duration": 86,
    "start_time": "2022-02-20T13:47:57.823Z"
   },
   {
    "duration": 15,
    "start_time": "2022-02-20T13:47:57.912Z"
   },
   {
    "duration": 54,
    "start_time": "2022-02-20T13:47:57.929Z"
   },
   {
    "duration": 32,
    "start_time": "2022-02-20T13:47:57.986Z"
   },
   {
    "duration": 386,
    "start_time": "2022-02-20T13:47:58.020Z"
   },
   {
    "duration": 50,
    "start_time": "2022-02-20T13:47:58.413Z"
   },
   {
    "duration": 16,
    "start_time": "2022-02-20T13:47:58.467Z"
   },
   {
    "duration": 663,
    "start_time": "2022-02-20T13:47:58.486Z"
   },
   {
    "duration": 724,
    "start_time": "2022-02-20T13:47:59.153Z"
   },
   {
    "duration": 689,
    "start_time": "2022-02-20T13:47:59.880Z"
   },
   {
    "duration": 332,
    "start_time": "2022-02-20T13:48:00.572Z"
   },
   {
    "duration": 63,
    "start_time": "2022-02-20T13:48:26.102Z"
   },
   {
    "duration": 499,
    "start_time": "2022-02-20T16:28:46.993Z"
   },
   {
    "duration": 1583,
    "start_time": "2022-02-20T16:29:29.803Z"
   },
   {
    "duration": 326,
    "start_time": "2022-02-20T16:30:20.819Z"
   },
   {
    "duration": 330,
    "start_time": "2022-02-20T16:31:59.608Z"
   },
   {
    "duration": 533,
    "start_time": "2022-02-20T16:32:10.398Z"
   },
   {
    "duration": 32,
    "start_time": "2022-02-20T16:32:10.934Z"
   },
   {
    "duration": 13,
    "start_time": "2022-02-20T16:32:10.970Z"
   },
   {
    "duration": 25,
    "start_time": "2022-02-20T16:32:10.986Z"
   },
   {
    "duration": 52,
    "start_time": "2022-02-20T16:32:11.014Z"
   },
   {
    "duration": 21,
    "start_time": "2022-02-20T16:32:11.069Z"
   },
   {
    "duration": 15,
    "start_time": "2022-02-20T16:32:11.093Z"
   },
   {
    "duration": 8,
    "start_time": "2022-02-20T16:32:11.112Z"
   },
   {
    "duration": 13,
    "start_time": "2022-02-20T16:32:11.156Z"
   },
   {
    "duration": 12,
    "start_time": "2022-02-20T16:32:11.173Z"
   },
   {
    "duration": 23,
    "start_time": "2022-02-20T16:32:11.188Z"
   },
   {
    "duration": 57,
    "start_time": "2022-02-20T16:32:11.214Z"
   },
   {
    "duration": 353,
    "start_time": "2022-02-20T16:32:11.274Z"
   },
   {
    "duration": 32,
    "start_time": "2022-02-20T16:32:11.630Z"
   },
   {
    "duration": 357,
    "start_time": "2022-02-20T16:32:11.665Z"
   },
   {
    "duration": 189,
    "start_time": "2022-02-20T16:32:12.025Z"
   },
   {
    "duration": 86,
    "start_time": "2022-02-20T16:32:12.217Z"
   },
   {
    "duration": 89,
    "start_time": "2022-02-20T16:32:12.306Z"
   },
   {
    "duration": 9,
    "start_time": "2022-02-20T16:32:12.398Z"
   },
   {
    "duration": 183,
    "start_time": "2022-02-20T16:32:12.410Z"
   },
   {
    "duration": 397,
    "start_time": "2022-02-20T16:32:12.596Z"
   },
   {
    "duration": 31,
    "start_time": "2022-02-20T16:32:12.996Z"
   },
   {
    "duration": 20,
    "start_time": "2022-02-20T16:32:13.047Z"
   },
   {
    "duration": 323,
    "start_time": "2022-02-20T16:32:13.070Z"
   },
   {
    "duration": 48,
    "start_time": "2022-02-20T16:32:13.347Z"
   },
   {
    "duration": 594,
    "start_time": "2022-02-20T16:34:12.679Z"
   },
   {
    "duration": 633,
    "start_time": "2022-02-20T16:34:27.557Z"
   },
   {
    "duration": 293,
    "start_time": "2022-02-20T16:35:51.118Z"
   },
   {
    "duration": 330,
    "start_time": "2022-02-20T16:35:56.288Z"
   },
   {
    "duration": 277,
    "start_time": "2022-02-20T16:36:16.224Z"
   },
   {
    "duration": 97,
    "start_time": "2022-02-20T16:39:27.662Z"
   },
   {
    "duration": 9402,
    "start_time": "2022-02-20T16:40:06.839Z"
   },
   {
    "duration": 586,
    "start_time": "2022-02-20T16:40:46.986Z"
   },
   {
    "duration": 2076,
    "start_time": "2022-02-20T16:47:33.851Z"
   },
   {
    "duration": 513,
    "start_time": "2022-02-20T16:47:48.801Z"
   },
   {
    "duration": 426,
    "start_time": "2022-02-20T16:49:05.056Z"
   },
   {
    "duration": 438,
    "start_time": "2022-02-20T16:49:59.823Z"
   },
   {
    "duration": 446,
    "start_time": "2022-02-20T16:50:10.425Z"
   },
   {
    "duration": 450,
    "start_time": "2022-02-20T16:54:25.237Z"
   },
   {
    "duration": 53,
    "start_time": "2022-02-20T16:56:54.408Z"
   },
   {
    "duration": 5,
    "start_time": "2022-02-20T16:58:24.446Z"
   },
   {
    "duration": 807,
    "start_time": "2022-02-20T16:59:32.536Z"
   },
   {
    "duration": 525,
    "start_time": "2022-02-20T16:59:59.645Z"
   },
   {
    "duration": 417,
    "start_time": "2022-02-20T17:00:45.389Z"
   },
   {
    "duration": 414,
    "start_time": "2022-02-20T17:00:52.591Z"
   },
   {
    "duration": 407,
    "start_time": "2022-02-20T17:00:57.573Z"
   },
   {
    "duration": 391,
    "start_time": "2022-02-20T17:01:01.875Z"
   },
   {
    "duration": 110,
    "start_time": "2022-02-20T17:04:23.963Z"
   },
   {
    "duration": 98,
    "start_time": "2022-02-20T17:04:29.655Z"
   },
   {
    "duration": 604,
    "start_time": "2022-02-20T17:04:32.108Z"
   },
   {
    "duration": 407,
    "start_time": "2022-02-20T17:04:39.769Z"
   },
   {
    "duration": 312,
    "start_time": "2022-02-20T17:04:55.717Z"
   },
   {
    "duration": 423,
    "start_time": "2022-02-20T17:05:27.500Z"
   },
   {
    "duration": 448,
    "start_time": "2022-02-20T17:06:36.137Z"
   },
   {
    "duration": 894,
    "start_time": "2022-02-20T17:08:04.285Z"
   },
   {
    "duration": 803,
    "start_time": "2022-02-20T17:08:20.664Z"
   },
   {
    "duration": 841,
    "start_time": "2022-02-20T17:08:51.986Z"
   },
   {
    "duration": 807,
    "start_time": "2022-02-20T17:10:09.578Z"
   },
   {
    "duration": 54,
    "start_time": "2022-02-20T17:12:25.360Z"
   },
   {
    "duration": 320,
    "start_time": "2022-02-20T17:12:31.027Z"
   },
   {
    "duration": 13,
    "start_time": "2022-02-20T17:12:34.413Z"
   },
   {
    "duration": 12,
    "start_time": "2022-02-20T17:12:41.185Z"
   },
   {
    "duration": 13,
    "start_time": "2022-02-20T17:12:49.946Z"
   },
   {
    "duration": 355,
    "start_time": "2022-02-20T17:12:59.903Z"
   },
   {
    "duration": 13,
    "start_time": "2022-02-20T17:13:05.592Z"
   },
   {
    "duration": 109,
    "start_time": "2022-02-20T17:14:04.318Z"
   },
   {
    "duration": 10,
    "start_time": "2022-02-20T17:14:06.224Z"
   },
   {
    "duration": 817,
    "start_time": "2022-02-20T17:15:15.678Z"
   },
   {
    "duration": 789,
    "start_time": "2022-02-20T17:15:35.823Z"
   },
   {
    "duration": 793,
    "start_time": "2022-02-20T17:16:31.624Z"
   },
   {
    "duration": 991,
    "start_time": "2022-02-20T17:17:36.018Z"
   },
   {
    "duration": 606,
    "start_time": "2022-02-20T17:20:17.779Z"
   },
   {
    "duration": 5,
    "start_time": "2022-02-20T17:31:00.078Z"
   },
   {
    "duration": 6,
    "start_time": "2022-02-20T17:31:10.149Z"
   },
   {
    "duration": 7,
    "start_time": "2022-02-20T17:31:46.393Z"
   },
   {
    "duration": 7,
    "start_time": "2022-02-20T17:32:12.577Z"
   },
   {
    "duration": 604,
    "start_time": "2022-02-20T17:32:35.218Z"
   },
   {
    "duration": 772,
    "start_time": "2022-02-20T17:44:38.967Z"
   },
   {
    "duration": 914,
    "start_time": "2022-02-20T17:44:48.311Z"
   },
   {
    "duration": 781,
    "start_time": "2022-02-20T17:44:53.052Z"
   },
   {
    "duration": 1568,
    "start_time": "2022-02-25T16:08:32.841Z"
   },
   {
    "duration": 20,
    "start_time": "2022-02-25T16:08:34.411Z"
   },
   {
    "duration": 7,
    "start_time": "2022-02-25T16:08:34.434Z"
   },
   {
    "duration": 19,
    "start_time": "2022-02-25T16:08:34.443Z"
   },
   {
    "duration": 10,
    "start_time": "2022-02-25T16:08:34.463Z"
   },
   {
    "duration": 40,
    "start_time": "2022-02-25T16:08:34.475Z"
   },
   {
    "duration": 11,
    "start_time": "2022-02-25T16:08:34.517Z"
   },
   {
    "duration": 8,
    "start_time": "2022-02-25T16:08:34.531Z"
   },
   {
    "duration": 10,
    "start_time": "2022-02-25T16:08:34.541Z"
   },
   {
    "duration": 8,
    "start_time": "2022-02-25T16:08:34.553Z"
   },
   {
    "duration": 11,
    "start_time": "2022-02-25T16:08:34.563Z"
   },
   {
    "duration": 56,
    "start_time": "2022-02-25T16:08:34.576Z"
   },
   {
    "duration": 241,
    "start_time": "2022-02-25T16:08:34.634Z"
   },
   {
    "duration": 15,
    "start_time": "2022-02-25T16:08:34.877Z"
   },
   {
    "duration": 246,
    "start_time": "2022-02-25T16:08:34.894Z"
   },
   {
    "duration": 127,
    "start_time": "2022-02-25T16:08:35.142Z"
   },
   {
    "duration": 54,
    "start_time": "2022-02-25T16:08:35.270Z"
   },
   {
    "duration": 53,
    "start_time": "2022-02-25T16:08:35.326Z"
   },
   {
    "duration": 6,
    "start_time": "2022-02-25T16:08:35.381Z"
   },
   {
    "duration": 53,
    "start_time": "2022-02-25T16:08:35.389Z"
   },
   {
    "duration": 219,
    "start_time": "2022-02-25T16:08:35.444Z"
   },
   {
    "duration": 22,
    "start_time": "2022-02-25T16:08:35.665Z"
   },
   {
    "duration": 808,
    "start_time": "2022-02-25T16:08:35.691Z"
   },
   {
    "duration": 625,
    "start_time": "2022-02-25T16:08:36.501Z"
   },
   {
    "duration": 513,
    "start_time": "2022-02-25T16:08:37.128Z"
   },
   {
    "duration": 553,
    "start_time": "2022-02-25T16:08:37.643Z"
   },
   {
    "duration": 547,
    "start_time": "2022-02-25T16:27:16.410Z"
   },
   {
    "duration": 552,
    "start_time": "2022-02-25T16:28:02.771Z"
   },
   {
    "duration": 6,
    "start_time": "2022-02-25T16:29:24.427Z"
   },
   {
    "duration": 5,
    "start_time": "2022-02-25T16:29:48.032Z"
   },
   {
    "duration": 4,
    "start_time": "2022-02-25T16:32:02.643Z"
   },
   {
    "duration": 5,
    "start_time": "2022-02-25T16:32:13.814Z"
   },
   {
    "duration": 6,
    "start_time": "2022-02-25T16:34:06.061Z"
   },
   {
    "duration": 5,
    "start_time": "2022-02-25T16:47:49.800Z"
   },
   {
    "duration": 6,
    "start_time": "2022-02-25T16:51:38.387Z"
   },
   {
    "duration": 6,
    "start_time": "2022-02-25T17:05:03.813Z"
   },
   {
    "duration": 9,
    "start_time": "2022-02-25T17:05:59.024Z"
   },
   {
    "duration": 18,
    "start_time": "2022-02-25T17:06:17.432Z"
   },
   {
    "duration": 24,
    "start_time": "2022-02-25T17:06:24.972Z"
   },
   {
    "duration": 24,
    "start_time": "2022-02-25T17:06:32.345Z"
   },
   {
    "duration": 32,
    "start_time": "2022-02-25T17:06:37.653Z"
   },
   {
    "duration": 11,
    "start_time": "2022-02-25T17:07:24.095Z"
   },
   {
    "duration": 6,
    "start_time": "2022-02-25T17:07:33.484Z"
   },
   {
    "duration": 6,
    "start_time": "2022-02-25T17:08:03.550Z"
   },
   {
    "duration": 5,
    "start_time": "2022-02-25T17:12:27.202Z"
   },
   {
    "duration": 4,
    "start_time": "2022-02-25T17:13:16.652Z"
   },
   {
    "duration": 4,
    "start_time": "2022-02-25T17:14:03.912Z"
   },
   {
    "duration": 1490,
    "start_time": "2022-03-06T12:28:10.951Z"
   },
   {
    "duration": 23,
    "start_time": "2022-03-06T12:28:12.443Z"
   },
   {
    "duration": 8,
    "start_time": "2022-03-06T12:28:12.469Z"
   },
   {
    "duration": 16,
    "start_time": "2022-03-06T12:28:12.480Z"
   },
   {
    "duration": 6,
    "start_time": "2022-03-06T12:28:12.498Z"
   },
   {
    "duration": 15,
    "start_time": "2022-03-06T12:28:12.505Z"
   },
   {
    "duration": 9,
    "start_time": "2022-03-06T12:28:12.521Z"
   },
   {
    "duration": 30,
    "start_time": "2022-03-06T12:28:12.533Z"
   },
   {
    "duration": 8,
    "start_time": "2022-03-06T12:28:12.565Z"
   },
   {
    "duration": 5,
    "start_time": "2022-03-06T12:28:12.575Z"
   },
   {
    "duration": 10,
    "start_time": "2022-03-06T12:28:12.582Z"
   },
   {
    "duration": 22,
    "start_time": "2022-03-06T12:28:12.594Z"
   },
   {
    "duration": 262,
    "start_time": "2022-03-06T12:28:12.617Z"
   },
   {
    "duration": 13,
    "start_time": "2022-03-06T12:28:12.881Z"
   },
   {
    "duration": 229,
    "start_time": "2022-03-06T12:28:12.896Z"
   },
   {
    "duration": 121,
    "start_time": "2022-03-06T12:28:13.126Z"
   },
   {
    "duration": 54,
    "start_time": "2022-03-06T12:28:13.249Z"
   },
   {
    "duration": 55,
    "start_time": "2022-03-06T12:28:13.305Z"
   },
   {
    "duration": 6,
    "start_time": "2022-03-06T12:28:13.362Z"
   },
   {
    "duration": 36,
    "start_time": "2022-03-06T12:28:13.370Z"
   },
   {
    "duration": 251,
    "start_time": "2022-03-06T12:28:13.408Z"
   },
   {
    "duration": 21,
    "start_time": "2022-03-06T12:28:13.660Z"
   },
   {
    "duration": 1160,
    "start_time": "2022-03-06T12:28:13.685Z"
   },
   {
    "duration": 567,
    "start_time": "2022-03-06T12:28:14.847Z"
   },
   {
    "duration": 546,
    "start_time": "2022-03-06T12:28:15.416Z"
   },
   {
    "duration": 501,
    "start_time": "2022-03-06T12:28:15.964Z"
   },
   {
    "duration": 4,
    "start_time": "2022-03-06T12:28:16.467Z"
   },
   {
    "duration": 6,
    "start_time": "2022-03-06T12:28:16.473Z"
   },
   {
    "duration": 11,
    "start_time": "2022-03-06T12:28:16.480Z"
   },
   {
    "duration": 5,
    "start_time": "2022-03-06T12:28:16.492Z"
   },
   {
    "duration": 23,
    "start_time": "2022-03-06T12:34:28.207Z"
   }
  ],
  "kernelspec": {
   "display_name": "Python 3 (ipykernel)",
   "language": "python",
   "name": "python3"
  },
  "language_info": {
   "codemirror_mode": {
    "name": "ipython",
    "version": 3
   },
   "file_extension": ".py",
   "mimetype": "text/x-python",
   "name": "python",
   "nbconvert_exporter": "python",
   "pygments_lexer": "ipython3",
   "version": "3.9.7"
  },
  "toc": {
   "base_numbering": 1,
   "nav_menu": {},
   "number_sections": true,
   "sideBar": true,
   "skip_h1_title": true,
   "title_cell": "Table of Contents",
   "title_sidebar": "Contents",
   "toc_cell": false,
   "toc_position": {
    "height": "calc(100% - 180px)",
    "left": "10px",
    "top": "150px",
    "width": "212.882px"
   },
   "toc_section_display": true,
   "toc_window_display": false
  }
 },
 "nbformat": 4,
 "nbformat_minor": 2
}
