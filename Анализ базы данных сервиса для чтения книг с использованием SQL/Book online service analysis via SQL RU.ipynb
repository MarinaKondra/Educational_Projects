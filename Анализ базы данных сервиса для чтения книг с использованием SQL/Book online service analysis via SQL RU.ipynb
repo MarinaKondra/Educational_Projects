{
 "cells": [
  {
   "cell_type": "markdown",
   "id": "b2439bc9",
   "metadata": {},
   "source": [
    "# Анализ базы данных сервиса для чтения книг\n",
    "\n",
    "Проанализированы данные о книгах, издательствах, авторах, а также пользовательские обзоры книг при помощи SQL-запросов."
   ]
  },
  {
   "cell_type": "markdown",
   "id": "b3da1baf",
   "metadata": {},
   "source": [
    "<a id='f_6'></a>\n",
    "1. [Ознакомление с данными](#f_1)\n",
    "2. [Выполнение SQL-запросов](#f_2)"
   ]
  },
  {
   "cell_type": "markdown",
   "id": "d36dd09f",
   "metadata": {},
   "source": [
    "### Стэк:"
   ]
  },
  {
   "cell_type": "code",
   "execution_count": 21,
   "id": "19128703",
   "metadata": {},
   "outputs": [],
   "source": [
    "import pandas as pd\n",
    "import sqlalchemy as sa"
   ]
  },
  {
   "cell_type": "markdown",
   "id": "991a3965",
   "metadata": {},
   "source": [
    "Установим доступ к базе данных."
   ]
  },
  {
   "cell_type": "code",
   "execution_count": 5,
   "id": "647a2e0b",
   "metadata": {},
   "outputs": [],
   "source": [
    "# устанавливаем параметры\n",
    "db_config = {\n",
    "'user': 'praktikum_student', # имя пользователя\n",
    "'pwd': 'Sdf4$2;d-d30pp', # пароль\n",
    "'host': 'rc1b-wcoijxj3yxfsf3fs.mdb.yandexcloud.net',\n",
    "'port': 6432, # порт подключения\n",
    "'db': 'data-analyst-final-project-db' # название базы данных\n",
    "}\n",
    "connection_string = 'postgresql://{user}:{pwd}@{host}:{port}/{db}'.format(**db_config)\n",
    "# сохраняем коннектор\n",
    "engine = sa.create_engine(connection_string, connect_args={'sslmode':'require'})\n",
    "# чтобы выполнить SQL-запрос, пишем функцию с использованием Pandas\n",
    "def get_sql_data(query:str, engine:sa.engine.base.Engine=engine) -> pd.DataFrame:\n",
    "    '''Открываем соединение, получаем данные из sql, закрываем соединение'''\n",
    "    with engine.connect() as con:\n",
    "        return pd.read_sql(sql=sa.text(query), con = con)"
   ]
  },
  {
   "cell_type": "markdown",
   "id": "0cd07976",
   "metadata": {},
   "source": [
    "<a id='f_1'></a>\n",
    "## Ознакомление с данными\n",
    "[К оглавлению](#f_6)"
   ]
  },
  {
   "cell_type": "markdown",
   "id": "fc48b594",
   "metadata": {},
   "source": [
    "Присвоим каждой таблице переменную и выведем по 5 строчек каждой таблице на экран. "
   ]
  },
  {
   "cell_type": "code",
   "execution_count": 6,
   "id": "1918c2ab",
   "metadata": {},
   "outputs": [
    {
     "data": {
      "text/html": [
       "<div>\n",
       "<style scoped>\n",
       "    .dataframe tbody tr th:only-of-type {\n",
       "        vertical-align: middle;\n",
       "    }\n",
       "\n",
       "    .dataframe tbody tr th {\n",
       "        vertical-align: top;\n",
       "    }\n",
       "\n",
       "    .dataframe thead th {\n",
       "        text-align: right;\n",
       "    }\n",
       "</style>\n",
       "<table border=\"1\" class=\"dataframe\">\n",
       "  <thead>\n",
       "    <tr style=\"text-align: right;\">\n",
       "      <th></th>\n",
       "      <th>book_id</th>\n",
       "      <th>author_id</th>\n",
       "      <th>title</th>\n",
       "      <th>num_pages</th>\n",
       "      <th>publication_date</th>\n",
       "      <th>publisher_id</th>\n",
       "    </tr>\n",
       "  </thead>\n",
       "  <tbody>\n",
       "    <tr>\n",
       "      <th>0</th>\n",
       "      <td>1</td>\n",
       "      <td>546</td>\n",
       "      <td>'Salem's Lot</td>\n",
       "      <td>594</td>\n",
       "      <td>2005-11-01</td>\n",
       "      <td>93</td>\n",
       "    </tr>\n",
       "    <tr>\n",
       "      <th>1</th>\n",
       "      <td>2</td>\n",
       "      <td>465</td>\n",
       "      <td>1 000 Places to See Before You Die</td>\n",
       "      <td>992</td>\n",
       "      <td>2003-05-22</td>\n",
       "      <td>336</td>\n",
       "    </tr>\n",
       "    <tr>\n",
       "      <th>2</th>\n",
       "      <td>3</td>\n",
       "      <td>407</td>\n",
       "      <td>13 Little Blue Envelopes (Little Blue Envelope...</td>\n",
       "      <td>322</td>\n",
       "      <td>2010-12-21</td>\n",
       "      <td>135</td>\n",
       "    </tr>\n",
       "    <tr>\n",
       "      <th>3</th>\n",
       "      <td>4</td>\n",
       "      <td>82</td>\n",
       "      <td>1491: New Revelations of the Americas Before C...</td>\n",
       "      <td>541</td>\n",
       "      <td>2006-10-10</td>\n",
       "      <td>309</td>\n",
       "    </tr>\n",
       "    <tr>\n",
       "      <th>4</th>\n",
       "      <td>5</td>\n",
       "      <td>125</td>\n",
       "      <td>1776</td>\n",
       "      <td>386</td>\n",
       "      <td>2006-07-04</td>\n",
       "      <td>268</td>\n",
       "    </tr>\n",
       "  </tbody>\n",
       "</table>\n",
       "</div>"
      ],
      "text/plain": [
       "   book_id  author_id                                              title  \\\n",
       "0        1        546                                       'Salem's Lot   \n",
       "1        2        465                 1 000 Places to See Before You Die   \n",
       "2        3        407  13 Little Blue Envelopes (Little Blue Envelope...   \n",
       "3        4         82  1491: New Revelations of the Americas Before C...   \n",
       "4        5        125                                               1776   \n",
       "\n",
       "   num_pages publication_date  publisher_id  \n",
       "0        594       2005-11-01            93  \n",
       "1        992       2003-05-22           336  \n",
       "2        322       2010-12-21           135  \n",
       "3        541       2006-10-10           309  \n",
       "4        386       2006-07-04           268  "
      ]
     },
     "execution_count": 6,
     "metadata": {},
     "output_type": "execute_result"
    }
   ],
   "source": [
    "# формируем запрос и выводим данные таблицы books\n",
    "books = '''SELECT * FROM books LIMIT 5'''\n",
    "get_sql_data(books)"
   ]
  },
  {
   "cell_type": "markdown",
   "id": "66f41b44",
   "metadata": {},
   "source": [
    "Таблица содержит данные о книгах. В таблице books мы видим 6 столбцов:\n",
    "- book_id — идентификатор книги;\n",
    "- author_id — идентификатор автора;\n",
    "- title — название книги;\n",
    "- num_pages — количество страниц;\n",
    "- publication_date — дата публикации книги;\n",
    "- publisher_id — идентификатор издателя.\n",
    "\n",
    "Далее,посчитаем количество строк в таблице."
   ]
  },
  {
   "cell_type": "code",
   "execution_count": 7,
   "id": "d98b8620",
   "metadata": {},
   "outputs": [
    {
     "data": {
      "text/html": [
       "<div>\n",
       "<style scoped>\n",
       "    .dataframe tbody tr th:only-of-type {\n",
       "        vertical-align: middle;\n",
       "    }\n",
       "\n",
       "    .dataframe tbody tr th {\n",
       "        vertical-align: top;\n",
       "    }\n",
       "\n",
       "    .dataframe thead th {\n",
       "        text-align: right;\n",
       "    }\n",
       "</style>\n",
       "<table border=\"1\" class=\"dataframe\">\n",
       "  <thead>\n",
       "    <tr style=\"text-align: right;\">\n",
       "      <th></th>\n",
       "      <th>count</th>\n",
       "    </tr>\n",
       "  </thead>\n",
       "  <tbody>\n",
       "    <tr>\n",
       "      <th>0</th>\n",
       "      <td>1000</td>\n",
       "    </tr>\n",
       "  </tbody>\n",
       "</table>\n",
       "</div>"
      ],
      "text/plain": [
       "   count\n",
       "0   1000"
      ]
     },
     "execution_count": 7,
     "metadata": {},
     "output_type": "execute_result"
    }
   ],
   "source": [
    "# формируем запрос и выводим количество строк в таблице books\n",
    "books_qnt = '''SELECT COUNT(*) FROM books '''\n",
    "get_sql_data(books_qnt)"
   ]
  },
  {
   "cell_type": "markdown",
   "id": "ef36f44b",
   "metadata": {},
   "source": [
    "В таблице 1000 книг. Далее изучим таблицу authors."
   ]
  },
  {
   "cell_type": "code",
   "execution_count": 8,
   "id": "e0e7db4e",
   "metadata": {},
   "outputs": [
    {
     "data": {
      "text/html": [
       "<div>\n",
       "<style scoped>\n",
       "    .dataframe tbody tr th:only-of-type {\n",
       "        vertical-align: middle;\n",
       "    }\n",
       "\n",
       "    .dataframe tbody tr th {\n",
       "        vertical-align: top;\n",
       "    }\n",
       "\n",
       "    .dataframe thead th {\n",
       "        text-align: right;\n",
       "    }\n",
       "</style>\n",
       "<table border=\"1\" class=\"dataframe\">\n",
       "  <thead>\n",
       "    <tr style=\"text-align: right;\">\n",
       "      <th></th>\n",
       "      <th>author_id</th>\n",
       "      <th>author</th>\n",
       "    </tr>\n",
       "  </thead>\n",
       "  <tbody>\n",
       "    <tr>\n",
       "      <th>0</th>\n",
       "      <td>1</td>\n",
       "      <td>A.S. Byatt</td>\n",
       "    </tr>\n",
       "    <tr>\n",
       "      <th>1</th>\n",
       "      <td>2</td>\n",
       "      <td>Aesop/Laura Harris/Laura Gibbs</td>\n",
       "    </tr>\n",
       "    <tr>\n",
       "      <th>2</th>\n",
       "      <td>3</td>\n",
       "      <td>Agatha Christie</td>\n",
       "    </tr>\n",
       "    <tr>\n",
       "      <th>3</th>\n",
       "      <td>4</td>\n",
       "      <td>Alan Brennert</td>\n",
       "    </tr>\n",
       "    <tr>\n",
       "      <th>4</th>\n",
       "      <td>5</td>\n",
       "      <td>Alan Moore/David   Lloyd</td>\n",
       "    </tr>\n",
       "  </tbody>\n",
       "</table>\n",
       "</div>"
      ],
      "text/plain": [
       "   author_id                          author\n",
       "0          1                      A.S. Byatt\n",
       "1          2  Aesop/Laura Harris/Laura Gibbs\n",
       "2          3                 Agatha Christie\n",
       "3          4                   Alan Brennert\n",
       "4          5        Alan Moore/David   Lloyd"
      ]
     },
     "execution_count": 8,
     "metadata": {},
     "output_type": "execute_result"
    }
   ],
   "source": [
    "# формируем запрос и выводим данные таблицы authors\n",
    "authors = '''SELECT * FROM authors LIMIT 5'''\n",
    "get_sql_data(authors)"
   ]
  },
  {
   "cell_type": "markdown",
   "id": "cda28c34",
   "metadata": {},
   "source": [
    "Таблица содержит данные об авторах. В таблице 2 столбца:\n",
    "\n",
    "- author_id — идентификатор автора;\n",
    "- author — имя автора.\n",
    "\n",
    "Далее,посчитаем количество строк в таблице."
   ]
  },
  {
   "cell_type": "code",
   "execution_count": 9,
   "id": "d34044a2",
   "metadata": {},
   "outputs": [
    {
     "data": {
      "text/html": [
       "<div>\n",
       "<style scoped>\n",
       "    .dataframe tbody tr th:only-of-type {\n",
       "        vertical-align: middle;\n",
       "    }\n",
       "\n",
       "    .dataframe tbody tr th {\n",
       "        vertical-align: top;\n",
       "    }\n",
       "\n",
       "    .dataframe thead th {\n",
       "        text-align: right;\n",
       "    }\n",
       "</style>\n",
       "<table border=\"1\" class=\"dataframe\">\n",
       "  <thead>\n",
       "    <tr style=\"text-align: right;\">\n",
       "      <th></th>\n",
       "      <th>count</th>\n",
       "    </tr>\n",
       "  </thead>\n",
       "  <tbody>\n",
       "    <tr>\n",
       "      <th>0</th>\n",
       "      <td>636</td>\n",
       "    </tr>\n",
       "  </tbody>\n",
       "</table>\n",
       "</div>"
      ],
      "text/plain": [
       "   count\n",
       "0    636"
      ]
     },
     "execution_count": 9,
     "metadata": {},
     "output_type": "execute_result"
    }
   ],
   "source": [
    "authors_qnt = '''SELECT count(*) FROM authors '''\n",
    "get_sql_data(authors_qnt)"
   ]
  },
  {
   "cell_type": "markdown",
   "id": "e01afd9c",
   "metadata": {},
   "source": [
    "Итак, у нас всего 636 авторов. Далее изучим таблицу publishers."
   ]
  },
  {
   "cell_type": "code",
   "execution_count": 10,
   "id": "051a8cf8",
   "metadata": {},
   "outputs": [
    {
     "data": {
      "text/html": [
       "<div>\n",
       "<style scoped>\n",
       "    .dataframe tbody tr th:only-of-type {\n",
       "        vertical-align: middle;\n",
       "    }\n",
       "\n",
       "    .dataframe tbody tr th {\n",
       "        vertical-align: top;\n",
       "    }\n",
       "\n",
       "    .dataframe thead th {\n",
       "        text-align: right;\n",
       "    }\n",
       "</style>\n",
       "<table border=\"1\" class=\"dataframe\">\n",
       "  <thead>\n",
       "    <tr style=\"text-align: right;\">\n",
       "      <th></th>\n",
       "      <th>publisher_id</th>\n",
       "      <th>publisher</th>\n",
       "    </tr>\n",
       "  </thead>\n",
       "  <tbody>\n",
       "    <tr>\n",
       "      <th>0</th>\n",
       "      <td>1</td>\n",
       "      <td>Ace</td>\n",
       "    </tr>\n",
       "    <tr>\n",
       "      <th>1</th>\n",
       "      <td>2</td>\n",
       "      <td>Ace Book</td>\n",
       "    </tr>\n",
       "    <tr>\n",
       "      <th>2</th>\n",
       "      <td>3</td>\n",
       "      <td>Ace Books</td>\n",
       "    </tr>\n",
       "    <tr>\n",
       "      <th>3</th>\n",
       "      <td>4</td>\n",
       "      <td>Ace Hardcover</td>\n",
       "    </tr>\n",
       "    <tr>\n",
       "      <th>4</th>\n",
       "      <td>5</td>\n",
       "      <td>Addison Wesley Publishing Company</td>\n",
       "    </tr>\n",
       "  </tbody>\n",
       "</table>\n",
       "</div>"
      ],
      "text/plain": [
       "   publisher_id                          publisher\n",
       "0             1                                Ace\n",
       "1             2                           Ace Book\n",
       "2             3                          Ace Books\n",
       "3             4                      Ace Hardcover\n",
       "4             5  Addison Wesley Publishing Company"
      ]
     },
     "execution_count": 10,
     "metadata": {},
     "output_type": "execute_result"
    }
   ],
   "source": [
    "# формируем запрос и выводим данные таблицы publishers\n",
    "publishers = '''SELECT * FROM publishers LIMIT 5'''\n",
    "get_sql_data(publishers)"
   ]
  },
  {
   "cell_type": "markdown",
   "id": "003abf3e",
   "metadata": {},
   "source": [
    "Таблица содержит данные об издательствах. В таблице 2 столбца:\n",
    "\n",
    "- publisher_id — идентификатор издательства;\n",
    "- publisher — название издательства.\n",
    "\n",
    "Далее,посчитаем количество строк в таблице."
   ]
  },
  {
   "cell_type": "code",
   "execution_count": 11,
   "id": "f43c1f01",
   "metadata": {},
   "outputs": [
    {
     "data": {
      "text/html": [
       "<div>\n",
       "<style scoped>\n",
       "    .dataframe tbody tr th:only-of-type {\n",
       "        vertical-align: middle;\n",
       "    }\n",
       "\n",
       "    .dataframe tbody tr th {\n",
       "        vertical-align: top;\n",
       "    }\n",
       "\n",
       "    .dataframe thead th {\n",
       "        text-align: right;\n",
       "    }\n",
       "</style>\n",
       "<table border=\"1\" class=\"dataframe\">\n",
       "  <thead>\n",
       "    <tr style=\"text-align: right;\">\n",
       "      <th></th>\n",
       "      <th>count</th>\n",
       "    </tr>\n",
       "  </thead>\n",
       "  <tbody>\n",
       "    <tr>\n",
       "      <th>0</th>\n",
       "      <td>340</td>\n",
       "    </tr>\n",
       "  </tbody>\n",
       "</table>\n",
       "</div>"
      ],
      "text/plain": [
       "   count\n",
       "0    340"
      ]
     },
     "execution_count": 11,
     "metadata": {},
     "output_type": "execute_result"
    }
   ],
   "source": [
    "publishers_qnt = '''SELECT count(*) FROM publishers '''\n",
    "get_sql_data(publishers_qnt)"
   ]
  },
  {
   "cell_type": "markdown",
   "id": "281a09bb",
   "metadata": {},
   "source": [
    "Всего в данных 340 издательств. Изучим данные о пользовательских оценках книг:"
   ]
  },
  {
   "cell_type": "code",
   "execution_count": 12,
   "id": "bf6ce798",
   "metadata": {},
   "outputs": [
    {
     "data": {
      "text/html": [
       "<div>\n",
       "<style scoped>\n",
       "    .dataframe tbody tr th:only-of-type {\n",
       "        vertical-align: middle;\n",
       "    }\n",
       "\n",
       "    .dataframe tbody tr th {\n",
       "        vertical-align: top;\n",
       "    }\n",
       "\n",
       "    .dataframe thead th {\n",
       "        text-align: right;\n",
       "    }\n",
       "</style>\n",
       "<table border=\"1\" class=\"dataframe\">\n",
       "  <thead>\n",
       "    <tr style=\"text-align: right;\">\n",
       "      <th></th>\n",
       "      <th>rating_id</th>\n",
       "      <th>book_id</th>\n",
       "      <th>username</th>\n",
       "      <th>rating</th>\n",
       "    </tr>\n",
       "  </thead>\n",
       "  <tbody>\n",
       "    <tr>\n",
       "      <th>0</th>\n",
       "      <td>1</td>\n",
       "      <td>1</td>\n",
       "      <td>ryanfranco</td>\n",
       "      <td>4</td>\n",
       "    </tr>\n",
       "    <tr>\n",
       "      <th>1</th>\n",
       "      <td>2</td>\n",
       "      <td>1</td>\n",
       "      <td>grantpatricia</td>\n",
       "      <td>2</td>\n",
       "    </tr>\n",
       "    <tr>\n",
       "      <th>2</th>\n",
       "      <td>3</td>\n",
       "      <td>1</td>\n",
       "      <td>brandtandrea</td>\n",
       "      <td>5</td>\n",
       "    </tr>\n",
       "    <tr>\n",
       "      <th>3</th>\n",
       "      <td>4</td>\n",
       "      <td>2</td>\n",
       "      <td>lorichen</td>\n",
       "      <td>3</td>\n",
       "    </tr>\n",
       "    <tr>\n",
       "      <th>4</th>\n",
       "      <td>5</td>\n",
       "      <td>2</td>\n",
       "      <td>mariokeller</td>\n",
       "      <td>2</td>\n",
       "    </tr>\n",
       "  </tbody>\n",
       "</table>\n",
       "</div>"
      ],
      "text/plain": [
       "   rating_id  book_id       username  rating\n",
       "0          1        1     ryanfranco       4\n",
       "1          2        1  grantpatricia       2\n",
       "2          3        1   brandtandrea       5\n",
       "3          4        2       lorichen       3\n",
       "4          5        2    mariokeller       2"
      ]
     },
     "execution_count": 12,
     "metadata": {},
     "output_type": "execute_result"
    }
   ],
   "source": [
    "# формируем запрос и выводим данные таблицы ratings\n",
    "ratings = '''SELECT * FROM ratings LIMIT 5'''\n",
    "get_sql_data(ratings)"
   ]
  },
  {
   "cell_type": "markdown",
   "id": "b8c1a369",
   "metadata": {},
   "source": [
    "Таблица содержит 4 столбца:\n",
    "\n",
    "- rating_id — идентификатор оценки;\n",
    "- book_id — идентификатор книги;\n",
    "- username — имя пользователя, оставившего оценку;\n",
    "- rating — оценка книги.\n",
    "\n",
    "Далее,посчитаем количество строк в таблице."
   ]
  },
  {
   "cell_type": "code",
   "execution_count": 13,
   "id": "94eb1074",
   "metadata": {},
   "outputs": [
    {
     "data": {
      "text/html": [
       "<div>\n",
       "<style scoped>\n",
       "    .dataframe tbody tr th:only-of-type {\n",
       "        vertical-align: middle;\n",
       "    }\n",
       "\n",
       "    .dataframe tbody tr th {\n",
       "        vertical-align: top;\n",
       "    }\n",
       "\n",
       "    .dataframe thead th {\n",
       "        text-align: right;\n",
       "    }\n",
       "</style>\n",
       "<table border=\"1\" class=\"dataframe\">\n",
       "  <thead>\n",
       "    <tr style=\"text-align: right;\">\n",
       "      <th></th>\n",
       "      <th>count</th>\n",
       "    </tr>\n",
       "  </thead>\n",
       "  <tbody>\n",
       "    <tr>\n",
       "      <th>0</th>\n",
       "      <td>6456</td>\n",
       "    </tr>\n",
       "  </tbody>\n",
       "</table>\n",
       "</div>"
      ],
      "text/plain": [
       "   count\n",
       "0   6456"
      ]
     },
     "execution_count": 13,
     "metadata": {},
     "output_type": "execute_result"
    }
   ],
   "source": [
    "ratings_qnt = '''SELECT count(*) FROM ratings '''\n",
    "get_sql_data(ratings_qnt)"
   ]
  },
  {
   "cell_type": "markdown",
   "id": "b46379bc",
   "metadata": {},
   "source": [
    "Всего у нас 6456 оценок.\n",
    "\n",
    "Далее изучим данные о пользовательских обзорах на книги:"
   ]
  },
  {
   "cell_type": "code",
   "execution_count": 14,
   "id": "88a1eb32",
   "metadata": {},
   "outputs": [
    {
     "data": {
      "text/html": [
       "<div>\n",
       "<style scoped>\n",
       "    .dataframe tbody tr th:only-of-type {\n",
       "        vertical-align: middle;\n",
       "    }\n",
       "\n",
       "    .dataframe tbody tr th {\n",
       "        vertical-align: top;\n",
       "    }\n",
       "\n",
       "    .dataframe thead th {\n",
       "        text-align: right;\n",
       "    }\n",
       "</style>\n",
       "<table border=\"1\" class=\"dataframe\">\n",
       "  <thead>\n",
       "    <tr style=\"text-align: right;\">\n",
       "      <th></th>\n",
       "      <th>review_id</th>\n",
       "      <th>book_id</th>\n",
       "      <th>username</th>\n",
       "      <th>text</th>\n",
       "    </tr>\n",
       "  </thead>\n",
       "  <tbody>\n",
       "    <tr>\n",
       "      <th>0</th>\n",
       "      <td>1</td>\n",
       "      <td>1</td>\n",
       "      <td>brandtandrea</td>\n",
       "      <td>Mention society tell send professor analysis. ...</td>\n",
       "    </tr>\n",
       "    <tr>\n",
       "      <th>1</th>\n",
       "      <td>2</td>\n",
       "      <td>1</td>\n",
       "      <td>ryanfranco</td>\n",
       "      <td>Foot glass pretty audience hit themselves. Amo...</td>\n",
       "    </tr>\n",
       "    <tr>\n",
       "      <th>2</th>\n",
       "      <td>3</td>\n",
       "      <td>2</td>\n",
       "      <td>lorichen</td>\n",
       "      <td>Listen treat keep worry. Miss husband tax but ...</td>\n",
       "    </tr>\n",
       "    <tr>\n",
       "      <th>3</th>\n",
       "      <td>4</td>\n",
       "      <td>3</td>\n",
       "      <td>johnsonamanda</td>\n",
       "      <td>Finally month interesting blue could nature cu...</td>\n",
       "    </tr>\n",
       "    <tr>\n",
       "      <th>4</th>\n",
       "      <td>5</td>\n",
       "      <td>3</td>\n",
       "      <td>scotttamara</td>\n",
       "      <td>Nation purpose heavy give wait song will. List...</td>\n",
       "    </tr>\n",
       "  </tbody>\n",
       "</table>\n",
       "</div>"
      ],
      "text/plain": [
       "   review_id  book_id       username  \\\n",
       "0          1        1   brandtandrea   \n",
       "1          2        1     ryanfranco   \n",
       "2          3        2       lorichen   \n",
       "3          4        3  johnsonamanda   \n",
       "4          5        3    scotttamara   \n",
       "\n",
       "                                                text  \n",
       "0  Mention society tell send professor analysis. ...  \n",
       "1  Foot glass pretty audience hit themselves. Amo...  \n",
       "2  Listen treat keep worry. Miss husband tax but ...  \n",
       "3  Finally month interesting blue could nature cu...  \n",
       "4  Nation purpose heavy give wait song will. List...  "
      ]
     },
     "execution_count": 14,
     "metadata": {},
     "output_type": "execute_result"
    }
   ],
   "source": [
    "# формируем запрос и выводим данные таблицы reviews\n",
    "reviews = '''SELECT * FROM reviews LIMIT 5'''\n",
    "get_sql_data(reviews)"
   ]
  },
  {
   "cell_type": "markdown",
   "id": "a11d6ea6",
   "metadata": {},
   "source": [
    "Таблица содержит 4 столбца:\n",
    "\n",
    "- review_id — идентификатор обзора;\n",
    "- book_id — идентификатор книги;\n",
    "- username — имя пользователя, написавшего обзор;\n",
    "- text — текст обзора.\n",
    "\n",
    "Далее,посчитаем количество строк в таблице."
   ]
  },
  {
   "cell_type": "code",
   "execution_count": 15,
   "id": "f1800b63",
   "metadata": {},
   "outputs": [
    {
     "data": {
      "text/html": [
       "<div>\n",
       "<style scoped>\n",
       "    .dataframe tbody tr th:only-of-type {\n",
       "        vertical-align: middle;\n",
       "    }\n",
       "\n",
       "    .dataframe tbody tr th {\n",
       "        vertical-align: top;\n",
       "    }\n",
       "\n",
       "    .dataframe thead th {\n",
       "        text-align: right;\n",
       "    }\n",
       "</style>\n",
       "<table border=\"1\" class=\"dataframe\">\n",
       "  <thead>\n",
       "    <tr style=\"text-align: right;\">\n",
       "      <th></th>\n",
       "      <th>count</th>\n",
       "    </tr>\n",
       "  </thead>\n",
       "  <tbody>\n",
       "    <tr>\n",
       "      <th>0</th>\n",
       "      <td>2793</td>\n",
       "    </tr>\n",
       "  </tbody>\n",
       "</table>\n",
       "</div>"
      ],
      "text/plain": [
       "   count\n",
       "0   2793"
      ]
     },
     "execution_count": 15,
     "metadata": {},
     "output_type": "execute_result"
    }
   ],
   "source": [
    "reviews_qnt = '''SELECT count(*) FROM reviews '''\n",
    "get_sql_data(reviews_qnt)"
   ]
  },
  {
   "cell_type": "markdown",
   "id": "91f2e272",
   "metadata": {},
   "source": [
    "Всего у нас 2793 обзора на книги.\n",
    "\n",
    "Приступим к выполнению заданий."
   ]
  },
  {
   "cell_type": "markdown",
   "id": "13ac6535",
   "metadata": {},
   "source": [
    "<a id='f_2'></a>\n",
    "## Выполнение SQL-запросов\n",
    "[К оглавлению](#f_6)"
   ]
  },
  {
   "cell_type": "markdown",
   "id": "94c5a144",
   "metadata": {},
   "source": [
    "### Расчет количества книг,вышедших после 1 января 2000 года."
   ]
  },
  {
   "cell_type": "code",
   "execution_count": 16,
   "id": "a9978700",
   "metadata": {},
   "outputs": [
    {
     "data": {
      "text/html": [
       "<div>\n",
       "<style scoped>\n",
       "    .dataframe tbody tr th:only-of-type {\n",
       "        vertical-align: middle;\n",
       "    }\n",
       "\n",
       "    .dataframe tbody tr th {\n",
       "        vertical-align: top;\n",
       "    }\n",
       "\n",
       "    .dataframe thead th {\n",
       "        text-align: right;\n",
       "    }\n",
       "</style>\n",
       "<table border=\"1\" class=\"dataframe\">\n",
       "  <thead>\n",
       "    <tr style=\"text-align: right;\">\n",
       "      <th></th>\n",
       "      <th>count</th>\n",
       "    </tr>\n",
       "  </thead>\n",
       "  <tbody>\n",
       "    <tr>\n",
       "      <th>0</th>\n",
       "      <td>819</td>\n",
       "    </tr>\n",
       "  </tbody>\n",
       "</table>\n",
       "</div>"
      ],
      "text/plain": [
       "   count\n",
       "0    819"
      ]
     },
     "execution_count": 16,
     "metadata": {},
     "output_type": "execute_result"
    }
   ],
   "source": [
    "query = '''SELECT count(distinct book_id) \n",
    "           FROM BOOKS \n",
    "           WHERE publication_date > '2000-01-01'\n",
    "           '''\n",
    "\n",
    "\n",
    "get_sql_data(query)"
   ]
  },
  {
   "cell_type": "markdown",
   "id": "fe89cd6e",
   "metadata": {},
   "source": [
    "Всего из тысячи книг, присутствующих в датасете, 819 были выпущены после 1 января 2000 года."
   ]
  },
  {
   "cell_type": "markdown",
   "id": "bbc04d90",
   "metadata": {},
   "source": [
    "### Расчет количества обзоров  и средней оценки для каждой книги."
   ]
  },
  {
   "cell_type": "code",
   "execution_count": 17,
   "id": "e68687b8",
   "metadata": {},
   "outputs": [
    {
     "data": {
      "text/html": [
       "<div>\n",
       "<style scoped>\n",
       "    .dataframe tbody tr th:only-of-type {\n",
       "        vertical-align: middle;\n",
       "    }\n",
       "\n",
       "    .dataframe tbody tr th {\n",
       "        vertical-align: top;\n",
       "    }\n",
       "\n",
       "    .dataframe thead th {\n",
       "        text-align: right;\n",
       "    }\n",
       "</style>\n",
       "<table border=\"1\" class=\"dataframe\">\n",
       "  <thead>\n",
       "    <tr style=\"text-align: right;\">\n",
       "      <th></th>\n",
       "      <th>book_id</th>\n",
       "      <th>title</th>\n",
       "      <th>rev_cnt</th>\n",
       "      <th>avg_rate</th>\n",
       "    </tr>\n",
       "  </thead>\n",
       "  <tbody>\n",
       "    <tr>\n",
       "      <th>0</th>\n",
       "      <td>948</td>\n",
       "      <td>Twilight (Twilight  #1)</td>\n",
       "      <td>7</td>\n",
       "      <td>3.66</td>\n",
       "    </tr>\n",
       "    <tr>\n",
       "      <th>1</th>\n",
       "      <td>750</td>\n",
       "      <td>The Hobbit  or There and Back Again</td>\n",
       "      <td>6</td>\n",
       "      <td>4.13</td>\n",
       "    </tr>\n",
       "    <tr>\n",
       "      <th>2</th>\n",
       "      <td>673</td>\n",
       "      <td>The Catcher in the Rye</td>\n",
       "      <td>6</td>\n",
       "      <td>3.83</td>\n",
       "    </tr>\n",
       "    <tr>\n",
       "      <th>3</th>\n",
       "      <td>302</td>\n",
       "      <td>Harry Potter and the Prisoner of Azkaban (Harr...</td>\n",
       "      <td>6</td>\n",
       "      <td>4.41</td>\n",
       "    </tr>\n",
       "    <tr>\n",
       "      <th>4</th>\n",
       "      <td>299</td>\n",
       "      <td>Harry Potter and the Chamber of Secrets (Harry...</td>\n",
       "      <td>6</td>\n",
       "      <td>4.29</td>\n",
       "    </tr>\n",
       "    <tr>\n",
       "      <th>...</th>\n",
       "      <td>...</td>\n",
       "      <td>...</td>\n",
       "      <td>...</td>\n",
       "      <td>...</td>\n",
       "    </tr>\n",
       "    <tr>\n",
       "      <th>995</th>\n",
       "      <td>221</td>\n",
       "      <td>Essential Tales and Poems</td>\n",
       "      <td>0</td>\n",
       "      <td>4.00</td>\n",
       "    </tr>\n",
       "    <tr>\n",
       "      <th>996</th>\n",
       "      <td>387</td>\n",
       "      <td>Leonardo's Notebooks</td>\n",
       "      <td>0</td>\n",
       "      <td>4.00</td>\n",
       "    </tr>\n",
       "    <tr>\n",
       "      <th>997</th>\n",
       "      <td>672</td>\n",
       "      <td>The Cat in the Hat and Other Dr. Seuss Favorites</td>\n",
       "      <td>0</td>\n",
       "      <td>5.00</td>\n",
       "    </tr>\n",
       "    <tr>\n",
       "      <th>998</th>\n",
       "      <td>83</td>\n",
       "      <td>Anne Rice's The Vampire Lestat: A Graphic Novel</td>\n",
       "      <td>0</td>\n",
       "      <td>3.67</td>\n",
       "    </tr>\n",
       "    <tr>\n",
       "      <th>999</th>\n",
       "      <td>808</td>\n",
       "      <td>The Natural Way to Draw</td>\n",
       "      <td>0</td>\n",
       "      <td>3.00</td>\n",
       "    </tr>\n",
       "  </tbody>\n",
       "</table>\n",
       "<p>1000 rows × 4 columns</p>\n",
       "</div>"
      ],
      "text/plain": [
       "     book_id                                              title  rev_cnt  \\\n",
       "0        948                            Twilight (Twilight  #1)        7   \n",
       "1        750                The Hobbit  or There and Back Again        6   \n",
       "2        673                             The Catcher in the Rye        6   \n",
       "3        302  Harry Potter and the Prisoner of Azkaban (Harr...        6   \n",
       "4        299  Harry Potter and the Chamber of Secrets (Harry...        6   \n",
       "..       ...                                                ...      ...   \n",
       "995      221                          Essential Tales and Poems        0   \n",
       "996      387                               Leonardo's Notebooks        0   \n",
       "997      672   The Cat in the Hat and Other Dr. Seuss Favorites        0   \n",
       "998       83    Anne Rice's The Vampire Lestat: A Graphic Novel        0   \n",
       "999      808                            The Natural Way to Draw        0   \n",
       "\n",
       "     avg_rate  \n",
       "0        3.66  \n",
       "1        4.13  \n",
       "2        3.83  \n",
       "3        4.41  \n",
       "4        4.29  \n",
       "..        ...  \n",
       "995      4.00  \n",
       "996      4.00  \n",
       "997      5.00  \n",
       "998      3.67  \n",
       "999      3.00  \n",
       "\n",
       "[1000 rows x 4 columns]"
      ]
     },
     "execution_count": 17,
     "metadata": {},
     "output_type": "execute_result"
    }
   ],
   "source": [
    "query = '''SELECT  b.book_id, b.title, COUNT(DISTINCT rew.review_id)as rev_cnt, ROUND(AVG(rat.rating),2) as avg_rate \n",
    "           FROM BOOKS b\n",
    "           LEFT JOIN reviews rew on b.book_id=rew.book_id\n",
    "           LEFT JOIN ratings rat on b.book_id=rat.book_id\n",
    "           GROUP BY b.book_id\n",
    "           ORDER BY COUNT(rew.review_id) DESC\n",
    "            '''\n",
    "\n",
    "\n",
    "get_sql_data(query)"
   ]
  },
  {
   "cell_type": "markdown",
   "id": "8c073e63",
   "metadata": {},
   "source": [
    "Мы рассчитали количество обзоров и средней оценки для каждой книги. Из полученной таблицы видно, что самая обозреваемая книга \"Twilight (Twilight #1)\" (7 обзоров). На втором месте книга \"The Hobbit or There and Back Again\" (6 обзоров)."
   ]
  },
  {
   "cell_type": "markdown",
   "id": "3539693b",
   "metadata": {},
   "source": [
    "### Определение издательства, которое выпустило наибольшее число книг толще 50 страниц"
   ]
  },
  {
   "cell_type": "code",
   "execution_count": 18,
   "id": "b42e1a69",
   "metadata": {},
   "outputs": [
    {
     "data": {
      "text/html": [
       "<div>\n",
       "<style scoped>\n",
       "    .dataframe tbody tr th:only-of-type {\n",
       "        vertical-align: middle;\n",
       "    }\n",
       "\n",
       "    .dataframe tbody tr th {\n",
       "        vertical-align: top;\n",
       "    }\n",
       "\n",
       "    .dataframe thead th {\n",
       "        text-align: right;\n",
       "    }\n",
       "</style>\n",
       "<table border=\"1\" class=\"dataframe\">\n",
       "  <thead>\n",
       "    <tr style=\"text-align: right;\">\n",
       "      <th></th>\n",
       "      <th>publisher</th>\n",
       "      <th>book_cnt</th>\n",
       "    </tr>\n",
       "  </thead>\n",
       "  <tbody>\n",
       "    <tr>\n",
       "      <th>0</th>\n",
       "      <td>Penguin Books</td>\n",
       "      <td>42</td>\n",
       "    </tr>\n",
       "  </tbody>\n",
       "</table>\n",
       "</div>"
      ],
      "text/plain": [
       "       publisher  book_cnt\n",
       "0  Penguin Books        42"
      ]
     },
     "execution_count": 18,
     "metadata": {},
     "output_type": "execute_result"
    }
   ],
   "source": [
    "query = '''SELECT  p.publisher, COUNT(b.book_id) as book_cnt \n",
    "           FROM BOOKS b\n",
    "           LEFT JOIN publishers p on b.publisher_id=p.publisher_id\n",
    "           WHERE b.num_pages>50\n",
    "           GROUP BY p.publisher\n",
    "           ORDER BY COUNT(b.book_id) DESC\n",
    "           LIMIT 1\n",
    "            '''\n",
    "\n",
    "\n",
    "get_sql_data(query)"
   ]
  },
  {
   "cell_type": "markdown",
   "id": "2d3d8752",
   "metadata": {},
   "source": [
    "С помощью sql-запроса мы определили издательство, которое выпустило наибольшее количество книг - \"Penguin Books\". Всего они выпустили 42 книги."
   ]
  },
  {
   "cell_type": "markdown",
   "id": "4fc8af8e",
   "metadata": {},
   "source": [
    "### Определение автора с самой высокой средней оценкой книг с учетом книг, имеющих 50 и более оценок"
   ]
  },
  {
   "cell_type": "code",
   "execution_count": 19,
   "id": "e732232e",
   "metadata": {},
   "outputs": [
    {
     "data": {
      "text/html": [
       "<div>\n",
       "<style scoped>\n",
       "    .dataframe tbody tr th:only-of-type {\n",
       "        vertical-align: middle;\n",
       "    }\n",
       "\n",
       "    .dataframe tbody tr th {\n",
       "        vertical-align: top;\n",
       "    }\n",
       "\n",
       "    .dataframe thead th {\n",
       "        text-align: right;\n",
       "    }\n",
       "</style>\n",
       "<table border=\"1\" class=\"dataframe\">\n",
       "  <thead>\n",
       "    <tr style=\"text-align: right;\">\n",
       "      <th></th>\n",
       "      <th>author</th>\n",
       "      <th>round</th>\n",
       "    </tr>\n",
       "  </thead>\n",
       "  <tbody>\n",
       "    <tr>\n",
       "      <th>0</th>\n",
       "      <td>J.K. Rowling/Mary GrandPré</td>\n",
       "      <td>4.2871</td>\n",
       "    </tr>\n",
       "  </tbody>\n",
       "</table>\n",
       "</div>"
      ],
      "text/plain": [
       "                       author   round\n",
       "0  J.K. Rowling/Mary GrandPré  4.2871"
      ]
     },
     "execution_count": 19,
     "metadata": {},
     "output_type": "execute_result"
    }
   ],
   "source": [
    "query = '''WITH ratings_fifty AS(SELECT *\n",
    "                                 FROM (SELECT rat.book_id, b.author_id, \n",
    "                                       COUNT(rat.rating_id) as cnt_rat \n",
    "                                       \n",
    "                                       FROM ratings rat\n",
    "                                       JOIN books b on b.book_id=rat.book_id\n",
    "                                       GROUP BY rat.book_id, b.author_id) as ratings_count\n",
    "                                 WHERE cnt_rat>=50 )     \n",
    "           SELECT author, ROUND(AVG(rating),4)\n",
    "           FROM ratings_fifty r\n",
    "           JOIN ratings rat on r.book_id=rat.book_id\n",
    "           JOIN authors a on a.author_id=r.author_id \n",
    "           GROUP BY author\n",
    "           ORDER BY AVG(rating) DESC\n",
    "           LIMIT 1\n",
    "\n",
    "\n",
    "            '''\n",
    "get_sql_data(query)"
   ]
  },
  {
   "cell_type": "markdown",
   "id": "02d9613c",
   "metadata": {},
   "source": [
    "С помощью sql-запроса мы определили авторов с самой высокой средней оценкой книг с учетом книг, имеющих 50 и более оценок - J.K. Rowlin и Mary GrandPré. Их средняя оценка 4,29."
   ]
  },
  {
   "cell_type": "markdown",
   "id": "747e389c",
   "metadata": {},
   "source": [
    "###  Расчет среднего количества обзоров от пользователей, поставивших больше 48 оценок."
   ]
  },
  {
   "cell_type": "code",
   "execution_count": 20,
   "id": "b59b02e6",
   "metadata": {},
   "outputs": [
    {
     "data": {
      "text/html": [
       "<div>\n",
       "<style scoped>\n",
       "    .dataframe tbody tr th:only-of-type {\n",
       "        vertical-align: middle;\n",
       "    }\n",
       "\n",
       "    .dataframe tbody tr th {\n",
       "        vertical-align: top;\n",
       "    }\n",
       "\n",
       "    .dataframe thead th {\n",
       "        text-align: right;\n",
       "    }\n",
       "</style>\n",
       "<table border=\"1\" class=\"dataframe\">\n",
       "  <thead>\n",
       "    <tr style=\"text-align: right;\">\n",
       "      <th></th>\n",
       "      <th>round</th>\n",
       "    </tr>\n",
       "  </thead>\n",
       "  <tbody>\n",
       "    <tr>\n",
       "      <th>0</th>\n",
       "      <td>24.0</td>\n",
       "    </tr>\n",
       "  </tbody>\n",
       "</table>\n",
       "</div>"
      ],
      "text/plain": [
       "   round\n",
       "0   24.0"
      ]
     },
     "execution_count": 20,
     "metadata": {},
     "output_type": "execute_result"
    }
   ],
   "source": [
    "query = '''WITH users AS (SELECT  rat.username, \n",
    "                            COUNT(rat.rating_id) as cnt_rate, \n",
    "                            COUNT(rew.review_id) OVER (PARTITION BY rat.username) as cnt_rev\n",
    "\n",
    "                           FROM ratings rat\n",
    "                           LEFT JOIN reviews rew on rat.username = rew.username\n",
    "                           GROUP BY rat.username, rew.review_id\n",
    "                           HAVING COUNT(rat.rating_id) >48           \n",
    "                           ---ORDER BY COUNT(rating_id) DESC\n",
    "                           )\n",
    "           SELECT ROUND(AVG(cnt_rev))\n",
    "        \n",
    "           FROM users \n",
    "           \n",
    "           \n",
    "            '''\n",
    "\n",
    "\n",
    "get_sql_data(query)"
   ]
  },
  {
   "cell_type": "markdown",
   "id": "e3ebe708",
   "metadata": {},
   "source": [
    "В среднем на каждого пользователя, поставившего более 48 оценок, приходится 24 обзора."
   ]
  }
 ],
 "metadata": {
  "ExecuteTimeLog": [
   {
    "duration": 556,
    "start_time": "2023-09-16T03:55:15.269Z"
   },
   {
    "duration": 10865,
    "start_time": "2023-09-16T03:55:15.827Z"
   },
   {
    "duration": 236,
    "start_time": "2023-09-16T03:55:26.694Z"
   },
   {
    "duration": 52,
    "start_time": "2023-09-16T03:55:26.932Z"
   },
   {
    "duration": 52,
    "start_time": "2023-09-16T03:55:26.985Z"
   },
   {
    "duration": 68,
    "start_time": "2023-09-16T03:55:27.039Z"
   },
   {
    "duration": 53,
    "start_time": "2023-09-16T03:55:27.109Z"
   },
   {
    "duration": 50,
    "start_time": "2023-09-16T03:55:27.163Z"
   },
   {
    "duration": 56,
    "start_time": "2023-09-16T03:55:27.215Z"
   },
   {
    "duration": 51,
    "start_time": "2023-09-16T03:55:27.274Z"
   },
   {
    "duration": 52,
    "start_time": "2023-09-16T03:55:27.327Z"
   },
   {
    "duration": 51,
    "start_time": "2023-09-16T03:55:27.381Z"
   },
   {
    "duration": 51,
    "start_time": "2023-09-16T03:55:27.434Z"
   },
   {
    "duration": 90,
    "start_time": "2023-09-16T03:55:27.487Z"
   },
   {
    "duration": 53,
    "start_time": "2023-09-16T03:55:27.579Z"
   },
   {
    "duration": 59,
    "start_time": "2023-09-16T03:55:27.633Z"
   },
   {
    "duration": 166,
    "start_time": "2023-09-16T03:55:27.694Z"
   },
   {
    "duration": 55,
    "start_time": "2023-09-16T03:59:57.890Z"
   },
   {
    "duration": 54,
    "start_time": "2023-09-16T04:00:01.460Z"
   },
   {
    "duration": 55,
    "start_time": "2023-09-16T04:00:05.771Z"
   },
   {
    "duration": 502,
    "start_time": "2023-09-16T08:59:06.546Z"
   },
   {
    "duration": 12220,
    "start_time": "2023-09-16T08:59:07.050Z"
   },
   {
    "duration": 222,
    "start_time": "2023-09-16T08:59:19.271Z"
   },
   {
    "duration": 48,
    "start_time": "2023-09-16T08:59:19.494Z"
   },
   {
    "duration": 48,
    "start_time": "2023-09-16T08:59:19.544Z"
   },
   {
    "duration": 48,
    "start_time": "2023-09-16T08:59:19.594Z"
   },
   {
    "duration": 48,
    "start_time": "2023-09-16T08:59:19.644Z"
   },
   {
    "duration": 48,
    "start_time": "2023-09-16T08:59:19.694Z"
   },
   {
    "duration": 50,
    "start_time": "2023-09-16T08:59:19.744Z"
   },
   {
    "duration": 49,
    "start_time": "2023-09-16T08:59:19.796Z"
   },
   {
    "duration": 50,
    "start_time": "2023-09-16T08:59:19.847Z"
   },
   {
    "duration": 48,
    "start_time": "2023-09-16T08:59:19.899Z"
   },
   {
    "duration": 48,
    "start_time": "2023-09-16T08:59:19.948Z"
   },
   {
    "duration": 93,
    "start_time": "2023-09-16T08:59:19.998Z"
   },
   {
    "duration": 49,
    "start_time": "2023-09-16T08:59:20.093Z"
   },
   {
    "duration": 54,
    "start_time": "2023-09-16T08:59:20.143Z"
   },
   {
    "duration": 161,
    "start_time": "2023-09-16T08:59:20.198Z"
   },
   {
    "duration": 169,
    "start_time": "2023-09-16T09:01:15.035Z"
   },
   {
    "duration": 176,
    "start_time": "2023-09-16T09:02:29.265Z"
   },
   {
    "duration": 127,
    "start_time": "2023-09-16T09:12:32.362Z"
   },
   {
    "duration": 59,
    "start_time": "2023-09-16T09:13:08.545Z"
   },
   {
    "duration": 60,
    "start_time": "2023-09-16T09:13:22.429Z"
   },
   {
    "duration": 61,
    "start_time": "2023-09-16T09:13:41.531Z"
   },
   {
    "duration": 59,
    "start_time": "2023-09-16T09:15:09.786Z"
   },
   {
    "duration": 122,
    "start_time": "2023-09-16T09:15:17.002Z"
   },
   {
    "duration": 58,
    "start_time": "2023-09-16T09:15:37.568Z"
   },
   {
    "duration": 98,
    "start_time": "2023-09-16T09:15:47.422Z"
   },
   {
    "duration": 63,
    "start_time": "2023-09-16T09:16:16.238Z"
   },
   {
    "duration": 66,
    "start_time": "2023-09-16T09:16:35.844Z"
   },
   {
    "duration": 50,
    "start_time": "2023-09-16T09:17:03.937Z"
   },
   {
    "duration": 51,
    "start_time": "2023-09-16T09:17:19.153Z"
   },
   {
    "duration": 52,
    "start_time": "2023-09-16T09:18:10.369Z"
   },
   {
    "duration": 51,
    "start_time": "2023-09-16T09:18:29.385Z"
   },
   {
    "duration": 51,
    "start_time": "2023-09-16T09:18:29.591Z"
   },
   {
    "duration": 53,
    "start_time": "2023-09-16T09:18:41.301Z"
   },
   {
    "duration": 59,
    "start_time": "2023-09-16T09:20:13.508Z"
   },
   {
    "duration": 72,
    "start_time": "2023-09-16T09:20:26.381Z"
   },
   {
    "duration": 72,
    "start_time": "2023-09-16T09:20:41.536Z"
   },
   {
    "duration": 84,
    "start_time": "2023-09-16T09:23:33.700Z"
   },
   {
    "duration": 59,
    "start_time": "2023-09-16T09:23:50.418Z"
   },
   {
    "duration": 83,
    "start_time": "2023-09-16T09:23:54.497Z"
   },
   {
    "duration": 87,
    "start_time": "2023-09-16T09:24:27.409Z"
   },
   {
    "duration": 86,
    "start_time": "2023-09-16T09:24:37.090Z"
   },
   {
    "duration": 85,
    "start_time": "2023-09-16T09:24:41.485Z"
   },
   {
    "duration": 104,
    "start_time": "2023-09-16T09:32:29.628Z"
   },
   {
    "duration": 63,
    "start_time": "2023-09-16T09:33:44.862Z"
   },
   {
    "duration": 59,
    "start_time": "2023-09-16T09:34:07.996Z"
   },
   {
    "duration": 59,
    "start_time": "2023-09-16T09:34:20.333Z"
   },
   {
    "duration": 58,
    "start_time": "2023-09-16T09:34:34.957Z"
   },
   {
    "duration": 52,
    "start_time": "2023-09-16T09:34:53.932Z"
   },
   {
    "duration": 59,
    "start_time": "2023-09-16T09:35:57.827Z"
   },
   {
    "duration": 123,
    "start_time": "2023-09-16T09:36:12.904Z"
   },
   {
    "duration": 58,
    "start_time": "2023-09-16T09:36:32.696Z"
   },
   {
    "duration": 62,
    "start_time": "2023-09-16T09:36:37.933Z"
   },
   {
    "duration": 91,
    "start_time": "2023-09-16T09:36:49.134Z"
   },
   {
    "duration": 51,
    "start_time": "2023-09-16T09:39:59.480Z"
   },
   {
    "duration": 59,
    "start_time": "2023-09-16T09:44:53.599Z"
   },
   {
    "duration": 55,
    "start_time": "2023-09-16T09:45:10.082Z"
   },
   {
    "duration": 60,
    "start_time": "2023-09-16T09:48:15.116Z"
   },
   {
    "duration": 67,
    "start_time": "2023-09-16T09:49:00.956Z"
   },
   {
    "duration": 52,
    "start_time": "2023-09-16T09:49:24.202Z"
   },
   {
    "duration": 58,
    "start_time": "2023-09-16T09:52:21.359Z"
   },
   {
    "duration": 59,
    "start_time": "2023-09-16T09:52:43.863Z"
   },
   {
    "duration": 60,
    "start_time": "2023-09-16T09:55:25.677Z"
   },
   {
    "duration": 59,
    "start_time": "2023-09-16T09:55:39.568Z"
   },
   {
    "duration": 60,
    "start_time": "2023-09-16T09:55:53.767Z"
   },
   {
    "duration": 55,
    "start_time": "2023-09-16T09:56:01.237Z"
   },
   {
    "duration": 61,
    "start_time": "2023-09-16T09:57:19.044Z"
   },
   {
    "duration": 54,
    "start_time": "2023-09-16T09:57:33.315Z"
   },
   {
    "duration": 56,
    "start_time": "2023-09-16T09:57:45.728Z"
   },
   {
    "duration": 55,
    "start_time": "2023-09-16T09:57:52.479Z"
   },
   {
    "duration": 61,
    "start_time": "2023-09-16T09:58:18.567Z"
   },
   {
    "duration": 56,
    "start_time": "2023-09-16T09:58:23.767Z"
   },
   {
    "duration": 55,
    "start_time": "2023-09-16T10:00:18.003Z"
   },
   {
    "duration": 56,
    "start_time": "2023-09-16T10:03:14.947Z"
   },
   {
    "duration": 56,
    "start_time": "2023-09-16T10:05:20.939Z"
   },
   {
    "duration": 88,
    "start_time": "2023-09-16T10:06:29.397Z"
   },
   {
    "duration": 100,
    "start_time": "2023-09-16T10:06:59.483Z"
   },
   {
    "duration": 55,
    "start_time": "2023-09-16T10:07:37.516Z"
   },
   {
    "duration": 56,
    "start_time": "2023-09-16T10:08:14.718Z"
   },
   {
    "duration": 55,
    "start_time": "2023-09-16T10:08:25.142Z"
   },
   {
    "duration": 148,
    "start_time": "2023-09-16T10:10:29.814Z"
   },
   {
    "duration": 56,
    "start_time": "2023-09-16T10:11:07.195Z"
   },
   {
    "duration": 53,
    "start_time": "2023-09-16T10:11:07.409Z"
   },
   {
    "duration": 1447,
    "start_time": "2023-09-16T18:24:49.764Z"
   },
   {
    "duration": 9738,
    "start_time": "2023-09-16T18:24:51.213Z"
   },
   {
    "duration": 300,
    "start_time": "2023-09-16T18:25:00.952Z"
   },
   {
    "duration": 49,
    "start_time": "2023-09-16T18:25:01.254Z"
   },
   {
    "duration": 49,
    "start_time": "2023-09-16T18:25:01.304Z"
   },
   {
    "duration": 48,
    "start_time": "2023-09-16T18:25:01.355Z"
   },
   {
    "duration": 50,
    "start_time": "2023-09-16T18:25:01.404Z"
   },
   {
    "duration": 185,
    "start_time": "2023-09-16T18:25:01.455Z"
   },
   {
    "duration": 88,
    "start_time": "2023-09-16T18:25:01.642Z"
   },
   {
    "duration": 83,
    "start_time": "2023-09-16T18:25:01.732Z"
   },
   {
    "duration": 53,
    "start_time": "2023-09-16T18:25:01.817Z"
   },
   {
    "duration": 60,
    "start_time": "2023-09-16T18:25:01.872Z"
   },
   {
    "duration": 145,
    "start_time": "2023-09-16T18:25:01.934Z"
   },
   {
    "duration": 87,
    "start_time": "2023-09-16T18:25:02.081Z"
   },
   {
    "duration": 50,
    "start_time": "2023-09-16T18:25:02.170Z"
   },
   {
    "duration": 101,
    "start_time": "2023-09-16T18:25:02.222Z"
   },
   {
    "duration": 78,
    "start_time": "2023-09-16T18:25:02.325Z"
   },
   {
    "duration": 170,
    "start_time": "2023-09-16T18:25:02.405Z"
   }
  ],
  "kernelspec": {
   "display_name": "Python 3 (ipykernel)",
   "language": "python",
   "name": "python3"
  },
  "language_info": {
   "codemirror_mode": {
    "name": "ipython",
    "version": 3
   },
   "file_extension": ".py",
   "mimetype": "text/x-python",
   "name": "python",
   "nbconvert_exporter": "python",
   "pygments_lexer": "ipython3",
   "version": "3.9.7"
  },
  "toc": {
   "base_numbering": 1,
   "nav_menu": {},
   "number_sections": true,
   "sideBar": true,
   "skip_h1_title": true,
   "title_cell": "Table of Contents",
   "title_sidebar": "Contents",
   "toc_cell": false,
   "toc_position": {},
   "toc_section_display": true,
   "toc_window_display": false
  }
 },
 "nbformat": 4,
 "nbformat_minor": 5
}
