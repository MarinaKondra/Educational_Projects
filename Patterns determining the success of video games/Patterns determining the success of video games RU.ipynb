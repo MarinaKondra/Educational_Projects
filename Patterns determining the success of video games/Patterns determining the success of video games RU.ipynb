{
 "cells": [
  {
   "cell_type": "markdown",
   "metadata": {},
   "source": [
    "#  Определение закономерностей успешных компьютерных игр\n",
    "\n",
    "В нашем распоряжении данные интернет-магазина «Стримчик» — архив данных о продажах игр, оценки пользователей и экспертов, жанры и платформы за несколько лет. \n",
    "\n",
    "**Цель исследования** - определить закономерность определяющую успешность игр и установить параметры, влияющие на эту закономерность. Это позволит  сделать ставку на потенциально популярный продукт и планировать рекламные кампании. \n",
    "\n",
    "**Задачи исследования** - для выполнения поставленной цели мы проверим данные на ошибки и оценим их влияние на исследование. Затем, на этапе предобработки мы поищем возможность исправить самые критичные ошибки данных. Далее мы определим актуальный период и проанализируем параметры, которые могут влиять на успешность той или иной игровой платформы или компьютерной игры. Также, нам нужно будет составить потрет пользователя каждого региона и проверить следующие гипотезы:\n",
    "\n",
    "1. Средние пользовательские рейтинги платформ Xbox One и PC одинаковые.\n",
    "2. Средние пользовательские рейтинги жанров Action (англ. «действие», экшен-игры) и Sports (англ. «спортивные соревнования») разные.\n",
    "\n",
    "**Исходные данные:** данные о продаже игр мы получили из файла `/datasets/games.csv`. В датасете доступны исторические данные о продажах игр, оценки пользователей и экспертов, жанры и платформы. В наборе данных попадается аббревиатура ESRB (Entertainment Software Rating Board) — это ассоциация, определяющая возрастной рейтинг компьютерных игр.\n",
    "\n",
    "Таким образом, исследование пройдёт в четыре этапа:\n",
    " 1. Обзор данных.\n",
    " 2. Предобработка данных.\n",
    " 3. Анализ и описание данных.\n",
    " 4. Проверка гипотез."
   ]
  },
  {
   "cell_type": "markdown",
   "metadata": {},
   "source": [
    "## Изучение общей информации"
   ]
  },
  {
   "cell_type": "markdown",
   "metadata": {},
   "source": [
    "Составим первое представление о данных. Импортируем библиотеку pandas и остальные библиотеки для проведения анализа, сохраним файлы в переменные `df` и выведем первые 5 строк таблицы методом `.head`"
   ]
  },
  {
   "cell_type": "code",
   "execution_count": 46,
   "metadata": {},
   "outputs": [],
   "source": [
    "import warnings\n",
    "warnings.filterwarnings('ignore')# отключим всплывающие предупреждения"
   ]
  },
  {
   "cell_type": "code",
   "execution_count": 47,
   "metadata": {},
   "outputs": [],
   "source": [
    "import pandas as pd\n",
    "import math \n",
    "from scipy import stats as st\n",
    "import matplotlib.pyplot as plt\n",
    "import matplotlib.ticker as ticker\n",
    "import seaborn as sns\n",
    "import numpy as np #импортируем библиотеку numpy\n",
    "from math import ceil\n"
   ]
  },
  {
   "cell_type": "code",
   "execution_count": 48,
   "metadata": {},
   "outputs": [
    {
     "data": {
      "text/html": [
       "<div>\n",
       "<style scoped>\n",
       "    .dataframe tbody tr th:only-of-type {\n",
       "        vertical-align: middle;\n",
       "    }\n",
       "\n",
       "    .dataframe tbody tr th {\n",
       "        vertical-align: top;\n",
       "    }\n",
       "\n",
       "    .dataframe thead th {\n",
       "        text-align: right;\n",
       "    }\n",
       "</style>\n",
       "<table border=\"1\" class=\"dataframe\">\n",
       "  <thead>\n",
       "    <tr style=\"text-align: right;\">\n",
       "      <th></th>\n",
       "      <th>Name</th>\n",
       "      <th>Platform</th>\n",
       "      <th>Year_of_Release</th>\n",
       "      <th>Genre</th>\n",
       "      <th>NA_sales</th>\n",
       "      <th>EU_sales</th>\n",
       "      <th>JP_sales</th>\n",
       "      <th>Other_sales</th>\n",
       "      <th>Critic_Score</th>\n",
       "      <th>User_Score</th>\n",
       "      <th>Rating</th>\n",
       "    </tr>\n",
       "  </thead>\n",
       "  <tbody>\n",
       "    <tr>\n",
       "      <th>0</th>\n",
       "      <td>Wii Sports</td>\n",
       "      <td>Wii</td>\n",
       "      <td>2006.0</td>\n",
       "      <td>Sports</td>\n",
       "      <td>41.36</td>\n",
       "      <td>28.96</td>\n",
       "      <td>3.77</td>\n",
       "      <td>8.45</td>\n",
       "      <td>76.0</td>\n",
       "      <td>8</td>\n",
       "      <td>E</td>\n",
       "    </tr>\n",
       "    <tr>\n",
       "      <th>1</th>\n",
       "      <td>Super Mario Bros.</td>\n",
       "      <td>NES</td>\n",
       "      <td>1985.0</td>\n",
       "      <td>Platform</td>\n",
       "      <td>29.08</td>\n",
       "      <td>3.58</td>\n",
       "      <td>6.81</td>\n",
       "      <td>0.77</td>\n",
       "      <td>NaN</td>\n",
       "      <td>NaN</td>\n",
       "      <td>NaN</td>\n",
       "    </tr>\n",
       "    <tr>\n",
       "      <th>2</th>\n",
       "      <td>Mario Kart Wii</td>\n",
       "      <td>Wii</td>\n",
       "      <td>2008.0</td>\n",
       "      <td>Racing</td>\n",
       "      <td>15.68</td>\n",
       "      <td>12.76</td>\n",
       "      <td>3.79</td>\n",
       "      <td>3.29</td>\n",
       "      <td>82.0</td>\n",
       "      <td>8.3</td>\n",
       "      <td>E</td>\n",
       "    </tr>\n",
       "    <tr>\n",
       "      <th>3</th>\n",
       "      <td>Wii Sports Resort</td>\n",
       "      <td>Wii</td>\n",
       "      <td>2009.0</td>\n",
       "      <td>Sports</td>\n",
       "      <td>15.61</td>\n",
       "      <td>10.93</td>\n",
       "      <td>3.28</td>\n",
       "      <td>2.95</td>\n",
       "      <td>80.0</td>\n",
       "      <td>8</td>\n",
       "      <td>E</td>\n",
       "    </tr>\n",
       "    <tr>\n",
       "      <th>4</th>\n",
       "      <td>Pokemon Red/Pokemon Blue</td>\n",
       "      <td>GB</td>\n",
       "      <td>1996.0</td>\n",
       "      <td>Role-Playing</td>\n",
       "      <td>11.27</td>\n",
       "      <td>8.89</td>\n",
       "      <td>10.22</td>\n",
       "      <td>1.00</td>\n",
       "      <td>NaN</td>\n",
       "      <td>NaN</td>\n",
       "      <td>NaN</td>\n",
       "    </tr>\n",
       "  </tbody>\n",
       "</table>\n",
       "</div>"
      ],
      "text/plain": [
       "                       Name Platform  Year_of_Release         Genre  NA_sales  \\\n",
       "0                Wii Sports      Wii           2006.0        Sports     41.36   \n",
       "1         Super Mario Bros.      NES           1985.0      Platform     29.08   \n",
       "2            Mario Kart Wii      Wii           2008.0        Racing     15.68   \n",
       "3         Wii Sports Resort      Wii           2009.0        Sports     15.61   \n",
       "4  Pokemon Red/Pokemon Blue       GB           1996.0  Role-Playing     11.27   \n",
       "\n",
       "   EU_sales  JP_sales  Other_sales  Critic_Score User_Score Rating  \n",
       "0     28.96      3.77         8.45          76.0          8      E  \n",
       "1      3.58      6.81         0.77           NaN        NaN    NaN  \n",
       "2     12.76      3.79         3.29          82.0        8.3      E  \n",
       "3     10.93      3.28         2.95          80.0          8      E  \n",
       "4      8.89     10.22         1.00           NaN        NaN    NaN  "
      ]
     },
     "execution_count": 48,
     "metadata": {},
     "output_type": "execute_result"
    }
   ],
   "source": [
    "df = pd.read_csv('games.csv')\n",
    "df.head(5)"
   ]
  },
  {
   "cell_type": "markdown",
   "metadata": {},
   "source": [
    "На первый взгляд заметны некоторые недочеты в данных,а именно:\n",
    "1. Названия колонок имеют разный регистр.\n",
    "2. В столбцах \"\tCritic_Score\", \"User_Score\" и \"Rating\" встречаются пропуски.\n",
    "3. В стоолбце \"Year_of_release\" тип данных `float`, что противоречит логике.\n",
    "\n",
    "Одной командой получим общую информацию о таблице:"
   ]
  },
  {
   "cell_type": "code",
   "execution_count": 49,
   "metadata": {},
   "outputs": [
    {
     "name": "stdout",
     "output_type": "stream",
     "text": [
      "<class 'pandas.core.frame.DataFrame'>\n",
      "RangeIndex: 16715 entries, 0 to 16714\n",
      "Data columns (total 11 columns):\n",
      " #   Column           Non-Null Count  Dtype  \n",
      "---  ------           --------------  -----  \n",
      " 0   Name             16713 non-null  object \n",
      " 1   Platform         16715 non-null  object \n",
      " 2   Year_of_Release  16446 non-null  float64\n",
      " 3   Genre            16713 non-null  object \n",
      " 4   NA_sales         16715 non-null  float64\n",
      " 5   EU_sales         16715 non-null  float64\n",
      " 6   JP_sales         16715 non-null  float64\n",
      " 7   Other_sales      16715 non-null  float64\n",
      " 8   Critic_Score     8137 non-null   float64\n",
      " 9   User_Score       10014 non-null  object \n",
      " 10  Rating           9949 non-null   object \n",
      "dtypes: float64(6), object(5)\n",
      "memory usage: 1.4+ MB\n"
     ]
    }
   ],
   "source": [
    "df.info()"
   ]
  },
  {
   "cell_type": "markdown",
   "metadata": {},
   "source": [
    "Итак, в таблице 11 столбцов, имеющих разный тип данных: `float` и `object`.\n",
    "\n",
    "Согласно документации к данным:\n",
    "\n",
    "* Name — название игры\n",
    "* Platform — платформа\n",
    "* Year_of_Release — год выпуска\n",
    "* Genre — жанр игры\n",
    "* NA_sales — продажи в Северной Америке (миллионы проданных копий)\n",
    "* EU_sales — продажи в Европе (миллионы проданных копий)\n",
    "* JP_sales — продажи в Японии (миллионы проданных копий)\n",
    "* Other_sales — продажи в других странах (миллионы проданных копий)\n",
    "* Critic_Score — оценка критиков (максимум 100)\n",
    "* User_Score — оценка пользователей (максимум 10)\n",
    "* Rating — рейтинг от организации ESRB.\n",
    "\n",
    "Данные за 2016 год могут быть неполными."
   ]
  },
  {
   "cell_type": "markdown",
   "metadata": {},
   "source": [
    "**Вывод**"
   ]
  },
  {
   "cell_type": "markdown",
   "metadata": {},
   "source": [
    "В каждой строке таблицы — данные о продажах игр, оценки пользователей и экспертов, жанры и платформы за несколько лет.\n",
    "\n",
    "Предварительно можно утверждать, что, данных достаточно для анализа и проверки гипотез. Но в данных встречаются пропуски, неверные типы данных и разные ригистры в наименованиях столбцов. \n",
    "\n",
    "Чтобы двигаться дальше, нужно устранить проблемы в данных."
   ]
  },
  {
   "cell_type": "markdown",
   "metadata": {},
   "source": [
    "## Предобработка данных"
   ]
  },
  {
   "cell_type": "markdown",
   "metadata": {},
   "source": [
    "### Обработка пропусков"
   ]
  },
  {
   "cell_type": "markdown",
   "metadata": {},
   "source": [
    "Прежде чем обрабатывать пропуски, приведем к нижнему регистру все наименования столбцов с помощью метода `.str.lower()`."
   ]
  },
  {
   "cell_type": "code",
   "execution_count": 50,
   "metadata": {},
   "outputs": [
    {
     "data": {
      "text/plain": [
       "Index(['name', 'platform', 'year_of_release', 'genre', 'na_sales', 'eu_sales',\n",
       "       'jp_sales', 'other_sales', 'critic_score', 'user_score', 'rating'],\n",
       "      dtype='object')"
      ]
     },
     "execution_count": 50,
     "metadata": {},
     "output_type": "execute_result"
    }
   ],
   "source": [
    "df.columns = df.columns.str.lower()\n",
    "df.columns"
   ]
  },
  {
   "cell_type": "markdown",
   "metadata": {},
   "source": [
    "Выявим в каких колонках есть пропущенные значения методом .isna()"
   ]
  },
  {
   "cell_type": "code",
   "execution_count": 51,
   "metadata": {},
   "outputs": [
    {
     "name": "stdout",
     "output_type": "stream",
     "text": [
      "name                  2\n",
      "platform              0\n",
      "year_of_release     269\n",
      "genre                 2\n",
      "na_sales              0\n",
      "eu_sales              0\n",
      "jp_sales              0\n",
      "other_sales           0\n",
      "critic_score       8578\n",
      "user_score         6701\n",
      "rating             6766\n",
      "dtype: int64\n"
     ]
    }
   ],
   "source": [
    "print(df.isna().sum())"
   ]
  },
  {
   "cell_type": "markdown",
   "metadata": {},
   "source": [
    "Мы заметили, что в колонках \"name\" и \"year_of_release\" есть пропущенные значения. Очевидно, что количество данных пропусков очень мало чтобы исказить данные, поэтому можем удалить эти пропуски.."
   ]
  },
  {
   "cell_type": "code",
   "execution_count": 52,
   "metadata": {},
   "outputs": [
    {
     "name": "stdout",
     "output_type": "stream",
     "text": [
      "В столбце \"year_of_release\" пропущено всего 2% от общего количества строк.\n",
      "Пропуски в столбце \"year_of_release\" до: 269\n",
      "Пропуски в столбце \"year_of_release\" до: 0\n"
     ]
    }
   ],
   "source": [
    "df = df.dropna(subset=['name'])#удалим пропуски из столбца \"name\"\n",
    "\n",
    "missed_values = df['year_of_release'].isna().sum()/df.shape[0]\n",
    "print('В столбце \"year_of_release\" пропущено всего {:.0%}'.format(missed_values), 'от общего количества строк.') \n",
    "print('Пропуски в столбце \"year_of_release\" до:', df['year_of_release'].isna().sum())\n",
    "df = df.dropna(subset=['year_of_release'])#удалим пропуски из столбца \"year_of_release\"\n",
    "print('Пропуски в столбце \"year_of_release\" до:', df['year_of_release'].isna().sum())\n"
   ]
  },
  {
   "cell_type": "markdown",
   "metadata": {},
   "source": [
    "Также мы заметили что в столбцах \"user_score\" и \"critic_score\" имеются пропуски. Заменять пропуски в этих данных неуместно,т.к. любое заполнение исказит результаты корреляционного анализа и стат-тестов.\n",
    "Однако, мы можем заменить пропуски в столбце \"rating\" на `tbd` , т.к. он является категориальной переменной."
   ]
  },
  {
   "cell_type": "code",
   "execution_count": 53,
   "metadata": {},
   "outputs": [],
   "source": [
    "df['rating']=df['rating'].fillna('tbd')"
   ]
  },
  {
   "cell_type": "markdown",
   "metadata": {},
   "source": [
    "В документации указано, что в столбце с оценкой пользователей есть  аббревиатура 'tbd'. Это расшифровка \"to be determined\" или \"to be discussed\", что значит \"будет определено\". Для дальнейшего анализа нам необходимо избавиться от этой аббревиатуры и заменить ее на пропуск."
   ]
  },
  {
   "cell_type": "code",
   "execution_count": 54,
   "metadata": {},
   "outputs": [],
   "source": [
    "df.loc[df['user_score'] == 'tbd', 'user_score'] = float('nan')"
   ]
  },
  {
   "cell_type": "markdown",
   "metadata": {},
   "source": [
    "После данной операции количество прпопусков с столбце \"user_score\" должно увеличиться."
   ]
  },
  {
   "cell_type": "code",
   "execution_count": 55,
   "metadata": {},
   "outputs": [
    {
     "name": "stdout",
     "output_type": "stream",
     "text": [
      "name                  0\n",
      "platform              0\n",
      "year_of_release       0\n",
      "genre                 0\n",
      "na_sales              0\n",
      "eu_sales              0\n",
      "jp_sales              0\n",
      "other_sales           0\n",
      "critic_score       8461\n",
      "user_score         8981\n",
      "rating                0\n",
      "dtype: int64\n"
     ]
    }
   ],
   "source": [
    "print(df.isna().sum())"
   ]
  },
  {
   "cell_type": "markdown",
   "metadata": {},
   "source": [
    "### Замена типа данных"
   ]
  },
  {
   "cell_type": "markdown",
   "metadata": {},
   "source": [
    "Выведем еще раз общую информацию о таблице:"
   ]
  },
  {
   "cell_type": "code",
   "execution_count": 56,
   "metadata": {},
   "outputs": [
    {
     "name": "stdout",
     "output_type": "stream",
     "text": [
      "<class 'pandas.core.frame.DataFrame'>\n",
      "Int64Index: 16444 entries, 0 to 16714\n",
      "Data columns (total 11 columns):\n",
      " #   Column           Non-Null Count  Dtype  \n",
      "---  ------           --------------  -----  \n",
      " 0   name             16444 non-null  object \n",
      " 1   platform         16444 non-null  object \n",
      " 2   year_of_release  16444 non-null  float64\n",
      " 3   genre            16444 non-null  object \n",
      " 4   na_sales         16444 non-null  float64\n",
      " 5   eu_sales         16444 non-null  float64\n",
      " 6   jp_sales         16444 non-null  float64\n",
      " 7   other_sales      16444 non-null  float64\n",
      " 8   critic_score     7983 non-null   float64\n",
      " 9   user_score       7463 non-null   object \n",
      " 10  rating           16444 non-null  object \n",
      "dtypes: float64(6), object(5)\n",
      "memory usage: 1.5+ MB\n"
     ]
    }
   ],
   "source": [
    "df.info()"
   ]
  },
  {
   "cell_type": "markdown",
   "metadata": {},
   "source": [
    "Мы видим, что данные в колонке \"year_of_release\" имеют тип `float64`, что не совсем корректно для года выпуска. Заменим эти данные на тип `int` с помощью `.astype()`."
   ]
  },
  {
   "cell_type": "code",
   "execution_count": 57,
   "metadata": {},
   "outputs": [
    {
     "name": "stdout",
     "output_type": "stream",
     "text": [
      "Тип данных в столбце \"year_of_release\"- int32\n"
     ]
    }
   ],
   "source": [
    "df['year_of_release'] = df['year_of_release'].astype(int)#заменим тип данных\n",
    "df['year_of_release'].dtype#проверим тип данных\n",
    "print('Тип данных в столбце \"year_of_release\"-', df['year_of_release'].dtype)"
   ]
  },
  {
   "cell_type": "markdown",
   "metadata": {},
   "source": [
    "Также, мы заметили что тип данных в в столбцах \"user_score\" и \"critic_score\" - `object`, произведем замену типа данных с помощью `to_numeric()`."
   ]
  },
  {
   "cell_type": "code",
   "execution_count": 58,
   "metadata": {},
   "outputs": [],
   "source": [
    "df['user_score'] = df['user_score'].apply(pd.to_numeric, errors='ignore')\n",
    "df['critic_score'] = df['critic_score'].apply(pd.to_numeric, errors='ignore')"
   ]
  },
  {
   "cell_type": "markdown",
   "metadata": {},
   "source": [
    "Итак, у нас почти все готово для анализа, однако для полной картины нам не хватает суммарных продаж по всем регионам - для этого создадим отдельный столбец."
   ]
  },
  {
   "cell_type": "code",
   "execution_count": 59,
   "metadata": {},
   "outputs": [],
   "source": [
    "df['total_sales'] = df['na_sales'] + df['eu_sales'] + df['jp_sales'] + df['other_sales']"
   ]
  },
  {
   "cell_type": "code",
   "execution_count": 60,
   "metadata": {},
   "outputs": [
    {
     "data": {
      "text/html": [
       "<div>\n",
       "<style scoped>\n",
       "    .dataframe tbody tr th:only-of-type {\n",
       "        vertical-align: middle;\n",
       "    }\n",
       "\n",
       "    .dataframe tbody tr th {\n",
       "        vertical-align: top;\n",
       "    }\n",
       "\n",
       "    .dataframe thead th {\n",
       "        text-align: right;\n",
       "    }\n",
       "</style>\n",
       "<table border=\"1\" class=\"dataframe\">\n",
       "  <thead>\n",
       "    <tr style=\"text-align: right;\">\n",
       "      <th></th>\n",
       "      <th>name</th>\n",
       "      <th>platform</th>\n",
       "      <th>year_of_release</th>\n",
       "      <th>genre</th>\n",
       "      <th>na_sales</th>\n",
       "      <th>eu_sales</th>\n",
       "      <th>jp_sales</th>\n",
       "      <th>other_sales</th>\n",
       "      <th>critic_score</th>\n",
       "      <th>user_score</th>\n",
       "      <th>rating</th>\n",
       "      <th>total_sales</th>\n",
       "    </tr>\n",
       "  </thead>\n",
       "  <tbody>\n",
       "    <tr>\n",
       "      <th>0</th>\n",
       "      <td>Wii Sports</td>\n",
       "      <td>Wii</td>\n",
       "      <td>2006</td>\n",
       "      <td>Sports</td>\n",
       "      <td>41.36</td>\n",
       "      <td>28.96</td>\n",
       "      <td>3.77</td>\n",
       "      <td>8.45</td>\n",
       "      <td>76.0</td>\n",
       "      <td>8.0</td>\n",
       "      <td>E</td>\n",
       "      <td>82.54</td>\n",
       "    </tr>\n",
       "    <tr>\n",
       "      <th>1</th>\n",
       "      <td>Super Mario Bros.</td>\n",
       "      <td>NES</td>\n",
       "      <td>1985</td>\n",
       "      <td>Platform</td>\n",
       "      <td>29.08</td>\n",
       "      <td>3.58</td>\n",
       "      <td>6.81</td>\n",
       "      <td>0.77</td>\n",
       "      <td>NaN</td>\n",
       "      <td>NaN</td>\n",
       "      <td>tbd</td>\n",
       "      <td>40.24</td>\n",
       "    </tr>\n",
       "    <tr>\n",
       "      <th>2</th>\n",
       "      <td>Mario Kart Wii</td>\n",
       "      <td>Wii</td>\n",
       "      <td>2008</td>\n",
       "      <td>Racing</td>\n",
       "      <td>15.68</td>\n",
       "      <td>12.76</td>\n",
       "      <td>3.79</td>\n",
       "      <td>3.29</td>\n",
       "      <td>82.0</td>\n",
       "      <td>8.3</td>\n",
       "      <td>E</td>\n",
       "      <td>35.52</td>\n",
       "    </tr>\n",
       "    <tr>\n",
       "      <th>3</th>\n",
       "      <td>Wii Sports Resort</td>\n",
       "      <td>Wii</td>\n",
       "      <td>2009</td>\n",
       "      <td>Sports</td>\n",
       "      <td>15.61</td>\n",
       "      <td>10.93</td>\n",
       "      <td>3.28</td>\n",
       "      <td>2.95</td>\n",
       "      <td>80.0</td>\n",
       "      <td>8.0</td>\n",
       "      <td>E</td>\n",
       "      <td>32.77</td>\n",
       "    </tr>\n",
       "    <tr>\n",
       "      <th>4</th>\n",
       "      <td>Pokemon Red/Pokemon Blue</td>\n",
       "      <td>GB</td>\n",
       "      <td>1996</td>\n",
       "      <td>Role-Playing</td>\n",
       "      <td>11.27</td>\n",
       "      <td>8.89</td>\n",
       "      <td>10.22</td>\n",
       "      <td>1.00</td>\n",
       "      <td>NaN</td>\n",
       "      <td>NaN</td>\n",
       "      <td>tbd</td>\n",
       "      <td>31.38</td>\n",
       "    </tr>\n",
       "  </tbody>\n",
       "</table>\n",
       "</div>"
      ],
      "text/plain": [
       "                       name platform  year_of_release         genre  na_sales  \\\n",
       "0                Wii Sports      Wii             2006        Sports     41.36   \n",
       "1         Super Mario Bros.      NES             1985      Platform     29.08   \n",
       "2            Mario Kart Wii      Wii             2008        Racing     15.68   \n",
       "3         Wii Sports Resort      Wii             2009        Sports     15.61   \n",
       "4  Pokemon Red/Pokemon Blue       GB             1996  Role-Playing     11.27   \n",
       "\n",
       "   eu_sales  jp_sales  other_sales  critic_score  user_score rating  \\\n",
       "0     28.96      3.77         8.45          76.0         8.0      E   \n",
       "1      3.58      6.81         0.77           NaN         NaN    tbd   \n",
       "2     12.76      3.79         3.29          82.0         8.3      E   \n",
       "3     10.93      3.28         2.95          80.0         8.0      E   \n",
       "4      8.89     10.22         1.00           NaN         NaN    tbd   \n",
       "\n",
       "   total_sales  \n",
       "0        82.54  \n",
       "1        40.24  \n",
       "2        35.52  \n",
       "3        32.77  \n",
       "4        31.38  "
      ]
     },
     "execution_count": 60,
     "metadata": {},
     "output_type": "execute_result"
    }
   ],
   "source": [
    "df.head(5)"
   ]
  },
  {
   "cell_type": "code",
   "execution_count": 61,
   "metadata": {},
   "outputs": [
    {
     "name": "stdout",
     "output_type": "stream",
     "text": [
      "<class 'pandas.core.frame.DataFrame'>\n",
      "Int64Index: 16444 entries, 0 to 16714\n",
      "Data columns (total 12 columns):\n",
      " #   Column           Non-Null Count  Dtype  \n",
      "---  ------           --------------  -----  \n",
      " 0   name             16444 non-null  object \n",
      " 1   platform         16444 non-null  object \n",
      " 2   year_of_release  16444 non-null  int32  \n",
      " 3   genre            16444 non-null  object \n",
      " 4   na_sales         16444 non-null  float64\n",
      " 5   eu_sales         16444 non-null  float64\n",
      " 6   jp_sales         16444 non-null  float64\n",
      " 7   other_sales      16444 non-null  float64\n",
      " 8   critic_score     7983 non-null   float64\n",
      " 9   user_score       7463 non-null   float64\n",
      " 10  rating           16444 non-null  object \n",
      " 11  total_sales      16444 non-null  float64\n",
      "dtypes: float64(7), int32(1), object(4)\n",
      "memory usage: 1.6+ MB\n"
     ]
    }
   ],
   "source": [
    "df.info()"
   ]
  },
  {
   "cell_type": "markdown",
   "metadata": {},
   "source": [
    "**Вывод**"
   ]
  },
  {
   "cell_type": "markdown",
   "metadata": {},
   "source": [
    "При заполнении пропусков мы обнаружили 2 проблемы в данных:\n",
    "\n",
    "- не подходящие для анализа типы данных, \n",
    "- пропущенные значения в столбцах.\n",
    "\n",
    "Мы исправили некорректные значения и заполнили пропуски, где это было логично, а также заменили типы данных."
   ]
  },
  {
   "cell_type": "markdown",
   "metadata": {},
   "source": [
    "### Рейтинг ESRB"
   ]
  },
  {
   "cell_type": "markdown",
   "metadata": {},
   "source": [
    "В наборе данных попадается аббревиатура ESRB (Entertainment Software Rating Board) — это ассоциация, определяющая возрастной рейтинг компьютерных игр. ESRB оценивает игровой контент и присваивает ему подходящую возрастную категорию, например, «Для взрослых», «Для детей младшего возраста» или «Для подростков». \n",
    "\n",
    "«EC» («Early childhood») — «Для детей младшего возраста»: Игра подходит для детей от 3 лет.\\\n",
    "«E» («Everyone») — «Для всех»: Содержание вполне подходит для возрастной категории от 6 лет.Первоначально \"K-A\" (\"Kids to Adults\").\\\n",
    "«E10+» («Everyone 10 and older») — «Для всех от 10 лет и старше».\\\n",
    "«T» («Teen») — «Подросткам»: Игра подходит для лиц от 13 лет.\\\n",
    "«M» («Mature») — «Для взрослых»: Материалы игры не подходят для подростков младше 17 лет. \\\n",
    "«AO» («Adults Only 18+») — «Только для взрослых»: Содержание игры только для взрослых старше 18 лет. \\\n",
    "«RP» («Rating Pending») — «Рейтинг ожидается»: Продукт был отправлен в ESRB и ожидает присвоения рейтинга.\\\n",
    "\n",
    "Приведем значения столбца \"raitng\" в более привычный вид при помощи функции и категоризации данных."
   ]
  },
  {
   "cell_type": "code",
   "execution_count": 62,
   "metadata": {},
   "outputs": [
    {
     "name": "stdout",
     "output_type": "stream",
     "text": [
      "0            6+\n",
      "1       unknown\n",
      "16          17+\n",
      "39          13+\n",
      "61          10+\n",
      "875         18+\n",
      "4297         3+\n",
      "Name: rating_desc, dtype: object\n"
     ]
    }
   ],
   "source": [
    "def rating(item):\n",
    "    \"\"\"\n",
    "    Возвращает расшифровку rating используя правила\n",
    "    - '3+', если raiting = EC;\n",
    "    - '6+', если raiting = E;\n",
    "    - '10+', если raiting = E10+;\n",
    "    - '13+', если raiting = T;\n",
    "    - '17+', если raiting = M;\n",
    "    - '18+', если raiting = AO;\n",
    "    - 'unknown', если raiting = RP или tbd.\n",
    "    \"\"\"\n",
    "    if item =='EC': return '3+'\n",
    "    if item =='E': return '6+'\n",
    "    if item =='E10+': return '10+'\n",
    "    if item =='T': return '13+'\n",
    "    if item =='M': return '17+'\n",
    "    if item =='AO': return '18+'\n",
    "    if item =='K-A': return '6+'\n",
    "    \n",
    "    return 'unknown'\n",
    "\n",
    "df['rating_desc'] = df['rating'].apply(rating)\n",
    "print(df['rating_desc'].drop_duplicates())   \n",
    "    "
   ]
  },
  {
   "cell_type": "markdown",
   "metadata": {},
   "source": [
    "## Исследовательский анализ данных"
   ]
  },
  {
   "cell_type": "markdown",
   "metadata": {},
   "source": [
    "### Исследовании динамики продаж по годам"
   ]
  },
  {
   "cell_type": "markdown",
   "metadata": {},
   "source": [
    "Проведем анализ выпуска игр по годам, для это построим гистограмму."
   ]
  },
  {
   "cell_type": "code",
   "execution_count": 63,
   "metadata": {},
   "outputs": [
    {
     "data": {
      "text/plain": [
       "Text(0.5, 1.0, 'Динамика выпуска компьютерных игр за 1980-2016 гг., млн. шт.')"
      ]
     },
     "execution_count": 63,
     "metadata": {},
     "output_type": "execute_result"
    },
    {
     "data": {
      "image/png": "[encoded data removed]",
      "text/plain": [
       "<Figure size 1152x288 with 1 Axes>"
      ]
     },
     "metadata": {
      "needs_background": "light"
     },
     "output_type": "display_data"
    }
   ],
   "source": [
    "myhex = '#66CC99' #параметр задающий  цвет\n",
    "df.groupby('year_of_release').agg({'total_sales':'sum'}).plot(kind='bar', rot=70,figsize=(16,4), color = myhex);\n",
    "plt.title('Динамика выпуска компьютерных игр за 1980-2016 гг., млн. шт.')"
   ]
  },
  {
   "cell_type": "markdown",
   "metadata": {},
   "source": [
    "Исходя из полученной гистограммы мы видим, что до 1995 г. количество выпущенных игр оставалось примерно на одном уровне, далее начинается  рост с резкими скачками в 1996 и 2001 году. Затем продажи достигают своего пика в 2008 и 2009 годах, а после мы наблюдаем снижение количества проданных копий. В целом можно утверждать, что после 2011 года рынок компьютерных игр находится в стадии стагнации.\n",
    "Проведем анализ продаж по платформам. Для начала определим платформы с наибольшими суммарными продажами."
   ]
  },
  {
   "cell_type": "markdown",
   "metadata": {},
   "source": [
    "### Исследовании динамики продаж по игровым платформам"
   ]
  },
  {
   "cell_type": "code",
   "execution_count": 64,
   "metadata": {},
   "outputs": [
    {
     "data": {
      "image/png": "[encoded data removed]",
      "text/plain": [
       "<Figure size 1152x288 with 1 Axes>"
      ]
     },
     "metadata": {
      "needs_background": "light"
     },
     "output_type": "display_data"
    }
   ],
   "source": [
    "myhex = '#FF99CC' #параметр задающий  цвет\n",
    "\n",
    "df.groupby('platform').agg({'total_sales':'sum'}).sort_values(by = 'total_sales', ascending = False).plot(kind='bar', rot=70,figsize=(16,4), color = myhex);\n",
    "\n",
    "plt.title('Суммарные продажи по платформам, млн.шт.');"
   ]
  },
  {
   "cell_type": "markdown",
   "metadata": {},
   "source": [
    "Благодаря построенной гистограмме, мы можем определить что у нас есть явный лидер - PS2 и пятерка последующих платформ, которые делят между собой основную часть рынка. Построим распределение по годам для каждой платформы на графике из первой десятки лидеров."
   ]
  },
  {
   "cell_type": "code",
   "execution_count": 65,
   "metadata": {},
   "outputs": [
    {
     "data": {
      "image/png": "[encoded data removed]",
      "text/plain": [
       "<Figure size 1152x360 with 1 Axes>"
      ]
     },
     "metadata": {
      "needs_background": "light"
     },
     "output_type": "display_data"
    }
   ],
   "source": [
    "top_6 = (df\n",
    "         .groupby('platform')\n",
    "         .agg({'total_sales':'sum'})\n",
    "         .sort_values(by = 'total_sales', ascending = False)\n",
    "         .head(6).index\n",
    "        )\n",
    "ax = (df\n",
    "      .query('platform in @top_6')\n",
    "      .pivot_table(index = 'year_of_release',\n",
    "                   columns = 'platform',\n",
    "                   values = 'total_sales', \n",
    "                   aggfunc = 'sum')\n",
    "      .plot(figsize = (16,5))\n",
    "     );\n",
    "#  Устанавливаем интервал основных делений:\n",
    "ax.xaxis.set_major_locator(ticker.MultipleLocator(1))\n",
    "plt.title('Динамика продаж ТОП-6 компьютерных игр за 1980-2016 гг., млн. шт.');"
   ]
  },
  {
   "cell_type": "markdown",
   "metadata": {},
   "source": [
    "Судя по полученной динамике, мы можем определить, что в среднем платформы живут около 10 лет. Объем рынка не меняется, не смотря на то, что у каждой платформы резкий рост сменяется резким падением, т.к. каждая последующая платформа забирает значительную долю рынка у предыдущей. Это происходит в среднем в течение 3х лет. Т.е. каждая платформа выходит на свой пик продаж в среднем через 3 года. "
   ]
  },
  {
   "cell_type": "markdown",
   "metadata": {},
   "source": [
    "### Определение актуального периода для исследования"
   ]
  },
  {
   "cell_type": "markdown",
   "metadata": {},
   "source": [
    "Поскольку нам нужно спрогнозировать продажи на 2017 год, мы будем использовать данные за последние 3 года, с 2013 по 2016 включительно.\n",
    "Сформируем новый датасет и построим график продаж."
   ]
  },
  {
   "cell_type": "code",
   "execution_count": 66,
   "metadata": {},
   "outputs": [
    {
     "data": {
      "image/png": "[encoded data removed]",
      "text/plain": [
       "<Figure size 1080x360 with 2 Axes>"
      ]
     },
     "metadata": {
      "needs_background": "light"
     },
     "output_type": "display_data"
    }
   ],
   "source": [
    "df_act = df.query('2016 >= year_of_release >= 2013') #формируем новый датасет с данными за 2013-2016 гг.\n",
    "\n",
    "fig, axes = plt.subplots(1,2, figsize=(15,5)) #параметр, располагающий 2 графика в одной плоскости\n",
    "\n",
    "myhex = '#FFCC33' #параметр задающий  цвет\n",
    "(df_act\n",
    " .groupby('platform')\n",
    " .agg({'total_sales':'sum'})\n",
    " .sort_values(by = 'total_sales',ascending = False)\n",
    " .plot(kind='bar', rot=70,\n",
    "       color = myhex, ax=axes[0])\n",
    ");\n",
    "\n",
    "axes[0].set_title('Суммарные продажи по платформам, млн.шт.')\n",
    "\n",
    "(df_act\n",
    " .pivot_table(index = 'year_of_release', \n",
    "              columns = 'platform',\n",
    "              values = 'total_sales',\n",
    "              aggfunc = 'sum')\n",
    " .plot(ax=axes[1])\n",
    ");\n",
    "axes[1].set_title('Динамика продаж компьютерных игр за 2013-2016 гг., млн. шт.');\n"
   ]
  },
  {
   "cell_type": "markdown",
   "metadata": {},
   "source": [
    "Исходя из полученных графиков мы видим, что за последние годы произошла смена лидера рынка с PS2 на PS4. В то же время PS3 опередила по продажам X360, однако обе платформы находятся в стадии спада. В целом, т.к. данные за 2016 г. неполные мы не видим положительной динамики ни у одной из платформ. Однако, хорошо заметно что по итогам 2014 года PS4 и XOne находились в стадии роста. Также, наименее отрицательный рост имеет платформа 3DS. Таким образом, мы имеем три потенциально прибыльные платформы.\n",
    "Для того, чтобы в этом убедиться построим график «ящик с усами» по глобальным продажам игр в разбивке по платформам. "
   ]
  },
  {
   "cell_type": "markdown",
   "metadata": {},
   "source": [
    "### Анализ редких и выбивающихся значений"
   ]
  },
  {
   "cell_type": "code",
   "execution_count": 67,
   "metadata": {},
   "outputs": [
    {
     "data": {
      "text/html": [
       " <style>\n",
       ".output_png {\n",
       "    display: table-cell;\n",
       "    text-align: center;\n",
       "    vertical-align: middle;\n",
       "}\n",
       "</style> "
      ],
      "text/plain": [
       "<IPython.core.display.HTML object>"
      ]
     },
     "execution_count": 67,
     "metadata": {},
     "output_type": "execute_result"
    }
   ],
   "source": [
    "from IPython.core.display import HTML as Center\n",
    "\n",
    "Center(\"\"\" <style>\n",
    ".output_png {\n",
    "    display: table-cell;\n",
    "    text-align: center;\n",
    "    vertical-align: middle;\n",
    "}\n",
    "</style> \"\"\")"
   ]
  },
  {
   "cell_type": "code",
   "execution_count": 68,
   "metadata": {},
   "outputs": [
    {
     "data": {
      "image/png": "[encoded data removed]",
      "text/plain": [
       "<Figure size 720x504 with 1 Axes>"
      ]
     },
     "metadata": {
      "needs_background": "light"
     },
     "output_type": "display_data"
    }
   ],
   "source": [
    "top_platform_names = ['PS4', 'PS3', 'XOne', '3DS', 'X360']\n",
    "top_5_platforms = df_act[df_act['platform'].isin(top_platform_names)]\n",
    "top_5_platforms.boxplot(by='platform', column ='total_sales', figsize=(10,7));#построение диаграммы размаха по платформам\n",
    "plt.title('Диаграмма размаха продаж по платформам за 2013-2016 гг.');"
   ]
  },
  {
   "cell_type": "markdown",
   "metadata": {},
   "source": [
    "Первое на что бросается взгляд - выбросы. Очевидно, что у каждой платформы есть свои топ-селлеры, которые тянут за собой значительную часть продаж. Так мы видим, что явный лидер есть у PS3 и XOne, в то время как у остальных платформ по 2-3 топ селлера. Взгляним на \"диаграммы - ящики\" поближе.  "
   ]
  },
  {
   "cell_type": "code",
   "execution_count": 69,
   "metadata": {},
   "outputs": [
    {
     "data": {
      "image/png": "[encoded data removed]",
      "text/plain": [
       "<Figure size 720x504 with 1 Axes>"
      ]
     },
     "metadata": {
      "needs_background": "light"
     },
     "output_type": "display_data"
    }
   ],
   "source": [
    "top_5_platforms.boxplot(by='platform', column ='total_sales', figsize=(10,7));#построение диаграммы размаха по платформам\n",
    "plt.ylim(0,2)\n",
    "plt.title('Диаграмма размаха продаж по платформам за 2013-2016 гг.');"
   ]
  },
  {
   "cell_type": "markdown",
   "metadata": {},
   "source": [
    "Исходя из полученной диаграммы мы видим, что самая высокая медиана у платформ X360 и XOne, что говорит о том, что распределение выручки игр на данной платформе относительно равномерно распределено и имеет не так много выбросов как остальные платформы. Ведь несмотря на наивысшую медиану в продажах, платформа X360 занимает пятое место по количеству проданных копий. \n",
    "Посмотрим, как влияют на продажи внутри живых платформ отзывы пользователей и критиков."
   ]
  },
  {
   "cell_type": "markdown",
   "metadata": {},
   "source": [
    "### Исследование факторов, влияющих на величину продаж"
   ]
  },
  {
   "cell_type": "markdown",
   "metadata": {},
   "source": [
    "Чтобы понять что имеет наибольшее влияние на продажи игр используем коэффициент корреляции Пирсона. Также построим диаграммы рассеяния для наглядности."
   ]
  },
  {
   "cell_type": "code",
   "execution_count": 70,
   "metadata": {},
   "outputs": [
    {
     "name": "stdout",
     "output_type": "stream",
     "text": [
      "Влияние оценки пользователей ['PS4'] . Коэффициент корреляции равен -3%\n",
      "Влияние оценки критиков ['PS4'] . Коэффициент корреляции равен 41%\n"
     ]
    }
   ],
   "source": [
    "#создадим функциб для расчета корреляции для каждой платформы\n",
    "def correlation(df):\n",
    "    user_score_corr = df['user_score'].corr(df['total_sales']) #вычисление первого коэффициента\n",
    "    critic_score_corr = df['critic_score'].corr(df['total_sales'])#вычисление второго коэффициента\n",
    "    platform_name = df['platform'].unique() #получим название платформы, для которой проводится расчет\n",
    "    print('Влияние оценки пользователей', platform_name,'. Коэффициент корреляции равен {:.0%}'.format(user_score_corr))\n",
    "    print('Влияние оценки критиков',platform_name, '. Коэффициент корреляции равен {:.0%}'.format(critic_score_corr)) \n",
    "\n",
    "correlation(df_act.query('platform == \"PS4\"')) #применим функцию"
   ]
  },
  {
   "cell_type": "code",
   "execution_count": 71,
   "metadata": {},
   "outputs": [
    {
     "name": "stdout",
     "output_type": "stream",
     "text": [
      "Влияние оценки пользователей ['PS4'] . Коэффициент корреляции равен -3%\n",
      "Влияние оценки пользователей ['XOne'] . Коэффициент корреляции равен -7%\n",
      "Влияние оценки пользователей ['3DS'] . Коэффициент корреляции равен 24%\n"
     ]
    },
    {
     "data": {
      "image/png": "[encoded data removed]",
      "text/plain": [
       "<Figure size 720x576 with 1 Axes>"
      ]
     },
     "metadata": {
      "needs_background": "light"
     },
     "output_type": "display_data"
    }
   ],
   "source": [
    "ax = df_act.query('platform == \"PS4\"').plot(x = 'user_score', y = 'total_sales', style = 'o', label = 'PS4', figsize=(10,8))\n",
    "df_act.query('platform == \"XOne\"').plot(x = 'user_score', y = 'total_sales', style = 'x', ax=ax, label = 'XOne')\n",
    "df_act.query('platform == \"3DS\"').plot(kind = 'scatter', x = 'user_score', y = 'total_sales', style = 'x', color = 'red',\n",
    "                                       ax=ax, label = '3DS')\n",
    "plt.legend();\n",
    "\n",
    "#создадим функцию для расчета корреляции оценки пользователей для каждой платформы\n",
    "def correlation_user(df):\n",
    "    user_score_corr = df['user_score'].corr(df['total_sales']) #вычисление коэффициента корреляции\n",
    "    platform_name = df['platform'].unique() #получим название платформы, для которой проводится расчет\n",
    "    print('Влияние оценки пользователей', platform_name,'. Коэффициент корреляции равен {:.0%}'.format(user_score_corr))\n",
    "    \n",
    "correlation_user(df_act.query('platform == \"PS4\"')) #применим функцию\n",
    "correlation_user(df_act.query('platform == \"XOne\"'))\n",
    "correlation_user(df_act.query('platform == \"3DS\"'))\n"
   ]
  },
  {
   "cell_type": "markdown",
   "metadata": {},
   "source": [
    "Как мы видим по графику, оценка пользователей практически не влияет на количество проданных копий. Об этом же говорят и коэффициенты корреляции менее 0,3 - связи практически нет. Проверим влияние оценки критиков на продажи."
   ]
  },
  {
   "cell_type": "code",
   "execution_count": 72,
   "metadata": {},
   "outputs": [
    {
     "name": "stdout",
     "output_type": "stream",
     "text": [
      "Влияние оценки критиков ['PS4'] . Коэффициент корреляции равен 41%\n",
      "Влияние оценки критиков ['XOne'] . Коэффициент корреляции равен 42%\n",
      "Влияние оценки критиков ['3DS'] . Коэффициент корреляции равен 36%\n"
     ]
    },
    {
     "data": {
      "image/png": "[encoded data removed]",
      "text/plain": [
       "<Figure size 720x576 with 1 Axes>"
      ]
     },
     "metadata": {
      "needs_background": "light"
     },
     "output_type": "display_data"
    }
   ],
   "source": [
    "ax = df_act.query('platform == \"PS4\"').plot(x = 'critic_score', y = 'total_sales', style = 'o', label = 'PS4', figsize=(10,8))\n",
    "df_act.query('platform == \"XOne\"').plot(x = 'critic_score', y = 'total_sales', style = 'x', ax=ax, label = 'XOne')\n",
    "df_act.query('platform == \"3DS\"').plot(kind = 'scatter', x = 'critic_score', y = 'total_sales', style = 'x', color = 'red',\n",
    "                                       ax=ax, label = '3DS')\n",
    "plt.legend();\n",
    "\n",
    "#создадим функцию для расчета корреляции оценки критиков для каждой платформы\n",
    "def correlation_critic(df):\n",
    "    critic_score_corr = df['critic_score'].corr(df['total_sales']) #вычисление коэффициента корреляции\n",
    "    platform_name = df['platform'].unique() #получим название платформы, для которой проводится расчет\n",
    "    print('Влияние оценки критиков',platform_name, '. Коэффициент корреляции равен {:.0%}'.format(critic_score_corr)) \n",
    "    \n",
    "correlation_critic(df_act.query('platform == \"PS4\"')) #применим функцию\n",
    "correlation_critic(df_act.query('platform == \"XOne\"'))\n",
    "correlation_critic(df_act.query('platform == \"3DS\"'))"
   ]
  },
  {
   "cell_type": "markdown",
   "metadata": {},
   "source": [
    "Диаграмма рессеяния показывает, что в некоторых случаях высокая оценка критиков увеличивает число продаваемых игр. Но нельзя в целом утверждать, что оценка критиков влияет на продажи игр, т.к. коэффициенты корреляции менее 0,5 - это говорит о слабой связи между продажами и оценками критиков. Тем не менее влияние оценки пользователей на продажи игр еще меньше.  \n",
    "\n",
    "Интересно, повторяется ли определенная тенденция для других популярных платформ? Повторим процедуру для оставшихся \"PS3\" и \"X360'. "
   ]
  },
  {
   "cell_type": "code",
   "execution_count": 73,
   "metadata": {},
   "outputs": [
    {
     "name": "stdout",
     "output_type": "stream",
     "text": [
      "Влияние оценки пользователей ['PS3'] . Коэффициент корреляции равен 0%\n",
      "Влияние оценки критиков ['PS3'] . Коэффициент корреляции равен 33%\n",
      "Влияние оценки пользователей ['X360'] . Коэффициент корреляции равен -1%\n",
      "Влияние оценки критиков ['X360'] . Коэффициент корреляции равен 35%\n"
     ]
    }
   ],
   "source": [
    "def correlation(df):\n",
    "    user_score_corr = df['user_score'].corr(df['total_sales']) #вычисление первого коэффициента\n",
    "    critic_score_corr = df['critic_score'].corr(df['total_sales'])#вычисление второго коэффициента\n",
    "    platform_name = df['platform'].unique() #получим название платформы, для которой проводится расчет\n",
    "    print('Влияние оценки пользователей', platform_name,\n",
    "          '. Коэффициент корреляции равен {:.0%}'\n",
    "          .format(user_score_corr))\n",
    "    print('Влияние оценки критиков', platform_name, \n",
    "          '. Коэффициент корреляции равен {:.0%}'\n",
    "          .format(critic_score_corr)) \n",
    "    \n",
    "correlation(df_act.query('platform == \"PS3\"'))\n",
    "correlation(df_act.query('platform == \"X360\"'))"
   ]
  },
  {
   "cell_type": "markdown",
   "metadata": {},
   "source": [
    "Исходя из полученных графиков становится понятным, что на всех популярных платформах ни оценки пользователей, ни оценки критиков не влияют на количество проданных копий."
   ]
  },
  {
   "cell_type": "markdown",
   "metadata": {},
   "source": [
    "### Исследование распределения игр по жанрам"
   ]
  },
  {
   "cell_type": "markdown",
   "metadata": {},
   "source": [
    "Мы определили, что оценки не влияют на количество проданных копий, поэтому посмотрим на распределение игр по жанрам."
   ]
  },
  {
   "cell_type": "code",
   "execution_count": 74,
   "metadata": {},
   "outputs": [
    {
     "data": {
      "text/plain": [
       "array(['Action', 'Shooter', 'Role-Playing', 'Others', 'Sports'],\n",
       "      dtype=object)"
      ]
     },
     "execution_count": 74,
     "metadata": {},
     "output_type": "execute_result"
    }
   ],
   "source": [
    "df_act.loc[~df_act['genre'].isin(['Action', 'Shooter', 'Sports', 'Role-Playing']), 'genre'] = 'Others'\n",
    "df_act['genre'].unique()"
   ]
  },
  {
   "cell_type": "code",
   "execution_count": 75,
   "metadata": {},
   "outputs": [
    {
     "data": {
      "text/plain": [
       "Text(0.5, 1.0, 'Суммарные продажи по жанрам, млн.шт.')"
      ]
     },
     "execution_count": 75,
     "metadata": {},
     "output_type": "execute_result"
    },
    {
     "data": {
      "image/png": "[encoded data removed]",
      "text/plain": [
       "<Figure size 648x648 with 1 Axes>"
      ]
     },
     "metadata": {},
     "output_type": "display_data"
    }
   ],
   "source": [
    "df_act.groupby('genre').agg({'total_sales':'sum'}).sort_values(by = 'total_sales', \n",
    "                                                                  ascending = False).plot(kind='pie', rot=70,figsize=(9,9), \n",
    "                                                                                          subplots=True, legend=False, autopct='%1.1f%%');\n",
    "\n",
    "plt.title('Суммарные продажи по жанрам, млн.шт.')"
   ]
  },
  {
   "cell_type": "markdown",
   "metadata": {},
   "source": [
    "Итак, судя по полученной диаграмме, мы видим, что самым объемообразающим жанром являяется \"Action\", затем на втором месте жанр \"Shooter\" и третье место делят между собой \"Sports\" и \"Role-Playing\". В то же время мы видим что жанры \"Puzzle\" и \"Strategy\" пользуются наименьшей популярностью в последние годы. Взглянем на медианный доход кадого жанра. "
   ]
  },
  {
   "cell_type": "code",
   "execution_count": 76,
   "metadata": {},
   "outputs": [
    {
     "data": {
      "image/png": "[encoded data removed]",
      "text/plain": [
       "<Figure size 1152x504 with 1 Axes>"
      ]
     },
     "metadata": {
      "needs_background": "light"
     },
     "output_type": "display_data"
    }
   ],
   "source": [
    "df_act.boxplot(by='genre', column ='total_sales', figsize=(16,7));#построение диаграммы размаха по платформам\n",
    "plt.ylim(0,1.5)\n",
    "plt.title('Диаграмма размаха продаж по жанрам за 2013-2016 гг.');"
   ]
  },
  {
   "cell_type": "markdown",
   "metadata": {},
   "source": [
    "Таким образом мы можем определить, что самый высокий медианный доход у жанра \"Shooter\", затем идут жанры \"Sports\" и \"Platform\", в то время как последний не входит в первую пятерку по суммарным продажам. Это вновь говорит о том, что самые популярные жанры получают свое лидерство засчет определенных игр, которые приносят наибольшую часть прибыли. Так, мы видим, что у жанра \"Action\" весьма средний мединный доход, а значит он находится в лидерах только из-за пары очень популярных игр. Выведем их на экран."
   ]
  },
  {
   "cell_type": "code",
   "execution_count": 77,
   "metadata": {},
   "outputs": [
    {
     "data": {
      "text/html": [
       "<div>\n",
       "<style scoped>\n",
       "    .dataframe tbody tr th:only-of-type {\n",
       "        vertical-align: middle;\n",
       "    }\n",
       "\n",
       "    .dataframe tbody tr th {\n",
       "        vertical-align: top;\n",
       "    }\n",
       "\n",
       "    .dataframe thead th {\n",
       "        text-align: right;\n",
       "    }\n",
       "</style>\n",
       "<table border=\"1\" class=\"dataframe\">\n",
       "  <thead>\n",
       "    <tr style=\"text-align: right;\">\n",
       "      <th></th>\n",
       "      <th>name</th>\n",
       "      <th>platform</th>\n",
       "      <th>year_of_release</th>\n",
       "      <th>genre</th>\n",
       "      <th>na_sales</th>\n",
       "      <th>eu_sales</th>\n",
       "      <th>jp_sales</th>\n",
       "      <th>other_sales</th>\n",
       "      <th>critic_score</th>\n",
       "      <th>user_score</th>\n",
       "      <th>rating</th>\n",
       "      <th>total_sales</th>\n",
       "      <th>rating_desc</th>\n",
       "    </tr>\n",
       "  </thead>\n",
       "  <tbody>\n",
       "    <tr>\n",
       "      <th>16</th>\n",
       "      <td>Grand Theft Auto V</td>\n",
       "      <td>PS3</td>\n",
       "      <td>2013</td>\n",
       "      <td>Action</td>\n",
       "      <td>7.02</td>\n",
       "      <td>9.09</td>\n",
       "      <td>0.98</td>\n",
       "      <td>3.96</td>\n",
       "      <td>97.0</td>\n",
       "      <td>8.2</td>\n",
       "      <td>M</td>\n",
       "      <td>21.05</td>\n",
       "      <td>17+</td>\n",
       "    </tr>\n",
       "    <tr>\n",
       "      <th>23</th>\n",
       "      <td>Grand Theft Auto V</td>\n",
       "      <td>X360</td>\n",
       "      <td>2013</td>\n",
       "      <td>Action</td>\n",
       "      <td>9.66</td>\n",
       "      <td>5.14</td>\n",
       "      <td>0.06</td>\n",
       "      <td>1.41</td>\n",
       "      <td>97.0</td>\n",
       "      <td>8.1</td>\n",
       "      <td>M</td>\n",
       "      <td>16.27</td>\n",
       "      <td>17+</td>\n",
       "    </tr>\n",
       "    <tr>\n",
       "      <th>31</th>\n",
       "      <td>Call of Duty: Black Ops 3</td>\n",
       "      <td>PS4</td>\n",
       "      <td>2015</td>\n",
       "      <td>Shooter</td>\n",
       "      <td>6.03</td>\n",
       "      <td>5.86</td>\n",
       "      <td>0.36</td>\n",
       "      <td>2.38</td>\n",
       "      <td>NaN</td>\n",
       "      <td>NaN</td>\n",
       "      <td>tbd</td>\n",
       "      <td>14.63</td>\n",
       "      <td>unknown</td>\n",
       "    </tr>\n",
       "    <tr>\n",
       "      <th>33</th>\n",
       "      <td>Pokemon X/Pokemon Y</td>\n",
       "      <td>3DS</td>\n",
       "      <td>2013</td>\n",
       "      <td>Role-Playing</td>\n",
       "      <td>5.28</td>\n",
       "      <td>4.19</td>\n",
       "      <td>4.35</td>\n",
       "      <td>0.78</td>\n",
       "      <td>NaN</td>\n",
       "      <td>NaN</td>\n",
       "      <td>tbd</td>\n",
       "      <td>14.60</td>\n",
       "      <td>unknown</td>\n",
       "    </tr>\n",
       "    <tr>\n",
       "      <th>42</th>\n",
       "      <td>Grand Theft Auto V</td>\n",
       "      <td>PS4</td>\n",
       "      <td>2014</td>\n",
       "      <td>Action</td>\n",
       "      <td>3.96</td>\n",
       "      <td>6.31</td>\n",
       "      <td>0.38</td>\n",
       "      <td>1.97</td>\n",
       "      <td>97.0</td>\n",
       "      <td>8.3</td>\n",
       "      <td>M</td>\n",
       "      <td>12.62</td>\n",
       "      <td>17+</td>\n",
       "    </tr>\n",
       "    <tr>\n",
       "      <th>47</th>\n",
       "      <td>Pokemon Omega Ruby/Pokemon Alpha Sapphire</td>\n",
       "      <td>3DS</td>\n",
       "      <td>2014</td>\n",
       "      <td>Role-Playing</td>\n",
       "      <td>4.35</td>\n",
       "      <td>3.49</td>\n",
       "      <td>3.10</td>\n",
       "      <td>0.74</td>\n",
       "      <td>NaN</td>\n",
       "      <td>NaN</td>\n",
       "      <td>tbd</td>\n",
       "      <td>11.68</td>\n",
       "      <td>unknown</td>\n",
       "    </tr>\n",
       "    <tr>\n",
       "      <th>60</th>\n",
       "      <td>Call of Duty: Ghosts</td>\n",
       "      <td>X360</td>\n",
       "      <td>2013</td>\n",
       "      <td>Shooter</td>\n",
       "      <td>6.73</td>\n",
       "      <td>2.56</td>\n",
       "      <td>0.04</td>\n",
       "      <td>0.91</td>\n",
       "      <td>73.0</td>\n",
       "      <td>2.6</td>\n",
       "      <td>M</td>\n",
       "      <td>10.24</td>\n",
       "      <td>17+</td>\n",
       "    </tr>\n",
       "    <tr>\n",
       "      <th>69</th>\n",
       "      <td>Call of Duty: Ghosts</td>\n",
       "      <td>PS3</td>\n",
       "      <td>2013</td>\n",
       "      <td>Shooter</td>\n",
       "      <td>4.10</td>\n",
       "      <td>3.63</td>\n",
       "      <td>0.38</td>\n",
       "      <td>1.25</td>\n",
       "      <td>71.0</td>\n",
       "      <td>2.6</td>\n",
       "      <td>M</td>\n",
       "      <td>9.36</td>\n",
       "      <td>17+</td>\n",
       "    </tr>\n",
       "    <tr>\n",
       "      <th>72</th>\n",
       "      <td>Minecraft</td>\n",
       "      <td>X360</td>\n",
       "      <td>2013</td>\n",
       "      <td>Others</td>\n",
       "      <td>5.70</td>\n",
       "      <td>2.65</td>\n",
       "      <td>0.02</td>\n",
       "      <td>0.81</td>\n",
       "      <td>NaN</td>\n",
       "      <td>NaN</td>\n",
       "      <td>tbd</td>\n",
       "      <td>9.18</td>\n",
       "      <td>unknown</td>\n",
       "    </tr>\n",
       "    <tr>\n",
       "      <th>77</th>\n",
       "      <td>FIFA 16</td>\n",
       "      <td>PS4</td>\n",
       "      <td>2015</td>\n",
       "      <td>Sports</td>\n",
       "      <td>1.12</td>\n",
       "      <td>6.12</td>\n",
       "      <td>0.06</td>\n",
       "      <td>1.28</td>\n",
       "      <td>82.0</td>\n",
       "      <td>4.3</td>\n",
       "      <td>E</td>\n",
       "      <td>8.58</td>\n",
       "      <td>6+</td>\n",
       "    </tr>\n",
       "  </tbody>\n",
       "</table>\n",
       "</div>"
      ],
      "text/plain": [
       "                                         name platform  year_of_release  \\\n",
       "16                         Grand Theft Auto V      PS3             2013   \n",
       "23                         Grand Theft Auto V     X360             2013   \n",
       "31                  Call of Duty: Black Ops 3      PS4             2015   \n",
       "33                        Pokemon X/Pokemon Y      3DS             2013   \n",
       "42                         Grand Theft Auto V      PS4             2014   \n",
       "47  Pokemon Omega Ruby/Pokemon Alpha Sapphire      3DS             2014   \n",
       "60                       Call of Duty: Ghosts     X360             2013   \n",
       "69                       Call of Duty: Ghosts      PS3             2013   \n",
       "72                                  Minecraft     X360             2013   \n",
       "77                                    FIFA 16      PS4             2015   \n",
       "\n",
       "           genre  na_sales  eu_sales  jp_sales  other_sales  critic_score  \\\n",
       "16        Action      7.02      9.09      0.98         3.96          97.0   \n",
       "23        Action      9.66      5.14      0.06         1.41          97.0   \n",
       "31       Shooter      6.03      5.86      0.36         2.38           NaN   \n",
       "33  Role-Playing      5.28      4.19      4.35         0.78           NaN   \n",
       "42        Action      3.96      6.31      0.38         1.97          97.0   \n",
       "47  Role-Playing      4.35      3.49      3.10         0.74           NaN   \n",
       "60       Shooter      6.73      2.56      0.04         0.91          73.0   \n",
       "69       Shooter      4.10      3.63      0.38         1.25          71.0   \n",
       "72        Others      5.70      2.65      0.02         0.81           NaN   \n",
       "77        Sports      1.12      6.12      0.06         1.28          82.0   \n",
       "\n",
       "    user_score rating  total_sales rating_desc  \n",
       "16         8.2      M        21.05         17+  \n",
       "23         8.1      M        16.27         17+  \n",
       "31         NaN    tbd        14.63     unknown  \n",
       "33         NaN    tbd        14.60     unknown  \n",
       "42         8.3      M        12.62         17+  \n",
       "47         NaN    tbd        11.68     unknown  \n",
       "60         2.6      M        10.24         17+  \n",
       "69         2.6      M         9.36         17+  \n",
       "72         NaN    tbd         9.18     unknown  \n",
       "77         4.3      E         8.58          6+  "
      ]
     },
     "execution_count": 77,
     "metadata": {},
     "output_type": "execute_result"
    }
   ],
   "source": [
    "df_act.sort_values(by='total_sales',ascending=False).head(10)"
   ]
  },
  {
   "cell_type": "markdown",
   "metadata": {},
   "source": [
    "**Вывод**"
   ]
  },
  {
   "cell_type": "markdown",
   "metadata": {},
   "source": [
    "Мы определили пик продаж на рынке компьютерных игр и выделили акутальный период для анализа. Затем проанализировали срок жизни игровых платформ и выделили нетолько самые популярные, но и самые живые платформы. Также мы проанализировли распределение игр по жанрам и определили тенденцию глобального рынка компьютерных игр в целом. Однако, нужно проанализировать каждый регион по отдельности на предмет отличий и особенностей пользователя.  "
   ]
  },
  {
   "cell_type": "markdown",
   "metadata": {},
   "source": [
    "## Портрет пользователя каждого региона"
   ]
  },
  {
   "cell_type": "markdown",
   "metadata": {},
   "source": [
    "Для того, чтобы составить портрет пользователя каждого региона, необходимо определить для пользователя каждого региона: самые популярные платформы, самые популярные жанры и влияние рейтинга ESRB на продажи в отдельном регионе. Для этого будем использовать циклы и построим накопительную столбчатую гистограмму."
   ]
  },
  {
   "cell_type": "code",
   "execution_count": 78,
   "metadata": {},
   "outputs": [
    {
     "data": {
      "text/html": [
       "<div>\n",
       "<style scoped>\n",
       "    .dataframe tbody tr th:only-of-type {\n",
       "        vertical-align: middle;\n",
       "    }\n",
       "\n",
       "    .dataframe tbody tr th {\n",
       "        vertical-align: top;\n",
       "    }\n",
       "\n",
       "    .dataframe thead th {\n",
       "        text-align: right;\n",
       "    }\n",
       "</style>\n",
       "<table border=\"1\" class=\"dataframe\">\n",
       "  <thead>\n",
       "    <tr style=\"text-align: right;\">\n",
       "      <th></th>\n",
       "      <th>na_sales</th>\n",
       "      <th>eu_sales</th>\n",
       "      <th>jp_sales</th>\n",
       "    </tr>\n",
       "    <tr>\n",
       "      <th>platform</th>\n",
       "      <th></th>\n",
       "      <th></th>\n",
       "      <th></th>\n",
       "    </tr>\n",
       "  </thead>\n",
       "  <tbody>\n",
       "    <tr>\n",
       "      <th>3DS</th>\n",
       "      <td>38.20</td>\n",
       "      <td>30.96</td>\n",
       "      <td>67.81</td>\n",
       "    </tr>\n",
       "    <tr>\n",
       "      <th>PS3</th>\n",
       "      <td>63.50</td>\n",
       "      <td>67.81</td>\n",
       "      <td>23.35</td>\n",
       "    </tr>\n",
       "    <tr>\n",
       "      <th>PS4</th>\n",
       "      <td>108.74</td>\n",
       "      <td>141.09</td>\n",
       "      <td>15.96</td>\n",
       "    </tr>\n",
       "    <tr>\n",
       "      <th>X360</th>\n",
       "      <td>81.66</td>\n",
       "      <td>42.52</td>\n",
       "      <td>0.51</td>\n",
       "    </tr>\n",
       "    <tr>\n",
       "      <th>XOne</th>\n",
       "      <td>93.12</td>\n",
       "      <td>51.59</td>\n",
       "      <td>0.34</td>\n",
       "    </tr>\n",
       "  </tbody>\n",
       "</table>\n",
       "</div>"
      ],
      "text/plain": [
       "          na_sales  eu_sales  jp_sales\n",
       "platform                              \n",
       "3DS          38.20     30.96     67.81\n",
       "PS3          63.50     67.81     23.35\n",
       "PS4         108.74    141.09     15.96\n",
       "X360         81.66     42.52      0.51\n",
       "XOne         93.12     51.59      0.34"
      ]
     },
     "metadata": {},
     "output_type": "display_data"
    },
    {
     "data": {
      "text/html": [
       "<div>\n",
       "<style scoped>\n",
       "    .dataframe tbody tr th:only-of-type {\n",
       "        vertical-align: middle;\n",
       "    }\n",
       "\n",
       "    .dataframe tbody tr th {\n",
       "        vertical-align: top;\n",
       "    }\n",
       "\n",
       "    .dataframe thead th {\n",
       "        text-align: right;\n",
       "    }\n",
       "</style>\n",
       "<table border=\"1\" class=\"dataframe\">\n",
       "  <thead>\n",
       "    <tr style=\"text-align: right;\">\n",
       "      <th></th>\n",
       "      <th>na_sales</th>\n",
       "      <th>eu_sales</th>\n",
       "      <th>jp_sales</th>\n",
       "    </tr>\n",
       "    <tr>\n",
       "      <th>platform</th>\n",
       "      <th></th>\n",
       "      <th></th>\n",
       "      <th></th>\n",
       "    </tr>\n",
       "  </thead>\n",
       "  <tbody>\n",
       "    <tr>\n",
       "      <th>3DS</th>\n",
       "      <td>0.099164</td>\n",
       "      <td>0.092703</td>\n",
       "      <td>0.628045</td>\n",
       "    </tr>\n",
       "    <tr>\n",
       "      <th>PS3</th>\n",
       "      <td>0.164841</td>\n",
       "      <td>0.203042</td>\n",
       "      <td>0.216264</td>\n",
       "    </tr>\n",
       "    <tr>\n",
       "      <th>PS4</th>\n",
       "      <td>0.282280</td>\n",
       "      <td>0.422463</td>\n",
       "      <td>0.147819</td>\n",
       "    </tr>\n",
       "    <tr>\n",
       "      <th>X360</th>\n",
       "      <td>0.211983</td>\n",
       "      <td>0.127317</td>\n",
       "      <td>0.004724</td>\n",
       "    </tr>\n",
       "    <tr>\n",
       "      <th>XOne</th>\n",
       "      <td>0.241732</td>\n",
       "      <td>0.154475</td>\n",
       "      <td>0.003149</td>\n",
       "    </tr>\n",
       "  </tbody>\n",
       "</table>\n",
       "</div>"
      ],
      "text/plain": [
       "          na_sales  eu_sales  jp_sales\n",
       "platform                              \n",
       "3DS       0.099164  0.092703  0.628045\n",
       "PS3       0.164841  0.203042  0.216264\n",
       "PS4       0.282280  0.422463  0.147819\n",
       "X360      0.211983  0.127317  0.004724\n",
       "XOne      0.241732  0.154475  0.003149"
      ]
     },
     "metadata": {},
     "output_type": "display_data"
    },
    {
     "data": {
      "image/png": "[encoded data removed]",
      "text/plain": [
       "<Figure size 1080x360 with 1 Axes>"
      ]
     },
     "metadata": {
      "needs_background": "light"
     },
     "output_type": "display_data"
    }
   ],
   "source": [
    "top_pl = df_act.groupby('platform').agg({'total_sales':'sum'}).sort_values(by = 'total_sales',\n",
    "                                                                    ascending = False).head(5).index\n",
    "report = df_act.query('platform in @top_pl').groupby('platform')[['na_sales', 'eu_sales', 'jp_sales']].sum()\n",
    "display(report)\n",
    "\n",
    "for col in report.columns:\n",
    "    report[col] =  report[col]/ report[col].sum()   \n",
    "display(report)    \n",
    "\n",
    "report.T.plot(kind='barh', stacked=True, figsize=(15,5))\n",
    "plt.legend(loc='upper right');\n"
   ]
  },
  {
   "cell_type": "markdown",
   "metadata": {},
   "source": [
    "В целом, наибольшей популярностью в Японии пользуется плафторма 3DS в противоположность остальным регионам. Мы видим, что распределение игр по платформам в Северной Америке и Европе очень схоже, однако XOne и X360 пользуются большей популярностью в Америке, и не совсем популярны в Японии. Посмотрим на распределение платформ в Японии отдельно."
   ]
  },
  {
   "cell_type": "code",
   "execution_count": 79,
   "metadata": {},
   "outputs": [
    {
     "data": {
      "image/png": "[encoded data removed]",
      "text/plain": [
       "<Figure size 360x360 with 1 Axes>"
      ]
     },
     "metadata": {},
     "output_type": "display_data"
    }
   ],
   "source": [
    "df_act.groupby('platform').agg({'jp_sales':'sum'}).sort_values(by = 'jp_sales', \n",
    "                                                                  ascending = False).head(5).plot(kind='pie', rot=70,figsize=(5,5), \n",
    "                                                                                          subplots=True, legend=False,  autopct='%1.1f%%');\n",
    "\n",
    "plt.title('Суммарные продажи по платформам в Японии, млн.шт.');"
   ]
  },
  {
   "cell_type": "markdown",
   "metadata": {},
   "source": [
    "Как оказалось, вместо XOne и X360 у японцев популярны такие платформы, как PSV и WiiU.\n",
    "\n",
    "Посмотрим на распределение жанров по регионам."
   ]
  },
  {
   "cell_type": "code",
   "execution_count": 80,
   "metadata": {},
   "outputs": [
    {
     "data": {
      "text/html": [
       "<div>\n",
       "<style scoped>\n",
       "    .dataframe tbody tr th:only-of-type {\n",
       "        vertical-align: middle;\n",
       "    }\n",
       "\n",
       "    .dataframe tbody tr th {\n",
       "        vertical-align: top;\n",
       "    }\n",
       "\n",
       "    .dataframe thead th {\n",
       "        text-align: right;\n",
       "    }\n",
       "</style>\n",
       "<table border=\"1\" class=\"dataframe\">\n",
       "  <thead>\n",
       "    <tr style=\"text-align: right;\">\n",
       "      <th></th>\n",
       "      <th>na_sales</th>\n",
       "      <th>eu_sales</th>\n",
       "      <th>jp_sales</th>\n",
       "    </tr>\n",
       "    <tr>\n",
       "      <th>genre</th>\n",
       "      <th></th>\n",
       "      <th></th>\n",
       "      <th></th>\n",
       "    </tr>\n",
       "  </thead>\n",
       "  <tbody>\n",
       "    <tr>\n",
       "      <th>Action</th>\n",
       "      <td>126.05</td>\n",
       "      <td>118.13</td>\n",
       "      <td>40.49</td>\n",
       "    </tr>\n",
       "    <tr>\n",
       "      <th>Others</th>\n",
       "      <td>90.25</td>\n",
       "      <td>88.75</td>\n",
       "      <td>37.23</td>\n",
       "    </tr>\n",
       "    <tr>\n",
       "      <th>Role-Playing</th>\n",
       "      <td>46.40</td>\n",
       "      <td>36.97</td>\n",
       "      <td>51.04</td>\n",
       "    </tr>\n",
       "    <tr>\n",
       "      <th>Shooter</th>\n",
       "      <td>109.74</td>\n",
       "      <td>87.86</td>\n",
       "      <td>6.61</td>\n",
       "    </tr>\n",
       "    <tr>\n",
       "      <th>Sports</th>\n",
       "      <td>65.27</td>\n",
       "      <td>60.52</td>\n",
       "      <td>5.41</td>\n",
       "    </tr>\n",
       "  </tbody>\n",
       "</table>\n",
       "</div>"
      ],
      "text/plain": [
       "              na_sales  eu_sales  jp_sales\n",
       "genre                                     \n",
       "Action          126.05    118.13     40.49\n",
       "Others           90.25     88.75     37.23\n",
       "Role-Playing     46.40     36.97     51.04\n",
       "Shooter         109.74     87.86      6.61\n",
       "Sports           65.27     60.52      5.41"
      ]
     },
     "metadata": {},
     "output_type": "display_data"
    },
    {
     "data": {
      "text/html": [
       "<div>\n",
       "<style scoped>\n",
       "    .dataframe tbody tr th:only-of-type {\n",
       "        vertical-align: middle;\n",
       "    }\n",
       "\n",
       "    .dataframe tbody tr th {\n",
       "        vertical-align: top;\n",
       "    }\n",
       "\n",
       "    .dataframe thead th {\n",
       "        text-align: right;\n",
       "    }\n",
       "</style>\n",
       "<table border=\"1\" class=\"dataframe\">\n",
       "  <thead>\n",
       "    <tr style=\"text-align: right;\">\n",
       "      <th></th>\n",
       "      <th>na_sales</th>\n",
       "      <th>eu_sales</th>\n",
       "      <th>jp_sales</th>\n",
       "    </tr>\n",
       "    <tr>\n",
       "      <th>genre</th>\n",
       "      <th></th>\n",
       "      <th></th>\n",
       "      <th></th>\n",
       "    </tr>\n",
       "  </thead>\n",
       "  <tbody>\n",
       "    <tr>\n",
       "      <th>Action</th>\n",
       "      <td>0.287976</td>\n",
       "      <td>0.301175</td>\n",
       "      <td>0.287612</td>\n",
       "    </tr>\n",
       "    <tr>\n",
       "      <th>Others</th>\n",
       "      <td>0.206187</td>\n",
       "      <td>0.226270</td>\n",
       "      <td>0.264455</td>\n",
       "    </tr>\n",
       "    <tr>\n",
       "      <th>Role-Playing</th>\n",
       "      <td>0.106006</td>\n",
       "      <td>0.094256</td>\n",
       "      <td>0.362551</td>\n",
       "    </tr>\n",
       "    <tr>\n",
       "      <th>Shooter</th>\n",
       "      <td>0.250714</td>\n",
       "      <td>0.224001</td>\n",
       "      <td>0.046953</td>\n",
       "    </tr>\n",
       "    <tr>\n",
       "      <th>Sports</th>\n",
       "      <td>0.149117</td>\n",
       "      <td>0.154297</td>\n",
       "      <td>0.038429</td>\n",
       "    </tr>\n",
       "  </tbody>\n",
       "</table>\n",
       "</div>"
      ],
      "text/plain": [
       "              na_sales  eu_sales  jp_sales\n",
       "genre                                     \n",
       "Action        0.287976  0.301175  0.287612\n",
       "Others        0.206187  0.226270  0.264455\n",
       "Role-Playing  0.106006  0.094256  0.362551\n",
       "Shooter       0.250714  0.224001  0.046953\n",
       "Sports        0.149117  0.154297  0.038429"
      ]
     },
     "metadata": {},
     "output_type": "display_data"
    },
    {
     "data": {
      "image/png": "[encoded data removed]",
      "text/plain": [
       "<Figure size 1080x360 with 1 Axes>"
      ]
     },
     "metadata": {
      "needs_background": "light"
     },
     "output_type": "display_data"
    }
   ],
   "source": [
    "top_gn = df_act.groupby('genre').agg({'total_sales':'sum'}).sort_values(by = 'total_sales',\n",
    "                                                                    ascending = False).head(5).index\n",
    "report = df_act.query('genre in @top_gn').groupby('genre')[['na_sales', 'eu_sales', 'jp_sales']].sum()\n",
    "display(report)\n",
    "\n",
    "for col in report.columns:\n",
    "    report[col] =  report[col]/ report[col].sum()   \n",
    "display(report)    \n",
    "\n",
    "report.T.plot(kind='barh', stacked=True, figsize=(15,5))\n",
    "plt.legend(loc='upper right');\n"
   ]
  },
  {
   "cell_type": "markdown",
   "metadata": {},
   "source": [
    "По аналогии с анализом платформ, мы видим что и в жанрах японский пользователь отличается от американского или европейского.\n",
    "Самый популярный жанр для Японии Role-Playing, в то время как в остальных регионах популярен жанр Action. Еще интересно, что жанр Shooter не такой популярный как в Европе и Америке, а жанр Sports совсем не пользуется популярностью в Японии, в то время как занимает значительную долю продаж в остальных регионах.\n",
    "Очевидно, что какой-то жанр мы упустили из виду при анализе японского пользователя. Взглянем на круговую диаграмму Японии отдельно."
   ]
  },
  {
   "cell_type": "code",
   "execution_count": 81,
   "metadata": {},
   "outputs": [
    {
     "data": {
      "image/png": "[encoded data removed]",
      "text/plain": [
       "<Figure size 360x360 with 1 Axes>"
      ]
     },
     "metadata": {},
     "output_type": "display_data"
    }
   ],
   "source": [
    "df_act.groupby('genre').agg({'jp_sales':'sum'}).sort_values(by = 'jp_sales', \n",
    "                                                                  ascending = False).head(5).plot(kind='pie', rot=70,figsize=(5,5), \n",
    "                                                                                          subplots=True, legend=False,  autopct='%1.1f%%');\n",
    "\n",
    "plt.title('Суммарные продажи по платформам в Японии, млн.шт.');"
   ]
  },
  {
   "cell_type": "markdown",
   "metadata": {},
   "source": [
    "Как мы видим, вместо жанра Sports у японцев популярен жанр Fighting.\n",
    "\n",
    "Посмотрим, как влияет возрастной рейтинг на продажи в каждом регионе."
   ]
  },
  {
   "cell_type": "code",
   "execution_count": 82,
   "metadata": {},
   "outputs": [
    {
     "data": {
      "image/png": "[encoded data removed]",
      "text/plain": [
       "<Figure size 360x360 with 1 Axes>"
      ]
     },
     "metadata": {},
     "output_type": "display_data"
    },
    {
     "data": {
      "image/png": "[encoded data removed]",
      "text/plain": [
       "<Figure size 360x360 with 1 Axes>"
      ]
     },
     "metadata": {},
     "output_type": "display_data"
    },
    {
     "data": {
      "image/png": "[encoded data removed]",
      "text/plain": [
       "<Figure size 360x360 with 1 Axes>"
      ]
     },
     "metadata": {},
     "output_type": "display_data"
    }
   ],
   "source": [
    "regions = {\n",
    "    'na_sales': 'Северная Америка',\n",
    "    'eu_sales': 'Европа',\n",
    "    'jp_sales': 'Япония'\n",
    "}    \n",
    "\n",
    "for title in regions:\n",
    "    df_act.groupby('rating_desc').agg({title:'sum'}).plot(kind='pie', rot=70,figsize=(5,5),subplots=True, legend=False,\n",
    "                                                                                         autopct='%1.1f%%');\n",
    "    plt.title(regions.get(title))\n",
    "    plt.show()\n",
    "    \n",
    "   "
   ]
  },
  {
   "cell_type": "markdown",
   "metadata": {},
   "source": [
    "Как мы видим из полученных диграмм, наибольшей популярностью в Европе и Америке пользуются игры 17+, в то время как в Японии 60.4% занимают игры с неизвестным рейтингом, скорее всего в Японии есть своя рейтинговая система возрастов."
   ]
  },
  {
   "cell_type": "markdown",
   "metadata": {},
   "source": [
    "**Вывод**"
   ]
  },
  {
   "cell_type": "markdown",
   "metadata": {},
   "source": [
    "Таким образом, мы определили, что часто встречаемый европейский пользователь старше 17 лет играет на платформе PS4 в жанре Action, в то время как американский пользователь играет на платформе PS4 ли XOne в жанрах  Action или Shooter. И совсем не похожий на остальных, японский пользователь неизвестного возраста играет на платформе 3DS в жанре Role-Playing и совсем не увлекается жанром Sports,  в отличии от европейцев и американцев."
   ]
  },
  {
   "cell_type": "markdown",
   "metadata": {},
   "source": [
    "## Проверка гипотез и пояснения"
   ]
  },
  {
   "cell_type": "markdown",
   "metadata": {},
   "source": [
    "На данном этапе наша цель проверить две гипотезы:\n",
    "\n",
    "1. Средние пользовательские рейтинги платформ Xbox One и PC одинаковые.\n",
    "2. Средние пользовательские рейтинги жанров Action (англ. «действие», экшен-игры) и Sports (англ. «спортивные соревнования») разные.\n",
    "\n",
    "Начнем с первой гипотезы. Установим нулевую гипотезу о равенстве средних двух совокупностей и противопоставим ей альтрнативную гипотезу:\n",
    "\n",
    "H₀: Средний пользовательский рейтинг платформы Xbox One равен среднему рейтингу платформы PC;\\\n",
    "H₁: Средний пользовательский рейтинг платформы Xbox One не равен среднему рейтингу платформы PC.\n",
    "\n",
    "Для проверки нулевой и альтернативной гипотезы нам необходимо установить критический уровень и определить равенство дисперсий в двух совокупностях.\\\n",
    "Критические значения задаются выбранным уровнем значимости проверки гипотезы. Уровень значимости — это суммарная вероятность того, что измеренное эмпирически значение окажется далеко от среднего. Предположим, что допустимая вероятность этого - 5%.\\\n",
    "Касательно дисперсий воспользуемся методом `.var`, который поможет нам установить равны дисперсии изучаемых выборок или нет. "
   ]
  },
  {
   "cell_type": "markdown",
   "metadata": {},
   "source": [
    "Мы знаем, что в колонках \"user_score\" есть пропущенные значения. Для проведения t-теста нам необходимо избавиться от пропусков."
   ]
  },
  {
   "cell_type": "code",
   "execution_count": 83,
   "metadata": {},
   "outputs": [
    {
     "name": "stdout",
     "output_type": "stream",
     "text": [
      "Дисперсии выборок не равны.\n"
     ]
    }
   ],
   "source": [
    "#удалим пропуски из столбца \"user_score\"\n",
    "df_act = df_act.dropna(subset=['user_score'])\n",
    "\n",
    "pc_df = df_act[df_act['platform'] == 'PC']\n",
    "xone_df = df_act[df_act['platform'] == 'XOne']\n",
    "\n",
    "pc_var = np.var(pc_df['user_score'])\n",
    "xone_var = np.var(xone_df['user_score'])\n",
    "\n",
    "if pc_var == xone_var: print('Дисперсии выборок равны.')\n",
    "else: print('Дисперсии выборок не равны.')   "
   ]
  },
  {
   "cell_type": "markdown",
   "metadata": {},
   "source": [
    "Мы получили всю необходимую информацию и теперь можем провести t-тест. Применим метод scipy.stats.ttest_ind() и передадим ему следующие параметры: массивы, содержащие выборки выручки каждого тарифа отдельно; equal_var=False, т.к. мы установили что дисперсии не равны."
   ]
  },
  {
   "cell_type": "code",
   "execution_count": 84,
   "metadata": {},
   "outputs": [
    {
     "name": "stdout",
     "output_type": "stream",
     "text": [
      "p-значение:  0.14759594013430463\n",
      "Не получилось отвергнуть нулевую гипотезу.\n"
     ]
    }
   ],
   "source": [
    "alpha = .05 # критический уровень статистической значимости\n",
    "# если p-value окажется меньше него - отвергнем гипотезу\n",
    "\n",
    "results = st.ttest_ind(pc_df['user_score'],xone_df['user_score'], equal_var = False)\n",
    "# equal_var - считать ли равными дисперсии выборок\n",
    "\n",
    "print('p-значение: ', results.pvalue)\n",
    "\n",
    "if results.pvalue < alpha:\n",
    "    print(\"Отвергаем нулевую гипотезу.\")\n",
    "else:\n",
    "    print(\"Не получилось отвергнуть нулевую гипотезу.\") "
   ]
  },
  {
   "cell_type": "markdown",
   "metadata": {},
   "source": [
    "Благодаря t-тесту мы установили что средний пользовательский рейтинг платформы Xbox One равен среднему рейтингу платформы PC;\\.\n",
    "\n",
    "Далее, установим нулевую и альтернативную гипотезы о равенстве средних пользовательских рейтингов жанров Action и Sports :\n",
    "\n",
    "H₀: Средний пользовательский рейтинг жанра Action равен среднему рейтингу жанра Sports;\\\n",
    "H₁: Средний пользовательский рейтинг жанра Action не равен среднему рейтингу жанра Sports.\n",
    "\n",
    "Сначала определим равенство дисперсий, а затем проведем t-тест по аналогии с предыдущей гипотезой."
   ]
  },
  {
   "cell_type": "code",
   "execution_count": 85,
   "metadata": {},
   "outputs": [
    {
     "name": "stdout",
     "output_type": "stream",
     "text": [
      "Дисперсии выборок не равны.\n"
     ]
    }
   ],
   "source": [
    "action_df = df_act[df_act['genre'] == 'Action']\n",
    "sports_df = df_act[df_act['genre'] == 'Sports']\n",
    "\n",
    "action_var = np.var(action_df['user_score'])\n",
    "sports_var = np.var(sports_df['user_score'])\n",
    "\n",
    "if action_var == sports_var: print('Дисперсии выборок равны.')\n",
    "else: print('Дисперсии выборок не равны.')   "
   ]
  },
  {
   "cell_type": "markdown",
   "metadata": {},
   "source": [
    "Теперь можем приступать к t-тесту. "
   ]
  },
  {
   "cell_type": "code",
   "execution_count": 86,
   "metadata": {},
   "outputs": [
    {
     "name": "stdout",
     "output_type": "stream",
     "text": [
      "p-значение:  1.4460039700704315e-20\n",
      "Отвергаем нулевую гипотезу.\n"
     ]
    }
   ],
   "source": [
    "alpha = .05 # критический уровень статистической значимости\n",
    "# если p-value окажется меньше него - отвергнем гипотезу\n",
    "\n",
    "results = st.ttest_ind(action_df['user_score'],sports_df['user_score'], equal_var = False)\n",
    "# equal_var - считать ли равными дисперсии выборок\n",
    "\n",
    "print('p-значение: ', results.pvalue)\n",
    "\n",
    "if results.pvalue < alpha:\n",
    "    print(\"Отвергаем нулевую гипотезу.\")\n",
    "else:\n",
    "    print(\"Не получилось отвергнуть нулевую гипотезу.\") "
   ]
  },
  {
   "cell_type": "markdown",
   "metadata": {},
   "source": [
    "Таким образом, мы определили, что в среднем пользователи оценивают жанры Action и Sports на разных уровнях. Это соотвествует тому, что мы видели на графиках в предыдущем пункте - жанр Action является самым популярным у пользователей, в то время как Sports находится на 3ем месте по популярности. "
   ]
  },
  {
   "cell_type": "markdown",
   "metadata": {},
   "source": [
    "**Вывод**"
   ]
  },
  {
   "cell_type": "markdown",
   "metadata": {},
   "source": [
    "Мы установили нулевую и альтернативную гипотезы для каждого вопроса и разделили датафрейм на две выборки по каждому вопросу отдельно. Затем чтобы проверить гипотезы о равенстве среднего двух выборок, мы применили метод scipy.stats.ttest_ind()."
   ]
  },
  {
   "cell_type": "markdown",
   "metadata": {},
   "source": [
    "## Общий вывод"
   ]
  },
  {
   "cell_type": "markdown",
   "metadata": {},
   "source": [
    "Мы получили данные сервиса интернет-магазина «Стримчик» — архив данных о продажах игр, оценки пользователей и экспертов, жанры и платформы за несколько лет. С помощью предобработки данных мы смогли обработать полученный датасет, рассчитать новые показатели и провести исследовательский анализ данных. Это помогло нам выявить параметры, которые влияют на успешность тех или иных игр.\n",
    "\n",
    "Мы определили, что несмотряя на существование рынка игр с 1980х годов, пик развития рынка пришел лишь на 2008 год и затем, после 2011 года рынок перешел в стадию стагнации. Это можно объяснить тем, что платформы нашли некий эквилибриум между возможностями рынка и желаниями пользователей. Мы заметили что по мере развития рынка игр, платформы меняли позиции в лидерстве, т.к. ни одна платформа не может существовать более 10 лет в среднем. Причем пика продаж каждая платформа в среднем достигает за 3 года, а затем начинает уступать лидерство на рынке более новой и успешной платформе. Так, мы увидели что за последние несколько лет явное лидерство на рынке принадлежит платформе PS4, однако после 2015 г. наблюдается спад продаж, как и у всего рынка в целом.\n",
    "\n",
    "В дополнении, мы выявили, что у каждой платформы есть свой топ-селлер, который тянет основную часть продаж и приносит высокий рейтинг платформе. За последние несколько лет данные топ-селлеры имеют жанры Action или Shooter, которые имеют сильную взаимосвязь с оценками пользователей и критиков. При этом, на остальном рынке в целом, ни оценка пользователей, ни оценка критиков практически не влияет на успешность той или иной игры.\n",
    "\n",
    "Также, мы составили портреты пользователей для каждого региона и заметили, что европейские и американские игроки в целом индентичны, в то время как игроки в Японии имеют свои отичительные черты. Так, в Японии наибольшей популярностью пользуются игры жанра Role-Playing на платформе 3DS. В то же время игроки из Европы и Америки предпочитают игры в жанре Action на платфрме PS4.  \n",
    "\n",
    "И, в заключении, при помощи статистического анализа мы проверили две гипотезы и установили:\n",
    "\n",
    "1. Средние пользовательские рейтинги платформ Xbox One и PC одинаковые.\n",
    "2. Средние пользовательские рейтинги жанров Action (англ. «действие», экшен-игры) и Sports (англ. «спортивные соревнования») разные."
   ]
  }
 ],
 "metadata": {
  "ExecuteTimeLog": [
   {
    "duration": 1441,
    "start_time": "2022-03-27T07:59:05.405Z"
   },
   {
    "duration": 55,
    "start_time": "2022-03-27T08:49:40.121Z"
   },
   {
    "duration": 55,
    "start_time": "2022-03-27T08:50:35.059Z"
   },
   {
    "duration": 5,
    "start_time": "2022-03-27T08:50:53.444Z"
   },
   {
    "duration": 27,
    "start_time": "2022-03-27T08:52:10.645Z"
   },
   {
    "duration": 203,
    "start_time": "2022-03-27T09:05:10.012Z"
   },
   {
    "duration": 24,
    "start_time": "2022-03-27T09:07:19.804Z"
   },
   {
    "duration": 23,
    "start_time": "2022-03-27T09:09:50.971Z"
   },
   {
    "duration": 10,
    "start_time": "2022-03-27T09:11:09.355Z"
   },
   {
    "duration": 16,
    "start_time": "2022-03-27T09:15:14.258Z"
   },
   {
    "duration": 14,
    "start_time": "2022-03-27T09:15:19.796Z"
   },
   {
    "duration": 71,
    "start_time": "2022-03-27T09:15:30.197Z"
   },
   {
    "duration": 7,
    "start_time": "2022-03-27T09:15:30.271Z"
   },
   {
    "duration": 17,
    "start_time": "2022-03-27T09:15:30.280Z"
   },
   {
    "duration": 11,
    "start_time": "2022-03-27T09:15:30.299Z"
   },
   {
    "duration": 23,
    "start_time": "2022-03-27T09:49:06.504Z"
   },
   {
    "duration": 400,
    "start_time": "2022-03-27T09:52:33.322Z"
   },
   {
    "duration": 393,
    "start_time": "2022-03-27T09:53:06.559Z"
   },
   {
    "duration": 604,
    "start_time": "2022-03-27T09:53:09.342Z"
   },
   {
    "duration": 400,
    "start_time": "2022-03-27T09:54:13.551Z"
   },
   {
    "duration": 12,
    "start_time": "2022-03-27T09:55:52.259Z"
   },
   {
    "duration": 27,
    "start_time": "2022-03-27T09:55:56.095Z"
   },
   {
    "duration": 3202,
    "start_time": "2022-03-27T09:56:05.191Z"
   },
   {
    "duration": 136,
    "start_time": "2022-03-27T09:56:39.119Z"
   },
   {
    "duration": 243,
    "start_time": "2022-03-27T09:57:00.910Z"
   },
   {
    "duration": 268,
    "start_time": "2022-03-27T09:57:15.870Z"
   },
   {
    "duration": 279,
    "start_time": "2022-03-27T09:58:15.284Z"
   },
   {
    "duration": 262,
    "start_time": "2022-03-27T09:58:32.807Z"
   },
   {
    "duration": 810,
    "start_time": "2022-03-27T09:59:20.672Z"
   },
   {
    "duration": 472,
    "start_time": "2022-03-27T10:00:05.176Z"
   },
   {
    "duration": 780,
    "start_time": "2022-03-27T10:00:11.841Z"
   },
   {
    "duration": 19,
    "start_time": "2022-03-27T10:04:58.201Z"
   },
   {
    "duration": 10,
    "start_time": "2022-03-27T10:05:20.634Z"
   },
   {
    "duration": 183,
    "start_time": "2022-03-27T10:05:48.762Z"
   },
   {
    "duration": 8,
    "start_time": "2022-03-27T10:05:53.425Z"
   },
   {
    "duration": 70,
    "start_time": "2022-03-27T10:07:03.087Z"
   },
   {
    "duration": 6,
    "start_time": "2022-03-27T10:07:03.160Z"
   },
   {
    "duration": 34,
    "start_time": "2022-03-27T10:07:03.168Z"
   },
   {
    "duration": 12,
    "start_time": "2022-03-27T10:07:03.205Z"
   },
   {
    "duration": 10,
    "start_time": "2022-03-27T10:07:03.220Z"
   },
   {
    "duration": 15,
    "start_time": "2022-03-27T10:07:03.231Z"
   },
   {
    "duration": 305,
    "start_time": "2022-03-27T10:07:03.247Z"
   },
   {
    "duration": 14,
    "start_time": "2022-03-27T10:08:08.573Z"
   },
   {
    "duration": 15,
    "start_time": "2022-03-27T10:08:15.052Z"
   },
   {
    "duration": 13,
    "start_time": "2022-03-27T10:08:24.651Z"
   },
   {
    "duration": 4,
    "start_time": "2022-03-27T10:13:51.382Z"
   },
   {
    "duration": 16,
    "start_time": "2022-03-27T10:13:52.173Z"
   },
   {
    "duration": 22,
    "start_time": "2022-03-27T10:14:02.656Z"
   },
   {
    "duration": 17,
    "start_time": "2022-03-27T10:14:16.306Z"
   },
   {
    "duration": 46,
    "start_time": "2022-03-27T16:58:14.284Z"
   },
   {
    "duration": 1319,
    "start_time": "2022-03-27T16:58:18.753Z"
   },
   {
    "duration": 5,
    "start_time": "2022-03-27T16:58:20.074Z"
   },
   {
    "duration": 21,
    "start_time": "2022-03-27T16:58:20.080Z"
   },
   {
    "duration": 11,
    "start_time": "2022-03-27T16:58:20.104Z"
   },
   {
    "duration": 22,
    "start_time": "2022-03-27T16:58:20.117Z"
   },
   {
    "duration": 13,
    "start_time": "2022-03-27T16:58:20.141Z"
   },
   {
    "duration": 4,
    "start_time": "2022-03-27T16:58:20.156Z"
   },
   {
    "duration": 7,
    "start_time": "2022-03-27T16:58:20.162Z"
   },
   {
    "duration": 14,
    "start_time": "2022-03-27T16:58:20.170Z"
   },
   {
    "duration": 16,
    "start_time": "2022-03-27T16:58:20.186Z"
   },
   {
    "duration": 93,
    "start_time": "2022-03-27T16:58:20.203Z"
   },
   {
    "duration": 13,
    "start_time": "2022-03-27T16:59:14.326Z"
   },
   {
    "duration": 9,
    "start_time": "2022-03-27T16:59:42.726Z"
   },
   {
    "duration": 14,
    "start_time": "2022-03-27T17:41:14.399Z"
   },
   {
    "duration": 4,
    "start_time": "2022-03-27T17:41:38.215Z"
   },
   {
    "duration": 5,
    "start_time": "2022-03-27T17:48:06.277Z"
   },
   {
    "duration": 18,
    "start_time": "2022-03-27T17:48:07.090Z"
   },
   {
    "duration": 90,
    "start_time": "2022-03-27T17:50:20.443Z"
   },
   {
    "duration": 13,
    "start_time": "2022-03-27T17:50:28.939Z"
   },
   {
    "duration": 57,
    "start_time": "2022-03-27T17:52:12.055Z"
   },
   {
    "duration": 4,
    "start_time": "2022-03-27T17:52:13.380Z"
   },
   {
    "duration": 16,
    "start_time": "2022-03-27T17:52:13.587Z"
   },
   {
    "duration": 224,
    "start_time": "2022-03-27T17:52:52.571Z"
   },
   {
    "duration": 14,
    "start_time": "2022-03-27T17:52:55.892Z"
   },
   {
    "duration": 226,
    "start_time": "2022-03-27T17:53:06.131Z"
   },
   {
    "duration": 12,
    "start_time": "2022-03-27T17:53:08.260Z"
   },
   {
    "duration": 54,
    "start_time": "2022-03-27T17:53:45.188Z"
   },
   {
    "duration": 44,
    "start_time": "2022-04-01T08:07:35.880Z"
   },
   {
    "duration": 1331,
    "start_time": "2022-04-01T08:07:41.039Z"
   },
   {
    "duration": 14,
    "start_time": "2022-04-01T08:07:42.371Z"
   },
   {
    "duration": 6,
    "start_time": "2022-04-01T08:07:42.386Z"
   },
   {
    "duration": 9,
    "start_time": "2022-04-01T08:07:42.393Z"
   },
   {
    "duration": 14,
    "start_time": "2022-04-01T08:07:42.404Z"
   },
   {
    "duration": 4,
    "start_time": "2022-04-01T08:07:42.419Z"
   },
   {
    "duration": 12,
    "start_time": "2022-04-01T08:07:42.425Z"
   },
   {
    "duration": 8,
    "start_time": "2022-04-01T08:07:42.439Z"
   },
   {
    "duration": 15,
    "start_time": "2022-04-01T08:07:42.448Z"
   },
   {
    "duration": 4,
    "start_time": "2022-04-01T08:07:42.465Z"
   },
   {
    "duration": 138,
    "start_time": "2022-04-01T08:07:42.471Z"
   },
   {
    "duration": 5,
    "start_time": "2022-04-01T08:07:42.610Z"
   },
   {
    "duration": 14,
    "start_time": "2022-04-01T08:07:42.616Z"
   },
   {
    "duration": 13,
    "start_time": "2022-04-01T08:07:42.632Z"
   },
   {
    "duration": 61,
    "start_time": "2022-04-01T08:12:11.439Z"
   },
   {
    "duration": 295,
    "start_time": "2022-04-01T08:12:18.785Z"
   },
   {
    "duration": 273,
    "start_time": "2022-04-01T08:12:28.040Z"
   },
   {
    "duration": 280,
    "start_time": "2022-04-01T08:12:33.137Z"
   },
   {
    "duration": 114,
    "start_time": "2022-04-01T08:13:22.633Z"
   },
   {
    "duration": 168,
    "start_time": "2022-04-01T08:14:19.974Z"
   },
   {
    "duration": 161,
    "start_time": "2022-04-01T08:14:55.282Z"
   },
   {
    "duration": 210,
    "start_time": "2022-04-01T08:15:30.043Z"
   },
   {
    "duration": 145,
    "start_time": "2022-04-01T08:15:52.450Z"
   },
   {
    "duration": 166,
    "start_time": "2022-04-01T08:16:22.816Z"
   },
   {
    "duration": 279,
    "start_time": "2022-04-01T08:45:39.944Z"
   },
   {
    "duration": 263,
    "start_time": "2022-04-01T08:48:07.166Z"
   },
   {
    "duration": 199,
    "start_time": "2022-04-01T08:49:22.906Z"
   },
   {
    "duration": 210,
    "start_time": "2022-04-01T08:49:40.954Z"
   },
   {
    "duration": 300,
    "start_time": "2022-04-01T08:51:00.762Z"
   },
   {
    "duration": 429,
    "start_time": "2022-04-01T08:51:16.755Z"
   },
   {
    "duration": 299,
    "start_time": "2022-04-01T08:54:15.072Z"
   },
   {
    "duration": 290,
    "start_time": "2022-04-01T08:54:40.932Z"
   },
   {
    "duration": 139,
    "start_time": "2022-04-01T08:54:45.131Z"
   },
   {
    "duration": 192,
    "start_time": "2022-04-01T08:54:51.763Z"
   },
   {
    "duration": 151,
    "start_time": "2022-04-01T08:55:07.813Z"
   },
   {
    "duration": 250,
    "start_time": "2022-04-01T08:55:21.684Z"
   },
   {
    "duration": 327,
    "start_time": "2022-04-01T08:55:31.364Z"
   },
   {
    "duration": 11,
    "start_time": "2022-04-01T09:10:41.745Z"
   },
   {
    "duration": 17,
    "start_time": "2022-04-01T09:13:31.991Z"
   },
   {
    "duration": 11,
    "start_time": "2022-04-01T09:18:51.000Z"
   },
   {
    "duration": 12,
    "start_time": "2022-04-01T09:19:01.657Z"
   },
   {
    "duration": 20,
    "start_time": "2022-04-01T09:20:31.696Z"
   },
   {
    "duration": 29,
    "start_time": "2022-04-01T09:24:37.687Z"
   },
   {
    "duration": 9,
    "start_time": "2022-04-01T10:59:51.591Z"
   },
   {
    "duration": 9,
    "start_time": "2022-04-01T11:00:01.328Z"
   },
   {
    "duration": 18,
    "start_time": "2022-04-01T11:00:08.647Z"
   },
   {
    "duration": 203,
    "start_time": "2022-04-01T11:00:17.520Z"
   },
   {
    "duration": 233,
    "start_time": "2022-04-01T11:01:16.521Z"
   },
   {
    "duration": 213,
    "start_time": "2022-04-01T11:01:25.888Z"
   },
   {
    "duration": 189,
    "start_time": "2022-04-01T11:03:51.201Z"
   },
   {
    "duration": 212,
    "start_time": "2022-04-01T11:04:24.120Z"
   },
   {
    "duration": 47,
    "start_time": "2022-04-01T11:04:45.813Z"
   },
   {
    "duration": 45,
    "start_time": "2022-04-01T11:04:52.793Z"
   },
   {
    "duration": 12,
    "start_time": "2022-04-01T11:04:52.840Z"
   },
   {
    "duration": 6,
    "start_time": "2022-04-01T11:04:52.853Z"
   },
   {
    "duration": 13,
    "start_time": "2022-04-01T11:04:52.861Z"
   },
   {
    "duration": 13,
    "start_time": "2022-04-01T11:04:52.876Z"
   },
   {
    "duration": 13,
    "start_time": "2022-04-01T11:04:52.890Z"
   },
   {
    "duration": 9,
    "start_time": "2022-04-01T11:04:52.904Z"
   },
   {
    "duration": 8,
    "start_time": "2022-04-01T11:04:52.915Z"
   },
   {
    "duration": 14,
    "start_time": "2022-04-01T11:04:52.924Z"
   },
   {
    "duration": 4,
    "start_time": "2022-04-01T11:04:52.940Z"
   },
   {
    "duration": 144,
    "start_time": "2022-04-01T11:04:52.945Z"
   },
   {
    "duration": 4,
    "start_time": "2022-04-01T11:04:53.091Z"
   },
   {
    "duration": 13,
    "start_time": "2022-04-01T11:04:53.101Z"
   },
   {
    "duration": 312,
    "start_time": "2022-04-01T11:04:53.117Z"
   },
   {
    "duration": 261,
    "start_time": "2022-04-01T11:04:53.430Z"
   },
   {
    "duration": 308,
    "start_time": "2022-04-01T11:04:53.693Z"
   },
   {
    "duration": 385,
    "start_time": "2022-04-01T11:04:54.002Z"
   },
   {
    "duration": 316,
    "start_time": "2022-04-01T11:05:11.113Z"
   },
   {
    "duration": 299,
    "start_time": "2022-04-01T11:05:19.320Z"
   },
   {
    "duration": 295,
    "start_time": "2022-04-01T11:05:33.057Z"
   },
   {
    "duration": 1837,
    "start_time": "2022-04-02T09:00:15.250Z"
   },
   {
    "duration": 23,
    "start_time": "2022-04-02T09:00:17.091Z"
   },
   {
    "duration": 11,
    "start_time": "2022-04-02T09:00:17.116Z"
   },
   {
    "duration": 15,
    "start_time": "2022-04-02T09:00:17.128Z"
   },
   {
    "duration": 48,
    "start_time": "2022-04-02T09:00:17.147Z"
   },
   {
    "duration": 6,
    "start_time": "2022-04-02T09:00:17.198Z"
   },
   {
    "duration": 10,
    "start_time": "2022-04-02T09:00:17.207Z"
   },
   {
    "duration": 16,
    "start_time": "2022-04-02T09:00:17.219Z"
   },
   {
    "duration": 58,
    "start_time": "2022-04-02T09:00:17.238Z"
   },
   {
    "duration": 11,
    "start_time": "2022-04-02T09:00:17.298Z"
   },
   {
    "duration": 335,
    "start_time": "2022-04-02T09:00:17.312Z"
   },
   {
    "duration": 7,
    "start_time": "2022-04-02T09:00:17.649Z"
   },
   {
    "duration": 30,
    "start_time": "2022-04-02T09:00:17.658Z"
   },
   {
    "duration": 599,
    "start_time": "2022-04-02T09:00:17.691Z"
   },
   {
    "duration": 493,
    "start_time": "2022-04-02T09:00:18.292Z"
   },
   {
    "duration": 215,
    "start_time": "2022-04-02T09:00:18.788Z"
   },
   {
    "duration": 748,
    "start_time": "2022-04-02T09:00:32.494Z"
   },
   {
    "duration": 6,
    "start_time": "2022-04-02T09:03:32.922Z"
   },
   {
    "duration": 6,
    "start_time": "2022-04-02T09:03:40.026Z"
   },
   {
    "duration": 527,
    "start_time": "2022-04-02T09:09:10.318Z"
   },
   {
    "duration": 26,
    "start_time": "2022-04-02T09:22:14.816Z"
   },
   {
    "duration": 306,
    "start_time": "2022-04-02T09:24:35.874Z"
   },
   {
    "duration": 305,
    "start_time": "2022-04-02T09:25:34.910Z"
   },
   {
    "duration": 827,
    "start_time": "2022-04-02T09:25:48.545Z"
   },
   {
    "duration": 345,
    "start_time": "2022-04-02T09:26:31.778Z"
   },
   {
    "duration": 36,
    "start_time": "2022-04-02T09:26:55.154Z"
   },
   {
    "duration": 305,
    "start_time": "2022-04-02T09:27:02.778Z"
   },
   {
    "duration": 671,
    "start_time": "2022-04-02T09:27:16.723Z"
   },
   {
    "duration": 667,
    "start_time": "2022-04-02T09:27:32.345Z"
   },
   {
    "duration": 690,
    "start_time": "2022-04-02T09:28:31.779Z"
   },
   {
    "duration": 783,
    "start_time": "2022-04-02T09:28:58.795Z"
   },
   {
    "duration": 685,
    "start_time": "2022-04-02T09:29:14.082Z"
   },
   {
    "duration": 648,
    "start_time": "2022-04-02T09:30:56.131Z"
   },
   {
    "duration": 708,
    "start_time": "2022-04-02T09:32:08.995Z"
   },
   {
    "duration": 737,
    "start_time": "2022-04-02T09:33:09.059Z"
   },
   {
    "duration": 736,
    "start_time": "2022-04-02T09:33:49.772Z"
   },
   {
    "duration": 460,
    "start_time": "2022-04-02T09:38:14.034Z"
   },
   {
    "duration": 7,
    "start_time": "2022-04-02T09:38:33.837Z"
   },
   {
    "duration": 683,
    "start_time": "2022-04-02T09:53:38.612Z"
   },
   {
    "duration": 687,
    "start_time": "2022-04-02T09:54:27.723Z"
   },
   {
    "duration": 689,
    "start_time": "2022-04-02T09:55:16.188Z"
   },
   {
    "duration": 380,
    "start_time": "2022-04-02T09:58:30.816Z"
   },
   {
    "duration": 6,
    "start_time": "2022-04-02T09:59:25.348Z"
   },
   {
    "duration": 12,
    "start_time": "2022-04-02T10:30:32.523Z"
   },
   {
    "duration": 14,
    "start_time": "2022-04-02T10:38:41.574Z"
   },
   {
    "duration": 13,
    "start_time": "2022-04-02T10:38:53.594Z"
   },
   {
    "duration": 292,
    "start_time": "2022-04-02T10:41:39.426Z"
   },
   {
    "duration": 258,
    "start_time": "2022-04-02T10:48:46.158Z"
   },
   {
    "duration": 286,
    "start_time": "2022-04-02T10:49:01.525Z"
   },
   {
    "duration": 382,
    "start_time": "2022-04-02T10:49:19.428Z"
   },
   {
    "duration": 14,
    "start_time": "2022-04-02T10:59:36.977Z"
   },
   {
    "duration": 506,
    "start_time": "2022-04-02T11:03:00.919Z"
   },
   {
    "duration": 603,
    "start_time": "2022-04-02T11:03:37.259Z"
   },
   {
    "duration": 368,
    "start_time": "2022-04-02T11:04:39.275Z"
   },
   {
    "duration": 357,
    "start_time": "2022-04-02T11:05:11.723Z"
   },
   {
    "duration": 460,
    "start_time": "2022-04-02T11:05:21.875Z"
   },
   {
    "duration": 480,
    "start_time": "2022-04-02T11:05:48.188Z"
   },
   {
    "duration": 647,
    "start_time": "2022-04-02T11:06:01.679Z"
   },
   {
    "duration": 73,
    "start_time": "2022-04-02T11:07:36.359Z"
   },
   {
    "duration": 19,
    "start_time": "2022-04-02T11:07:36.435Z"
   },
   {
    "duration": 24,
    "start_time": "2022-04-02T11:07:36.457Z"
   },
   {
    "duration": 18,
    "start_time": "2022-04-02T11:07:36.486Z"
   },
   {
    "duration": 20,
    "start_time": "2022-04-02T11:07:36.508Z"
   },
   {
    "duration": 6,
    "start_time": "2022-04-02T11:07:36.530Z"
   },
   {
    "duration": 48,
    "start_time": "2022-04-02T11:07:36.538Z"
   },
   {
    "duration": 16,
    "start_time": "2022-04-02T11:07:36.588Z"
   },
   {
    "duration": 20,
    "start_time": "2022-04-02T11:07:36.607Z"
   },
   {
    "duration": 7,
    "start_time": "2022-04-02T11:07:36.629Z"
   },
   {
    "duration": 267,
    "start_time": "2022-04-02T11:07:36.638Z"
   },
   {
    "duration": 6,
    "start_time": "2022-04-02T11:07:36.907Z"
   },
   {
    "duration": 33,
    "start_time": "2022-04-02T11:07:36.916Z"
   },
   {
    "duration": 578,
    "start_time": "2022-04-02T11:07:36.953Z"
   },
   {
    "duration": 511,
    "start_time": "2022-04-02T11:07:37.534Z"
   },
   {
    "duration": 566,
    "start_time": "2022-04-02T11:07:38.047Z"
   },
   {
    "duration": 738,
    "start_time": "2022-04-02T11:07:38.616Z"
   },
   {
    "duration": 301,
    "start_time": "2022-04-02T11:07:39.356Z"
   },
   {
    "duration": 534,
    "start_time": "2022-04-02T11:07:39.660Z"
   },
   {
    "duration": 13,
    "start_time": "2022-04-02T11:07:40.197Z"
   },
   {
    "duration": 660,
    "start_time": "2022-04-02T11:11:45.421Z"
   },
   {
    "duration": 554,
    "start_time": "2022-04-02T11:13:27.034Z"
   },
   {
    "duration": 263,
    "start_time": "2022-04-02T11:13:42.326Z"
   },
   {
    "duration": 270,
    "start_time": "2022-04-02T11:14:57.238Z"
   },
   {
    "duration": 11,
    "start_time": "2022-04-02T11:16:50.608Z"
   },
   {
    "duration": 311,
    "start_time": "2022-04-02T11:17:01.607Z"
   },
   {
    "duration": 301,
    "start_time": "2022-04-02T11:17:46.431Z"
   },
   {
    "duration": 298,
    "start_time": "2022-04-02T11:18:08.448Z"
   },
   {
    "duration": 334,
    "start_time": "2022-04-02T11:18:20.927Z"
   },
   {
    "duration": 321,
    "start_time": "2022-04-02T11:18:56.048Z"
   },
   {
    "duration": 319,
    "start_time": "2022-04-02T11:20:53.513Z"
   },
   {
    "duration": 291,
    "start_time": "2022-04-02T11:21:29.617Z"
   },
   {
    "duration": 457,
    "start_time": "2022-04-02T11:21:33.441Z"
   },
   {
    "duration": 308,
    "start_time": "2022-04-02T11:22:23.450Z"
   },
   {
    "duration": 26,
    "start_time": "2022-04-02T11:23:18.387Z"
   },
   {
    "duration": 226,
    "start_time": "2022-04-02T11:23:21.106Z"
   },
   {
    "duration": 218,
    "start_time": "2022-04-02T11:23:24.731Z"
   },
   {
    "duration": 293,
    "start_time": "2022-04-02T11:24:06.787Z"
   },
   {
    "duration": 298,
    "start_time": "2022-04-02T11:24:07.802Z"
   },
   {
    "duration": 311,
    "start_time": "2022-04-02T11:24:14.554Z"
   },
   {
    "duration": 305,
    "start_time": "2022-04-02T11:24:17.761Z"
   },
   {
    "duration": 78,
    "start_time": "2022-04-02T17:43:43.505Z"
   },
   {
    "duration": 1790,
    "start_time": "2022-04-02T17:43:48.693Z"
   },
   {
    "duration": 23,
    "start_time": "2022-04-02T17:43:50.487Z"
   },
   {
    "duration": 10,
    "start_time": "2022-04-02T17:43:50.512Z"
   },
   {
    "duration": 13,
    "start_time": "2022-04-02T17:43:50.525Z"
   },
   {
    "duration": 52,
    "start_time": "2022-04-02T17:43:50.542Z"
   },
   {
    "duration": 6,
    "start_time": "2022-04-02T17:43:50.597Z"
   },
   {
    "duration": 12,
    "start_time": "2022-04-02T17:43:50.604Z"
   },
   {
    "duration": 11,
    "start_time": "2022-04-02T17:43:50.618Z"
   },
   {
    "duration": 54,
    "start_time": "2022-04-02T17:43:50.632Z"
   },
   {
    "duration": 6,
    "start_time": "2022-04-02T17:43:50.688Z"
   },
   {
    "duration": 216,
    "start_time": "2022-04-02T17:43:50.697Z"
   },
   {
    "duration": 6,
    "start_time": "2022-04-02T17:43:50.915Z"
   },
   {
    "duration": 26,
    "start_time": "2022-04-02T17:43:50.923Z"
   },
   {
    "duration": 588,
    "start_time": "2022-04-02T17:43:50.953Z"
   },
   {
    "duration": 492,
    "start_time": "2022-04-02T17:43:51.543Z"
   },
   {
    "duration": 581,
    "start_time": "2022-04-02T17:43:52.037Z"
   },
   {
    "duration": 695,
    "start_time": "2022-04-02T17:43:52.621Z"
   },
   {
    "duration": 337,
    "start_time": "2022-04-02T17:43:53.318Z"
   },
   {
    "duration": 379,
    "start_time": "2022-04-02T17:43:53.657Z"
   },
   {
    "duration": 500,
    "start_time": "2022-04-02T17:43:54.039Z"
   },
   {
    "duration": 10,
    "start_time": "2022-04-02T17:43:54.542Z"
   },
   {
    "duration": 284,
    "start_time": "2022-04-02T17:44:10.363Z"
   },
   {
    "duration": 64,
    "start_time": "2022-04-02T17:45:00.229Z"
   },
   {
    "duration": 20,
    "start_time": "2022-04-02T17:45:00.295Z"
   },
   {
    "duration": 18,
    "start_time": "2022-04-02T17:45:00.317Z"
   },
   {
    "duration": 27,
    "start_time": "2022-04-02T17:45:00.337Z"
   },
   {
    "duration": 21,
    "start_time": "2022-04-02T17:45:00.375Z"
   },
   {
    "duration": 12,
    "start_time": "2022-04-02T17:45:00.398Z"
   },
   {
    "duration": 20,
    "start_time": "2022-04-02T17:45:00.413Z"
   },
   {
    "duration": 21,
    "start_time": "2022-04-02T17:45:00.435Z"
   },
   {
    "duration": 32,
    "start_time": "2022-04-02T17:45:00.459Z"
   },
   {
    "duration": 6,
    "start_time": "2022-04-02T17:45:00.493Z"
   },
   {
    "duration": 212,
    "start_time": "2022-04-02T17:45:00.501Z"
   },
   {
    "duration": 7,
    "start_time": "2022-04-02T17:45:00.715Z"
   },
   {
    "duration": 30,
    "start_time": "2022-04-02T17:45:00.724Z"
   },
   {
    "duration": 547,
    "start_time": "2022-04-02T17:45:00.757Z"
   },
   {
    "duration": 493,
    "start_time": "2022-04-02T17:45:01.306Z"
   },
   {
    "duration": 544,
    "start_time": "2022-04-02T17:45:01.801Z"
   },
   {
    "duration": 722,
    "start_time": "2022-04-02T17:45:02.347Z"
   },
   {
    "duration": 409,
    "start_time": "2022-04-02T17:45:03.074Z"
   },
   {
    "duration": 313,
    "start_time": "2022-04-02T17:45:10.730Z"
   },
   {
    "duration": 343,
    "start_time": "2022-04-02T17:46:02.843Z"
   },
   {
    "duration": 316,
    "start_time": "2022-04-02T17:48:04.553Z"
   },
   {
    "duration": 287,
    "start_time": "2022-04-02T17:48:18.797Z"
   },
   {
    "duration": 297,
    "start_time": "2022-04-02T18:02:12.408Z"
   },
   {
    "duration": 313,
    "start_time": "2022-04-02T18:02:14.519Z"
   },
   {
    "duration": 134,
    "start_time": "2022-04-02T18:25:16.917Z"
   },
   {
    "duration": 43,
    "start_time": "2022-04-02T18:25:28.887Z"
   },
   {
    "duration": 18,
    "start_time": "2022-04-02T18:26:46.274Z"
   },
   {
    "duration": 231,
    "start_time": "2022-04-02T18:27:04.649Z"
   },
   {
    "duration": 610,
    "start_time": "2022-04-02T18:30:51.543Z"
   },
   {
    "duration": 233,
    "start_time": "2022-04-02T18:32:22.763Z"
   },
   {
    "duration": 368,
    "start_time": "2022-04-02T18:32:30.243Z"
   },
   {
    "duration": 235,
    "start_time": "2022-04-02T18:33:44.067Z"
   },
   {
    "duration": 238,
    "start_time": "2022-04-02T18:34:17.699Z"
   },
   {
    "duration": 15,
    "start_time": "2022-04-02T18:35:36.212Z"
   },
   {
    "duration": 196,
    "start_time": "2022-04-02T18:35:59.828Z"
   },
   {
    "duration": 246,
    "start_time": "2022-04-02T18:36:14.732Z"
   },
   {
    "duration": 254,
    "start_time": "2022-04-02T18:36:27.244Z"
   },
   {
    "duration": 245,
    "start_time": "2022-04-02T18:38:26.613Z"
   },
   {
    "duration": 675,
    "start_time": "2022-04-02T18:38:30.309Z"
   },
   {
    "duration": 183,
    "start_time": "2022-04-02T18:39:39.701Z"
   },
   {
    "duration": 241,
    "start_time": "2022-04-02T18:40:19.989Z"
   },
   {
    "duration": 839,
    "start_time": "2022-04-02T18:41:12.870Z"
   },
   {
    "duration": 964,
    "start_time": "2022-04-02T18:47:03.600Z"
   },
   {
    "duration": 95,
    "start_time": "2022-04-02T18:51:21.274Z"
   },
   {
    "duration": 86,
    "start_time": "2022-04-02T18:52:59.689Z"
   },
   {
    "duration": 95,
    "start_time": "2022-04-02T18:53:37.122Z"
   },
   {
    "duration": 96,
    "start_time": "2022-04-02T18:53:54.486Z"
   },
   {
    "duration": 94,
    "start_time": "2022-04-02T18:54:08.370Z"
   },
   {
    "duration": 99,
    "start_time": "2022-04-02T18:54:22.002Z"
   },
   {
    "duration": 95,
    "start_time": "2022-04-02T18:55:13.474Z"
   },
   {
    "duration": 712,
    "start_time": "2022-04-02T18:55:23.074Z"
   },
   {
    "duration": 723,
    "start_time": "2022-04-02T18:56:15.339Z"
   },
   {
    "duration": 197,
    "start_time": "2022-04-02T19:03:07.787Z"
   },
   {
    "duration": 206,
    "start_time": "2022-04-02T19:03:33.647Z"
   },
   {
    "duration": 317,
    "start_time": "2022-04-02T19:03:42.246Z"
   },
   {
    "duration": 70,
    "start_time": "2022-04-03T09:59:05.346Z"
   },
   {
    "duration": 1772,
    "start_time": "2022-04-03T09:59:09.741Z"
   },
   {
    "duration": 22,
    "start_time": "2022-04-03T09:59:11.516Z"
   },
   {
    "duration": 29,
    "start_time": "2022-04-03T09:59:11.541Z"
   },
   {
    "duration": 11,
    "start_time": "2022-04-03T09:59:11.572Z"
   },
   {
    "duration": 22,
    "start_time": "2022-04-03T09:59:11.587Z"
   },
   {
    "duration": 6,
    "start_time": "2022-04-03T09:59:11.612Z"
   },
   {
    "duration": 47,
    "start_time": "2022-04-03T09:59:11.620Z"
   },
   {
    "duration": 10,
    "start_time": "2022-04-03T09:59:11.670Z"
   },
   {
    "duration": 21,
    "start_time": "2022-04-03T09:59:11.682Z"
   },
   {
    "duration": 6,
    "start_time": "2022-04-03T09:59:11.705Z"
   },
   {
    "duration": 218,
    "start_time": "2022-04-03T09:59:11.713Z"
   },
   {
    "duration": 7,
    "start_time": "2022-04-03T09:59:11.933Z"
   },
   {
    "duration": 34,
    "start_time": "2022-04-03T09:59:11.942Z"
   },
   {
    "duration": 535,
    "start_time": "2022-04-03T09:59:11.979Z"
   },
   {
    "duration": 454,
    "start_time": "2022-04-03T09:59:12.516Z"
   },
   {
    "duration": 544,
    "start_time": "2022-04-03T09:59:12.972Z"
   },
   {
    "duration": 638,
    "start_time": "2022-04-03T09:59:13.518Z"
   },
   {
    "duration": 284,
    "start_time": "2022-04-03T09:59:14.158Z"
   },
   {
    "duration": 381,
    "start_time": "2022-04-03T09:59:14.445Z"
   },
   {
    "duration": 744,
    "start_time": "2022-04-03T09:59:14.828Z"
   },
   {
    "duration": 760,
    "start_time": "2022-04-03T09:59:15.574Z"
   },
   {
    "duration": 319,
    "start_time": "2022-04-03T09:59:16.337Z"
   },
   {
    "duration": 301,
    "start_time": "2022-04-03T10:00:56.836Z"
   },
   {
    "duration": 342,
    "start_time": "2022-04-03T10:01:32.260Z"
   },
   {
    "duration": 521,
    "start_time": "2022-04-03T10:01:57.797Z"
   },
   {
    "duration": 332,
    "start_time": "2022-04-03T10:02:33.530Z"
   },
   {
    "duration": 226,
    "start_time": "2022-04-03T10:32:14.103Z"
   },
   {
    "duration": 317,
    "start_time": "2022-04-03T10:32:35.880Z"
   },
   {
    "duration": 1024,
    "start_time": "2022-04-03T11:45:56.015Z"
   },
   {
    "duration": 93,
    "start_time": "2022-04-03T11:51:15.587Z"
   },
   {
    "duration": 21,
    "start_time": "2022-04-03T11:51:32.023Z"
   },
   {
    "duration": 1866,
    "start_time": "2022-04-03T12:01:56.231Z"
   },
   {
    "duration": 23,
    "start_time": "2022-04-03T12:02:02.863Z"
   },
   {
    "duration": 1537,
    "start_time": "2022-04-03T12:06:28.417Z"
   },
   {
    "duration": 1521,
    "start_time": "2022-04-03T12:06:37.201Z"
   },
   {
    "duration": 1487,
    "start_time": "2022-04-03T12:08:06.073Z"
   },
   {
    "duration": 1614,
    "start_time": "2022-04-03T12:08:34.009Z"
   },
   {
    "duration": 26,
    "start_time": "2022-04-03T12:09:27.234Z"
   },
   {
    "duration": 26,
    "start_time": "2022-04-03T12:10:18.302Z"
   },
   {
    "duration": 288,
    "start_time": "2022-04-03T12:21:32.639Z"
   },
   {
    "duration": 411,
    "start_time": "2022-04-03T12:24:25.460Z"
   },
   {
    "duration": 269,
    "start_time": "2022-04-03T12:27:33.014Z"
   },
   {
    "duration": 312,
    "start_time": "2022-04-03T12:28:04.865Z"
   },
   {
    "duration": 251,
    "start_time": "2022-04-03T12:28:20.433Z"
   },
   {
    "duration": 407,
    "start_time": "2022-04-03T12:28:42.425Z"
   },
   {
    "duration": 424,
    "start_time": "2022-04-03T12:31:59.398Z"
   },
   {
    "duration": 18,
    "start_time": "2022-04-03T12:38:16.849Z"
   },
   {
    "duration": 461,
    "start_time": "2022-04-03T12:38:33.284Z"
   },
   {
    "duration": 553,
    "start_time": "2022-04-03T12:38:47.717Z"
   },
   {
    "duration": 598,
    "start_time": "2022-04-03T12:38:52.733Z"
   },
   {
    "duration": 307,
    "start_time": "2022-04-03T12:40:06.917Z"
   },
   {
    "duration": 256,
    "start_time": "2022-04-03T12:40:16.677Z"
   },
   {
    "duration": 252,
    "start_time": "2022-04-03T12:40:55.837Z"
   },
   {
    "duration": 416,
    "start_time": "2022-04-03T12:47:18.771Z"
   },
   {
    "duration": 418,
    "start_time": "2022-04-03T12:47:23.751Z"
   },
   {
    "duration": 408,
    "start_time": "2022-04-03T12:47:39.265Z"
   },
   {
    "duration": 380,
    "start_time": "2022-04-03T12:48:00.712Z"
   },
   {
    "duration": 98,
    "start_time": "2022-04-03T12:49:53.416Z"
   },
   {
    "duration": 422,
    "start_time": "2022-04-03T12:49:58.577Z"
   },
   {
    "duration": 19,
    "start_time": "2022-04-03T12:51:23.844Z"
   },
   {
    "duration": 421,
    "start_time": "2022-04-03T12:51:54.546Z"
   },
   {
    "duration": 487,
    "start_time": "2022-04-03T12:52:44.713Z"
   },
   {
    "duration": 535,
    "start_time": "2022-04-03T12:53:12.833Z"
   },
   {
    "duration": 497,
    "start_time": "2022-04-03T12:53:35.682Z"
   },
   {
    "duration": 560,
    "start_time": "2022-04-03T12:53:42.377Z"
   },
   {
    "duration": 469,
    "start_time": "2022-04-03T12:54:33.074Z"
   },
   {
    "duration": 27,
    "start_time": "2022-04-03T13:01:40.493Z"
   },
   {
    "duration": 45,
    "start_time": "2022-04-03T18:17:01.015Z"
   },
   {
    "duration": 1364,
    "start_time": "2022-04-03T18:17:05.947Z"
   },
   {
    "duration": 13,
    "start_time": "2022-04-03T18:17:07.313Z"
   },
   {
    "duration": 11,
    "start_time": "2022-04-03T18:17:07.327Z"
   },
   {
    "duration": 9,
    "start_time": "2022-04-03T18:17:07.340Z"
   },
   {
    "duration": 13,
    "start_time": "2022-04-03T18:17:07.350Z"
   },
   {
    "duration": 18,
    "start_time": "2022-04-03T18:17:07.364Z"
   },
   {
    "duration": 6,
    "start_time": "2022-04-03T18:17:07.384Z"
   },
   {
    "duration": 9,
    "start_time": "2022-04-03T18:17:07.391Z"
   },
   {
    "duration": 13,
    "start_time": "2022-04-03T18:17:07.401Z"
   },
   {
    "duration": 4,
    "start_time": "2022-04-03T18:17:07.416Z"
   },
   {
    "duration": 127,
    "start_time": "2022-04-03T18:17:07.421Z"
   },
   {
    "duration": 4,
    "start_time": "2022-04-03T18:17:07.549Z"
   },
   {
    "duration": 16,
    "start_time": "2022-04-03T18:17:07.555Z"
   },
   {
    "duration": 303,
    "start_time": "2022-04-03T18:17:07.572Z"
   },
   {
    "duration": 244,
    "start_time": "2022-04-03T18:17:07.880Z"
   },
   {
    "duration": 316,
    "start_time": "2022-04-03T18:17:08.125Z"
   },
   {
    "duration": 373,
    "start_time": "2022-04-03T18:17:08.443Z"
   },
   {
    "duration": 155,
    "start_time": "2022-04-03T18:17:08.818Z"
   },
   {
    "duration": 230,
    "start_time": "2022-04-03T18:17:08.975Z"
   },
   {
    "duration": 218,
    "start_time": "2022-04-03T18:17:09.207Z"
   },
   {
    "duration": 216,
    "start_time": "2022-04-03T18:17:09.426Z"
   },
   {
    "duration": 152,
    "start_time": "2022-04-03T18:17:09.644Z"
   },
   {
    "duration": 145,
    "start_time": "2022-04-03T18:17:09.798Z"
   },
   {
    "duration": 156,
    "start_time": "2022-04-03T18:17:09.946Z"
   },
   {
    "duration": 256,
    "start_time": "2022-04-03T18:17:10.104Z"
   },
   {
    "duration": 29,
    "start_time": "2022-04-03T18:17:10.362Z"
   },
   {
    "duration": 128,
    "start_time": "2022-04-03T18:17:10.393Z"
   },
   {
    "duration": 8,
    "start_time": "2022-04-03T18:17:10.525Z"
   },
   {
    "duration": 106,
    "start_time": "2022-04-03T18:17:30.757Z"
   },
   {
    "duration": 64,
    "start_time": "2022-04-03T18:18:42.370Z"
   },
   {
    "duration": 20,
    "start_time": "2022-04-03T18:19:17.838Z"
   },
   {
    "duration": 248,
    "start_time": "2022-04-03T18:23:23.843Z"
   },
   {
    "duration": 116,
    "start_time": "2022-04-03T18:24:51.460Z"
   },
   {
    "duration": 174,
    "start_time": "2022-04-03T18:25:27.465Z"
   },
   {
    "duration": 201,
    "start_time": "2022-04-03T18:25:35.287Z"
   },
   {
    "duration": 258,
    "start_time": "2022-04-03T18:25:50.784Z"
   },
   {
    "duration": 450,
    "start_time": "2022-04-03T18:25:55.568Z"
   },
   {
    "duration": 583,
    "start_time": "2022-04-03T18:26:02.305Z"
   },
   {
    "duration": 340,
    "start_time": "2022-04-03T18:26:35.712Z"
   },
   {
    "duration": 285,
    "start_time": "2022-04-03T18:30:21.425Z"
   },
   {
    "duration": 214,
    "start_time": "2022-04-03T18:34:12.188Z"
   },
   {
    "duration": 270,
    "start_time": "2022-04-03T18:34:18.812Z"
   },
   {
    "duration": 206,
    "start_time": "2022-04-03T18:34:42.692Z"
   },
   {
    "duration": 374,
    "start_time": "2022-04-03T18:35:18.083Z"
   },
   {
    "duration": 270,
    "start_time": "2022-04-03T18:35:45.387Z"
   },
   {
    "duration": 275,
    "start_time": "2022-04-03T18:37:12.096Z"
   },
   {
    "duration": 281,
    "start_time": "2022-04-03T18:37:26.164Z"
   },
   {
    "duration": 291,
    "start_time": "2022-04-03T18:37:51.941Z"
   },
   {
    "duration": 49,
    "start_time": "2022-04-09T06:35:42.947Z"
   },
   {
    "duration": 7,
    "start_time": "2022-04-09T06:35:55.414Z"
   },
   {
    "duration": 6,
    "start_time": "2022-04-09T06:36:16.414Z"
   },
   {
    "duration": 6,
    "start_time": "2022-04-09T06:36:19.119Z"
   },
   {
    "duration": 1425,
    "start_time": "2022-04-09T06:36:26.434Z"
   },
   {
    "duration": 16,
    "start_time": "2022-04-09T06:36:27.861Z"
   },
   {
    "duration": 13,
    "start_time": "2022-04-09T06:36:27.879Z"
   },
   {
    "duration": 14,
    "start_time": "2022-04-09T06:36:27.894Z"
   },
   {
    "duration": 28,
    "start_time": "2022-04-09T06:36:27.911Z"
   },
   {
    "duration": 5,
    "start_time": "2022-04-09T06:36:27.941Z"
   },
   {
    "duration": 11,
    "start_time": "2022-04-09T06:36:27.947Z"
   },
   {
    "duration": 13,
    "start_time": "2022-04-09T06:36:27.960Z"
   },
   {
    "duration": 18,
    "start_time": "2022-04-09T06:36:27.975Z"
   },
   {
    "duration": 5,
    "start_time": "2022-04-09T06:36:27.995Z"
   },
   {
    "duration": 145,
    "start_time": "2022-04-09T06:36:28.002Z"
   },
   {
    "duration": 5,
    "start_time": "2022-04-09T06:36:28.149Z"
   },
   {
    "duration": 19,
    "start_time": "2022-04-09T06:36:28.156Z"
   },
   {
    "duration": 345,
    "start_time": "2022-04-09T06:36:28.178Z"
   },
   {
    "duration": 285,
    "start_time": "2022-04-09T06:36:28.525Z"
   },
   {
    "duration": 364,
    "start_time": "2022-04-09T06:36:28.812Z"
   },
   {
    "duration": 418,
    "start_time": "2022-04-09T06:36:29.178Z"
   },
   {
    "duration": 186,
    "start_time": "2022-04-09T06:36:29.598Z"
   },
   {
    "duration": 271,
    "start_time": "2022-04-09T06:36:29.785Z"
   },
   {
    "duration": 232,
    "start_time": "2022-04-09T06:36:30.058Z"
   },
   {
    "duration": 228,
    "start_time": "2022-04-09T06:36:30.291Z"
   },
   {
    "duration": 167,
    "start_time": "2022-04-09T06:36:30.521Z"
   },
   {
    "duration": 172,
    "start_time": "2022-04-09T06:36:30.690Z"
   },
   {
    "duration": 169,
    "start_time": "2022-04-09T06:36:30.864Z"
   },
   {
    "duration": 292,
    "start_time": "2022-04-09T06:36:31.038Z"
   },
   {
    "duration": 18,
    "start_time": "2022-04-09T06:36:31.332Z"
   },
   {
    "duration": 351,
    "start_time": "2022-04-09T06:36:31.352Z"
   },
   {
    "duration": 435,
    "start_time": "2022-04-09T06:36:31.705Z"
   },
   {
    "duration": 73,
    "start_time": "2022-04-09T06:40:52.460Z"
   },
   {
    "duration": 322,
    "start_time": "2022-04-09T06:41:02.471Z"
   },
   {
    "duration": 255,
    "start_time": "2022-04-09T06:41:15.840Z"
   },
   {
    "duration": 295,
    "start_time": "2022-04-09T06:41:26.055Z"
   },
   {
    "duration": 265,
    "start_time": "2022-04-09T06:41:34.656Z"
   },
   {
    "duration": 167,
    "start_time": "2022-04-09T06:41:47.360Z"
   },
   {
    "duration": 95,
    "start_time": "2022-04-09T06:41:50.848Z"
   },
   {
    "duration": 94,
    "start_time": "2022-04-09T06:42:02.961Z"
   },
   {
    "duration": 95,
    "start_time": "2022-04-09T06:43:22.186Z"
   },
   {
    "duration": 254,
    "start_time": "2022-04-09T06:44:43.657Z"
   },
   {
    "duration": 257,
    "start_time": "2022-04-09T06:46:38.938Z"
   },
   {
    "duration": 511,
    "start_time": "2022-04-09T06:48:00.410Z"
   },
   {
    "duration": 311,
    "start_time": "2022-04-09T06:48:32.578Z"
   },
   {
    "duration": 345,
    "start_time": "2022-04-09T06:48:39.210Z"
   },
   {
    "duration": 310,
    "start_time": "2022-04-09T06:53:41.531Z"
   },
   {
    "duration": 7,
    "start_time": "2022-04-09T07:50:48.356Z"
   },
   {
    "duration": 141,
    "start_time": "2022-04-09T07:54:20.768Z"
   },
   {
    "duration": 12,
    "start_time": "2022-04-09T07:54:45.877Z"
   },
   {
    "duration": 14,
    "start_time": "2022-04-09T07:55:14.225Z"
   },
   {
    "duration": 12,
    "start_time": "2022-04-09T07:55:21.970Z"
   },
   {
    "duration": 12,
    "start_time": "2022-04-09T07:55:24.355Z"
   },
   {
    "duration": 55,
    "start_time": "2022-04-09T07:55:40.955Z"
   },
   {
    "duration": 17,
    "start_time": "2022-04-09T07:55:41.012Z"
   },
   {
    "duration": 23,
    "start_time": "2022-04-09T07:55:41.031Z"
   },
   {
    "duration": 25,
    "start_time": "2022-04-09T07:55:41.056Z"
   },
   {
    "duration": 24,
    "start_time": "2022-04-09T07:55:41.084Z"
   },
   {
    "duration": 22,
    "start_time": "2022-04-09T07:55:41.109Z"
   },
   {
    "duration": 26,
    "start_time": "2022-04-09T07:55:41.133Z"
   },
   {
    "duration": 25,
    "start_time": "2022-04-09T07:55:41.160Z"
   },
   {
    "duration": 28,
    "start_time": "2022-04-09T07:55:41.187Z"
   },
   {
    "duration": 10,
    "start_time": "2022-04-09T07:55:41.217Z"
   },
   {
    "duration": 151,
    "start_time": "2022-04-09T07:55:41.229Z"
   },
   {
    "duration": 5,
    "start_time": "2022-04-09T07:55:41.382Z"
   },
   {
    "duration": 33,
    "start_time": "2022-04-09T07:55:41.389Z"
   },
   {
    "duration": 19,
    "start_time": "2022-04-09T07:55:41.425Z"
   },
   {
    "duration": 32,
    "start_time": "2022-04-09T07:55:41.446Z"
   },
   {
    "duration": 21,
    "start_time": "2022-04-09T07:56:17.002Z"
   },
   {
    "duration": 415,
    "start_time": "2022-04-09T07:56:43.606Z"
   },
   {
    "duration": 57,
    "start_time": "2022-04-09T07:56:51.723Z"
   },
   {
    "duration": 15,
    "start_time": "2022-04-09T07:56:51.782Z"
   },
   {
    "duration": 16,
    "start_time": "2022-04-09T07:56:51.798Z"
   },
   {
    "duration": 29,
    "start_time": "2022-04-09T07:56:51.816Z"
   },
   {
    "duration": 25,
    "start_time": "2022-04-09T07:56:51.850Z"
   },
   {
    "duration": 5,
    "start_time": "2022-04-09T07:56:51.878Z"
   },
   {
    "duration": 10,
    "start_time": "2022-04-09T07:56:51.886Z"
   },
   {
    "duration": 13,
    "start_time": "2022-04-09T07:56:51.899Z"
   },
   {
    "duration": 39,
    "start_time": "2022-04-09T07:56:51.914Z"
   },
   {
    "duration": 6,
    "start_time": "2022-04-09T07:56:51.955Z"
   },
   {
    "duration": 142,
    "start_time": "2022-04-09T07:56:51.963Z"
   },
   {
    "duration": 5,
    "start_time": "2022-04-09T07:56:52.107Z"
   },
   {
    "duration": 29,
    "start_time": "2022-04-09T07:56:52.114Z"
   },
   {
    "duration": 21,
    "start_time": "2022-04-09T07:56:52.147Z"
   },
   {
    "duration": 370,
    "start_time": "2022-04-09T07:56:52.170Z"
   },
   {
    "duration": 443,
    "start_time": "2022-04-09T07:56:52.542Z"
   },
   {
    "duration": 385,
    "start_time": "2022-04-09T07:56:52.986Z"
   },
   {
    "duration": 479,
    "start_time": "2022-04-09T07:56:53.373Z"
   },
   {
    "duration": 197,
    "start_time": "2022-04-09T07:56:53.854Z"
   },
   {
    "duration": 218,
    "start_time": "2022-04-09T07:56:54.053Z"
   },
   {
    "duration": 234,
    "start_time": "2022-04-09T07:56:54.273Z"
   },
   {
    "duration": 252,
    "start_time": "2022-04-09T07:56:54.509Z"
   },
   {
    "duration": 170,
    "start_time": "2022-04-09T07:56:54.762Z"
   },
   {
    "duration": 183,
    "start_time": "2022-04-09T07:56:54.938Z"
   },
   {
    "duration": 293,
    "start_time": "2022-04-09T07:56:55.124Z"
   },
   {
    "duration": 311,
    "start_time": "2022-04-09T07:56:55.418Z"
   },
   {
    "duration": 22,
    "start_time": "2022-04-09T07:56:55.739Z"
   },
   {
    "duration": 378,
    "start_time": "2022-04-09T07:56:55.763Z"
   },
   {
    "duration": 490,
    "start_time": "2022-04-09T07:56:56.144Z"
   },
   {
    "duration": 531,
    "start_time": "2022-04-09T07:56:56.640Z"
   },
   {
    "duration": 340,
    "start_time": "2022-04-09T08:05:24.269Z"
   },
   {
    "duration": 22,
    "start_time": "2022-04-09T08:07:33.642Z"
   },
   {
    "duration": 19,
    "start_time": "2022-04-09T08:07:57.255Z"
   },
   {
    "duration": 22,
    "start_time": "2022-04-09T08:08:01.839Z"
   },
   {
    "duration": 19,
    "start_time": "2022-04-09T08:08:06.702Z"
   },
   {
    "duration": 21,
    "start_time": "2022-04-09T08:08:59.334Z"
   },
   {
    "duration": 22,
    "start_time": "2022-04-09T08:09:39.943Z"
   },
   {
    "duration": 21,
    "start_time": "2022-04-09T08:09:42.110Z"
   },
   {
    "duration": 34,
    "start_time": "2022-04-09T08:10:54.871Z"
   },
   {
    "duration": 231,
    "start_time": "2022-04-09T08:12:51.437Z"
   },
   {
    "duration": 33,
    "start_time": "2022-04-09T08:13:05.480Z"
   },
   {
    "duration": 32,
    "start_time": "2022-04-09T08:13:31.745Z"
   },
   {
    "duration": 30,
    "start_time": "2022-04-09T08:15:03.536Z"
   },
   {
    "duration": 25,
    "start_time": "2022-04-09T08:15:20.417Z"
   },
   {
    "duration": 208,
    "start_time": "2022-04-09T08:16:35.721Z"
   },
   {
    "duration": 216,
    "start_time": "2022-04-09T08:17:04.998Z"
   },
   {
    "duration": 205,
    "start_time": "2022-04-09T08:17:36.513Z"
   },
   {
    "duration": 19,
    "start_time": "2022-04-09T08:23:25.069Z"
   },
   {
    "duration": 142,
    "start_time": "2022-04-09T08:23:30.324Z"
   },
   {
    "duration": 144,
    "start_time": "2022-04-09T08:24:30.655Z"
   },
   {
    "duration": 133,
    "start_time": "2022-04-09T08:24:54.112Z"
   },
   {
    "duration": 117,
    "start_time": "2022-04-09T08:25:07.526Z"
   },
   {
    "duration": 112,
    "start_time": "2022-04-09T08:26:09.983Z"
   },
   {
    "duration": 149,
    "start_time": "2022-04-09T08:29:19.082Z"
   },
   {
    "duration": 163,
    "start_time": "2022-04-09T08:31:33.455Z"
   },
   {
    "duration": 245,
    "start_time": "2022-04-09T08:31:57.698Z"
   },
   {
    "duration": 235,
    "start_time": "2022-04-09T08:32:34.762Z"
   },
   {
    "duration": 246,
    "start_time": "2022-04-09T08:32:53.451Z"
   },
   {
    "duration": 232,
    "start_time": "2022-04-09T08:33:17.299Z"
   },
   {
    "duration": 368,
    "start_time": "2022-04-09T08:33:32.379Z"
   },
   {
    "duration": 221,
    "start_time": "2022-04-09T08:34:09.483Z"
   },
   {
    "duration": 244,
    "start_time": "2022-04-09T08:38:40.128Z"
   },
   {
    "duration": 242,
    "start_time": "2022-04-09T08:39:45.300Z"
   },
   {
    "duration": 245,
    "start_time": "2022-04-09T08:39:56.819Z"
   },
   {
    "duration": 493,
    "start_time": "2022-04-09T08:41:00.587Z"
   },
   {
    "duration": 317,
    "start_time": "2022-04-09T08:41:22.333Z"
   },
   {
    "duration": 355,
    "start_time": "2022-04-09T08:41:49.356Z"
   },
   {
    "duration": 18,
    "start_time": "2022-04-09T08:43:49.380Z"
   },
   {
    "duration": 489,
    "start_time": "2022-04-09T08:44:02.581Z"
   },
   {
    "duration": 249,
    "start_time": "2022-04-09T08:44:52.101Z"
   },
   {
    "duration": 37,
    "start_time": "2022-04-09T08:47:04.909Z"
   },
   {
    "duration": 36,
    "start_time": "2022-04-09T08:47:15.618Z"
   },
   {
    "duration": 202,
    "start_time": "2022-04-09T08:47:54.165Z"
   },
   {
    "duration": 195,
    "start_time": "2022-04-09T08:48:06.752Z"
   },
   {
    "duration": 200,
    "start_time": "2022-04-09T08:48:39.358Z"
   },
   {
    "duration": 113,
    "start_time": "2022-04-09T08:48:54.998Z"
   },
   {
    "duration": 133,
    "start_time": "2022-04-09T09:19:09.488Z"
   },
   {
    "duration": 433,
    "start_time": "2022-04-09T09:20:41.377Z"
   },
   {
    "duration": 316,
    "start_time": "2022-04-09T09:20:58.551Z"
   },
   {
    "duration": 247,
    "start_time": "2022-04-09T09:21:28.729Z"
   },
   {
    "duration": 557,
    "start_time": "2022-04-09T09:22:23.313Z"
   },
   {
    "duration": 325,
    "start_time": "2022-04-09T09:22:31.218Z"
   },
   {
    "duration": 372,
    "start_time": "2022-04-09T09:22:51.226Z"
   },
   {
    "duration": 255,
    "start_time": "2022-04-09T09:23:14.977Z"
   },
   {
    "duration": 242,
    "start_time": "2022-04-09T09:23:57.089Z"
   },
   {
    "duration": 246,
    "start_time": "2022-04-09T09:24:06.218Z"
   },
   {
    "duration": 240,
    "start_time": "2022-04-09T09:24:23.593Z"
   },
   {
    "duration": 150,
    "start_time": "2022-04-09T09:24:57.950Z"
   },
   {
    "duration": 247,
    "start_time": "2022-04-09T09:25:05.219Z"
   },
   {
    "duration": 233,
    "start_time": "2022-04-09T09:25:18.256Z"
   },
   {
    "duration": 244,
    "start_time": "2022-04-09T09:25:47.962Z"
   },
   {
    "duration": 314,
    "start_time": "2022-04-09T09:29:17.897Z"
   },
   {
    "duration": 393,
    "start_time": "2022-04-09T09:29:45.309Z"
   },
   {
    "duration": 230,
    "start_time": "2022-04-09T09:30:31.773Z"
   },
   {
    "duration": 234,
    "start_time": "2022-04-09T09:30:54.373Z"
   },
   {
    "duration": 236,
    "start_time": "2022-04-09T09:31:05.661Z"
   },
   {
    "duration": 248,
    "start_time": "2022-04-09T09:31:18.028Z"
   },
   {
    "duration": 237,
    "start_time": "2022-04-09T09:31:35.469Z"
   },
   {
    "duration": 250,
    "start_time": "2022-04-09T09:31:43.717Z"
   },
   {
    "duration": 244,
    "start_time": "2022-04-09T09:31:57.552Z"
   },
   {
    "duration": 260,
    "start_time": "2022-04-09T09:32:19.581Z"
   },
   {
    "duration": 251,
    "start_time": "2022-04-09T09:32:27.565Z"
   },
   {
    "duration": 203,
    "start_time": "2022-04-09T09:35:51.430Z"
   },
   {
    "duration": 113,
    "start_time": "2022-04-09T09:35:54.894Z"
   },
   {
    "duration": 234,
    "start_time": "2022-04-09T09:36:59.721Z"
   },
   {
    "duration": 165,
    "start_time": "2022-04-09T10:04:42.933Z"
   },
   {
    "duration": 12,
    "start_time": "2022-04-09T10:05:20.602Z"
   },
   {
    "duration": 50,
    "start_time": "2022-04-09T10:05:27.621Z"
   },
   {
    "duration": 14,
    "start_time": "2022-04-09T10:05:27.673Z"
   },
   {
    "duration": 6,
    "start_time": "2022-04-09T10:05:27.689Z"
   },
   {
    "duration": 16,
    "start_time": "2022-04-09T10:05:27.697Z"
   },
   {
    "duration": 157,
    "start_time": "2022-04-09T10:05:27.739Z"
   },
   {
    "duration": 5,
    "start_time": "2022-04-09T10:05:27.898Z"
   },
   {
    "duration": 17,
    "start_time": "2022-04-09T10:05:27.904Z"
   },
   {
    "duration": 21,
    "start_time": "2022-04-09T10:05:27.923Z"
   },
   {
    "duration": 19,
    "start_time": "2022-04-09T10:05:27.946Z"
   },
   {
    "duration": 6,
    "start_time": "2022-04-09T10:05:27.969Z"
   },
   {
    "duration": 149,
    "start_time": "2022-04-09T10:05:27.977Z"
   },
   {
    "duration": 12,
    "start_time": "2022-04-09T10:05:28.127Z"
   },
   {
    "duration": 18,
    "start_time": "2022-04-09T10:05:28.140Z"
   },
   {
    "duration": 17,
    "start_time": "2022-04-09T10:05:28.159Z"
   },
   {
    "duration": 352,
    "start_time": "2022-04-09T10:05:28.178Z"
   },
   {
    "duration": 302,
    "start_time": "2022-04-09T10:05:28.532Z"
   },
   {
    "duration": 349,
    "start_time": "2022-04-09T10:05:28.838Z"
   },
   {
    "duration": 434,
    "start_time": "2022-04-09T10:05:29.188Z"
   },
   {
    "duration": 190,
    "start_time": "2022-04-09T10:05:29.623Z"
   },
   {
    "duration": 206,
    "start_time": "2022-04-09T10:05:29.815Z"
   },
   {
    "duration": 235,
    "start_time": "2022-04-09T10:05:30.024Z"
   },
   {
    "duration": 241,
    "start_time": "2022-04-09T10:05:30.261Z"
   },
   {
    "duration": 291,
    "start_time": "2022-04-09T10:05:30.504Z"
   },
   {
    "duration": 178,
    "start_time": "2022-04-09T10:05:30.797Z"
   },
   {
    "duration": 182,
    "start_time": "2022-04-09T10:05:30.978Z"
   },
   {
    "duration": 292,
    "start_time": "2022-04-09T10:05:31.162Z"
   },
   {
    "duration": 20,
    "start_time": "2022-04-09T10:05:31.456Z"
   },
   {
    "duration": 225,
    "start_time": "2022-04-09T10:05:31.479Z"
   },
   {
    "duration": 116,
    "start_time": "2022-04-09T10:05:31.706Z"
   },
   {
    "duration": 217,
    "start_time": "2022-04-09T10:05:31.824Z"
   },
   {
    "duration": 123,
    "start_time": "2022-04-09T10:05:32.042Z"
   },
   {
    "duration": 309,
    "start_time": "2022-04-09T10:05:32.167Z"
   },
   {
    "duration": 165,
    "start_time": "2022-04-09T10:05:32.478Z"
   },
   {
    "duration": 0,
    "start_time": "2022-04-09T10:05:32.646Z"
   },
   {
    "duration": 0,
    "start_time": "2022-04-09T10:05:32.648Z"
   },
   {
    "duration": 0,
    "start_time": "2022-04-09T10:05:32.650Z"
   },
   {
    "duration": 291,
    "start_time": "2022-04-09T10:05:44.670Z"
   },
   {
    "duration": 163,
    "start_time": "2022-04-09T10:05:55.346Z"
   },
   {
    "duration": 8,
    "start_time": "2022-04-09T10:06:30.075Z"
   },
   {
    "duration": 10,
    "start_time": "2022-04-09T10:07:15.547Z"
   },
   {
    "duration": 5,
    "start_time": "2022-04-09T10:07:45.915Z"
   },
   {
    "duration": 9,
    "start_time": "2022-04-09T10:08:23.491Z"
   },
   {
    "duration": 16,
    "start_time": "2022-04-09T10:08:29.394Z"
   },
   {
    "duration": 16,
    "start_time": "2022-04-09T10:08:38.815Z"
   },
   {
    "duration": 8,
    "start_time": "2022-04-09T10:12:26.874Z"
   },
   {
    "duration": 8,
    "start_time": "2022-04-09T10:12:34.357Z"
   },
   {
    "duration": 9,
    "start_time": "2022-04-09T10:12:36.372Z"
   },
   {
    "duration": 141,
    "start_time": "2022-04-09T10:15:18.510Z"
   },
   {
    "duration": 69,
    "start_time": "2022-04-09T10:15:45.692Z"
   },
   {
    "duration": 17,
    "start_time": "2022-04-09T10:15:45.763Z"
   },
   {
    "duration": 26,
    "start_time": "2022-04-09T10:15:45.782Z"
   },
   {
    "duration": 27,
    "start_time": "2022-04-09T10:15:45.810Z"
   },
   {
    "duration": 34,
    "start_time": "2022-04-09T10:15:45.842Z"
   },
   {
    "duration": 20,
    "start_time": "2022-04-09T10:15:45.879Z"
   },
   {
    "duration": 23,
    "start_time": "2022-04-09T10:15:45.901Z"
   },
   {
    "duration": 25,
    "start_time": "2022-04-09T10:15:45.926Z"
   },
   {
    "duration": 29,
    "start_time": "2022-04-09T10:15:45.953Z"
   },
   {
    "duration": 7,
    "start_time": "2022-04-09T10:15:45.983Z"
   },
   {
    "duration": 142,
    "start_time": "2022-04-09T10:15:45.992Z"
   },
   {
    "duration": 5,
    "start_time": "2022-04-09T10:15:46.136Z"
   },
   {
    "duration": 32,
    "start_time": "2022-04-09T10:15:46.143Z"
   },
   {
    "duration": 29,
    "start_time": "2022-04-09T10:15:46.178Z"
   },
   {
    "duration": 562,
    "start_time": "2022-04-09T10:15:46.209Z"
   },
   {
    "duration": 313,
    "start_time": "2022-04-09T10:15:46.773Z"
   },
   {
    "duration": 365,
    "start_time": "2022-04-09T10:15:47.089Z"
   },
   {
    "duration": 476,
    "start_time": "2022-04-09T10:15:47.456Z"
   },
   {
    "duration": 188,
    "start_time": "2022-04-09T10:15:47.938Z"
   },
   {
    "duration": 215,
    "start_time": "2022-04-09T10:15:48.128Z"
   },
   {
    "duration": 241,
    "start_time": "2022-04-09T10:15:48.345Z"
   },
   {
    "duration": 260,
    "start_time": "2022-04-09T10:15:48.589Z"
   },
   {
    "duration": 172,
    "start_time": "2022-04-09T10:15:48.851Z"
   },
   {
    "duration": 186,
    "start_time": "2022-04-09T10:15:49.025Z"
   },
   {
    "duration": 177,
    "start_time": "2022-04-09T10:15:49.213Z"
   },
   {
    "duration": 455,
    "start_time": "2022-04-09T10:15:49.392Z"
   },
   {
    "duration": 21,
    "start_time": "2022-04-09T10:15:49.849Z"
   },
   {
    "duration": 222,
    "start_time": "2022-04-09T10:15:49.872Z"
   },
   {
    "duration": 126,
    "start_time": "2022-04-09T10:15:50.096Z"
   },
   {
    "duration": 214,
    "start_time": "2022-04-09T10:15:50.224Z"
   },
   {
    "duration": 131,
    "start_time": "2022-04-09T10:15:50.440Z"
   },
   {
    "duration": 338,
    "start_time": "2022-04-09T10:15:50.573Z"
   },
   {
    "duration": 10,
    "start_time": "2022-04-09T10:15:50.913Z"
   },
   {
    "duration": 178,
    "start_time": "2022-04-09T10:15:50.925Z"
   },
   {
    "duration": 9,
    "start_time": "2022-04-09T10:16:17.366Z"
   },
   {
    "duration": 9,
    "start_time": "2022-04-09T10:16:19.309Z"
   },
   {
    "duration": 10,
    "start_time": "2022-04-09T10:16:32.846Z"
   },
   {
    "duration": 52,
    "start_time": "2022-04-09T10:18:25.628Z"
   },
   {
    "duration": 16,
    "start_time": "2022-04-09T10:18:25.682Z"
   },
   {
    "duration": 17,
    "start_time": "2022-04-09T10:18:25.700Z"
   },
   {
    "duration": 11,
    "start_time": "2022-04-09T10:18:25.740Z"
   },
   {
    "duration": 19,
    "start_time": "2022-04-09T10:18:25.753Z"
   },
   {
    "duration": 10,
    "start_time": "2022-04-09T10:18:25.774Z"
   },
   {
    "duration": 20,
    "start_time": "2022-04-09T10:18:25.786Z"
   },
   {
    "duration": 32,
    "start_time": "2022-04-09T10:18:25.808Z"
   },
   {
    "duration": 22,
    "start_time": "2022-04-09T10:18:25.842Z"
   },
   {
    "duration": 70,
    "start_time": "2022-04-09T10:18:25.867Z"
   },
   {
    "duration": 142,
    "start_time": "2022-04-09T10:18:25.939Z"
   },
   {
    "duration": 6,
    "start_time": "2022-04-09T10:18:26.083Z"
   },
   {
    "duration": 22,
    "start_time": "2022-04-09T10:18:26.091Z"
   },
   {
    "duration": 28,
    "start_time": "2022-04-09T10:18:26.115Z"
   },
   {
    "duration": 610,
    "start_time": "2022-04-09T10:18:26.145Z"
   },
   {
    "duration": 538,
    "start_time": "2022-04-09T10:18:26.758Z"
   },
   {
    "duration": 590,
    "start_time": "2022-04-09T10:18:27.298Z"
   },
   {
    "duration": 464,
    "start_time": "2022-04-09T10:18:27.891Z"
   },
   {
    "duration": 197,
    "start_time": "2022-04-09T10:18:28.357Z"
   },
   {
    "duration": 216,
    "start_time": "2022-04-09T10:18:28.556Z"
   },
   {
    "duration": 428,
    "start_time": "2022-04-09T10:18:28.773Z"
   },
   {
    "duration": 256,
    "start_time": "2022-04-09T10:18:29.203Z"
   },
   {
    "duration": 177,
    "start_time": "2022-04-09T10:18:29.461Z"
   },
   {
    "duration": 174,
    "start_time": "2022-04-09T10:18:29.640Z"
   },
   {
    "duration": 182,
    "start_time": "2022-04-09T10:18:29.816Z"
   },
   {
    "duration": 312,
    "start_time": "2022-04-09T10:18:29.999Z"
   },
   {
    "duration": 41,
    "start_time": "2022-04-09T10:18:30.313Z"
   },
   {
    "duration": 335,
    "start_time": "2022-04-09T10:18:30.360Z"
   },
   {
    "duration": 193,
    "start_time": "2022-04-09T10:18:30.698Z"
   },
   {
    "duration": 338,
    "start_time": "2022-04-09T10:18:30.894Z"
   },
   {
    "duration": 132,
    "start_time": "2022-04-09T10:18:31.238Z"
   },
   {
    "duration": 315,
    "start_time": "2022-04-09T10:18:31.372Z"
   },
   {
    "duration": 9,
    "start_time": "2022-04-09T10:18:31.688Z"
   },
   {
    "duration": 13,
    "start_time": "2022-04-09T10:18:36.798Z"
   },
   {
    "duration": 6,
    "start_time": "2022-04-09T10:19:05.382Z"
   },
   {
    "duration": 8,
    "start_time": "2022-04-09T10:21:53.063Z"
   },
   {
    "duration": 8,
    "start_time": "2022-04-09T10:25:14.013Z"
   },
   {
    "duration": 5,
    "start_time": "2022-04-09T10:26:02.353Z"
   },
   {
    "duration": 11,
    "start_time": "2022-04-09T10:26:07.953Z"
   },
   {
    "duration": 5,
    "start_time": "2022-04-09T10:26:10.961Z"
   },
   {
    "duration": 8,
    "start_time": "2022-04-09T10:26:25.649Z"
   },
   {
    "duration": 8,
    "start_time": "2022-04-09T10:26:35.774Z"
   },
   {
    "duration": 25,
    "start_time": "2022-04-09T10:26:53.576Z"
   },
   {
    "duration": 5,
    "start_time": "2022-04-09T10:27:56.394Z"
   },
   {
    "duration": 7,
    "start_time": "2022-04-09T10:27:59.929Z"
   },
   {
    "duration": 5,
    "start_time": "2022-04-09T10:28:00.753Z"
   },
   {
    "duration": 189,
    "start_time": "2022-04-09T10:31:09.899Z"
   },
   {
    "duration": 53,
    "start_time": "2022-04-09T10:31:39.466Z"
   },
   {
    "duration": 15,
    "start_time": "2022-04-09T10:31:39.521Z"
   },
   {
    "duration": 5,
    "start_time": "2022-04-09T10:31:39.538Z"
   },
   {
    "duration": 12,
    "start_time": "2022-04-09T10:31:39.545Z"
   },
   {
    "duration": 16,
    "start_time": "2022-04-09T10:31:39.560Z"
   },
   {
    "duration": 4,
    "start_time": "2022-04-09T10:31:39.578Z"
   },
   {
    "duration": 12,
    "start_time": "2022-04-09T10:31:39.584Z"
   },
   {
    "duration": 15,
    "start_time": "2022-04-09T10:31:39.598Z"
   },
   {
    "duration": 35,
    "start_time": "2022-04-09T10:31:39.615Z"
   },
   {
    "duration": 5,
    "start_time": "2022-04-09T10:31:39.652Z"
   },
   {
    "duration": 143,
    "start_time": "2022-04-09T10:31:39.659Z"
   },
   {
    "duration": 6,
    "start_time": "2022-04-09T10:31:39.803Z"
   },
   {
    "duration": 21,
    "start_time": "2022-04-09T10:31:39.810Z"
   },
   {
    "duration": 12,
    "start_time": "2022-04-09T10:31:39.841Z"
   },
   {
    "duration": 339,
    "start_time": "2022-04-09T10:31:39.855Z"
   },
   {
    "duration": 295,
    "start_time": "2022-04-09T10:31:40.195Z"
   },
   {
    "duration": 524,
    "start_time": "2022-04-09T10:31:40.492Z"
   },
   {
    "duration": 466,
    "start_time": "2022-04-09T10:31:41.018Z"
   },
   {
    "duration": 187,
    "start_time": "2022-04-09T10:31:41.486Z"
   },
   {
    "duration": 199,
    "start_time": "2022-04-09T10:31:41.675Z"
   },
   {
    "duration": 241,
    "start_time": "2022-04-09T10:31:41.876Z"
   },
   {
    "duration": 237,
    "start_time": "2022-04-09T10:31:42.119Z"
   },
   {
    "duration": 170,
    "start_time": "2022-04-09T10:31:42.357Z"
   },
   {
    "duration": 165,
    "start_time": "2022-04-09T10:31:42.529Z"
   },
   {
    "duration": 202,
    "start_time": "2022-04-09T10:31:42.696Z"
   },
   {
    "duration": 288,
    "start_time": "2022-04-09T10:31:42.899Z"
   },
   {
    "duration": 19,
    "start_time": "2022-04-09T10:31:43.189Z"
   },
   {
    "duration": 208,
    "start_time": "2022-04-09T10:31:43.209Z"
   },
   {
    "duration": 113,
    "start_time": "2022-04-09T10:31:43.419Z"
   },
   {
    "duration": 201,
    "start_time": "2022-04-09T10:31:43.538Z"
   },
   {
    "duration": 118,
    "start_time": "2022-04-09T10:31:43.741Z"
   },
   {
    "duration": 499,
    "start_time": "2022-04-09T10:31:43.861Z"
   },
   {
    "duration": 10,
    "start_time": "2022-04-09T10:31:44.362Z"
   },
   {
    "duration": 26,
    "start_time": "2022-04-09T10:31:44.374Z"
   },
   {
    "duration": 24,
    "start_time": "2022-04-09T10:31:44.402Z"
   },
   {
    "duration": 14,
    "start_time": "2022-04-09T10:31:44.428Z"
   },
   {
    "duration": 123,
    "start_time": "2022-04-09T10:31:44.444Z"
   },
   {
    "duration": 13,
    "start_time": "2022-04-09T10:31:44.569Z"
   },
   {
    "duration": 0,
    "start_time": "2022-04-09T10:31:44.583Z"
   },
   {
    "duration": 294,
    "start_time": "2022-04-09T10:40:12.067Z"
   },
   {
    "duration": 69,
    "start_time": "2022-04-09T12:12:40.191Z"
   },
   {
    "duration": 136,
    "start_time": "2022-04-09T12:13:10.066Z"
   },
   {
    "duration": 153,
    "start_time": "2022-04-09T12:13:56.846Z"
   },
   {
    "duration": 148,
    "start_time": "2022-04-09T12:14:03.582Z"
   },
   {
    "duration": 50,
    "start_time": "2022-04-09T12:14:29.493Z"
   },
   {
    "duration": 16,
    "start_time": "2022-04-09T12:14:29.545Z"
   },
   {
    "duration": 10,
    "start_time": "2022-04-09T12:14:29.563Z"
   },
   {
    "duration": 17,
    "start_time": "2022-04-09T12:14:29.576Z"
   },
   {
    "duration": 45,
    "start_time": "2022-04-09T12:14:29.595Z"
   },
   {
    "duration": 5,
    "start_time": "2022-04-09T12:14:29.642Z"
   },
   {
    "duration": 11,
    "start_time": "2022-04-09T12:14:29.649Z"
   },
   {
    "duration": 15,
    "start_time": "2022-04-09T12:14:29.662Z"
   },
   {
    "duration": 18,
    "start_time": "2022-04-09T12:14:29.679Z"
   },
   {
    "duration": 5,
    "start_time": "2022-04-09T12:14:29.701Z"
   },
   {
    "duration": 167,
    "start_time": "2022-04-09T12:14:29.708Z"
   },
   {
    "duration": 6,
    "start_time": "2022-04-09T12:14:29.877Z"
   },
   {
    "duration": 21,
    "start_time": "2022-04-09T12:14:29.885Z"
   },
   {
    "duration": 34,
    "start_time": "2022-04-09T12:14:29.908Z"
   },
   {
    "duration": 356,
    "start_time": "2022-04-09T12:14:29.944Z"
   },
   {
    "duration": 312,
    "start_time": "2022-04-09T12:14:30.302Z"
   },
   {
    "duration": 350,
    "start_time": "2022-04-09T12:14:30.616Z"
   },
   {
    "duration": 474,
    "start_time": "2022-04-09T12:14:30.968Z"
   },
   {
    "duration": 168,
    "start_time": "2022-04-09T12:14:31.444Z"
   },
   {
    "duration": 1764,
    "start_time": "2022-04-19T08:04:25.780Z"
   },
   {
    "duration": 21,
    "start_time": "2022-04-19T08:04:27.546Z"
   },
   {
    "duration": 10,
    "start_time": "2022-04-19T08:04:27.569Z"
   },
   {
    "duration": 14,
    "start_time": "2022-04-19T08:04:27.581Z"
   },
   {
    "duration": 31,
    "start_time": "2022-04-19T08:04:27.598Z"
   },
   {
    "duration": 6,
    "start_time": "2022-04-19T08:04:27.651Z"
   },
   {
    "duration": 8,
    "start_time": "2022-04-19T08:04:27.659Z"
   },
   {
    "duration": 11,
    "start_time": "2022-04-19T08:04:27.669Z"
   },
   {
    "duration": 18,
    "start_time": "2022-04-19T08:04:27.683Z"
   },
   {
    "duration": 6,
    "start_time": "2022-04-19T08:04:27.703Z"
   },
   {
    "duration": 239,
    "start_time": "2022-04-19T08:04:27.712Z"
   },
   {
    "duration": 7,
    "start_time": "2022-04-19T08:04:27.953Z"
   },
   {
    "duration": 24,
    "start_time": "2022-04-19T08:04:27.961Z"
   },
   {
    "duration": 22,
    "start_time": "2022-04-19T08:04:27.989Z"
   },
   {
    "duration": 573,
    "start_time": "2022-04-19T08:04:28.013Z"
   },
   {
    "duration": 470,
    "start_time": "2022-04-19T08:04:28.588Z"
   },
   {
    "duration": 548,
    "start_time": "2022-04-19T08:04:29.060Z"
   },
   {
    "duration": 680,
    "start_time": "2022-04-19T08:04:29.611Z"
   },
   {
    "duration": 300,
    "start_time": "2022-04-19T08:04:30.293Z"
   },
   {
    "duration": 511,
    "start_time": "2022-04-19T08:04:30.596Z"
   },
   {
    "duration": 347,
    "start_time": "2022-04-19T08:04:31.109Z"
   },
   {
    "duration": 367,
    "start_time": "2022-04-19T08:04:31.458Z"
   },
   {
    "duration": 252,
    "start_time": "2022-04-19T08:04:31.828Z"
   },
   {
    "duration": 269,
    "start_time": "2022-04-19T08:04:32.082Z"
   },
   {
    "duration": 333,
    "start_time": "2022-04-19T08:04:32.354Z"
   },
   {
    "duration": 546,
    "start_time": "2022-04-19T08:04:32.689Z"
   },
   {
    "duration": 34,
    "start_time": "2022-04-19T08:04:33.238Z"
   },
   {
    "duration": 331,
    "start_time": "2022-04-19T08:04:33.274Z"
   },
   {
    "duration": 189,
    "start_time": "2022-04-19T08:04:33.607Z"
   },
   {
    "duration": 318,
    "start_time": "2022-04-19T08:04:33.798Z"
   },
   {
    "duration": 264,
    "start_time": "2022-04-19T08:04:34.118Z"
   },
   {
    "duration": 470,
    "start_time": "2022-04-19T08:04:34.384Z"
   },
   {
    "duration": 14,
    "start_time": "2022-04-19T08:04:34.856Z"
   },
   {
    "duration": 9,
    "start_time": "2022-04-19T08:04:34.873Z"
   },
   {
    "duration": 10,
    "start_time": "2022-04-19T08:04:34.885Z"
   },
   {
    "duration": 8,
    "start_time": "2022-04-19T08:04:34.897Z"
   },
   {
    "duration": 27,
    "start_time": "2022-04-19T08:13:37.099Z"
   },
   {
    "duration": 40,
    "start_time": "2022-04-19T08:17:33.695Z"
   },
   {
    "duration": 13,
    "start_time": "2022-04-19T08:17:46.261Z"
   },
   {
    "duration": 37,
    "start_time": "2022-04-19T08:18:08.997Z"
   },
   {
    "duration": 41,
    "start_time": "2022-04-19T08:18:30.949Z"
   },
   {
    "duration": 38,
    "start_time": "2022-04-19T08:19:11.041Z"
   },
   {
    "duration": 39,
    "start_time": "2022-04-19T08:19:55.321Z"
   },
   {
    "duration": 403,
    "start_time": "2022-04-19T08:20:21.951Z"
   },
   {
    "duration": 39,
    "start_time": "2022-04-19T08:20:33.551Z"
   },
   {
    "duration": 71,
    "start_time": "2022-04-19T10:32:42.761Z"
   },
   {
    "duration": 43,
    "start_time": "2022-04-19T10:32:42.834Z"
   },
   {
    "duration": 8,
    "start_time": "2022-04-19T10:32:42.879Z"
   },
   {
    "duration": 27,
    "start_time": "2022-04-19T10:32:42.891Z"
   },
   {
    "duration": 56,
    "start_time": "2022-04-19T10:32:42.921Z"
   },
   {
    "duration": 9,
    "start_time": "2022-04-19T10:32:42.980Z"
   },
   {
    "duration": 23,
    "start_time": "2022-04-19T10:32:42.992Z"
   },
   {
    "duration": 21,
    "start_time": "2022-04-19T10:32:43.018Z"
   },
   {
    "duration": 44,
    "start_time": "2022-04-19T10:32:43.042Z"
   },
   {
    "duration": 7,
    "start_time": "2022-04-19T10:32:43.089Z"
   },
   {
    "duration": 229,
    "start_time": "2022-04-19T10:32:43.098Z"
   },
   {
    "duration": 6,
    "start_time": "2022-04-19T10:32:43.330Z"
   },
   {
    "duration": 36,
    "start_time": "2022-04-19T10:32:43.338Z"
   },
   {
    "duration": 33,
    "start_time": "2022-04-19T10:32:43.377Z"
   },
   {
    "duration": 90,
    "start_time": "2022-04-19T10:40:00.632Z"
   },
   {
    "duration": 88,
    "start_time": "2022-04-19T10:44:23.349Z"
   },
   {
    "duration": 87,
    "start_time": "2022-04-19T10:45:32.745Z"
   },
   {
    "duration": 91,
    "start_time": "2022-04-19T11:28:43.406Z"
   },
   {
    "duration": 106,
    "start_time": "2022-04-19T11:35:03.275Z"
   },
   {
    "duration": 102,
    "start_time": "2022-04-19T11:48:27.873Z"
   },
   {
    "duration": 1777,
    "start_time": "2022-04-22T07:38:41.500Z"
   },
   {
    "duration": 76,
    "start_time": "2022-04-22T07:38:49.179Z"
   },
   {
    "duration": 4,
    "start_time": "2022-04-22T07:43:41.910Z"
   },
   {
    "duration": 56,
    "start_time": "2022-04-22T07:43:41.916Z"
   },
   {
    "duration": 14,
    "start_time": "2022-04-22T07:43:41.974Z"
   },
   {
    "duration": 11,
    "start_time": "2022-04-22T07:43:41.990Z"
   },
   {
    "duration": 13,
    "start_time": "2022-04-22T07:43:42.003Z"
   },
   {
    "duration": 18,
    "start_time": "2022-04-22T07:43:42.018Z"
   },
   {
    "duration": 5,
    "start_time": "2022-04-22T07:43:42.054Z"
   },
   {
    "duration": 12,
    "start_time": "2022-04-22T07:43:42.060Z"
   },
   {
    "duration": 11,
    "start_time": "2022-04-22T07:43:42.073Z"
   },
   {
    "duration": 17,
    "start_time": "2022-04-22T07:43:42.085Z"
   },
   {
    "duration": 7,
    "start_time": "2022-04-22T07:43:42.105Z"
   },
   {
    "duration": 210,
    "start_time": "2022-04-22T07:43:42.114Z"
   },
   {
    "duration": 5,
    "start_time": "2022-04-22T07:43:42.326Z"
   },
   {
    "duration": 23,
    "start_time": "2022-04-22T07:43:42.332Z"
   },
   {
    "duration": 13,
    "start_time": "2022-04-22T07:43:42.357Z"
   },
   {
    "duration": 10,
    "start_time": "2022-04-22T07:43:42.371Z"
   },
   {
    "duration": 346,
    "start_time": "2022-04-22T07:43:42.382Z"
   },
   {
    "duration": 263,
    "start_time": "2022-04-22T07:43:42.729Z"
   },
   {
    "duration": 154,
    "start_time": "2022-04-22T07:43:42.993Z"
   },
   {
    "duration": 318,
    "start_time": "2022-04-22T07:43:59.049Z"
   },
   {
    "duration": 538,
    "start_time": "2022-04-22T07:47:33.769Z"
   },
   {
    "duration": 171,
    "start_time": "2022-04-22T08:58:10.160Z"
   },
   {
    "duration": 517,
    "start_time": "2022-04-22T08:58:50.705Z"
   },
   {
    "duration": 354,
    "start_time": "2022-04-22T08:59:31.746Z"
   },
   {
    "duration": 342,
    "start_time": "2022-04-22T08:59:59.305Z"
   },
   {
    "duration": 362,
    "start_time": "2022-04-22T09:00:09.865Z"
   },
   {
    "duration": 372,
    "start_time": "2022-04-22T09:00:12.472Z"
   },
   {
    "duration": 403,
    "start_time": "2022-04-22T09:00:36.410Z"
   },
   {
    "duration": 487,
    "start_time": "2022-04-22T09:00:45.474Z"
   },
   {
    "duration": 394,
    "start_time": "2022-04-22T09:00:50.463Z"
   },
   {
    "duration": 380,
    "start_time": "2022-04-22T09:00:58.337Z"
   },
   {
    "duration": 377,
    "start_time": "2022-04-22T09:01:05.887Z"
   },
   {
    "duration": 196,
    "start_time": "2022-04-22T09:09:29.644Z"
   },
   {
    "duration": 219,
    "start_time": "2022-04-22T09:10:47.964Z"
   },
   {
    "duration": 221,
    "start_time": "2022-04-22T09:10:54.848Z"
   },
   {
    "duration": 436,
    "start_time": "2022-04-22T09:10:58.574Z"
   },
   {
    "duration": 340,
    "start_time": "2022-04-22T09:14:06.596Z"
   },
   {
    "duration": 336,
    "start_time": "2022-04-22T09:14:23.093Z"
   },
   {
    "duration": 337,
    "start_time": "2022-04-22T09:14:59.502Z"
   },
   {
    "duration": 156,
    "start_time": "2022-04-22T09:15:10.725Z"
   },
   {
    "duration": 167,
    "start_time": "2022-04-22T09:15:26.088Z"
   },
   {
    "duration": 153,
    "start_time": "2022-04-22T09:15:36.371Z"
   },
   {
    "duration": 146,
    "start_time": "2022-04-22T09:15:45.628Z"
   },
   {
    "duration": 236,
    "start_time": "2022-04-22T09:15:55.086Z"
   },
   {
    "duration": 1922,
    "start_time": "2022-04-22T11:00:42.573Z"
   },
   {
    "duration": 752,
    "start_time": "2022-04-22T11:07:37.835Z"
   },
   {
    "duration": 1802,
    "start_time": "2022-04-22T11:09:41.417Z"
   },
   {
    "duration": 1852,
    "start_time": "2022-04-22T11:12:58.851Z"
   },
   {
    "duration": 151,
    "start_time": "2022-04-22T11:17:24.424Z"
   },
   {
    "duration": 1824,
    "start_time": "2022-04-22T11:17:36.688Z"
   },
   {
    "duration": 1810,
    "start_time": "2022-04-23T12:06:08.551Z"
   },
   {
    "duration": 79,
    "start_time": "2022-04-23T12:06:10.364Z"
   },
   {
    "duration": 21,
    "start_time": "2022-04-23T12:06:10.445Z"
   },
   {
    "duration": 7,
    "start_time": "2022-04-23T12:06:10.481Z"
   },
   {
    "duration": 19,
    "start_time": "2022-04-23T12:06:10.491Z"
   },
   {
    "duration": 20,
    "start_time": "2022-04-23T12:06:10.513Z"
   },
   {
    "duration": 6,
    "start_time": "2022-04-23T12:06:10.535Z"
   },
   {
    "duration": 52,
    "start_time": "2022-04-23T12:06:10.543Z"
   },
   {
    "duration": 11,
    "start_time": "2022-04-23T12:06:10.598Z"
   },
   {
    "duration": 20,
    "start_time": "2022-04-23T12:06:10.616Z"
   },
   {
    "duration": 7,
    "start_time": "2022-04-23T12:06:10.638Z"
   },
   {
    "duration": 247,
    "start_time": "2022-04-23T12:06:10.647Z"
   },
   {
    "duration": 6,
    "start_time": "2022-04-23T12:06:10.897Z"
   },
   {
    "duration": 22,
    "start_time": "2022-04-23T12:06:10.905Z"
   },
   {
    "duration": 19,
    "start_time": "2022-04-23T12:06:10.929Z"
   },
   {
    "duration": 53,
    "start_time": "2022-04-23T12:06:10.950Z"
   },
   {
    "duration": 596,
    "start_time": "2022-04-23T12:06:11.005Z"
   },
   {
    "duration": 501,
    "start_time": "2022-04-23T12:06:11.603Z"
   },
   {
    "duration": 579,
    "start_time": "2022-04-23T12:06:12.107Z"
   },
   {
    "duration": 3,
    "start_time": "2022-04-23T12:06:12.689Z"
   },
   {
    "duration": 512,
    "start_time": "2022-04-23T12:06:12.696Z"
   },
   {
    "duration": 0,
    "start_time": "2022-04-23T12:06:13.211Z"
   },
   {
    "duration": 0,
    "start_time": "2022-04-23T12:06:13.213Z"
   },
   {
    "duration": 0,
    "start_time": "2022-04-23T12:06:13.215Z"
   },
   {
    "duration": 0,
    "start_time": "2022-04-23T12:06:13.216Z"
   },
   {
    "duration": 0,
    "start_time": "2022-04-23T12:06:13.217Z"
   },
   {
    "duration": 0,
    "start_time": "2022-04-23T12:06:13.218Z"
   },
   {
    "duration": 0,
    "start_time": "2022-04-23T12:06:13.220Z"
   },
   {
    "duration": 0,
    "start_time": "2022-04-23T12:06:13.222Z"
   },
   {
    "duration": 0,
    "start_time": "2022-04-23T12:06:13.224Z"
   },
   {
    "duration": 0,
    "start_time": "2022-04-23T12:06:13.225Z"
   },
   {
    "duration": 0,
    "start_time": "2022-04-23T12:06:13.226Z"
   },
   {
    "duration": 0,
    "start_time": "2022-04-23T12:06:13.228Z"
   },
   {
    "duration": 0,
    "start_time": "2022-04-23T12:06:13.229Z"
   },
   {
    "duration": 0,
    "start_time": "2022-04-23T12:06:13.230Z"
   },
   {
    "duration": 1,
    "start_time": "2022-04-23T12:06:13.231Z"
   },
   {
    "duration": 0,
    "start_time": "2022-04-23T12:06:13.233Z"
   },
   {
    "duration": 0,
    "start_time": "2022-04-23T12:06:13.234Z"
   },
   {
    "duration": 0,
    "start_time": "2022-04-23T12:06:13.235Z"
   },
   {
    "duration": 0,
    "start_time": "2022-04-23T12:06:13.292Z"
   },
   {
    "duration": 0,
    "start_time": "2022-04-23T12:06:13.293Z"
   },
   {
    "duration": 0,
    "start_time": "2022-04-23T12:06:13.295Z"
   },
   {
    "duration": 0,
    "start_time": "2022-04-23T12:06:13.297Z"
   },
   {
    "duration": 4,
    "start_time": "2022-04-23T12:06:51.023Z"
   },
   {
    "duration": 78,
    "start_time": "2022-04-23T12:06:51.030Z"
   },
   {
    "duration": 19,
    "start_time": "2022-04-23T12:06:51.111Z"
   },
   {
    "duration": 10,
    "start_time": "2022-04-23T12:06:51.133Z"
   },
   {
    "duration": 36,
    "start_time": "2022-04-23T12:06:51.146Z"
   },
   {
    "duration": 22,
    "start_time": "2022-04-23T12:06:51.190Z"
   },
   {
    "duration": 11,
    "start_time": "2022-04-23T12:06:51.214Z"
   },
   {
    "duration": 21,
    "start_time": "2022-04-23T12:06:51.228Z"
   },
   {
    "duration": 38,
    "start_time": "2022-04-23T12:06:51.253Z"
   },
   {
    "duration": 28,
    "start_time": "2022-04-23T12:06:51.293Z"
   },
   {
    "duration": 6,
    "start_time": "2022-04-23T12:06:51.323Z"
   },
   {
    "duration": 230,
    "start_time": "2022-04-23T12:06:51.331Z"
   },
   {
    "duration": 5,
    "start_time": "2022-04-23T12:06:51.563Z"
   },
   {
    "duration": 48,
    "start_time": "2022-04-23T12:06:51.570Z"
   },
   {
    "duration": 25,
    "start_time": "2022-04-23T12:06:51.620Z"
   },
   {
    "duration": 16,
    "start_time": "2022-04-23T12:06:51.647Z"
   },
   {
    "duration": 586,
    "start_time": "2022-04-23T12:06:51.666Z"
   },
   {
    "duration": 596,
    "start_time": "2022-04-23T12:06:52.255Z"
   },
   {
    "duration": 561,
    "start_time": "2022-04-23T12:06:52.853Z"
   },
   {
    "duration": 4,
    "start_time": "2022-04-23T12:06:53.416Z"
   },
   {
    "duration": 375,
    "start_time": "2022-04-23T12:06:53.423Z"
   },
   {
    "duration": 0,
    "start_time": "2022-04-23T12:06:53.801Z"
   },
   {
    "duration": 0,
    "start_time": "2022-04-23T12:06:53.802Z"
   },
   {
    "duration": 0,
    "start_time": "2022-04-23T12:06:53.805Z"
   },
   {
    "duration": 0,
    "start_time": "2022-04-23T12:06:53.806Z"
   },
   {
    "duration": 0,
    "start_time": "2022-04-23T12:06:53.809Z"
   },
   {
    "duration": 0,
    "start_time": "2022-04-23T12:06:53.811Z"
   },
   {
    "duration": 0,
    "start_time": "2022-04-23T12:06:53.813Z"
   },
   {
    "duration": 0,
    "start_time": "2022-04-23T12:06:53.815Z"
   },
   {
    "duration": 0,
    "start_time": "2022-04-23T12:06:53.817Z"
   },
   {
    "duration": 0,
    "start_time": "2022-04-23T12:06:53.819Z"
   },
   {
    "duration": 0,
    "start_time": "2022-04-23T12:06:53.821Z"
   },
   {
    "duration": 0,
    "start_time": "2022-04-23T12:06:53.823Z"
   },
   {
    "duration": 0,
    "start_time": "2022-04-23T12:06:53.825Z"
   },
   {
    "duration": 0,
    "start_time": "2022-04-23T12:06:53.827Z"
   },
   {
    "duration": 0,
    "start_time": "2022-04-23T12:06:53.829Z"
   },
   {
    "duration": 0,
    "start_time": "2022-04-23T12:06:53.831Z"
   },
   {
    "duration": 0,
    "start_time": "2022-04-23T12:06:53.883Z"
   },
   {
    "duration": 0,
    "start_time": "2022-04-23T12:06:53.886Z"
   },
   {
    "duration": 0,
    "start_time": "2022-04-23T12:06:53.887Z"
   },
   {
    "duration": 0,
    "start_time": "2022-04-23T12:06:53.889Z"
   },
   {
    "duration": 0,
    "start_time": "2022-04-23T12:06:53.890Z"
   },
   {
    "duration": 0,
    "start_time": "2022-04-23T12:06:53.892Z"
   },
   {
    "duration": 5,
    "start_time": "2022-04-23T12:07:18.698Z"
   },
   {
    "duration": 90,
    "start_time": "2022-04-23T12:07:18.706Z"
   },
   {
    "duration": 21,
    "start_time": "2022-04-23T12:07:18.798Z"
   },
   {
    "duration": 6,
    "start_time": "2022-04-23T12:07:18.821Z"
   },
   {
    "duration": 55,
    "start_time": "2022-04-23T12:07:18.831Z"
   },
   {
    "duration": 22,
    "start_time": "2022-04-23T12:07:18.888Z"
   },
   {
    "duration": 7,
    "start_time": "2022-04-23T12:07:18.911Z"
   },
   {
    "duration": 9,
    "start_time": "2022-04-23T12:07:18.919Z"
   },
   {
    "duration": 15,
    "start_time": "2022-04-23T12:07:18.930Z"
   },
   {
    "duration": 59,
    "start_time": "2022-04-23T12:07:18.947Z"
   },
   {
    "duration": 7,
    "start_time": "2022-04-23T12:07:19.012Z"
   },
   {
    "duration": 237,
    "start_time": "2022-04-23T12:07:19.021Z"
   },
   {
    "duration": 6,
    "start_time": "2022-04-23T12:07:19.261Z"
   },
   {
    "duration": 31,
    "start_time": "2022-04-23T12:07:19.269Z"
   },
   {
    "duration": 26,
    "start_time": "2022-04-23T12:07:19.303Z"
   },
   {
    "duration": 16,
    "start_time": "2022-04-23T12:07:19.331Z"
   },
   {
    "duration": 592,
    "start_time": "2022-04-23T12:07:19.349Z"
   },
   {
    "duration": 511,
    "start_time": "2022-04-23T12:07:19.944Z"
   },
   {
    "duration": 563,
    "start_time": "2022-04-23T12:07:20.458Z"
   },
   {
    "duration": 3,
    "start_time": "2022-04-23T12:07:21.023Z"
   },
   {
    "duration": 887,
    "start_time": "2022-04-23T12:07:21.029Z"
   },
   {
    "duration": 1166,
    "start_time": "2022-04-23T12:07:21.919Z"
   },
   {
    "duration": 713,
    "start_time": "2022-04-23T12:07:23.088Z"
   },
   {
    "duration": 1339,
    "start_time": "2022-04-23T12:07:23.804Z"
   },
   {
    "duration": 0,
    "start_time": "2022-04-23T12:07:25.148Z"
   },
   {
    "duration": 0,
    "start_time": "2022-04-23T12:07:25.150Z"
   },
   {
    "duration": 0,
    "start_time": "2022-04-23T12:07:25.152Z"
   },
   {
    "duration": 0,
    "start_time": "2022-04-23T12:07:25.154Z"
   },
   {
    "duration": 0,
    "start_time": "2022-04-23T12:07:25.157Z"
   },
   {
    "duration": 0,
    "start_time": "2022-04-23T12:07:25.159Z"
   },
   {
    "duration": 0,
    "start_time": "2022-04-23T12:07:25.161Z"
   },
   {
    "duration": 0,
    "start_time": "2022-04-23T12:07:25.164Z"
   },
   {
    "duration": 0,
    "start_time": "2022-04-23T12:07:25.166Z"
   },
   {
    "duration": 0,
    "start_time": "2022-04-23T12:07:25.168Z"
   },
   {
    "duration": 0,
    "start_time": "2022-04-23T12:07:25.170Z"
   },
   {
    "duration": 0,
    "start_time": "2022-04-23T12:07:25.172Z"
   },
   {
    "duration": 0,
    "start_time": "2022-04-23T12:07:25.174Z"
   },
   {
    "duration": 0,
    "start_time": "2022-04-23T12:07:25.176Z"
   },
   {
    "duration": 1,
    "start_time": "2022-04-23T12:07:25.178Z"
   },
   {
    "duration": 0,
    "start_time": "2022-04-23T12:07:25.180Z"
   },
   {
    "duration": 0,
    "start_time": "2022-04-23T12:07:25.182Z"
   },
   {
    "duration": 0,
    "start_time": "2022-04-23T12:07:25.183Z"
   },
   {
    "duration": 1412,
    "start_time": "2022-04-23T12:07:37.915Z"
   },
   {
    "duration": 49,
    "start_time": "2022-04-23T14:34:07.258Z"
   },
   {
    "duration": 1385,
    "start_time": "2022-04-23T14:34:14.031Z"
   },
   {
    "duration": 77,
    "start_time": "2022-04-23T14:34:15.421Z"
   },
   {
    "duration": 21,
    "start_time": "2022-04-23T14:34:15.502Z"
   },
   {
    "duration": 14,
    "start_time": "2022-04-23T14:34:15.525Z"
   },
   {
    "duration": 12,
    "start_time": "2022-04-23T14:34:15.541Z"
   },
   {
    "duration": 21,
    "start_time": "2022-04-23T14:34:15.554Z"
   },
   {
    "duration": 5,
    "start_time": "2022-04-23T14:34:15.576Z"
   },
   {
    "duration": 7,
    "start_time": "2022-04-23T14:34:15.583Z"
   },
   {
    "duration": 19,
    "start_time": "2022-04-23T14:34:15.592Z"
   },
   {
    "duration": 41,
    "start_time": "2022-04-23T14:34:15.612Z"
   },
   {
    "duration": 6,
    "start_time": "2022-04-23T14:34:15.654Z"
   },
   {
    "duration": 128,
    "start_time": "2022-04-23T14:34:15.662Z"
   },
   {
    "duration": 12,
    "start_time": "2022-04-23T14:34:15.792Z"
   },
   {
    "duration": 36,
    "start_time": "2022-04-23T14:34:15.812Z"
   },
   {
    "duration": 14,
    "start_time": "2022-04-23T14:34:15.850Z"
   },
   {
    "duration": 12,
    "start_time": "2022-04-23T14:34:15.865Z"
   },
   {
    "duration": 357,
    "start_time": "2022-04-23T14:34:15.878Z"
   },
   {
    "duration": 315,
    "start_time": "2022-04-23T14:34:16.237Z"
   },
   {
    "duration": 418,
    "start_time": "2022-04-23T14:34:16.554Z"
   },
   {
    "duration": 3,
    "start_time": "2022-04-23T14:34:16.974Z"
   },
   {
    "duration": 428,
    "start_time": "2022-04-23T14:34:16.978Z"
   },
   {
    "duration": 183,
    "start_time": "2022-04-23T14:34:17.407Z"
   },
   {
    "duration": 276,
    "start_time": "2022-04-23T14:34:17.592Z"
   },
   {
    "duration": 8,
    "start_time": "2022-04-23T14:34:17.870Z"
   },
   {
    "duration": 2779,
    "start_time": "2022-04-23T14:34:17.879Z"
   },
   {
    "duration": 0,
    "start_time": "2022-04-23T14:34:20.660Z"
   },
   {
    "duration": 0,
    "start_time": "2022-04-23T14:34:20.661Z"
   },
   {
    "duration": 0,
    "start_time": "2022-04-23T14:34:20.662Z"
   },
   {
    "duration": 0,
    "start_time": "2022-04-23T14:34:20.664Z"
   },
   {
    "duration": 0,
    "start_time": "2022-04-23T14:34:20.664Z"
   },
   {
    "duration": 0,
    "start_time": "2022-04-23T14:34:20.665Z"
   },
   {
    "duration": 0,
    "start_time": "2022-04-23T14:34:20.666Z"
   },
   {
    "duration": 0,
    "start_time": "2022-04-23T14:34:20.667Z"
   },
   {
    "duration": 0,
    "start_time": "2022-04-23T14:34:20.668Z"
   },
   {
    "duration": 0,
    "start_time": "2022-04-23T14:34:20.669Z"
   },
   {
    "duration": 1,
    "start_time": "2022-04-23T14:34:20.670Z"
   },
   {
    "duration": 0,
    "start_time": "2022-04-23T14:34:20.671Z"
   },
   {
    "duration": 0,
    "start_time": "2022-04-23T14:34:20.672Z"
   },
   {
    "duration": 0,
    "start_time": "2022-04-23T14:34:20.673Z"
   },
   {
    "duration": 0,
    "start_time": "2022-04-23T14:34:20.674Z"
   },
   {
    "duration": 0,
    "start_time": "2022-04-23T14:34:20.675Z"
   },
   {
    "duration": 0,
    "start_time": "2022-04-23T14:34:20.676Z"
   },
   {
    "duration": 3,
    "start_time": "2022-04-23T14:34:48.547Z"
   },
   {
    "duration": 69,
    "start_time": "2022-04-23T14:34:48.552Z"
   },
   {
    "duration": 16,
    "start_time": "2022-04-23T14:34:48.622Z"
   },
   {
    "duration": 8,
    "start_time": "2022-04-23T14:34:48.643Z"
   },
   {
    "duration": 10,
    "start_time": "2022-04-23T14:34:48.653Z"
   },
   {
    "duration": 14,
    "start_time": "2022-04-23T14:34:48.664Z"
   },
   {
    "duration": 5,
    "start_time": "2022-04-23T14:34:48.680Z"
   },
   {
    "duration": 7,
    "start_time": "2022-04-23T14:34:48.702Z"
   },
   {
    "duration": 39,
    "start_time": "2022-04-23T14:34:48.710Z"
   },
   {
    "duration": 15,
    "start_time": "2022-04-23T14:34:48.750Z"
   },
   {
    "duration": 6,
    "start_time": "2022-04-23T14:34:48.767Z"
   },
   {
    "duration": 137,
    "start_time": "2022-04-23T14:34:48.774Z"
   },
   {
    "duration": 6,
    "start_time": "2022-04-23T14:34:48.915Z"
   },
   {
    "duration": 42,
    "start_time": "2022-04-23T14:34:48.923Z"
   },
   {
    "duration": 17,
    "start_time": "2022-04-23T14:34:48.967Z"
   },
   {
    "duration": 10,
    "start_time": "2022-04-23T14:34:48.986Z"
   },
   {
    "duration": 356,
    "start_time": "2022-04-23T14:34:48.997Z"
   },
   {
    "duration": 302,
    "start_time": "2022-04-23T14:34:49.355Z"
   },
   {
    "duration": 349,
    "start_time": "2022-04-23T14:34:49.658Z"
   },
   {
    "duration": 4,
    "start_time": "2022-04-23T14:34:50.011Z"
   },
   {
    "duration": 532,
    "start_time": "2022-04-23T14:34:50.016Z"
   },
   {
    "duration": 262,
    "start_time": "2022-04-23T14:34:50.550Z"
   },
   {
    "duration": 254,
    "start_time": "2022-04-23T14:34:50.819Z"
   },
   {
    "duration": 10,
    "start_time": "2022-04-23T14:34:51.075Z"
   },
   {
    "duration": 954,
    "start_time": "2022-04-23T14:34:51.086Z"
   },
   {
    "duration": 0,
    "start_time": "2022-04-23T14:34:52.042Z"
   },
   {
    "duration": 0,
    "start_time": "2022-04-23T14:34:52.043Z"
   },
   {
    "duration": 0,
    "start_time": "2022-04-23T14:34:52.044Z"
   },
   {
    "duration": 0,
    "start_time": "2022-04-23T14:34:52.045Z"
   },
   {
    "duration": 0,
    "start_time": "2022-04-23T14:34:52.046Z"
   },
   {
    "duration": 0,
    "start_time": "2022-04-23T14:34:52.047Z"
   },
   {
    "duration": 0,
    "start_time": "2022-04-23T14:34:52.048Z"
   },
   {
    "duration": 0,
    "start_time": "2022-04-23T14:34:52.049Z"
   },
   {
    "duration": 0,
    "start_time": "2022-04-23T14:34:52.050Z"
   },
   {
    "duration": 0,
    "start_time": "2022-04-23T14:34:52.052Z"
   },
   {
    "duration": 0,
    "start_time": "2022-04-23T14:34:52.052Z"
   },
   {
    "duration": 0,
    "start_time": "2022-04-23T14:34:52.054Z"
   },
   {
    "duration": 0,
    "start_time": "2022-04-23T14:34:52.055Z"
   },
   {
    "duration": 0,
    "start_time": "2022-04-23T14:34:52.056Z"
   },
   {
    "duration": 0,
    "start_time": "2022-04-23T14:34:52.057Z"
   },
   {
    "duration": 0,
    "start_time": "2022-04-23T14:34:52.058Z"
   },
   {
    "duration": 8,
    "start_time": "2022-04-23T14:34:58.176Z"
   },
   {
    "duration": 897,
    "start_time": "2022-04-23T14:34:58.186Z"
   },
   {
    "duration": 0,
    "start_time": "2022-04-23T14:34:59.085Z"
   },
   {
    "duration": 0,
    "start_time": "2022-04-23T14:34:59.087Z"
   },
   {
    "duration": 0,
    "start_time": "2022-04-23T14:34:59.088Z"
   },
   {
    "duration": 0,
    "start_time": "2022-04-23T14:34:59.090Z"
   },
   {
    "duration": 0,
    "start_time": "2022-04-23T14:34:59.091Z"
   },
   {
    "duration": 0,
    "start_time": "2022-04-23T14:34:59.092Z"
   },
   {
    "duration": 0,
    "start_time": "2022-04-23T14:34:59.094Z"
   },
   {
    "duration": 0,
    "start_time": "2022-04-23T14:34:59.095Z"
   },
   {
    "duration": 0,
    "start_time": "2022-04-23T14:34:59.097Z"
   },
   {
    "duration": 0,
    "start_time": "2022-04-23T14:34:59.098Z"
   },
   {
    "duration": 0,
    "start_time": "2022-04-23T14:34:59.099Z"
   },
   {
    "duration": 0,
    "start_time": "2022-04-23T14:34:59.102Z"
   },
   {
    "duration": 0,
    "start_time": "2022-04-23T14:34:59.103Z"
   },
   {
    "duration": 0,
    "start_time": "2022-04-23T14:34:59.104Z"
   },
   {
    "duration": 0,
    "start_time": "2022-04-23T14:34:59.105Z"
   },
   {
    "duration": 0,
    "start_time": "2022-04-23T14:34:59.105Z"
   },
   {
    "duration": 4,
    "start_time": "2022-04-23T14:35:04.848Z"
   },
   {
    "duration": 73,
    "start_time": "2022-04-23T14:35:04.854Z"
   },
   {
    "duration": 20,
    "start_time": "2022-04-23T14:35:04.929Z"
   },
   {
    "duration": 6,
    "start_time": "2022-04-23T14:35:04.951Z"
   },
   {
    "duration": 12,
    "start_time": "2022-04-23T14:35:04.960Z"
   },
   {
    "duration": 37,
    "start_time": "2022-04-23T14:35:04.974Z"
   },
   {
    "duration": 6,
    "start_time": "2022-04-23T14:35:05.014Z"
   },
   {
    "duration": 25,
    "start_time": "2022-04-23T14:35:05.021Z"
   },
   {
    "duration": 13,
    "start_time": "2022-04-23T14:35:05.049Z"
   },
   {
    "duration": 23,
    "start_time": "2022-04-23T14:35:05.064Z"
   },
   {
    "duration": 6,
    "start_time": "2022-04-23T14:35:05.089Z"
   },
   {
    "duration": 193,
    "start_time": "2022-04-23T14:35:05.101Z"
   },
   {
    "duration": 13,
    "start_time": "2022-04-23T14:35:05.298Z"
   },
   {
    "duration": 53,
    "start_time": "2022-04-23T14:35:05.312Z"
   },
   {
    "duration": 20,
    "start_time": "2022-04-23T14:35:05.367Z"
   },
   {
    "duration": 22,
    "start_time": "2022-04-23T14:35:05.389Z"
   },
   {
    "duration": 564,
    "start_time": "2022-04-23T14:35:05.413Z"
   },
   {
    "duration": 443,
    "start_time": "2022-04-23T14:35:05.980Z"
   },
   {
    "duration": 338,
    "start_time": "2022-04-23T14:35:06.425Z"
   },
   {
    "duration": 3,
    "start_time": "2022-04-23T14:35:06.764Z"
   },
   {
    "duration": 559,
    "start_time": "2022-04-23T14:35:06.768Z"
   },
   {
    "duration": 249,
    "start_time": "2022-04-23T14:35:07.329Z"
   },
   {
    "duration": 293,
    "start_time": "2022-04-23T14:35:07.580Z"
   },
   {
    "duration": 10,
    "start_time": "2022-04-23T14:35:07.875Z"
   },
   {
    "duration": 4916,
    "start_time": "2022-04-23T14:35:07.887Z"
   },
   {
    "duration": 0,
    "start_time": "2022-04-23T14:35:12.805Z"
   },
   {
    "duration": 0,
    "start_time": "2022-04-23T14:35:12.807Z"
   },
   {
    "duration": 0,
    "start_time": "2022-04-23T14:35:12.808Z"
   },
   {
    "duration": 0,
    "start_time": "2022-04-23T14:35:12.809Z"
   },
   {
    "duration": 0,
    "start_time": "2022-04-23T14:35:12.810Z"
   },
   {
    "duration": 0,
    "start_time": "2022-04-23T14:35:12.811Z"
   },
   {
    "duration": 0,
    "start_time": "2022-04-23T14:35:12.812Z"
   },
   {
    "duration": 0,
    "start_time": "2022-04-23T14:35:12.813Z"
   },
   {
    "duration": 0,
    "start_time": "2022-04-23T14:35:12.814Z"
   },
   {
    "duration": 0,
    "start_time": "2022-04-23T14:35:12.815Z"
   },
   {
    "duration": 0,
    "start_time": "2022-04-23T14:35:12.817Z"
   },
   {
    "duration": 0,
    "start_time": "2022-04-23T14:35:12.818Z"
   },
   {
    "duration": 0,
    "start_time": "2022-04-23T14:35:12.819Z"
   },
   {
    "duration": 0,
    "start_time": "2022-04-23T14:35:12.820Z"
   },
   {
    "duration": 0,
    "start_time": "2022-04-23T14:35:12.821Z"
   },
   {
    "duration": 0,
    "start_time": "2022-04-23T14:35:12.822Z"
   },
   {
    "duration": 9,
    "start_time": "2022-04-23T14:35:32.723Z"
   },
   {
    "duration": 250,
    "start_time": "2022-04-23T14:35:32.734Z"
   },
   {
    "duration": 240,
    "start_time": "2022-04-23T14:35:32.986Z"
   },
   {
    "duration": 154,
    "start_time": "2022-04-23T14:35:33.230Z"
   },
   {
    "duration": 257,
    "start_time": "2022-04-23T14:35:33.386Z"
   },
   {
    "duration": 199,
    "start_time": "2022-04-23T14:35:33.644Z"
   },
   {
    "duration": 304,
    "start_time": "2022-04-23T14:35:33.845Z"
   },
   {
    "duration": 17,
    "start_time": "2022-04-23T14:35:34.151Z"
   },
   {
    "duration": 197,
    "start_time": "2022-04-23T14:35:34.169Z"
   },
   {
    "duration": 112,
    "start_time": "2022-04-23T14:35:34.367Z"
   },
   {
    "duration": 190,
    "start_time": "2022-04-23T14:35:34.481Z"
   },
   {
    "duration": 118,
    "start_time": "2022-04-23T14:35:34.672Z"
   },
   {
    "duration": 351,
    "start_time": "2022-04-23T14:35:34.800Z"
   },
   {
    "duration": 11,
    "start_time": "2022-04-23T14:35:35.154Z"
   },
   {
    "duration": 6,
    "start_time": "2022-04-23T14:35:35.167Z"
   },
   {
    "duration": 10,
    "start_time": "2022-04-23T14:35:35.174Z"
   },
   {
    "duration": 15,
    "start_time": "2022-04-23T14:35:35.200Z"
   },
   {
    "duration": 7,
    "start_time": "2022-04-23T14:36:51.650Z"
   },
   {
    "duration": 330,
    "start_time": "2022-04-23T14:37:01.050Z"
   },
   {
    "duration": 229,
    "start_time": "2022-04-23T14:37:30.081Z"
   },
   {
    "duration": 11,
    "start_time": "2022-04-23T14:37:57.594Z"
   },
   {
    "duration": 13,
    "start_time": "2022-04-23T14:38:15.930Z"
   },
   {
    "duration": 22,
    "start_time": "2022-04-23T14:38:22.442Z"
   },
   {
    "duration": 18,
    "start_time": "2022-04-23T14:40:35.283Z"
   },
   {
    "duration": 0,
    "start_time": "2022-04-23T14:41:14.412Z"
   },
   {
    "duration": 3360,
    "start_time": "2022-04-23T14:41:32.949Z"
   },
   {
    "duration": 3576,
    "start_time": "2022-04-23T14:42:26.234Z"
   },
   {
    "duration": 3511,
    "start_time": "2022-04-23T14:43:22.868Z"
   },
   {
    "duration": 3558,
    "start_time": "2022-04-23T14:43:32.676Z"
   },
   {
    "duration": 3296,
    "start_time": "2022-04-23T14:43:55.868Z"
   },
   {
    "duration": 5252,
    "start_time": "2022-04-23T14:46:20.089Z"
   },
   {
    "duration": 3326,
    "start_time": "2022-04-23T14:46:34.217Z"
   },
   {
    "duration": 3440,
    "start_time": "2022-04-23T14:47:11.101Z"
   },
   {
    "duration": 3623,
    "start_time": "2022-04-23T14:48:46.416Z"
   },
   {
    "duration": 3545,
    "start_time": "2022-04-23T14:49:25.845Z"
   },
   {
    "duration": 1321,
    "start_time": "2022-04-23T14:49:49.496Z"
   },
   {
    "duration": 54,
    "start_time": "2022-04-23T14:49:50.820Z"
   },
   {
    "duration": 19,
    "start_time": "2022-04-23T14:49:50.876Z"
   },
   {
    "duration": 7,
    "start_time": "2022-04-23T14:49:50.898Z"
   },
   {
    "duration": 38,
    "start_time": "2022-04-23T14:49:50.907Z"
   },
   {
    "duration": 18,
    "start_time": "2022-04-23T14:49:50.947Z"
   },
   {
    "duration": 5,
    "start_time": "2022-04-23T14:49:50.966Z"
   },
   {
    "duration": 7,
    "start_time": "2022-04-23T14:49:50.973Z"
   },
   {
    "duration": 12,
    "start_time": "2022-04-23T14:49:50.982Z"
   },
   {
    "duration": 21,
    "start_time": "2022-04-23T14:49:50.997Z"
   },
   {
    "duration": 20,
    "start_time": "2022-04-23T14:49:51.020Z"
   },
   {
    "duration": 188,
    "start_time": "2022-04-23T14:49:51.042Z"
   },
   {
    "duration": 6,
    "start_time": "2022-04-23T14:49:51.232Z"
   },
   {
    "duration": 23,
    "start_time": "2022-04-23T14:49:51.240Z"
   },
   {
    "duration": 21,
    "start_time": "2022-04-23T14:49:51.265Z"
   },
   {
    "duration": 28,
    "start_time": "2022-04-23T14:49:51.288Z"
   },
   {
    "duration": 368,
    "start_time": "2022-04-23T14:49:51.317Z"
   },
   {
    "duration": 404,
    "start_time": "2022-04-23T14:49:51.686Z"
   },
   {
    "duration": 484,
    "start_time": "2022-04-23T14:49:52.093Z"
   },
   {
    "duration": 3,
    "start_time": "2022-04-23T14:49:52.578Z"
   },
   {
    "duration": 406,
    "start_time": "2022-04-23T14:49:52.583Z"
   },
   {
    "duration": 176,
    "start_time": "2022-04-23T14:49:52.991Z"
   },
   {
    "duration": 280,
    "start_time": "2022-04-23T14:49:53.169Z"
   },
   {
    "duration": 3627,
    "start_time": "2022-04-23T14:49:56.526Z"
   },
   {
    "duration": 3464,
    "start_time": "2022-04-23T14:50:47.729Z"
   },
   {
    "duration": 3509,
    "start_time": "2022-04-23T14:52:08.474Z"
   },
   {
    "duration": 3310,
    "start_time": "2022-04-23T14:52:44.090Z"
   },
   {
    "duration": 3512,
    "start_time": "2022-04-23T14:55:52.492Z"
   },
   {
    "duration": 3464,
    "start_time": "2022-04-23T14:56:11.032Z"
   },
   {
    "duration": 3692,
    "start_time": "2022-04-23T15:25:12.288Z"
   },
   {
    "duration": 3408,
    "start_time": "2022-04-23T15:25:29.415Z"
   },
   {
    "duration": 15,
    "start_time": "2022-04-23T15:26:39.100Z"
   },
   {
    "duration": 11,
    "start_time": "2022-04-23T15:28:08.473Z"
   },
   {
    "duration": 12,
    "start_time": "2022-04-23T15:28:33.961Z"
   },
   {
    "duration": 3288,
    "start_time": "2022-04-23T15:28:34.194Z"
   },
   {
    "duration": 19,
    "start_time": "2022-04-23T15:28:39.393Z"
   },
   {
    "duration": 7,
    "start_time": "2022-04-23T15:29:02.074Z"
   },
   {
    "duration": 12,
    "start_time": "2022-04-23T15:29:19.539Z"
   },
   {
    "duration": 21,
    "start_time": "2022-04-23T15:29:32.666Z"
   },
   {
    "duration": 10,
    "start_time": "2022-04-23T15:29:42.497Z"
   },
   {
    "duration": 214,
    "start_time": "2022-04-23T15:30:08.994Z"
   },
   {
    "duration": 9,
    "start_time": "2022-04-23T15:30:19.179Z"
   },
   {
    "duration": 234,
    "start_time": "2022-04-23T15:31:57.555Z"
   },
   {
    "duration": 9,
    "start_time": "2022-04-23T15:32:23.124Z"
   },
   {
    "duration": 9,
    "start_time": "2022-04-23T15:32:44.979Z"
   },
   {
    "duration": 228,
    "start_time": "2022-04-23T15:35:04.233Z"
   },
   {
    "duration": 224,
    "start_time": "2022-04-23T15:35:36.016Z"
   },
   {
    "duration": 208,
    "start_time": "2022-04-23T15:37:26.105Z"
   },
   {
    "duration": 214,
    "start_time": "2022-04-23T15:40:13.650Z"
   },
   {
    "duration": 156,
    "start_time": "2022-04-23T15:41:23.254Z"
   },
   {
    "duration": 230,
    "start_time": "2022-04-23T15:42:04.387Z"
   },
   {
    "duration": 468,
    "start_time": "2022-04-23T15:44:21.483Z"
   },
   {
    "duration": 443,
    "start_time": "2022-04-23T15:45:58.227Z"
   },
   {
    "duration": 604,
    "start_time": "2022-04-23T15:46:43.415Z"
   },
   {
    "duration": 143,
    "start_time": "2022-04-23T15:46:53.623Z"
   },
   {
    "duration": 16,
    "start_time": "2022-04-23T15:48:13.573Z"
   },
   {
    "duration": 21,
    "start_time": "2022-04-23T15:55:52.830Z"
   },
   {
    "duration": 15,
    "start_time": "2022-04-23T15:56:05.275Z"
   },
   {
    "duration": 15,
    "start_time": "2022-04-23T15:58:21.900Z"
   },
   {
    "duration": 10,
    "start_time": "2022-04-23T16:00:25.163Z"
   },
   {
    "duration": 9,
    "start_time": "2022-04-23T16:00:53.148Z"
   },
   {
    "duration": 10,
    "start_time": "2022-04-23T16:01:04.692Z"
   },
   {
    "duration": 10,
    "start_time": "2022-04-23T16:01:35.531Z"
   },
   {
    "duration": 1206,
    "start_time": "2022-04-23T16:02:08.070Z"
   },
   {
    "duration": 59,
    "start_time": "2022-04-23T16:02:09.278Z"
   },
   {
    "duration": 14,
    "start_time": "2022-04-23T16:02:09.339Z"
   },
   {
    "duration": 5,
    "start_time": "2022-04-23T16:02:09.354Z"
   },
   {
    "duration": 8,
    "start_time": "2022-04-23T16:02:09.361Z"
   },
   {
    "duration": 38,
    "start_time": "2022-04-23T16:02:09.370Z"
   },
   {
    "duration": 6,
    "start_time": "2022-04-23T16:02:09.410Z"
   },
   {
    "duration": 10,
    "start_time": "2022-04-23T16:02:09.417Z"
   },
   {
    "duration": 10,
    "start_time": "2022-04-23T16:02:09.428Z"
   },
   {
    "duration": 13,
    "start_time": "2022-04-23T16:02:09.439Z"
   },
   {
    "duration": 4,
    "start_time": "2022-04-23T16:02:09.453Z"
   },
   {
    "duration": 138,
    "start_time": "2022-04-23T16:02:09.459Z"
   },
   {
    "duration": 6,
    "start_time": "2022-04-23T16:02:09.599Z"
   },
   {
    "duration": 28,
    "start_time": "2022-04-23T16:02:09.608Z"
   },
   {
    "duration": 16,
    "start_time": "2022-04-23T16:02:09.637Z"
   },
   {
    "duration": 10,
    "start_time": "2022-04-23T16:02:09.655Z"
   },
   {
    "duration": 326,
    "start_time": "2022-04-23T16:02:09.667Z"
   },
   {
    "duration": 268,
    "start_time": "2022-04-23T16:02:10.000Z"
   },
   {
    "duration": 335,
    "start_time": "2022-04-23T16:02:10.270Z"
   },
   {
    "duration": 2,
    "start_time": "2022-04-23T16:02:10.607Z"
   },
   {
    "duration": 409,
    "start_time": "2022-04-23T16:02:10.610Z"
   },
   {
    "duration": 166,
    "start_time": "2022-04-23T16:02:11.020Z"
   },
   {
    "duration": 258,
    "start_time": "2022-04-23T16:02:11.188Z"
   },
   {
    "duration": 9,
    "start_time": "2022-04-23T16:02:11.448Z"
   },
   {
    "duration": 229,
    "start_time": "2022-04-23T16:02:11.459Z"
   },
   {
    "duration": 243,
    "start_time": "2022-04-23T16:02:11.689Z"
   },
   {
    "duration": 12,
    "start_time": "2022-04-23T16:02:11.934Z"
   },
   {
    "duration": 12,
    "start_time": "2022-04-23T16:02:11.947Z"
   },
   {
    "duration": 153,
    "start_time": "2022-04-23T16:02:11.960Z"
   },
   {
    "duration": 289,
    "start_time": "2022-04-23T16:02:12.115Z"
   },
   {
    "duration": 27,
    "start_time": "2022-04-23T16:02:12.406Z"
   },
   {
    "duration": 198,
    "start_time": "2022-04-23T16:02:12.434Z"
   },
   {
    "duration": 116,
    "start_time": "2022-04-23T16:02:12.634Z"
   },
   {
    "duration": 187,
    "start_time": "2022-04-23T16:02:12.751Z"
   },
   {
    "duration": 118,
    "start_time": "2022-04-23T16:02:12.940Z"
   },
   {
    "duration": 395,
    "start_time": "2022-04-23T16:02:13.059Z"
   },
   {
    "duration": 10,
    "start_time": "2022-04-23T16:02:13.456Z"
   },
   {
    "duration": 4,
    "start_time": "2022-04-23T16:02:13.468Z"
   },
   {
    "duration": 33,
    "start_time": "2022-04-23T16:02:13.474Z"
   },
   {
    "duration": 17,
    "start_time": "2022-04-23T16:02:13.509Z"
   },
   {
    "duration": 6,
    "start_time": "2022-04-23T16:02:57.713Z"
   }
  ],
  "kernelspec": {
   "display_name": "Python 3 (ipykernel)",
   "language": "python",
   "name": "python3"
  },
  "language_info": {
   "codemirror_mode": {
    "name": "ipython",
    "version": 3
   },
   "file_extension": ".py",
   "mimetype": "text/x-python",
   "name": "python",
   "nbconvert_exporter": "python",
   "pygments_lexer": "ipython3",
   "version": "3.9.7"
  },
  "toc": {
   "base_numbering": 1,
   "nav_menu": {},
   "number_sections": true,
   "sideBar": true,
   "skip_h1_title": true,
   "title_cell": "Table of Contents",
   "title_sidebar": "Contents",
   "toc_cell": false,
   "toc_position": {},
   "toc_section_display": true,
   "toc_window_display": true
  }
 },
 "nbformat": 4,
 "nbformat_minor": 2
}
