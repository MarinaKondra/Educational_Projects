{
 "cells": [
  {
   "cell_type": "markdown",
   "metadata": {},
   "source": [
    "# Сегментация пользователей по потреблению в банке\n",
    "\n",
    "Изучены пользователи банка «Метанпром» и проведена их сегментация по количеству потребляемых продуктов, обращая особое внимание на отток. Проведен статистический анализ данных и проверены статистические гипотезы. Построены гистограммы и тепловые карты. Визуализирован дашборд и подготовлена презентация.\n",
    "\n",
    "Исследование проведено в четыре этапа:\n",
    " 1. Обзор и предобработка данных.\n",
    " 2. Исследовательский анализ данных.\n",
    " 3. Формулировка и проверка статистических гипотез.\n",
    " 4. Сегментация пользоватей на основании полученных результатов."
   ]
  },
  {
   "cell_type": "markdown",
   "metadata": {},
   "source": [
    "### Стэк:"
   ]
  },
  {
   "cell_type": "code",
   "execution_count": 1,
   "metadata": {},
   "outputs": [],
   "source": [
    "import pandas as pd\n",
    "import matplotlib.pyplot as plt \n",
    "import seaborn as sns\n",
    "import numpy as np\n",
    "import math as mth\n",
    "from scipy import stats as st\n",
    "from scipy.stats import spearmanr"
   ]
  },
  {
   "cell_type": "markdown",
   "metadata": {},
   "source": [
    "## Обзор и предобработка данных."
   ]
  },
  {
   "cell_type": "markdown",
   "metadata": {},
   "source": [
    "Используем функцию для ознакомления с данными:"
   ]
  },
  {
   "cell_type": "code",
   "execution_count": 2,
   "metadata": {},
   "outputs": [],
   "source": [
    "def fst_imp(data):\n",
    "    \"\"\"This function is giving first impression of data.\"\"\"\n",
    "    return (display(data.head(3)),\n",
    "            print(data.info()), \n",
    "            print('---------------------------------------------'),\n",
    "           \n",
    "            pd.set_option('display.float_format', lambda x: '%.3f' % x), #Suppress Scientific Notation to correct \".display()\" output\n",
    "            display(data.describe()),\n",
    "            print(\"Exact duplicates:\", data.duplicated().sum()),\n",
    "            print(\" \"),\n",
    "            print(\"Blanks by columns:\"),\n",
    "            display(pd.DataFrame(round(data.isna().mean()*100,2)).style.background_gradient('coolwarm')))"
   ]
  },
  {
   "cell_type": "markdown",
   "metadata": {},
   "source": [
    "Составим первое представление о данных и возможных ошибках в данных."
   ]
  },
  {
   "cell_type": "code",
   "execution_count": 3,
   "metadata": {},
   "outputs": [
    {
     "data": {
      "text/html": [
       "<div>\n",
       "<style scoped>\n",
       "    .dataframe tbody tr th:only-of-type {\n",
       "        vertical-align: middle;\n",
       "    }\n",
       "\n",
       "    .dataframe tbody tr th {\n",
       "        vertical-align: top;\n",
       "    }\n",
       "\n",
       "    .dataframe thead th {\n",
       "        text-align: right;\n",
       "    }\n",
       "</style>\n",
       "<table border=\"1\" class=\"dataframe\">\n",
       "  <thead>\n",
       "    <tr style=\"text-align: right;\">\n",
       "      <th></th>\n",
       "      <th>USERID</th>\n",
       "      <th>score</th>\n",
       "      <th>city</th>\n",
       "      <th>gender</th>\n",
       "      <th>age</th>\n",
       "      <th>equity</th>\n",
       "      <th>balance</th>\n",
       "      <th>products</th>\n",
       "      <th>credit_card</th>\n",
       "      <th>last_activity</th>\n",
       "      <th>EST_SALARY</th>\n",
       "      <th>churn</th>\n",
       "    </tr>\n",
       "  </thead>\n",
       "  <tbody>\n",
       "    <tr>\n",
       "      <th>0</th>\n",
       "      <td>183012</td>\n",
       "      <td>850.0</td>\n",
       "      <td>Рыбинск</td>\n",
       "      <td>Ж</td>\n",
       "      <td>25.0</td>\n",
       "      <td>1</td>\n",
       "      <td>59214.82</td>\n",
       "      <td>2</td>\n",
       "      <td>0</td>\n",
       "      <td>1</td>\n",
       "      <td>75719.14</td>\n",
       "      <td>1</td>\n",
       "    </tr>\n",
       "    <tr>\n",
       "      <th>1</th>\n",
       "      <td>146556</td>\n",
       "      <td>861.0</td>\n",
       "      <td>Рыбинск</td>\n",
       "      <td>Ж</td>\n",
       "      <td>37.0</td>\n",
       "      <td>5</td>\n",
       "      <td>850594.33</td>\n",
       "      <td>3</td>\n",
       "      <td>1</td>\n",
       "      <td>0</td>\n",
       "      <td>86621.77</td>\n",
       "      <td>0</td>\n",
       "    </tr>\n",
       "    <tr>\n",
       "      <th>2</th>\n",
       "      <td>120722</td>\n",
       "      <td>892.0</td>\n",
       "      <td>Рыбинск</td>\n",
       "      <td>Ж</td>\n",
       "      <td>30.0</td>\n",
       "      <td>0</td>\n",
       "      <td>NaN</td>\n",
       "      <td>1</td>\n",
       "      <td>1</td>\n",
       "      <td>1</td>\n",
       "      <td>107683.34</td>\n",
       "      <td>0</td>\n",
       "    </tr>\n",
       "  </tbody>\n",
       "</table>\n",
       "</div>"
      ],
      "text/plain": [
       "   USERID  score     city gender   age  equity    balance  products  \\\n",
       "0  183012  850.0  Рыбинск      Ж  25.0       1   59214.82         2   \n",
       "1  146556  861.0  Рыбинск      Ж  37.0       5  850594.33         3   \n",
       "2  120722  892.0  Рыбинск      Ж  30.0       0        NaN         1   \n",
       "\n",
       "   credit_card  last_activity  EST_SALARY  churn  \n",
       "0            0              1    75719.14      1  \n",
       "1            1              0    86621.77      0  \n",
       "2            1              1   107683.34      0  "
      ]
     },
     "metadata": {},
     "output_type": "display_data"
    },
    {
     "name": "stdout",
     "output_type": "stream",
     "text": [
      "<class 'pandas.core.frame.DataFrame'>\n",
      "RangeIndex: 10000 entries, 0 to 9999\n",
      "Data columns (total 12 columns):\n",
      " #   Column         Non-Null Count  Dtype  \n",
      "---  ------         --------------  -----  \n",
      " 0   USERID         10000 non-null  int64  \n",
      " 1   score          10000 non-null  float64\n",
      " 2   city           10000 non-null  object \n",
      " 3   gender         10000 non-null  object \n",
      " 4   age            9974 non-null   float64\n",
      " 5   equity         10000 non-null  int64  \n",
      " 6   balance        7705 non-null   float64\n",
      " 7   products       10000 non-null  int64  \n",
      " 8   credit_card    10000 non-null  int64  \n",
      " 9   last_activity  10000 non-null  int64  \n",
      " 10  EST_SALARY     10000 non-null  float64\n",
      " 11  churn          10000 non-null  int64  \n",
      "dtypes: float64(4), int64(6), object(2)\n",
      "memory usage: 937.6+ KB\n",
      "None\n",
      "---------------------------------------------\n"
     ]
    },
    {
     "data": {
      "text/html": [
       "<div>\n",
       "<style scoped>\n",
       "    .dataframe tbody tr th:only-of-type {\n",
       "        vertical-align: middle;\n",
       "    }\n",
       "\n",
       "    .dataframe tbody tr th {\n",
       "        vertical-align: top;\n",
       "    }\n",
       "\n",
       "    .dataframe thead th {\n",
       "        text-align: right;\n",
       "    }\n",
       "</style>\n",
       "<table border=\"1\" class=\"dataframe\">\n",
       "  <thead>\n",
       "    <tr style=\"text-align: right;\">\n",
       "      <th></th>\n",
       "      <th>USERID</th>\n",
       "      <th>score</th>\n",
       "      <th>age</th>\n",
       "      <th>equity</th>\n",
       "      <th>balance</th>\n",
       "      <th>products</th>\n",
       "      <th>credit_card</th>\n",
       "      <th>last_activity</th>\n",
       "      <th>EST_SALARY</th>\n",
       "      <th>churn</th>\n",
       "    </tr>\n",
       "  </thead>\n",
       "  <tbody>\n",
       "    <tr>\n",
       "      <th>count</th>\n",
       "      <td>10000.000</td>\n",
       "      <td>10000.000</td>\n",
       "      <td>9974.000</td>\n",
       "      <td>10000.000</td>\n",
       "      <td>7705.000</td>\n",
       "      <td>10000.000</td>\n",
       "      <td>10000.000</td>\n",
       "      <td>10000.000</td>\n",
       "      <td>10000.000</td>\n",
       "      <td>10000.000</td>\n",
       "    </tr>\n",
       "    <tr>\n",
       "      <th>mean</th>\n",
       "      <td>171814.713</td>\n",
       "      <td>848.699</td>\n",
       "      <td>42.734</td>\n",
       "      <td>2.628</td>\n",
       "      <td>827794.307</td>\n",
       "      <td>1.870</td>\n",
       "      <td>0.680</td>\n",
       "      <td>0.523</td>\n",
       "      <td>147866.886</td>\n",
       "      <td>0.182</td>\n",
       "    </tr>\n",
       "    <tr>\n",
       "      <th>std</th>\n",
       "      <td>33708.238</td>\n",
       "      <td>65.449</td>\n",
       "      <td>12.180</td>\n",
       "      <td>1.981</td>\n",
       "      <td>1980614.147</td>\n",
       "      <td>0.793</td>\n",
       "      <td>0.466</td>\n",
       "      <td>0.499</td>\n",
       "      <td>139388.511</td>\n",
       "      <td>0.386</td>\n",
       "    </tr>\n",
       "    <tr>\n",
       "      <th>min</th>\n",
       "      <td>94561.000</td>\n",
       "      <td>642.000</td>\n",
       "      <td>18.000</td>\n",
       "      <td>0.000</td>\n",
       "      <td>0.000</td>\n",
       "      <td>0.000</td>\n",
       "      <td>0.000</td>\n",
       "      <td>0.000</td>\n",
       "      <td>2546.300</td>\n",
       "      <td>0.000</td>\n",
       "    </tr>\n",
       "    <tr>\n",
       "      <th>25%</th>\n",
       "      <td>142810.250</td>\n",
       "      <td>802.000</td>\n",
       "      <td>33.000</td>\n",
       "      <td>0.000</td>\n",
       "      <td>295554.160</td>\n",
       "      <td>1.000</td>\n",
       "      <td>0.000</td>\n",
       "      <td>0.000</td>\n",
       "      <td>75251.900</td>\n",
       "      <td>0.000</td>\n",
       "    </tr>\n",
       "    <tr>\n",
       "      <th>50%</th>\n",
       "      <td>172728.000</td>\n",
       "      <td>853.000</td>\n",
       "      <td>40.000</td>\n",
       "      <td>3.000</td>\n",
       "      <td>524272.200</td>\n",
       "      <td>2.000</td>\n",
       "      <td>1.000</td>\n",
       "      <td>1.000</td>\n",
       "      <td>119658.105</td>\n",
       "      <td>0.000</td>\n",
       "    </tr>\n",
       "    <tr>\n",
       "      <th>75%</th>\n",
       "      <td>201261.750</td>\n",
       "      <td>900.000</td>\n",
       "      <td>51.000</td>\n",
       "      <td>4.000</td>\n",
       "      <td>980705.850</td>\n",
       "      <td>2.000</td>\n",
       "      <td>1.000</td>\n",
       "      <td>1.000</td>\n",
       "      <td>174500.542</td>\n",
       "      <td>0.000</td>\n",
       "    </tr>\n",
       "    <tr>\n",
       "      <th>max</th>\n",
       "      <td>229145.000</td>\n",
       "      <td>1000.000</td>\n",
       "      <td>86.000</td>\n",
       "      <td>9.000</td>\n",
       "      <td>119113552.010</td>\n",
       "      <td>5.000</td>\n",
       "      <td>1.000</td>\n",
       "      <td>1.000</td>\n",
       "      <td>1395064.450</td>\n",
       "      <td>1.000</td>\n",
       "    </tr>\n",
       "  </tbody>\n",
       "</table>\n",
       "</div>"
      ],
      "text/plain": [
       "          USERID     score      age    equity       balance  products  \\\n",
       "count  10000.000 10000.000 9974.000 10000.000      7705.000 10000.000   \n",
       "mean  171814.713   848.699   42.734     2.628    827794.307     1.870   \n",
       "std    33708.238    65.449   12.180     1.981   1980614.147     0.793   \n",
       "min    94561.000   642.000   18.000     0.000         0.000     0.000   \n",
       "25%   142810.250   802.000   33.000     0.000    295554.160     1.000   \n",
       "50%   172728.000   853.000   40.000     3.000    524272.200     2.000   \n",
       "75%   201261.750   900.000   51.000     4.000    980705.850     2.000   \n",
       "max   229145.000  1000.000   86.000     9.000 119113552.010     5.000   \n",
       "\n",
       "       credit_card  last_activity  EST_SALARY     churn  \n",
       "count    10000.000      10000.000   10000.000 10000.000  \n",
       "mean         0.680          0.523  147866.886     0.182  \n",
       "std          0.466          0.499  139388.511     0.386  \n",
       "min          0.000          0.000    2546.300     0.000  \n",
       "25%          0.000          0.000   75251.900     0.000  \n",
       "50%          1.000          1.000  119658.105     0.000  \n",
       "75%          1.000          1.000  174500.542     0.000  \n",
       "max          1.000          1.000 1395064.450     1.000  "
      ]
     },
     "metadata": {},
     "output_type": "display_data"
    },
    {
     "name": "stdout",
     "output_type": "stream",
     "text": [
      "Exact duplicates: 0\n",
      " \n",
      "Blanks by columns:\n"
     ]
    },
    {
     "data": {
      "text/html": [
       "<style type=\"text/css\">\n",
       "#T_ff682_row0_col0, #T_ff682_row1_col0, #T_ff682_row2_col0, #T_ff682_row3_col0, #T_ff682_row5_col0, #T_ff682_row7_col0, #T_ff682_row8_col0, #T_ff682_row9_col0, #T_ff682_row10_col0, #T_ff682_row11_col0 {\n",
       "  background-color: #3b4cc0;\n",
       "  color: #f1f1f1;\n",
       "}\n",
       "#T_ff682_row4_col0 {\n",
       "  background-color: #3d50c3;\n",
       "  color: #f1f1f1;\n",
       "}\n",
       "#T_ff682_row6_col0 {\n",
       "  background-color: #b40426;\n",
       "  color: #f1f1f1;\n",
       "}\n",
       "</style>\n",
       "<table id=\"T_ff682_\">\n",
       "  <thead>\n",
       "    <tr>\n",
       "      <th class=\"blank level0\" >&nbsp;</th>\n",
       "      <th class=\"col_heading level0 col0\" >0</th>\n",
       "    </tr>\n",
       "  </thead>\n",
       "  <tbody>\n",
       "    <tr>\n",
       "      <th id=\"T_ff682_level0_row0\" class=\"row_heading level0 row0\" >USERID</th>\n",
       "      <td id=\"T_ff682_row0_col0\" class=\"data row0 col0\" >0.000000</td>\n",
       "    </tr>\n",
       "    <tr>\n",
       "      <th id=\"T_ff682_level0_row1\" class=\"row_heading level0 row1\" >score</th>\n",
       "      <td id=\"T_ff682_row1_col0\" class=\"data row1 col0\" >0.000000</td>\n",
       "    </tr>\n",
       "    <tr>\n",
       "      <th id=\"T_ff682_level0_row2\" class=\"row_heading level0 row2\" >city</th>\n",
       "      <td id=\"T_ff682_row2_col0\" class=\"data row2 col0\" >0.000000</td>\n",
       "    </tr>\n",
       "    <tr>\n",
       "      <th id=\"T_ff682_level0_row3\" class=\"row_heading level0 row3\" >gender</th>\n",
       "      <td id=\"T_ff682_row3_col0\" class=\"data row3 col0\" >0.000000</td>\n",
       "    </tr>\n",
       "    <tr>\n",
       "      <th id=\"T_ff682_level0_row4\" class=\"row_heading level0 row4\" >age</th>\n",
       "      <td id=\"T_ff682_row4_col0\" class=\"data row4 col0\" >0.260000</td>\n",
       "    </tr>\n",
       "    <tr>\n",
       "      <th id=\"T_ff682_level0_row5\" class=\"row_heading level0 row5\" >equity</th>\n",
       "      <td id=\"T_ff682_row5_col0\" class=\"data row5 col0\" >0.000000</td>\n",
       "    </tr>\n",
       "    <tr>\n",
       "      <th id=\"T_ff682_level0_row6\" class=\"row_heading level0 row6\" >balance</th>\n",
       "      <td id=\"T_ff682_row6_col0\" class=\"data row6 col0\" >22.950000</td>\n",
       "    </tr>\n",
       "    <tr>\n",
       "      <th id=\"T_ff682_level0_row7\" class=\"row_heading level0 row7\" >products</th>\n",
       "      <td id=\"T_ff682_row7_col0\" class=\"data row7 col0\" >0.000000</td>\n",
       "    </tr>\n",
       "    <tr>\n",
       "      <th id=\"T_ff682_level0_row8\" class=\"row_heading level0 row8\" >credit_card</th>\n",
       "      <td id=\"T_ff682_row8_col0\" class=\"data row8 col0\" >0.000000</td>\n",
       "    </tr>\n",
       "    <tr>\n",
       "      <th id=\"T_ff682_level0_row9\" class=\"row_heading level0 row9\" >last_activity</th>\n",
       "      <td id=\"T_ff682_row9_col0\" class=\"data row9 col0\" >0.000000</td>\n",
       "    </tr>\n",
       "    <tr>\n",
       "      <th id=\"T_ff682_level0_row10\" class=\"row_heading level0 row10\" >EST_SALARY</th>\n",
       "      <td id=\"T_ff682_row10_col0\" class=\"data row10 col0\" >0.000000</td>\n",
       "    </tr>\n",
       "    <tr>\n",
       "      <th id=\"T_ff682_level0_row11\" class=\"row_heading level0 row11\" >churn</th>\n",
       "      <td id=\"T_ff682_row11_col0\" class=\"data row11 col0\" >0.000000</td>\n",
       "    </tr>\n",
       "  </tbody>\n",
       "</table>\n"
      ],
      "text/plain": [
       "<pandas.io.formats.style.Styler at 0x2235e3930d0>"
      ]
     },
     "metadata": {},
     "output_type": "display_data"
    },
    {
     "name": "stdout",
     "output_type": "stream",
     "text": [
      "(None, None, None, None, None, None, None, None, None)\n"
     ]
    }
   ],
   "source": [
    "df = pd.read_csv('bank_scrooge.csv') # прочитаем csv файл с разделителями \"\\t\"\n",
    "print(fst_imp(df))"
   ]
  },
  {
   "cell_type": "markdown",
   "metadata": {},
   "source": [
    "Явных дубликатов в датасете нет. Проверим, есть ли неявные дубликаты. Для этого посмотрим на уникальные значения в столбцах с типом данные `object`"
   ]
  },
  {
   "cell_type": "code",
   "execution_count": 4,
   "metadata": {},
   "outputs": [
    {
     "name": "stdout",
     "output_type": "stream",
     "text": [
      "Уникальные значения в столбце \"city\": ['Рыбинск' 'Ярославль' 'Ростов']\n",
      "Уникальные значения в столбце \"gender\": ['Ж' 'М']\n"
     ]
    }
   ],
   "source": [
    "df = df.rename(columns = {\n",
    "    'USERID':'user_id','EST_SALARY': 'est_salary'\n",
    "    })# Приведем все названия колонок к общему виду.\n",
    "\n",
    "print('Уникальные значения в столбце \"city\":', df['city'].unique())\n",
    "print('Уникальные значения в столбце \"gender\":', df['gender'].unique())"
   ]
  },
  {
   "cell_type": "markdown",
   "metadata": {},
   "source": [
    "Таким образом, мы выявили, что в датасете нет неявных дубликатов."
   ]
  },
  {
   "cell_type": "markdown",
   "metadata": {},
   "source": [
    "Также мы заметили пропуски в датасете в столбцах \"age\" и \"balance\". Пропуски в возрасте занимают менее 1% данных, поэтому их можно удалить."
   ]
  },
  {
   "cell_type": "code",
   "execution_count": 5,
   "metadata": {},
   "outputs": [],
   "source": [
    "df = df.dropna(subset=['age']) #удалим 0,26% данных с пропусками в столбце \"age\""
   ]
  },
  {
   "cell_type": "markdown",
   "metadata": {},
   "source": [
    "Далее, взглянем на пропуски в столбце 'balance'"
   ]
  },
  {
   "cell_type": "code",
   "execution_count": 6,
   "metadata": {},
   "outputs": [
    {
     "data": {
      "text/html": [
       "<div>\n",
       "<style scoped>\n",
       "    .dataframe tbody tr th:only-of-type {\n",
       "        vertical-align: middle;\n",
       "    }\n",
       "\n",
       "    .dataframe tbody tr th {\n",
       "        vertical-align: top;\n",
       "    }\n",
       "\n",
       "    .dataframe thead th {\n",
       "        text-align: right;\n",
       "    }\n",
       "</style>\n",
       "<table border=\"1\" class=\"dataframe\">\n",
       "  <thead>\n",
       "    <tr style=\"text-align: right;\">\n",
       "      <th></th>\n",
       "      <th>user_id</th>\n",
       "      <th>score</th>\n",
       "      <th>city</th>\n",
       "      <th>gender</th>\n",
       "      <th>age</th>\n",
       "      <th>equity</th>\n",
       "      <th>balance</th>\n",
       "      <th>products</th>\n",
       "      <th>credit_card</th>\n",
       "      <th>last_activity</th>\n",
       "      <th>est_salary</th>\n",
       "      <th>churn</th>\n",
       "    </tr>\n",
       "  </thead>\n",
       "  <tbody>\n",
       "    <tr>\n",
       "      <th>2</th>\n",
       "      <td>120722</td>\n",
       "      <td>892.000</td>\n",
       "      <td>Рыбинск</td>\n",
       "      <td>Ж</td>\n",
       "      <td>30.000</td>\n",
       "      <td>0</td>\n",
       "      <td>NaN</td>\n",
       "      <td>1</td>\n",
       "      <td>1</td>\n",
       "      <td>1</td>\n",
       "      <td>107683.340</td>\n",
       "      <td>0</td>\n",
       "    </tr>\n",
       "    <tr>\n",
       "      <th>9</th>\n",
       "      <td>133130</td>\n",
       "      <td>906.000</td>\n",
       "      <td>Ярославль</td>\n",
       "      <td>Ж</td>\n",
       "      <td>67.000</td>\n",
       "      <td>0</td>\n",
       "      <td>NaN</td>\n",
       "      <td>1</td>\n",
       "      <td>0</td>\n",
       "      <td>1</td>\n",
       "      <td>238055.530</td>\n",
       "      <td>0</td>\n",
       "    </tr>\n",
       "    <tr>\n",
       "      <th>10</th>\n",
       "      <td>148929</td>\n",
       "      <td>927.000</td>\n",
       "      <td>Ростов</td>\n",
       "      <td>М</td>\n",
       "      <td>52.000</td>\n",
       "      <td>0</td>\n",
       "      <td>NaN</td>\n",
       "      <td>1</td>\n",
       "      <td>1</td>\n",
       "      <td>1</td>\n",
       "      <td>196820.070</td>\n",
       "      <td>0</td>\n",
       "    </tr>\n",
       "    <tr>\n",
       "      <th>11</th>\n",
       "      <td>172184</td>\n",
       "      <td>921.000</td>\n",
       "      <td>Ростов</td>\n",
       "      <td>М</td>\n",
       "      <td>41.000</td>\n",
       "      <td>0</td>\n",
       "      <td>NaN</td>\n",
       "      <td>1</td>\n",
       "      <td>1</td>\n",
       "      <td>1</td>\n",
       "      <td>217469.480</td>\n",
       "      <td>0</td>\n",
       "    </tr>\n",
       "    <tr>\n",
       "      <th>19</th>\n",
       "      <td>127034</td>\n",
       "      <td>922.000</td>\n",
       "      <td>Рыбинск</td>\n",
       "      <td>Ж</td>\n",
       "      <td>53.000</td>\n",
       "      <td>0</td>\n",
       "      <td>NaN</td>\n",
       "      <td>1</td>\n",
       "      <td>0</td>\n",
       "      <td>0</td>\n",
       "      <td>147094.820</td>\n",
       "      <td>0</td>\n",
       "    </tr>\n",
       "  </tbody>\n",
       "</table>\n",
       "</div>"
      ],
      "text/plain": [
       "    user_id   score       city gender    age  equity  balance  products  \\\n",
       "2    120722 892.000    Рыбинск      Ж 30.000       0      NaN         1   \n",
       "9    133130 906.000  Ярославль      Ж 67.000       0      NaN         1   \n",
       "10   148929 927.000     Ростов      М 52.000       0      NaN         1   \n",
       "11   172184 921.000     Ростов      М 41.000       0      NaN         1   \n",
       "19   127034 922.000    Рыбинск      Ж 53.000       0      NaN         1   \n",
       "\n",
       "    credit_card  last_activity  est_salary  churn  \n",
       "2             1              1  107683.340      0  \n",
       "9             0              1  238055.530      0  \n",
       "10            1              1  196820.070      0  \n",
       "11            1              1  217469.480      0  \n",
       "19            0              0  147094.820      0  "
      ]
     },
     "execution_count": 6,
     "metadata": {},
     "output_type": "execute_result"
    }
   ],
   "source": [
    "filtered_df = df[df['balance'].isnull()]\n",
    "filtered_df.head()"
   ]
  },
  {
   "cell_type": "markdown",
   "metadata": {},
   "source": [
    "На первый взгляд, данные также кажутся разнородными. Исследуем данные с помощью `.describe()`."
   ]
  },
  {
   "cell_type": "code",
   "execution_count": 7,
   "metadata": {},
   "outputs": [
    {
     "data": {
      "text/html": [
       "<div>\n",
       "<style scoped>\n",
       "    .dataframe tbody tr th:only-of-type {\n",
       "        vertical-align: middle;\n",
       "    }\n",
       "\n",
       "    .dataframe tbody tr th {\n",
       "        vertical-align: top;\n",
       "    }\n",
       "\n",
       "    .dataframe thead th {\n",
       "        text-align: right;\n",
       "    }\n",
       "</style>\n",
       "<table border=\"1\" class=\"dataframe\">\n",
       "  <thead>\n",
       "    <tr style=\"text-align: right;\">\n",
       "      <th></th>\n",
       "      <th>user_id</th>\n",
       "      <th>score</th>\n",
       "      <th>age</th>\n",
       "      <th>equity</th>\n",
       "      <th>balance</th>\n",
       "      <th>products</th>\n",
       "      <th>credit_card</th>\n",
       "      <th>last_activity</th>\n",
       "      <th>est_salary</th>\n",
       "      <th>churn</th>\n",
       "    </tr>\n",
       "  </thead>\n",
       "  <tbody>\n",
       "    <tr>\n",
       "      <th>count</th>\n",
       "      <td>2279.000</td>\n",
       "      <td>2279.000</td>\n",
       "      <td>2279.000</td>\n",
       "      <td>2279.000</td>\n",
       "      <td>0.000</td>\n",
       "      <td>2279.000</td>\n",
       "      <td>2279.000</td>\n",
       "      <td>2279.000</td>\n",
       "      <td>2279.000</td>\n",
       "      <td>2279.000</td>\n",
       "    </tr>\n",
       "    <tr>\n",
       "      <th>mean</th>\n",
       "      <td>171904.886</td>\n",
       "      <td>865.357</td>\n",
       "      <td>42.093</td>\n",
       "      <td>0.051</td>\n",
       "      <td>NaN</td>\n",
       "      <td>1.163</td>\n",
       "      <td>0.815</td>\n",
       "      <td>0.549</td>\n",
       "      <td>226345.417</td>\n",
       "      <td>0.006</td>\n",
       "    </tr>\n",
       "    <tr>\n",
       "      <th>std</th>\n",
       "      <td>33303.215</td>\n",
       "      <td>89.554</td>\n",
       "      <td>11.942</td>\n",
       "      <td>0.227</td>\n",
       "      <td>NaN</td>\n",
       "      <td>0.404</td>\n",
       "      <td>0.388</td>\n",
       "      <td>0.498</td>\n",
       "      <td>199825.591</td>\n",
       "      <td>0.075</td>\n",
       "    </tr>\n",
       "    <tr>\n",
       "      <th>min</th>\n",
       "      <td>114182.000</td>\n",
       "      <td>642.000</td>\n",
       "      <td>18.000</td>\n",
       "      <td>0.000</td>\n",
       "      <td>NaN</td>\n",
       "      <td>0.000</td>\n",
       "      <td>0.000</td>\n",
       "      <td>0.000</td>\n",
       "      <td>20274.030</td>\n",
       "      <td>0.000</td>\n",
       "    </tr>\n",
       "    <tr>\n",
       "      <th>25%</th>\n",
       "      <td>142992.500</td>\n",
       "      <td>871.000</td>\n",
       "      <td>33.000</td>\n",
       "      <td>0.000</td>\n",
       "      <td>NaN</td>\n",
       "      <td>1.000</td>\n",
       "      <td>1.000</td>\n",
       "      <td>0.000</td>\n",
       "      <td>120217.385</td>\n",
       "      <td>0.000</td>\n",
       "    </tr>\n",
       "    <tr>\n",
       "      <th>50%</th>\n",
       "      <td>172304.000</td>\n",
       "      <td>903.000</td>\n",
       "      <td>40.000</td>\n",
       "      <td>0.000</td>\n",
       "      <td>NaN</td>\n",
       "      <td>1.000</td>\n",
       "      <td>1.000</td>\n",
       "      <td>1.000</td>\n",
       "      <td>174347.870</td>\n",
       "      <td>0.000</td>\n",
       "    </tr>\n",
       "    <tr>\n",
       "      <th>75%</th>\n",
       "      <td>201257.000</td>\n",
       "      <td>922.000</td>\n",
       "      <td>49.000</td>\n",
       "      <td>0.000</td>\n",
       "      <td>NaN</td>\n",
       "      <td>1.000</td>\n",
       "      <td>1.000</td>\n",
       "      <td>1.000</td>\n",
       "      <td>240372.775</td>\n",
       "      <td>0.000</td>\n",
       "    </tr>\n",
       "    <tr>\n",
       "      <th>max</th>\n",
       "      <td>229145.000</td>\n",
       "      <td>990.000</td>\n",
       "      <td>86.000</td>\n",
       "      <td>3.000</td>\n",
       "      <td>NaN</td>\n",
       "      <td>3.000</td>\n",
       "      <td>1.000</td>\n",
       "      <td>1.000</td>\n",
       "      <td>1333687.360</td>\n",
       "      <td>1.000</td>\n",
       "    </tr>\n",
       "  </tbody>\n",
       "</table>\n",
       "</div>"
      ],
      "text/plain": [
       "         user_id    score      age   equity  balance  products  credit_card  \\\n",
       "count   2279.000 2279.000 2279.000 2279.000    0.000  2279.000     2279.000   \n",
       "mean  171904.886  865.357   42.093    0.051      NaN     1.163        0.815   \n",
       "std    33303.215   89.554   11.942    0.227      NaN     0.404        0.388   \n",
       "min   114182.000  642.000   18.000    0.000      NaN     0.000        0.000   \n",
       "25%   142992.500  871.000   33.000    0.000      NaN     1.000        1.000   \n",
       "50%   172304.000  903.000   40.000    0.000      NaN     1.000        1.000   \n",
       "75%   201257.000  922.000   49.000    0.000      NaN     1.000        1.000   \n",
       "max   229145.000  990.000   86.000    3.000      NaN     3.000        1.000   \n",
       "\n",
       "       last_activity  est_salary    churn  \n",
       "count       2279.000    2279.000 2279.000  \n",
       "mean           0.549  226345.417    0.006  \n",
       "std            0.498  199825.591    0.075  \n",
       "min            0.000   20274.030    0.000  \n",
       "25%            0.000  120217.385    0.000  \n",
       "50%            1.000  174347.870    0.000  \n",
       "75%            1.000  240372.775    0.000  \n",
       "max            1.000 1333687.360    1.000  "
      ]
     },
     "execution_count": 7,
     "metadata": {},
     "output_type": "execute_result"
    }
   ],
   "source": [
    "filtered_df.describe()"
   ]
  },
  {
   "cell_type": "markdown",
   "metadata": {},
   "source": [
    "Итак, судя по полученной таблице можно сказать, что средний возраст в отфильтрованном датасете соответсвует среднему возрасту всего датасета, однако количество объектов для 75% клиентов - 0. При этом медиана зарплат явно выше чем в общем датасете (174 тыс против 119 тыс. руб.). Более того, более 75% клиентов являются активными пользователями банка. Поэтому, удалять данные 2295 пропусков нецелесообразно. Поэтому следует оставить данные пропуски."
   ]
  },
  {
   "cell_type": "markdown",
   "metadata": {},
   "source": [
    "Таким образом, мы практически можем приступать к анализу. Однако, для того чтобы провести корелляционный анализ, нам нужно чтобы все переменные для анализа имели числовые характеристики. Для этого, произведем кодировку двух категориальных признаков 'gender' и 'city'."
   ]
  },
  {
   "cell_type": "code",
   "execution_count": 8,
   "metadata": {},
   "outputs": [
    {
     "data": {
      "text/html": [
       "<div>\n",
       "<style scoped>\n",
       "    .dataframe tbody tr th:only-of-type {\n",
       "        vertical-align: middle;\n",
       "    }\n",
       "\n",
       "    .dataframe tbody tr th {\n",
       "        vertical-align: top;\n",
       "    }\n",
       "\n",
       "    .dataframe thead th {\n",
       "        text-align: right;\n",
       "    }\n",
       "</style>\n",
       "<table border=\"1\" class=\"dataframe\">\n",
       "  <thead>\n",
       "    <tr style=\"text-align: right;\">\n",
       "      <th></th>\n",
       "      <th>user_id</th>\n",
       "      <th>score</th>\n",
       "      <th>age</th>\n",
       "      <th>equity</th>\n",
       "      <th>balance</th>\n",
       "      <th>products</th>\n",
       "      <th>credit_card</th>\n",
       "      <th>last_activity</th>\n",
       "      <th>est_salary</th>\n",
       "      <th>churn</th>\n",
       "      <th>gender_Ж</th>\n",
       "      <th>gender_М</th>\n",
       "      <th>city_Ростов</th>\n",
       "      <th>city_Рыбинск</th>\n",
       "      <th>city_Ярославль</th>\n",
       "      <th>city</th>\n",
       "      <th>gender</th>\n",
       "    </tr>\n",
       "  </thead>\n",
       "  <tbody>\n",
       "    <tr>\n",
       "      <th>0</th>\n",
       "      <td>183012</td>\n",
       "      <td>850.000</td>\n",
       "      <td>25.000</td>\n",
       "      <td>1</td>\n",
       "      <td>59214.820</td>\n",
       "      <td>2</td>\n",
       "      <td>0</td>\n",
       "      <td>1</td>\n",
       "      <td>75719.140</td>\n",
       "      <td>1</td>\n",
       "      <td>1</td>\n",
       "      <td>0</td>\n",
       "      <td>0</td>\n",
       "      <td>1</td>\n",
       "      <td>0</td>\n",
       "      <td>Рыбинск</td>\n",
       "      <td>Ж</td>\n",
       "    </tr>\n",
       "    <tr>\n",
       "      <th>1</th>\n",
       "      <td>146556</td>\n",
       "      <td>861.000</td>\n",
       "      <td>37.000</td>\n",
       "      <td>5</td>\n",
       "      <td>850594.330</td>\n",
       "      <td>3</td>\n",
       "      <td>1</td>\n",
       "      <td>0</td>\n",
       "      <td>86621.770</td>\n",
       "      <td>0</td>\n",
       "      <td>1</td>\n",
       "      <td>0</td>\n",
       "      <td>0</td>\n",
       "      <td>1</td>\n",
       "      <td>0</td>\n",
       "      <td>Рыбинск</td>\n",
       "      <td>Ж</td>\n",
       "    </tr>\n",
       "    <tr>\n",
       "      <th>2</th>\n",
       "      <td>120722</td>\n",
       "      <td>892.000</td>\n",
       "      <td>30.000</td>\n",
       "      <td>0</td>\n",
       "      <td>NaN</td>\n",
       "      <td>1</td>\n",
       "      <td>1</td>\n",
       "      <td>1</td>\n",
       "      <td>107683.340</td>\n",
       "      <td>0</td>\n",
       "      <td>1</td>\n",
       "      <td>0</td>\n",
       "      <td>0</td>\n",
       "      <td>1</td>\n",
       "      <td>0</td>\n",
       "      <td>Рыбинск</td>\n",
       "      <td>Ж</td>\n",
       "    </tr>\n",
       "    <tr>\n",
       "      <th>3</th>\n",
       "      <td>225363</td>\n",
       "      <td>866.000</td>\n",
       "      <td>51.000</td>\n",
       "      <td>5</td>\n",
       "      <td>1524746.260</td>\n",
       "      <td>2</td>\n",
       "      <td>0</td>\n",
       "      <td>1</td>\n",
       "      <td>174423.530</td>\n",
       "      <td>1</td>\n",
       "      <td>1</td>\n",
       "      <td>0</td>\n",
       "      <td>0</td>\n",
       "      <td>0</td>\n",
       "      <td>1</td>\n",
       "      <td>Ярославль</td>\n",
       "      <td>Ж</td>\n",
       "    </tr>\n",
       "    <tr>\n",
       "      <th>4</th>\n",
       "      <td>157978</td>\n",
       "      <td>730.000</td>\n",
       "      <td>34.000</td>\n",
       "      <td>5</td>\n",
       "      <td>174.000</td>\n",
       "      <td>1</td>\n",
       "      <td>1</td>\n",
       "      <td>0</td>\n",
       "      <td>67353.160</td>\n",
       "      <td>1</td>\n",
       "      <td>0</td>\n",
       "      <td>1</td>\n",
       "      <td>0</td>\n",
       "      <td>0</td>\n",
       "      <td>1</td>\n",
       "      <td>Ярославль</td>\n",
       "      <td>М</td>\n",
       "    </tr>\n",
       "  </tbody>\n",
       "</table>\n",
       "</div>"
      ],
      "text/plain": [
       "   user_id   score    age  equity     balance  products  credit_card  \\\n",
       "0   183012 850.000 25.000       1   59214.820         2            0   \n",
       "1   146556 861.000 37.000       5  850594.330         3            1   \n",
       "2   120722 892.000 30.000       0         NaN         1            1   \n",
       "3   225363 866.000 51.000       5 1524746.260         2            0   \n",
       "4   157978 730.000 34.000       5     174.000         1            1   \n",
       "\n",
       "   last_activity  est_salary  churn  gender_Ж  gender_М  city_Ростов  \\\n",
       "0              1   75719.140      1         1         0            0   \n",
       "1              0   86621.770      0         1         0            0   \n",
       "2              1  107683.340      0         1         0            0   \n",
       "3              1  174423.530      1         1         0            0   \n",
       "4              0   67353.160      1         0         1            0   \n",
       "\n",
       "   city_Рыбинск  city_Ярославль       city gender  \n",
       "0             1               0    Рыбинск      Ж  \n",
       "1             1               0    Рыбинск      Ж  \n",
       "2             1               0    Рыбинск      Ж  \n",
       "3             0               1  Ярославль      Ж  \n",
       "4             0               1  Ярославль      М  "
      ]
     },
     "execution_count": 8,
     "metadata": {},
     "output_type": "execute_result"
    }
   ],
   "source": [
    "df_copy = df.copy() \n",
    "df = pd.get_dummies(df, columns=['gender', 'city']) \n",
    "df['city'] = df_copy['city'] \n",
    "df['gender'] = df_copy['gender'] \n",
    "df.head()"
   ]
  },
  {
   "cell_type": "markdown",
   "metadata": {},
   "source": [
    "Теперь данные готовы для анализа."
   ]
  },
  {
   "cell_type": "markdown",
   "metadata": {},
   "source": [
    "## Исследовательский анализ данных."
   ]
  },
  {
   "cell_type": "markdown",
   "metadata": {},
   "source": [
    "Проведем корреляционный анализ оттока клиентов, для того чтобы определить наиболее влиятельные параметры.\n",
    "Составим матрицу корреляции по столбцу 'churn' и визуализируем ее с помощью метода `.style.background_gradient()`"
   ]
  },
  {
   "cell_type": "code",
   "execution_count": 9,
   "metadata": {},
   "outputs": [
    {
     "data": {
      "text/html": [
       "<style type=\"text/css\">\n",
       "#T_ffaff_row0_col0 {\n",
       "  background-color: #3b4cc0;\n",
       "  color: #f1f1f1;\n",
       "}\n",
       "#T_ffaff_row1_col0 {\n",
       "  background-color: #3c4ec2;\n",
       "  color: #f1f1f1;\n",
       "}\n",
       "#T_ffaff_row2_col0 {\n",
       "  background-color: #6f92f3;\n",
       "  color: #f1f1f1;\n",
       "}\n",
       "#T_ffaff_row3_col0 {\n",
       "  background-color: #8badfd;\n",
       "  color: #000000;\n",
       "}\n",
       "#T_ffaff_row4_col0 {\n",
       "  background-color: #a3c2fe;\n",
       "  color: #000000;\n",
       "}\n",
       "#T_ffaff_row5_col0 {\n",
       "  background-color: #c6d6f1;\n",
       "  color: #000000;\n",
       "}\n",
       "#T_ffaff_row6_col0 {\n",
       "  background-color: #ecd3c5;\n",
       "  color: #000000;\n",
       "}\n",
       "#T_ffaff_row7_col0 {\n",
       "  background-color: #f2cbb7;\n",
       "  color: #000000;\n",
       "}\n",
       "#T_ffaff_row8_col0 {\n",
       "  background-color: #f6bfa6;\n",
       "  color: #000000;\n",
       "}\n",
       "#T_ffaff_row9_col0 {\n",
       "  background-color: #f7b599;\n",
       "  color: #000000;\n",
       "}\n",
       "#T_ffaff_row10_col0 {\n",
       "  background-color: #f5a081;\n",
       "  color: #000000;\n",
       "}\n",
       "#T_ffaff_row11_col0 {\n",
       "  background-color: #f29274;\n",
       "  color: #f1f1f1;\n",
       "}\n",
       "#T_ffaff_row12_col0 {\n",
       "  background-color: #bd1f2d;\n",
       "  color: #f1f1f1;\n",
       "}\n",
       "#T_ffaff_row13_col0 {\n",
       "  background-color: #b40426;\n",
       "  color: #f1f1f1;\n",
       "}\n",
       "</style>\n",
       "<table id=\"T_ffaff_\">\n",
       "  <thead>\n",
       "    <tr>\n",
       "      <th class=\"blank level0\" >&nbsp;</th>\n",
       "      <th class=\"col_heading level0 col0\" >0</th>\n",
       "    </tr>\n",
       "  </thead>\n",
       "  <tbody>\n",
       "    <tr>\n",
       "      <th id=\"T_ffaff_level0_row0\" class=\"row_heading level0 row0\" >products</th>\n",
       "      <td id=\"T_ffaff_row0_col0\" class=\"data row0 col0\" >27.080000</td>\n",
       "    </tr>\n",
       "    <tr>\n",
       "      <th id=\"T_ffaff_level0_row1\" class=\"row_heading level0 row1\" >equity</th>\n",
       "      <td id=\"T_ffaff_row1_col0\" class=\"data row1 col0\" >26.760000</td>\n",
       "    </tr>\n",
       "    <tr>\n",
       "      <th id=\"T_ffaff_level0_row2\" class=\"row_heading level0 row2\" >balance</th>\n",
       "      <td id=\"T_ffaff_row2_col0\" class=\"data row2 col0\" >20.250000</td>\n",
       "    </tr>\n",
       "    <tr>\n",
       "      <th id=\"T_ffaff_level0_row3\" class=\"row_heading level0 row3\" >last_activity</th>\n",
       "      <td id=\"T_ffaff_row3_col0\" class=\"data row3 col0\" >16.940000</td>\n",
       "    </tr>\n",
       "    <tr>\n",
       "      <th id=\"T_ffaff_level0_row4\" class=\"row_heading level0 row4\" >gender_М</th>\n",
       "      <td id=\"T_ffaff_row4_col0\" class=\"data row4 col0\" >14.160000</td>\n",
       "    </tr>\n",
       "    <tr>\n",
       "      <th id=\"T_ffaff_level0_row5\" class=\"row_heading level0 row5\" >score</th>\n",
       "      <td id=\"T_ffaff_row5_col0\" class=\"data row5 col0\" >9.700000</td>\n",
       "    </tr>\n",
       "    <tr>\n",
       "      <th id=\"T_ffaff_level0_row6\" class=\"row_heading level0 row6\" >est_salary</th>\n",
       "      <td id=\"T_ffaff_row6_col0\" class=\"data row6 col0\" >3.730000</td>\n",
       "    </tr>\n",
       "    <tr>\n",
       "      <th id=\"T_ffaff_level0_row7\" class=\"row_heading level0 row7\" >city_Ярославль</th>\n",
       "      <td id=\"T_ffaff_row7_col0\" class=\"data row7 col0\" >2.400000</td>\n",
       "    </tr>\n",
       "    <tr>\n",
       "      <th id=\"T_ffaff_level0_row8\" class=\"row_heading level0 row8\" >city_Ростов</th>\n",
       "      <td id=\"T_ffaff_row8_col0\" class=\"data row8 col0\" >0.500000</td>\n",
       "    </tr>\n",
       "    <tr>\n",
       "      <th id=\"T_ffaff_level0_row9\" class=\"row_heading level0 row9\" >user_id</th>\n",
       "      <td id=\"T_ffaff_row9_col0\" class=\"data row9 col0\" >-0.770000</td>\n",
       "    </tr>\n",
       "    <tr>\n",
       "      <th id=\"T_ffaff_level0_row10\" class=\"row_heading level0 row10\" >city_Рыбинск</th>\n",
       "      <td id=\"T_ffaff_row10_col0\" class=\"data row10 col0\" >-3.060000</td>\n",
       "    </tr>\n",
       "    <tr>\n",
       "      <th id=\"T_ffaff_level0_row11\" class=\"row_heading level0 row11\" >age</th>\n",
       "      <td id=\"T_ffaff_row11_col0\" class=\"data row11 col0\" >-4.590000</td>\n",
       "    </tr>\n",
       "    <tr>\n",
       "      <th id=\"T_ffaff_level0_row12\" class=\"row_heading level0 row12\" >credit_card</th>\n",
       "      <td id=\"T_ffaff_row12_col0\" class=\"data row12 col0\" >-13.040000</td>\n",
       "    </tr>\n",
       "    <tr>\n",
       "      <th id=\"T_ffaff_level0_row13\" class=\"row_heading level0 row13\" >gender_Ж</th>\n",
       "      <td id=\"T_ffaff_row13_col0\" class=\"data row13 col0\" >-14.160000</td>\n",
       "    </tr>\n",
       "  </tbody>\n",
       "</table>\n"
      ],
      "text/plain": [
       "<pandas.io.formats.style.Styler at 0x2235e548f10>"
      ]
     },
     "execution_count": 9,
     "metadata": {},
     "output_type": "execute_result"
    }
   ],
   "source": [
    "(pd.DataFrame((round(df.corrwith(df['churn'], method='spearman')*100,2))\n",
    "             .sort_values(ascending=False).drop(labels=['churn']))\n",
    "             .style.background_gradient('coolwarm_r'))\n"
   ]
  },
  {
   "cell_type": "markdown",
   "metadata": {},
   "source": [
    "Судя по полученной матрице, явно влиятельных параметров на отток клиентов нет, но среди всех параметров мы можем выделить наличие продуктов, объектов в собственности, баланс и клиентскую активность по положительному влиянию на отток, а также пол, наличие кредитной карты и возраст по отрицательному влиянию на отток. Далее нам необходимо исследовать оток в разрезе этих признаков, но для этого надо изучить признаки на предмет наличия аномалий."
   ]
  },
  {
   "cell_type": "markdown",
   "metadata": {},
   "source": [
    "Для начала разделим признаки на две категории: дискретные и бинарные."
   ]
  },
  {
   "cell_type": "code",
   "execution_count": 10,
   "metadata": {},
   "outputs": [],
   "source": [
    "#параметры с количественным типом данных \n",
    "numeric_parameters = {    \n",
    "    'age': 'Возраст',\n",
    "    'balance': 'Баланс на счету'  \n",
    "}\n",
    "\n",
    "discrete_parameters = {    \n",
    "    'equity': 'Количество объектов в собственности', \n",
    "    'products': 'Количество продуктов'    \n",
    "}\n",
    "\n",
    "#параметры с бинарным типом данных \n",
    "binar_parameters = {    \n",
    "    'credit_card': 'Наличие кредитной карты',\n",
    "    'last_activity': 'Активность клиента', \n",
    "    'gender_Ж': 'Женщины',\n",
    "    'gender_М': 'Мужчины'\n",
    "}"
   ]
  },
  {
   "cell_type": "markdown",
   "metadata": {},
   "source": [
    "Далее, при помощи цикла построим боксплоты и вычислим медиану для признаков с непрерывными величинами."
   ]
  },
  {
   "cell_type": "code",
   "execution_count": 11,
   "metadata": {},
   "outputs": [
    {
     "data": {
      "image/png": "[encoded data removed]",
      "text/plain": [
       "<Figure size 432x288 with 1 Axes>"
      ]
     },
     "metadata": {
      "needs_background": "light"
     },
     "output_type": "display_data"
    },
    {
     "name": "stdout",
     "output_type": "stream",
     "text": [
      "Медиана в столбце \" Возраст \" равна 40.0\n"
     ]
    },
    {
     "data": {
      "image/png": "[encoded data removed]",
      "text/plain": [
       "<Figure size 432x288 with 1 Axes>"
      ]
     },
     "metadata": {
      "needs_background": "light"
     },
     "output_type": "display_data"
    },
    {
     "name": "stdout",
     "output_type": "stream",
     "text": [
      "Медиана в столбце \" Баланс на счету \" равна 524295.33\n"
     ]
    }
   ],
   "source": [
    "for title in numeric_parameters:\n",
    "    df.boxplot(title)\n",
    "    plt.title(numeric_parameters.get(title))\n",
    "    plt.show()\n",
    "    print('Медиана в столбце \"', numeric_parameters.get(title),'\" равна', df[title].median())\n"
   ]
  },
  {
   "cell_type": "markdown",
   "metadata": {},
   "source": [
    "Мы обнаружили наличие значительного количества аномалий в признаке \"Balance\" и \"Age\". Выделим эти аномалии в отдельные столбцы. Для этого создадим функцию на обнаружение аномалий. "
   ]
  },
  {
   "cell_type": "code",
   "execution_count": 12,
   "metadata": {},
   "outputs": [],
   "source": [
    "def anomaly_column(item,title):\n",
    "    \"\"\"\n",
    "    Возвращает бинарное значение по значению параметра используя правила\n",
    "    - '1', если значение параметра выходит за пределы  верхней границы нормальных значений;\n",
    "    - '0', если значение находится ниже верхней границы нормальных значений.\n",
    "    \"\"\"\n",
    "    \n",
    "     # расчет IQR для параметра \n",
    "    q1 = df[title].quantile(0.25)#создание 1го квартиля\n",
    "    q3 = df[title].quantile(0.75)#создание 3го квартиля\n",
    "    iqr = q3 - q1\n",
    "     # верхняя граница значений\n",
    "    x_min = q1 - 1.5 * iqr\n",
    "    x_max = q3 + 1.5 * iqr\n",
    "    \n",
    "    if  x_min < item < x_max: return 0\n",
    "    return 1"
   ]
  },
  {
   "cell_type": "markdown",
   "metadata": {},
   "source": [
    "Итак, теперь применим данную функцию к нашим признакам и с помощбю `pd.to_numeric()` преобразуем полученные данные в числовую форму."
   ]
  },
  {
   "cell_type": "code",
   "execution_count": 13,
   "metadata": {},
   "outputs": [],
   "source": [
    "df['balance_is_anomaly'] = pd.to_numeric(df['balance'].apply(anomaly_column, title='balance'))\n",
    "df['age_is_anomaly'] = pd.to_numeric(df['age'].apply(anomaly_column, title='age'))"
   ]
  },
  {
   "cell_type": "markdown",
   "metadata": {},
   "source": [
    "Далее создадим общий столбец, указывающий на наличие любой аномалии в датасете."
   ]
  },
  {
   "cell_type": "code",
   "execution_count": 14,
   "metadata": {},
   "outputs": [
    {
     "data": {
      "text/html": [
       "<div>\n",
       "<style scoped>\n",
       "    .dataframe tbody tr th:only-of-type {\n",
       "        vertical-align: middle;\n",
       "    }\n",
       "\n",
       "    .dataframe tbody tr th {\n",
       "        vertical-align: top;\n",
       "    }\n",
       "\n",
       "    .dataframe thead th {\n",
       "        text-align: right;\n",
       "    }\n",
       "</style>\n",
       "<table border=\"1\" class=\"dataframe\">\n",
       "  <thead>\n",
       "    <tr style=\"text-align: right;\">\n",
       "      <th></th>\n",
       "      <th>user_id</th>\n",
       "      <th>score</th>\n",
       "      <th>age</th>\n",
       "      <th>equity</th>\n",
       "      <th>balance</th>\n",
       "      <th>products</th>\n",
       "      <th>credit_card</th>\n",
       "      <th>last_activity</th>\n",
       "      <th>est_salary</th>\n",
       "      <th>churn</th>\n",
       "      <th>gender_Ж</th>\n",
       "      <th>gender_М</th>\n",
       "      <th>city_Ростов</th>\n",
       "      <th>city_Рыбинск</th>\n",
       "      <th>city_Ярославль</th>\n",
       "      <th>city</th>\n",
       "      <th>gender</th>\n",
       "      <th>balance_is_anomaly</th>\n",
       "      <th>age_is_anomaly</th>\n",
       "      <th>is_any_anomaly</th>\n",
       "    </tr>\n",
       "  </thead>\n",
       "  <tbody>\n",
       "    <tr>\n",
       "      <th>0</th>\n",
       "      <td>183012</td>\n",
       "      <td>850.000</td>\n",
       "      <td>25.000</td>\n",
       "      <td>1</td>\n",
       "      <td>59214.820</td>\n",
       "      <td>2</td>\n",
       "      <td>0</td>\n",
       "      <td>1</td>\n",
       "      <td>75719.140</td>\n",
       "      <td>1</td>\n",
       "      <td>1</td>\n",
       "      <td>0</td>\n",
       "      <td>0</td>\n",
       "      <td>1</td>\n",
       "      <td>0</td>\n",
       "      <td>Рыбинск</td>\n",
       "      <td>Ж</td>\n",
       "      <td>0</td>\n",
       "      <td>0</td>\n",
       "      <td>0</td>\n",
       "    </tr>\n",
       "    <tr>\n",
       "      <th>1</th>\n",
       "      <td>146556</td>\n",
       "      <td>861.000</td>\n",
       "      <td>37.000</td>\n",
       "      <td>5</td>\n",
       "      <td>850594.330</td>\n",
       "      <td>3</td>\n",
       "      <td>1</td>\n",
       "      <td>0</td>\n",
       "      <td>86621.770</td>\n",
       "      <td>0</td>\n",
       "      <td>1</td>\n",
       "      <td>0</td>\n",
       "      <td>0</td>\n",
       "      <td>1</td>\n",
       "      <td>0</td>\n",
       "      <td>Рыбинск</td>\n",
       "      <td>Ж</td>\n",
       "      <td>0</td>\n",
       "      <td>0</td>\n",
       "      <td>0</td>\n",
       "    </tr>\n",
       "    <tr>\n",
       "      <th>2</th>\n",
       "      <td>120722</td>\n",
       "      <td>892.000</td>\n",
       "      <td>30.000</td>\n",
       "      <td>0</td>\n",
       "      <td>NaN</td>\n",
       "      <td>1</td>\n",
       "      <td>1</td>\n",
       "      <td>1</td>\n",
       "      <td>107683.340</td>\n",
       "      <td>0</td>\n",
       "      <td>1</td>\n",
       "      <td>0</td>\n",
       "      <td>0</td>\n",
       "      <td>1</td>\n",
       "      <td>0</td>\n",
       "      <td>Рыбинск</td>\n",
       "      <td>Ж</td>\n",
       "      <td>1</td>\n",
       "      <td>0</td>\n",
       "      <td>1</td>\n",
       "    </tr>\n",
       "    <tr>\n",
       "      <th>3</th>\n",
       "      <td>225363</td>\n",
       "      <td>866.000</td>\n",
       "      <td>51.000</td>\n",
       "      <td>5</td>\n",
       "      <td>1524746.260</td>\n",
       "      <td>2</td>\n",
       "      <td>0</td>\n",
       "      <td>1</td>\n",
       "      <td>174423.530</td>\n",
       "      <td>1</td>\n",
       "      <td>1</td>\n",
       "      <td>0</td>\n",
       "      <td>0</td>\n",
       "      <td>0</td>\n",
       "      <td>1</td>\n",
       "      <td>Ярославль</td>\n",
       "      <td>Ж</td>\n",
       "      <td>0</td>\n",
       "      <td>0</td>\n",
       "      <td>0</td>\n",
       "    </tr>\n",
       "    <tr>\n",
       "      <th>4</th>\n",
       "      <td>157978</td>\n",
       "      <td>730.000</td>\n",
       "      <td>34.000</td>\n",
       "      <td>5</td>\n",
       "      <td>174.000</td>\n",
       "      <td>1</td>\n",
       "      <td>1</td>\n",
       "      <td>0</td>\n",
       "      <td>67353.160</td>\n",
       "      <td>1</td>\n",
       "      <td>0</td>\n",
       "      <td>1</td>\n",
       "      <td>0</td>\n",
       "      <td>0</td>\n",
       "      <td>1</td>\n",
       "      <td>Ярославль</td>\n",
       "      <td>М</td>\n",
       "      <td>0</td>\n",
       "      <td>0</td>\n",
       "      <td>0</td>\n",
       "    </tr>\n",
       "  </tbody>\n",
       "</table>\n",
       "</div>"
      ],
      "text/plain": [
       "   user_id   score    age  equity     balance  products  credit_card  \\\n",
       "0   183012 850.000 25.000       1   59214.820         2            0   \n",
       "1   146556 861.000 37.000       5  850594.330         3            1   \n",
       "2   120722 892.000 30.000       0         NaN         1            1   \n",
       "3   225363 866.000 51.000       5 1524746.260         2            0   \n",
       "4   157978 730.000 34.000       5     174.000         1            1   \n",
       "\n",
       "   last_activity  est_salary  churn  gender_Ж  gender_М  city_Ростов  \\\n",
       "0              1   75719.140      1         1         0            0   \n",
       "1              0   86621.770      0         1         0            0   \n",
       "2              1  107683.340      0         1         0            0   \n",
       "3              1  174423.530      1         1         0            0   \n",
       "4              0   67353.160      1         0         1            0   \n",
       "\n",
       "   city_Рыбинск  city_Ярославль       city gender  balance_is_anomaly  \\\n",
       "0             1               0    Рыбинск      Ж                   0   \n",
       "1             1               0    Рыбинск      Ж                   0   \n",
       "2             1               0    Рыбинск      Ж                   1   \n",
       "3             0               1  Ярославль      Ж                   0   \n",
       "4             0               1  Ярославль      М                   0   \n",
       "\n",
       "   age_is_anomaly  is_any_anomaly  \n",
       "0               0               0  \n",
       "1               0               0  \n",
       "2               0               1  \n",
       "3               0               0  \n",
       "4               0               0  "
      ]
     },
     "execution_count": 14,
     "metadata": {},
     "output_type": "execute_result"
    }
   ],
   "source": [
    "df['is_any_anomaly'] = df['balance_is_anomaly']+ df['age_is_anomaly'] #здесь получим сумму столбцов с результатами 0,1 или 2\n",
    "\n",
    "#создадим функцию, преобразующую любую цифру отличную от нуля в 1\n",
    "def is_anomaly_correction(item):\n",
    "    \"\"\"\n",
    "    Возвращает бинарное значение в столбце \"is_any_anomaly\" используя правила\n",
    "    - '1', если значение параметра >1;\n",
    "    - '0', если значение <1.\n",
    "    \"\"\"\n",
    "   \n",
    "    if  item > 0: return 1\n",
    "    return 0\n",
    "\n",
    "df['is_any_anomaly'] = df['is_any_anomaly'].apply(is_anomaly_correction)\n",
    "\n",
    "df.head()"
   ]
  },
  {
   "cell_type": "markdown",
   "metadata": {},
   "source": [
    "Далее, изучим выделенные нами параметры без аномалий при помощи гистограмм. "
   ]
  },
  {
   "cell_type": "code",
   "execution_count": 16,
   "metadata": {},
   "outputs": [
    {
     "data": {
      "image/png": "[encoded data removed]",
      "text/plain": [
       "<Figure size 432x288 with 1 Axes>"
      ]
     },
     "metadata": {
      "needs_background": "light"
     },
     "output_type": "display_data"
    },
    {
     "name": "stdout",
     "output_type": "stream",
     "text": [
      "Среднее значение в параметре Возраст равно 40.0\n",
      "Верхняя граница нормальных значений 77.0\n"
     ]
    },
    {
     "data": {
      "image/png": "[encoded data removed]",
      "text/plain": [
       "<Figure size 432x288 with 1 Axes>"
      ]
     },
     "metadata": {
      "needs_background": "light"
     },
     "output_type": "display_data"
    },
    {
     "name": "stdout",
     "output_type": "stream",
     "text": [
      "Среднее значение в параметре Баланс на счету равно 488317.905\n",
      "Верхняя граница нормальных значений 1999799.18\n"
     ]
    }
   ],
   "source": [
    "parameters = numeric_parameters\n",
    "\n",
    "for title in parameters:\n",
    "        df_wht_anml = df.query('is_any_anomaly<1')\n",
    "        \n",
    "        ax = df_wht_anml[title].hist()#строим гистограмму\n",
    "        ax.set_title(parameters.get(title))#устанавливаем название графика\n",
    "        \n",
    "        plt.show()\n",
    "    \n",
    "        print('Среднее значение в параметре', parameters.get(title), 'равно', df_wht_anml[title].median())\n",
    "        print('Верхняя граница нормальных значений',  df_wht_anml[title].max())\n",
    "   "
   ]
  },
  {
   "cell_type": "markdown",
   "metadata": {},
   "source": [
    "По полученным гистограммам можно сделать вывод, что средний пользователь банка возраста 40 лет имеет около 0,5 млн. руб. на счете. \n",
    "\n",
    "Далее изучим дескретные признаки."
   ]
  },
  {
   "cell_type": "code",
   "execution_count": 17,
   "metadata": {},
   "outputs": [
    {
     "data": {
      "image/png": "[encoded data removed]",
      "text/plain": [
       "<Figure size 432x288 with 1 Axes>"
      ]
     },
     "metadata": {
      "needs_background": "light"
     },
     "output_type": "display_data"
    },
    {
     "name": "stdout",
     "output_type": "stream",
     "text": [
      "Среднее значение в параметре Количество объектов в собственности равно 3.0\n"
     ]
    },
    {
     "data": {
      "image/png": "[encoded data removed]",
      "text/plain": [
       "<Figure size 432x288 with 1 Axes>"
      ]
     },
     "metadata": {
      "needs_background": "light"
     },
     "output_type": "display_data"
    },
    {
     "name": "stdout",
     "output_type": "stream",
     "text": [
      "Среднее значение в параметре Количество продуктов равно 2.0\n"
     ]
    }
   ],
   "source": [
    "parameters = discrete_parameters\n",
    "\n",
    "for title in parameters:\n",
    "        myhex = '#FFCC33' #парметр задающий цвет #парметр задающий цвет\n",
    "        ax = df[title].hist(color=myhex)#строим гистограмму\n",
    "        ax.set_title(parameters.get(title))#устанавливаем название графика\n",
    "        plt.show()\n",
    "    \n",
    "        print('Среднее значение в параметре', parameters.get(title), 'равно', df[title].median())    "
   ]
  },
  {
   "cell_type": "markdown",
   "metadata": {},
   "source": [
    "По полученным гистограммам можно сделать вывод, что средний пользователь банка находится в возрасте 40 лет, имеет 3 объекта в собственности и около 0,5 млн.руб. на балансе, а также пользуется 2мя банковскими продуктами. \\\n",
    "Исследуем признак \"Age\" в разрезе клиентского оттока при помощи графика типа `kdeplot`."
   ]
  },
  {
   "cell_type": "code",
   "execution_count": 18,
   "metadata": {},
   "outputs": [
    {
     "data": {
      "image/png": "[encoded data removed]",
      "text/plain": [
       "<Figure size 432x288 with 1 Axes>"
      ]
     },
     "metadata": {
      "needs_background": "light"
     },
     "output_type": "display_data"
    }
   ],
   "source": [
    "df_wht_anomaly = df.query('age_is_anomaly<1')#создадим датафрейм без аномалий по возрасту \n",
    "sns.kdeplot(data=df_wht_anomaly, x='age', hue='churn', fill=True, common_norm=False)\n",
    "plt.title('Отток клиентов банка  в разрезе возраста клиента')\n",
    "\n",
    "plt.show()"
   ]
  },
  {
   "cell_type": "markdown",
   "metadata": {},
   "source": [
    "Судя по полученному, от банка склонны уходить люди в возрасте 25-35 и 50-60 лет. Таким образом, предварительными группами для сегментации по возрасту могут быть группы 25-35 лет и 50-60 лет. \\\n",
    "Далее, исследуем признак \"Balance\" в разрезе оттока, построив гистограмму."
   ]
  },
  {
   "cell_type": "code",
   "execution_count": 19,
   "metadata": {
    "scrolled": false
   },
   "outputs": [
    {
     "data": {
      "image/png": "[encoded data removed]",
      "text/plain": [
       "<Figure size 432x288 with 1 Axes>"
      ]
     },
     "metadata": {
      "needs_background": "light"
     },
     "output_type": "display_data"
    }
   ],
   "source": [
    "df_wht_anomaly = df.query('balance_is_anomaly<1')#создадим датафрейм без аномалий по балансу \n",
    "rc=sns.histplot(data=df_wht_anomaly, x='balance', hue='churn', stat='density', common_norm=False)\n",
    "sns.set(rc={'figure.figsize':(15,5)})\n",
    "plt.title('Отток клиентов банка  в разрезе баланса на счету')\n",
    "plt.show()   "
   ]
  },
  {
   "cell_type": "markdown",
   "metadata": {},
   "source": [
    "Что касается баланса, то здесь начинается отток клиентов после наличия на балансе в 750 тыс.\n",
    "\n",
    "Посмотрим на отток в признаках \"equity\" и \"products\" при помощи тепловых карт."
   ]
  },
  {
   "cell_type": "code",
   "execution_count": 20,
   "metadata": {},
   "outputs": [
    {
     "data": {
      "image/png": "[encoded data removed]",
      "text/plain": [
       "<Figure size 1080x360 with 2 Axes>"
      ]
     },
     "metadata": {},
     "output_type": "display_data"
    }
   ],
   "source": [
    "products_filtered = df.query('products>0') #очистим фрейм от клиентов не имеющих продуктов\n",
    "\n",
    "pivoted = pd.pivot_table(products_filtered, values='churn', index='products', columns='equity', aggfunc='mean')*100 \n",
    "ax = sns.heatmap(data=pivoted, annot=True, fmt='.1f',cmap=\"crest\")\n",
    "plt.tight_layout()\n",
    "plt.title('Отток клиентов банка  в разрезе количества продуктов и наличия собственности')\n",
    "plt.show()"
   ]
  },
  {
   "cell_type": "markdown",
   "metadata": {},
   "source": [
    "По тепловой карте мы можем определить, что люди с наибольшим количеством собственности имееют большую склонность к уходу из банка. Тоже самое можно сказать и о продуктах банка. Люди с 4-5 продуктами уходят с большей вероятностью из банка. Предварительно, мы можем разделить пользователей на группы по собственности: 0-4 и 5-9. Что касается количества продуктов, то график можно разбить на две группы по продуктам: 4-5 продуктов и 1-3 продукта.\n",
    "\n",
    "Далее, ислледуем параметры с бинарным типом данных: пол, активность клиента и наличие кредитной карты. Для начала определим общий процент оттока.\n"
   ]
  },
  {
   "cell_type": "code",
   "execution_count": 21,
   "metadata": {},
   "outputs": [
    {
     "name": "stdout",
     "output_type": "stream",
     "text": [
      "Общий уровень оттока в процентах: 18.237417284940847\n"
     ]
    }
   ],
   "source": [
    "churn_rate = df['churn'].mean()*100\n",
    "print('Общий уровень оттока в процентах:',churn_rate)"
   ]
  },
  {
   "cell_type": "markdown",
   "metadata": {},
   "source": [
    "Теперь определим долю клиентов и уровень оттока в каждом признаке."
   ]
  },
  {
   "cell_type": "code",
   "execution_count": 22,
   "metadata": {
    "scrolled": false
   },
   "outputs": [
    {
     "name": "stdout",
     "output_type": "stream",
     "text": [
      "\n"
     ]
    },
    {
     "data": {
      "image/png": "[encoded data removed]",
      "text/plain": [
       "<Figure size 1080x360 with 1 Axes>"
      ]
     },
     "metadata": {},
     "output_type": "display_data"
    },
    {
     "name": "stdout",
     "output_type": "stream",
     "text": [
      "Доля клиентов в параметре Наличие кредитной карты 68.02\n"
     ]
    },
    {
     "data": {
      "text/html": [
       "<div>\n",
       "<style scoped>\n",
       "    .dataframe tbody tr th:only-of-type {\n",
       "        vertical-align: middle;\n",
       "    }\n",
       "\n",
       "    .dataframe tbody tr th {\n",
       "        vertical-align: top;\n",
       "    }\n",
       "\n",
       "    .dataframe thead th {\n",
       "        text-align: right;\n",
       "    }\n",
       "</style>\n",
       "<table border=\"1\" class=\"dataframe\">\n",
       "  <thead>\n",
       "    <tr style=\"text-align: right;\">\n",
       "      <th></th>\n",
       "      <th>Доля оттока в параметре \"Наличие кредитной карты\"</th>\n",
       "    </tr>\n",
       "    <tr>\n",
       "      <th>credit_card</th>\n",
       "      <th></th>\n",
       "    </tr>\n",
       "  </thead>\n",
       "  <tbody>\n",
       "    <tr>\n",
       "      <th>0</th>\n",
       "      <td>0.256</td>\n",
       "    </tr>\n",
       "    <tr>\n",
       "      <th>1</th>\n",
       "      <td>0.148</td>\n",
       "    </tr>\n",
       "  </tbody>\n",
       "</table>\n",
       "</div>"
      ],
      "text/plain": [
       "             Доля оттока в параметре \"Наличие кредитной карты\"\n",
       "credit_card                                                   \n",
       "0                                                        0.256\n",
       "1                                                        0.148"
      ]
     },
     "metadata": {},
     "output_type": "display_data"
    },
    {
     "name": "stdout",
     "output_type": "stream",
     "text": [
      "\n"
     ]
    },
    {
     "data": {
      "image/png": "[encoded data removed]",
      "text/plain": [
       "<Figure size 1080x360 with 1 Axes>"
      ]
     },
     "metadata": {},
     "output_type": "display_data"
    },
    {
     "name": "stdout",
     "output_type": "stream",
     "text": [
      "Доля клиентов в параметре Активность клиента 52.29\n"
     ]
    },
    {
     "data": {
      "text/html": [
       "<div>\n",
       "<style scoped>\n",
       "    .dataframe tbody tr th:only-of-type {\n",
       "        vertical-align: middle;\n",
       "    }\n",
       "\n",
       "    .dataframe tbody tr th {\n",
       "        vertical-align: top;\n",
       "    }\n",
       "\n",
       "    .dataframe thead th {\n",
       "        text-align: right;\n",
       "    }\n",
       "</style>\n",
       "<table border=\"1\" class=\"dataframe\">\n",
       "  <thead>\n",
       "    <tr style=\"text-align: right;\">\n",
       "      <th></th>\n",
       "      <th>Доля оттока в параметре \"Активность клиента\"</th>\n",
       "    </tr>\n",
       "    <tr>\n",
       "      <th>last_activity</th>\n",
       "      <th></th>\n",
       "    </tr>\n",
       "  </thead>\n",
       "  <tbody>\n",
       "    <tr>\n",
       "      <th>0</th>\n",
       "      <td>0.114</td>\n",
       "    </tr>\n",
       "    <tr>\n",
       "      <th>1</th>\n",
       "      <td>0.245</td>\n",
       "    </tr>\n",
       "  </tbody>\n",
       "</table>\n",
       "</div>"
      ],
      "text/plain": [
       "               Доля оттока в параметре \"Активность клиента\"\n",
       "last_activity                                              \n",
       "0                                                     0.114\n",
       "1                                                     0.245"
      ]
     },
     "metadata": {},
     "output_type": "display_data"
    },
    {
     "name": "stdout",
     "output_type": "stream",
     "text": [
      "\n"
     ]
    },
    {
     "data": {
      "image/png": "[encoded data removed]",
      "text/plain": [
       "<Figure size 1080x360 with 1 Axes>"
      ]
     },
     "metadata": {},
     "output_type": "display_data"
    },
    {
     "name": "stdout",
     "output_type": "stream",
     "text": [
      "Доля клиентов в параметре Женщины 49.96\n"
     ]
    },
    {
     "data": {
      "text/html": [
       "<div>\n",
       "<style scoped>\n",
       "    .dataframe tbody tr th:only-of-type {\n",
       "        vertical-align: middle;\n",
       "    }\n",
       "\n",
       "    .dataframe tbody tr th {\n",
       "        vertical-align: top;\n",
       "    }\n",
       "\n",
       "    .dataframe thead th {\n",
       "        text-align: right;\n",
       "    }\n",
       "</style>\n",
       "<table border=\"1\" class=\"dataframe\">\n",
       "  <thead>\n",
       "    <tr style=\"text-align: right;\">\n",
       "      <th></th>\n",
       "      <th>Доля оттока в параметре \"Женщины\"</th>\n",
       "    </tr>\n",
       "    <tr>\n",
       "      <th>gender_Ж</th>\n",
       "      <th></th>\n",
       "    </tr>\n",
       "  </thead>\n",
       "  <tbody>\n",
       "    <tr>\n",
       "      <th>0</th>\n",
       "      <td>0.237</td>\n",
       "    </tr>\n",
       "    <tr>\n",
       "      <th>1</th>\n",
       "      <td>0.128</td>\n",
       "    </tr>\n",
       "  </tbody>\n",
       "</table>\n",
       "</div>"
      ],
      "text/plain": [
       "          Доля оттока в параметре \"Женщины\"\n",
       "gender_Ж                                   \n",
       "0                                     0.237\n",
       "1                                     0.128"
      ]
     },
     "metadata": {},
     "output_type": "display_data"
    },
    {
     "name": "stdout",
     "output_type": "stream",
     "text": [
      "\n"
     ]
    },
    {
     "data": {
      "image/png": "[encoded data removed]",
      "text/plain": [
       "<Figure size 1080x360 with 1 Axes>"
      ]
     },
     "metadata": {},
     "output_type": "display_data"
    },
    {
     "name": "stdout",
     "output_type": "stream",
     "text": [
      "Доля клиентов в параметре Мужчины 50.04\n"
     ]
    },
    {
     "data": {
      "text/html": [
       "<div>\n",
       "<style scoped>\n",
       "    .dataframe tbody tr th:only-of-type {\n",
       "        vertical-align: middle;\n",
       "    }\n",
       "\n",
       "    .dataframe tbody tr th {\n",
       "        vertical-align: top;\n",
       "    }\n",
       "\n",
       "    .dataframe thead th {\n",
       "        text-align: right;\n",
       "    }\n",
       "</style>\n",
       "<table border=\"1\" class=\"dataframe\">\n",
       "  <thead>\n",
       "    <tr style=\"text-align: right;\">\n",
       "      <th></th>\n",
       "      <th>Доля оттока в параметре \"Мужчины\"</th>\n",
       "    </tr>\n",
       "    <tr>\n",
       "      <th>gender_М</th>\n",
       "      <th></th>\n",
       "    </tr>\n",
       "  </thead>\n",
       "  <tbody>\n",
       "    <tr>\n",
       "      <th>0</th>\n",
       "      <td>0.128</td>\n",
       "    </tr>\n",
       "    <tr>\n",
       "      <th>1</th>\n",
       "      <td>0.237</td>\n",
       "    </tr>\n",
       "  </tbody>\n",
       "</table>\n",
       "</div>"
      ],
      "text/plain": [
       "          Доля оттока в параметре \"Мужчины\"\n",
       "gender_М                                   \n",
       "0                                     0.128\n",
       "1                                     0.237"
      ]
     },
     "metadata": {},
     "output_type": "display_data"
    }
   ],
   "source": [
    "binar_parameters = {    \n",
    "    'credit_card': 'Наличие кредитной карты',\n",
    "    'last_activity': 'Активность клиента', \n",
    "    'gender_Ж': 'Женщины',\n",
    "    'gender_М': 'Мужчины'\n",
    "}\n",
    "for title in binar_parameters:\n",
    "\n",
    "    myhex = '#FF99CC' #параметр задающий  цвет\n",
    "    print()\n",
    "    ax = (df.groupby(title)\n",
    "     .agg({'user_id':'count'})\n",
    "     .plot(kind='bar',\n",
    "           color = myhex)\n",
    "    );\n",
    "\n",
    "    ax.set_title(binar_parameters.get(title))\n",
    "    plt.show()\n",
    "    title_rate = round(df[title].mean()*100,2)\n",
    "    churn_rate_by_title = df.pivot_table(index = df[title], \n",
    "                                           values = 'churn', \n",
    "                                           aggfunc = 'mean')\n",
    "    churn_rate_by_title.columns = ['churn_rate']\n",
    "\n",
    "    churn_rate_by_title.columns = [f'Доля оттока в параметре \"{binar_parameters.get(title)}\"']\n",
    "    \n",
    "    print('Доля клиентов в параметре', binar_parameters.get(title), title_rate)\n",
    "    display(churn_rate_by_title)\n"
   ]
  },
  {
   "cell_type": "markdown",
   "metadata": {},
   "source": [
    "Судя по полученным таблицам мы видим, что среди клиентов, имеющих кредитную карту, 15% ушли из банка, в то время как 26% ушедших не имеют кредитной карты. Среди активных клиентов процент оттока составляет 24%, а неактивные клиенты уходят реже - 11%. Среди женщин процент ушедших составляет 13%, в то время как среди мужчин этот показатель выше: 24%.\n",
    "\n",
    "Таким образом, мы можем сделать вывод, что средний пользователь мужского пола без кредитной карты и высокой активностью чаще склонен к уходу из банка. "
   ]
  },
  {
   "cell_type": "markdown",
   "metadata": {},
   "source": [
    "### Вывод"
   ]
  },
  {
   "cell_type": "markdown",
   "metadata": {},
   "source": [
    "Мы определили позитивно и негативно влияющие параметры на отток клиента и исследовали каждый из них отдельно в разрезе оттока. Для сегментации по оттоку мы предварительно определили различия по возрасту и количеству собственности. Далее, при помощи проверки статистических гипотез определим различия между группами в разрезе 1-2 продуктов и проверим насколько статистически значима разница между мужчинам и и женщинами."
   ]
  },
  {
   "cell_type": "markdown",
   "metadata": {},
   "source": [
    "## Формулировка и проверка статистических гипотез."
   ]
  },
  {
   "cell_type": "markdown",
   "metadata": {},
   "source": [
    "Мы провели исследование и анализ данных и определили, что наиболее явную взаимосвязь с оттоком имеют такие признаки, как возраст, баланс на счете, количество продуктов и объектов в собственности, наличие кредитной карты, активность пользования и, что интересно, пол. \\\n",
    "Для того, чтобы убедиться в том, что признаки определены правильно, проведем статистический тест на выявление статистической разности между группами в признаке \"количество продуктов\" и \"пол\". \n",
    "\n",
    "Проверим гипотезу различия возраста между теми клиентами, которые пользуются двумя продуктами банка, и теми, которые пользуются одним. Для этого сформулируем нулевую и альтернативную гипотезы. Установим нулевую гипотезу о равенстве статистических критериев и противопоставим ей альтернативную гипотезу:\n",
    "\n",
    "H₀: Статистические критерии не находят разницу в возрасте между группами 1го и 2х продуктов;\\\n",
    "H₁: Статистические критерии находят разницу в возрасте между группами 1го и 2х продуктов.\n",
    "\n",
    "Сформируем группы для теста."
   ]
  },
  {
   "cell_type": "code",
   "execution_count": 23,
   "metadata": {},
   "outputs": [
    {
     "name": "stdout",
     "output_type": "stream",
     "text": [
      "Количество пользователей одного продукта 3323\n",
      "Количество пользователей двух продуктов 5119\n"
     ]
    }
   ],
   "source": [
    "one_product_users = df['age'][df['products']==1]\n",
    "two_product_users = df['age'][df['products']==2]\n",
    "\n",
    "print('Количество пользователей одного продукта',one_product_users.shape[0])\n",
    "print('Количество пользователей двух продуктов',two_product_users.shape[0])"
   ]
  },
  {
   "cell_type": "markdown",
   "metadata": {},
   "source": [
    "Поскольку мы будем проверять дискретный признак (продукт) и количественный(возраст) и в предыдущем пункте мы заметили, что распределение количественного признака отличное от нормального, то для проверки гипотез мы будем использовать u-критерий."
   ]
  },
  {
   "cell_type": "code",
   "execution_count": 24,
   "metadata": {},
   "outputs": [
    {
     "name": "stdout",
     "output_type": "stream",
     "text": [
      "p-значение:  0.057138410813417605\n",
      "Не получилось отвергнуть нулевую гипотезу, вывод о различии сделать нельзя.\n"
     ]
    }
   ],
   "source": [
    "alpha = 0.05  # критический уровень статистической значимости\n",
    "\n",
    "results = st.mannwhitneyu(one_product_users, two_product_users)\n",
    "\n",
    "print('p-значение: ', results.pvalue)\n",
    "\n",
    "if results.pvalue < alpha:\n",
    "    print('Отвергаем нулевую гипотезу: разница статистически значима')\n",
    "else:\n",
    "    print(\n",
    "        'Не получилось отвергнуть нулевую гипотезу, вывод о различии сделать нельзя.'\n",
    "    ) "
   ]
  },
  {
   "cell_type": "markdown",
   "metadata": {},
   "source": [
    "Таким образом, нам не удалось отвергнуть нулевую гипотезу, а значит разница в среднем возрасте между клиентами с одним продуктом и клиентами с двумя продуктами не имеет статистической значимости. \n",
    "\n",
    "Далее, сделаем еще одну статистическую проверку на наличие значимой разницы между мужчинами и женщинами в разрезе оттока. Для начала, сформируем две группы оттока по полу. "
   ]
  },
  {
   "cell_type": "code",
   "execution_count": 25,
   "metadata": {},
   "outputs": [
    {
     "name": "stdout",
     "output_type": "stream",
     "text": [
      "Количество женщин в выборке 4983\n",
      "Количество мужчин в выборке 4991\n"
     ]
    }
   ],
   "source": [
    "women_churn = df['churn'][df['gender_Ж']==1]\n",
    "men_churn = df['churn'][df['gender_М']==1]\n",
    "\n",
    "print('Количество женщин в выборке',women_churn.shape[0])\n",
    "print('Количество мужчин в выборке',men_churn.shape[0])"
   ]
  },
  {
   "cell_type": "markdown",
   "metadata": {},
   "source": [
    "Далее сформулируем  нулевую и альтернативную гипотезы. Установим нулевую гипотезу о равенстве статистических критериев и противопоставим ей альтернативную гипотезу:\n",
    "\n",
    "H₀: Статистические критерии не находят разницу в оттоке между группами мужчин и женщин;\\\n",
    "H₁: Статистические критерии находят разницу в оттоке  между группами мужчин и женщин.\n",
    "\n",
    "Поскольку мы будем проверять бинарную переменную, т.е. будем проверять разницу долей оттока между мужчинами и женщинами, мы будем использовать z-value.\n",
    "\n",
    "Сначала сформируем количество пропорции оттока по группам."
   ]
  },
  {
   "cell_type": "code",
   "execution_count": 26,
   "metadata": {},
   "outputs": [],
   "source": [
    "women_churn_count = women_churn[women_churn==1].count() #количество женщин ушедших из банка\n",
    "women_count= women_churn.count() #общее количество женщин\n",
    "\n",
    "men_churn_count = men_churn[men_churn==1].count() #количество мужчин ушедших из банка\n",
    "men_count= men_churn.count() #общее количество мужчин\n"
   ]
  },
  {
   "cell_type": "markdown",
   "metadata": {},
   "source": [
    "Далее, зададим критический уровень статистической значимости и составим пропорции ушедших пользователей в обеих группах, а также пропорцию оттока в комбинированном датасете."
   ]
  },
  {
   "cell_type": "code",
   "execution_count": 27,
   "metadata": {},
   "outputs": [],
   "source": [
    "alpha = .05 # критический уровень статистической значимости\n",
    "\n",
    "# пропорция оттока среди  женщин:\n",
    "p1 =  women_churn_count/ women_count\n",
    "\n",
    "# пропорция оттока среди мужчин:\n",
    "p2 = men_churn_count/ men_count\n",
    "\n",
    "# пропорция оплаты в комбинированном датасете:\n",
    "p_combined = (women_churn_count +men_churn_count)/(women_count + men_count)\n",
    "\n",
    "#разница пропорций в датасетах\n",
    "difference = p1 - p2"
   ]
  },
  {
   "cell_type": "markdown",
   "metadata": {},
   "source": [
    "Считаем статистику в стандартных отклонениях стандартного нормального распределения: "
   ]
  },
  {
   "cell_type": "code",
   "execution_count": 28,
   "metadata": {},
   "outputs": [
    {
     "name": "stdout",
     "output_type": "stream",
     "text": [
      "p-значение:  0.0\n",
      "Отвергаем нулевую гипотезу: между группами есть значимая разница\n"
     ]
    }
   ],
   "source": [
    "#считаем статистику в ст.отклонениях стандартного нормального распределения\n",
    "z_value = difference / mth.sqrt(p_combined * (1 - p_combined) * (1/women_count + 1/men_count))\n",
    "\n",
    "#задаем стандартное нормальное распределение (среднее 0, ст.отклонение 1)\n",
    "distr = st.norm(0, 1) \n",
    "\n",
    "p_value = (1 - distr.cdf(abs(z_value))) * 2\n",
    "\n",
    "print('p-значение: ', p_value)\n",
    "\n",
    "if (p_value < alpha):\n",
    "    print(\"Отвергаем нулевую гипотезу: между группами есть значимая разница\")\n",
    "else:\n",
    "    print(\"Не получилось отвергнуть нулевую гипотезу, нет оснований считать группами разными\")"
   ]
  },
  {
   "cell_type": "markdown",
   "metadata": {},
   "source": [
    "P-value оказался меньше чем критический уровень статистическй значимости, а значит между группами разница имеет статистическую значимость. Таким образом, мы выяснили что гендерный признак нельзя исключать из сегментации и теперь мы можем сформулировать окончательные признаки для сегментации."
   ]
  },
  {
   "cell_type": "markdown",
   "metadata": {},
   "source": [
    "### Вывод"
   ]
  },
  {
   "cell_type": "markdown",
   "metadata": {},
   "source": [
    "Мы сформулировали гипотезу о различии возраста между клиентами одного и двух продуктов и выявили, что разница не имеет статистической значимости, а значит, этих пользователей можно объединить в одну группу. Также мы проверили гипотезу различия между мужчинами и женщинами по оттоку и определили, что разница определенно есть, что значит мы будем учитывать гендерный признак при дальнейшей сегментации клиентов.\n"
   ]
  },
  {
   "cell_type": "markdown",
   "metadata": {},
   "source": [
    "## Сегментация пользоватей по уровню потребления на основании полученных результатов."
   ]
  },
  {
   "cell_type": "markdown",
   "metadata": {},
   "source": [
    "Ранее, мы определили что общий отток клиентов из банка составляет 18,2%. Будем считать эту цифру нормой оттока. Это значит, что мы должны определить сегменты клиентов по количеству потребляемых продуктов с оттоком, который будет больше общего уровня оттока не менее чем на 5%.\n",
    "Предварительно установлено что основной признак, по которому мы будем делать сегментацию - Количество потребляемых продуктов: 1-3 и 4-5 продуктов. \n",
    "\n",
    "Итак, мы определили следующие параметры, по которым мы будем сегментировать отточных пользователей:\n",
    "\n",
    "1. Возраст: 25-35 лет и 50-60 лет.\n",
    "2. Пол: мужчины и женщины.\n",
    "3. Уровень баланса: более 750 тыс. руб.\n",
    "4. Количество объектов в собственности: 0-4 и 5-9.\n"
   ]
  },
  {
   "cell_type": "markdown",
   "metadata": {},
   "source": [
    "Создадим функцию, которая разделит наш датасет на категории продуктов."
   ]
  },
  {
   "cell_type": "code",
   "execution_count": 29,
   "metadata": {},
   "outputs": [
    {
     "name": "stdout",
     "output_type": "stream",
     "text": [
      "0       1-3 продукта \n",
      "76     4-5 продуктов \n",
      "Name: product_qty, dtype: object\n"
     ]
    }
   ],
   "source": [
    "def product_qty(item):\n",
    "    \"\"\"\n",
    "    Возвращает категорию по количеству продуктов products используя правила\n",
    "    - '1-3', если products <= 3;\n",
    "    - '4-5 продуктов', если products >3.\n",
    "    \"\"\"\n",
    "    if item <= 3: return ' 1-3 продукта '\n",
    "    \n",
    "    return ' 4-5 продуктов '\n",
    "\n",
    "df['product_qty'] = df['products'].apply(product_qty)\n",
    "print(df['product_qty'].drop_duplicates())   \n",
    "    "
   ]
  },
  {
   "cell_type": "markdown",
   "metadata": {},
   "source": [
    "Далее, создадим функцию для выделения групп пользователей с интересующими нас возрастными диапазонами."
   ]
  },
  {
   "cell_type": "code",
   "execution_count": 30,
   "metadata": {},
   "outputs": [
    {
     "name": "stdout",
     "output_type": "stream",
     "text": [
      "0     25-35 лет\n",
      "1     other age\n",
      "3     50-60 лет\n",
      "Name: age_category, dtype: object\n"
     ]
    }
   ],
   "source": [
    "def age_category(item):\n",
    "    \"\"\"\n",
    "    Возвращает категорию возраста age используя правила\n",
    "    - '25-35 лет', если age больше 25, но меньше 35;\n",
    "    - '50-60 лет', если age больше 50, но меньше 60;\n",
    "    - 'non valid', если age не попадает ни в один из указанных диапазонов выше.\n",
    "    \"\"\"\n",
    "    if 25<=item <= 35: return ' 25-35 лет'\n",
    "    if 50<=item <= 60: return ' 50-60 лет'\n",
    "    return ' other age'\n",
    "\n",
    "df['age_category'] = df['age'].apply(age_category)\n",
    "print(df['age_category'].drop_duplicates())   \n",
    "  "
   ]
  },
  {
   "cell_type": "markdown",
   "metadata": {},
   "source": [
    "Далее, создадим функцию, которую разделит наш датасет на категории количества собственности."
   ]
  },
  {
   "cell_type": "code",
   "execution_count": 31,
   "metadata": {},
   "outputs": [
    {
     "name": "stdout",
     "output_type": "stream",
     "text": [
      "0     0-4 объекта\n",
      "1    5-9 объектов\n",
      "Name: equity_category, dtype: object\n"
     ]
    }
   ],
   "source": [
    "def equity_category(item):\n",
    "    \"\"\"\n",
    "    Возвращает категорию собственности equity используя правила\n",
    "    - '0-4 объекта', если equity меньше 5;\n",
    "    - '5-9 объектов', если equity более 5.\n",
    "    \"\"\"\n",
    "    if item <= 4: return '0-4 объекта'\n",
    "    return '5-9 объектов'\n",
    "\n",
    "df['equity_category'] = df['equity'].apply(equity_category)\n",
    "print(df['equity_category'].drop_duplicates()) "
   ]
  },
  {
   "cell_type": "code",
   "execution_count": 32,
   "metadata": {},
   "outputs": [
    {
     "name": "stdout",
     "output_type": "stream",
     "text": [
      "0    менее 0,75 млн.руб.\n",
      "1    более 0,75 млн.руб.\n",
      "Name: balance_category, dtype: object\n"
     ]
    }
   ],
   "source": [
    "def balance_category(item):\n",
    "    \"\"\"\n",
    "    возращает категорию баланса более или менее 750 тыс. руб.\n",
    "    \"\"\"\n",
    "    if item >= 750000: return 'более 0,75 млн.руб.'    \n",
    "    return 'менее 0,75 млн.руб.'\n",
    "\n",
    "df['balance_category'] = df['balance'].apply(balance_category)\n",
    "print(df['balance_category'].drop_duplicates())   \n",
    "  "
   ]
  },
  {
   "cell_type": "markdown",
   "metadata": {},
   "source": [
    "Проверим себя: отфильтруем датасет по установленным параметрам, наиболее влияющих на отток."
   ]
  },
  {
   "cell_type": "code",
   "execution_count": 33,
   "metadata": {},
   "outputs": [
    {
     "name": "stdout",
     "output_type": "stream",
     "text": [
      "После фильтрации возраста осталось пользователей: 4823\n",
      "После фильтрации баланса осталось пользователей: 1239\n",
      "Доля оттока в отфильтрованном датасете 0.47\n"
     ]
    }
   ],
   "source": [
    "df_filtered = df.query(\" age_category != ' other age'\")\n",
    "print('После фильтрации возраста осталось пользователей:', df_filtered.shape[0])\n",
    "df_filtered = df_filtered.query('balance>=750000')\n",
    "print('После фильтрации баланса осталось пользователей:', df_filtered.shape[0])\n",
    "print('Доля оттока в отфильтрованном датасете', round(df_filtered['churn'].mean(),2))\n"
   ]
  },
  {
   "cell_type": "markdown",
   "metadata": {},
   "source": [
    "Посмотрим на долю оттока у клиентов, не попавших в отфильтрованный датасет:"
   ]
  },
  {
   "cell_type": "code",
   "execution_count": 34,
   "metadata": {},
   "outputs": [
    {
     "name": "stdout",
     "output_type": "stream",
     "text": [
      "Доля оттока у клиентов, не попавших в отфильтрованный датасет:  0.14\n"
     ]
    }
   ],
   "source": [
    "our_list = df_filtered['user_id']\n",
    "df_no_filtered = df.query('user_id not in @our_list')\n",
    "print('Доля оттока у клиентов, не попавших в отфильтрованный датасет: ', round(df_no_filtered['churn'].mean(),2))"
   ]
  },
  {
   "cell_type": "markdown",
   "metadata": {},
   "source": [
    "Таким образом, мы определили для себя датасет пользователей с оттоком в 47%, при этом оставшиеся пользователи имеют отток всего 14%. Напомним, что общий клиентский отток составляет 18,2%. Теперь мы можем приступить к построению графиков для определения сегментации. Вернем наш датасет к первоначальному виду. "
   ]
  },
  {
   "cell_type": "code",
   "execution_count": 35,
   "metadata": {},
   "outputs": [
    {
     "name": "stdout",
     "output_type": "stream",
     "text": [
      "Пользователей без продуктов удаленных из датафрейма: 1\n"
     ]
    }
   ],
   "source": [
    "df_filtered = df.query('products>0') #очистим фрейм от клиентов не имеющих продуктов\n",
    "print('Пользователей без продуктов удаленных из датафрейма:',df.query('products<1').shape[0])"
   ]
  },
  {
   "cell_type": "code",
   "execution_count": 36,
   "metadata": {},
   "outputs": [
    {
     "data": {
      "image/png": "[encoded data removed]",
      "text/plain": [
       "<Figure size 1080x360 with 2 Axes>"
      ]
     },
     "metadata": {},
     "output_type": "display_data"
    }
   ],
   "source": [
    "pivoted = pd.pivot_table(df_filtered, values='churn', index='age_category', columns='gender', aggfunc='mean')*100 \n",
    "ax = sns.heatmap(data=pivoted, annot=True, fmt='.1f',cmap=\"crest\")\n",
    "plt.tight_layout()\n",
    "plt.title('Отток клиентов банка  в разрезе пола и категории возраста')\n",
    "plt.show()"
   ]
  },
  {
   "cell_type": "markdown",
   "metadata": {},
   "source": [
    "По полученному выше графику мы видим, что доля оттока значительно выше нормы у клиентов мужского пола в возрасте 25-35 лет (25,5%) и 50-60 лет (33,3%). Далее сопоставим сгруппированные признаки по продуктам и объектам в собственности. "
   ]
  },
  {
   "cell_type": "code",
   "execution_count": 37,
   "metadata": {},
   "outputs": [
    {
     "data": {
      "image/png": "[encoded data removed]",
      "text/plain": [
       "<Figure size 1080x360 with 2 Axes>"
      ]
     },
     "metadata": {},
     "output_type": "display_data"
    }
   ],
   "source": [
    "pivoted = pd.pivot_table(df_filtered, values='churn', index='equity_category', columns='product_qty', aggfunc='mean')*100 \n",
    "ax = sns.heatmap(data=pivoted, annot=True, fmt='.1f',cmap=\"crest\")\n",
    "plt.tight_layout()\n",
    "plt.title('Отток клиентов банка  в разрезе количества продуктов и объектов в собственности.')\n",
    "plt.show()"
   ]
  },
  {
   "cell_type": "markdown",
   "metadata": {},
   "source": [
    "На полученном графике мы видим, что примерно одинаковая доля оттока(61-64%) у всех пользователей 4-5 продуктов. Также можно отметить что среди пользователй 1-3 продуктов пользователи с объектами в собственности более 5 имеют отток выше нормы (27,5%). Проанализируем отток в разрезе возраста и количества продуктов."
   ]
  },
  {
   "cell_type": "code",
   "execution_count": 38,
   "metadata": {},
   "outputs": [
    {
     "data": {
      "image/png": "[encoded data removed]",
      "text/plain": [
       "<Figure size 1080x360 with 2 Axes>"
      ]
     },
     "metadata": {},
     "output_type": "display_data"
    }
   ],
   "source": [
    "pivoted = pd.pivot_table(df_filtered, values='churn', index='age_category', columns='product_qty', aggfunc='mean')*100 \n",
    "ax = sns.heatmap(data=pivoted, annot=True, fmt='.1f',cmap=\"crest\")\n",
    "plt.tight_layout()\n",
    "plt.title('Отток клиентов банка  в разрезе количества продуктов и категории возраста')\n",
    "plt.show() "
   ]
  },
  {
   "cell_type": "markdown",
   "metadata": {},
   "source": [
    "Здесь мы видим, что клиенты любого возраста склонны к оттоку, если у них 4-5 банковских продукта, а также в возрасте 50-60 лет если у них 1-3 продукта."
   ]
  },
  {
   "cell_type": "markdown",
   "metadata": {},
   "source": [
    "Попробуем объединить демографические признаки в один и построить  график еще раз."
   ]
  },
  {
   "cell_type": "code",
   "execution_count": 39,
   "metadata": {},
   "outputs": [
    {
     "name": "stderr",
     "output_type": "stream",
     "text": [
      "C:\\Users\\marin\\AppData\\Local\\Temp/ipykernel_14064/594993688.py:1: SettingWithCopyWarning: \n",
      "A value is trying to be set on a copy of a slice from a DataFrame.\n",
      "Try using .loc[row_indexer,col_indexer] = value instead\n",
      "\n",
      "See the caveats in the documentation: https://pandas.pydata.org/pandas-docs/stable/user_guide/indexing.html#returning-a-view-versus-a-copy\n",
      "  df_filtered['age_by_gender'] = df_filtered['gender'] + df_filtered['age_category']\n"
     ]
    },
    {
     "data": {
      "text/html": [
       "<div>\n",
       "<style scoped>\n",
       "    .dataframe tbody tr th:only-of-type {\n",
       "        vertical-align: middle;\n",
       "    }\n",
       "\n",
       "    .dataframe tbody tr th {\n",
       "        vertical-align: top;\n",
       "    }\n",
       "\n",
       "    .dataframe thead th {\n",
       "        text-align: right;\n",
       "    }\n",
       "</style>\n",
       "<table border=\"1\" class=\"dataframe\">\n",
       "  <thead>\n",
       "    <tr style=\"text-align: right;\">\n",
       "      <th></th>\n",
       "      <th>user_id</th>\n",
       "      <th>score</th>\n",
       "      <th>age</th>\n",
       "      <th>equity</th>\n",
       "      <th>balance</th>\n",
       "      <th>products</th>\n",
       "      <th>credit_card</th>\n",
       "      <th>last_activity</th>\n",
       "      <th>est_salary</th>\n",
       "      <th>churn</th>\n",
       "      <th>...</th>\n",
       "      <th>city</th>\n",
       "      <th>gender</th>\n",
       "      <th>balance_is_anomaly</th>\n",
       "      <th>age_is_anomaly</th>\n",
       "      <th>is_any_anomaly</th>\n",
       "      <th>product_qty</th>\n",
       "      <th>age_category</th>\n",
       "      <th>equity_category</th>\n",
       "      <th>balance_category</th>\n",
       "      <th>age_by_gender</th>\n",
       "    </tr>\n",
       "  </thead>\n",
       "  <tbody>\n",
       "    <tr>\n",
       "      <th>0</th>\n",
       "      <td>183012</td>\n",
       "      <td>850.000</td>\n",
       "      <td>25.000</td>\n",
       "      <td>1</td>\n",
       "      <td>59214.820</td>\n",
       "      <td>2</td>\n",
       "      <td>0</td>\n",
       "      <td>1</td>\n",
       "      <td>75719.140</td>\n",
       "      <td>1</td>\n",
       "      <td>...</td>\n",
       "      <td>Рыбинск</td>\n",
       "      <td>Ж</td>\n",
       "      <td>0</td>\n",
       "      <td>0</td>\n",
       "      <td>0</td>\n",
       "      <td>1-3 продукта</td>\n",
       "      <td>25-35 лет</td>\n",
       "      <td>0-4 объекта</td>\n",
       "      <td>менее 0,75 млн.руб.</td>\n",
       "      <td>Ж 25-35 лет</td>\n",
       "    </tr>\n",
       "    <tr>\n",
       "      <th>1</th>\n",
       "      <td>146556</td>\n",
       "      <td>861.000</td>\n",
       "      <td>37.000</td>\n",
       "      <td>5</td>\n",
       "      <td>850594.330</td>\n",
       "      <td>3</td>\n",
       "      <td>1</td>\n",
       "      <td>0</td>\n",
       "      <td>86621.770</td>\n",
       "      <td>0</td>\n",
       "      <td>...</td>\n",
       "      <td>Рыбинск</td>\n",
       "      <td>Ж</td>\n",
       "      <td>0</td>\n",
       "      <td>0</td>\n",
       "      <td>0</td>\n",
       "      <td>1-3 продукта</td>\n",
       "      <td>other age</td>\n",
       "      <td>5-9 объектов</td>\n",
       "      <td>более 0,75 млн.руб.</td>\n",
       "      <td>Ж other age</td>\n",
       "    </tr>\n",
       "  </tbody>\n",
       "</table>\n",
       "<p>2 rows × 25 columns</p>\n",
       "</div>"
      ],
      "text/plain": [
       "   user_id   score    age  equity    balance  products  credit_card  \\\n",
       "0   183012 850.000 25.000       1  59214.820         2            0   \n",
       "1   146556 861.000 37.000       5 850594.330         3            1   \n",
       "\n",
       "   last_activity  est_salary  churn  ...     city  gender  balance_is_anomaly  \\\n",
       "0              1   75719.140      1  ...  Рыбинск       Ж                   0   \n",
       "1              0   86621.770      0  ...  Рыбинск       Ж                   0   \n",
       "\n",
       "   age_is_anomaly  is_any_anomaly     product_qty age_category  \\\n",
       "0               0               0   1-3 продукта     25-35 лет   \n",
       "1               0               0   1-3 продукта     other age   \n",
       "\n",
       "   equity_category     balance_category  age_by_gender  \n",
       "0      0-4 объекта  менее 0,75 млн.руб.    Ж 25-35 лет  \n",
       "1     5-9 объектов  более 0,75 млн.руб.    Ж other age  \n",
       "\n",
       "[2 rows x 25 columns]"
      ]
     },
     "execution_count": 39,
     "metadata": {},
     "output_type": "execute_result"
    }
   ],
   "source": [
    "df_filtered['age_by_gender'] = df_filtered['gender'] + df_filtered['age_category']\n",
    "df_filtered.head(2)\n"
   ]
  },
  {
   "cell_type": "code",
   "execution_count": 40,
   "metadata": {},
   "outputs": [
    {
     "data": {
      "image/png": "[encoded data removed]",
      "text/plain": [
       "<Figure size 1080x360 with 2 Axes>"
      ]
     },
     "metadata": {},
     "output_type": "display_data"
    }
   ],
   "source": [
    "pivoted = pd.pivot_table(df_filtered, values='churn', index='age_by_gender', columns='product_qty', aggfunc='mean')*100 \n",
    "ax = sns.heatmap(data=pivoted, annot=True, fmt='.1f',cmap=\"crest\")\n",
    "plt.tight_layout()\n",
    "plt.title('Отток клиентов банка  в разрезе количества продуктов с разбивкой по полу и категории возраста')\n",
    "plt.show() "
   ]
  },
  {
   "cell_type": "markdown",
   "metadata": {},
   "source": [
    "Здесь отчетливо видно, что самый высокий отток наблюдается у мужчин 50-60 лет в обеих категориях продукта. Среди клиентов, пользующихся  4-5 продуктами сильных различий нет, но в целом можно сказать что женщины люого возраста менее охотно уходят от банка.\n",
    "Посмотрим на отток в разрезе демографических характеристик и объектов в собственности."
   ]
  },
  {
   "cell_type": "code",
   "execution_count": 41,
   "metadata": {},
   "outputs": [
    {
     "data": {
      "image/png": "[encoded data removed]",
      "text/plain": [
       "<Figure size 1080x360 with 2 Axes>"
      ]
     },
     "metadata": {},
     "output_type": "display_data"
    }
   ],
   "source": [
    "pivoted = pd.pivot_table(df_filtered, values='churn', index='equity_category', columns='age_by_gender', aggfunc='mean')*100 \n",
    "ax = sns.heatmap(data=pivoted, annot=True, fmt='.1f',cmap=\"crest\")\n",
    "plt.tight_layout()\n",
    "plt.title('Отток клиентов банка  в разрезе количества объектов собственности с разбивкой по полу и категории возраста')\n",
    "plt.show()"
   ]
  },
  {
   "cell_type": "markdown",
   "metadata": {},
   "source": [
    "Здесь мы видим, что чем больше объектов недвижимости у мужчин и женщин люого возраста, тем выше процент оттока. Посмотрим на отток в разрезе баланса и демографической характеристики."
   ]
  },
  {
   "cell_type": "code",
   "execution_count": 42,
   "metadata": {},
   "outputs": [
    {
     "data": {
      "image/png": "[encoded data removed]",
      "text/plain": [
       "<Figure size 1080x360 with 2 Axes>"
      ]
     },
     "metadata": {},
     "output_type": "display_data"
    }
   ],
   "source": [
    "pivoted = pd.pivot_table(df_filtered, values='churn', index='balance_category', columns='age_by_gender', aggfunc='mean')*100 \n",
    "ax = sns.heatmap(data=pivoted, annot=True, fmt='.1f',cmap=\"crest\")\n",
    "plt.tight_layout()\n",
    "plt.title('Отток клиентов банка  в разрезе баланса с разбивкой по полу и категории возраста')\n",
    "plt.show()"
   ]
  },
  {
   "cell_type": "markdown",
   "metadata": {},
   "source": [
    "В полученной матрице отчетливо видно, что среди мужчин и женщин любого возраста нет исключений среди тех, у кого баланс на счете ниже 750 тыс. руб. Все кто имеет баланс выше этой суммы склонны уходить от банка.\\\n",
    "Создадим новую характеристику, которая объединит категории количества продуктов и объектов в собственности."
   ]
  },
  {
   "cell_type": "code",
   "execution_count": 43,
   "metadata": {},
   "outputs": [
    {
     "name": "stderr",
     "output_type": "stream",
     "text": [
      "C:\\Users\\marin\\AppData\\Local\\Temp/ipykernel_14064/3867848122.py:1: SettingWithCopyWarning: \n",
      "A value is trying to be set on a copy of a slice from a DataFrame.\n",
      "Try using .loc[row_indexer,col_indexer] = value instead\n",
      "\n",
      "See the caveats in the documentation: https://pandas.pydata.org/pandas-docs/stable/user_guide/indexing.html#returning-a-view-versus-a-copy\n",
      "  df_filtered['product_equity'] = df_filtered['product_qty'] + df_filtered['equity_category']\n"
     ]
    },
    {
     "data": {
      "text/html": [
       "<div>\n",
       "<style scoped>\n",
       "    .dataframe tbody tr th:only-of-type {\n",
       "        vertical-align: middle;\n",
       "    }\n",
       "\n",
       "    .dataframe tbody tr th {\n",
       "        vertical-align: top;\n",
       "    }\n",
       "\n",
       "    .dataframe thead th {\n",
       "        text-align: right;\n",
       "    }\n",
       "</style>\n",
       "<table border=\"1\" class=\"dataframe\">\n",
       "  <thead>\n",
       "    <tr style=\"text-align: right;\">\n",
       "      <th></th>\n",
       "      <th>user_id</th>\n",
       "      <th>score</th>\n",
       "      <th>age</th>\n",
       "      <th>equity</th>\n",
       "      <th>balance</th>\n",
       "      <th>products</th>\n",
       "      <th>credit_card</th>\n",
       "      <th>last_activity</th>\n",
       "      <th>est_salary</th>\n",
       "      <th>churn</th>\n",
       "      <th>...</th>\n",
       "      <th>gender</th>\n",
       "      <th>balance_is_anomaly</th>\n",
       "      <th>age_is_anomaly</th>\n",
       "      <th>is_any_anomaly</th>\n",
       "      <th>product_qty</th>\n",
       "      <th>age_category</th>\n",
       "      <th>equity_category</th>\n",
       "      <th>balance_category</th>\n",
       "      <th>age_by_gender</th>\n",
       "      <th>product_equity</th>\n",
       "    </tr>\n",
       "  </thead>\n",
       "  <tbody>\n",
       "    <tr>\n",
       "      <th>0</th>\n",
       "      <td>183012</td>\n",
       "      <td>850.000</td>\n",
       "      <td>25.000</td>\n",
       "      <td>1</td>\n",
       "      <td>59214.820</td>\n",
       "      <td>2</td>\n",
       "      <td>0</td>\n",
       "      <td>1</td>\n",
       "      <td>75719.140</td>\n",
       "      <td>1</td>\n",
       "      <td>...</td>\n",
       "      <td>Ж</td>\n",
       "      <td>0</td>\n",
       "      <td>0</td>\n",
       "      <td>0</td>\n",
       "      <td>1-3 продукта</td>\n",
       "      <td>25-35 лет</td>\n",
       "      <td>0-4 объекта</td>\n",
       "      <td>менее 0,75 млн.руб.</td>\n",
       "      <td>Ж 25-35 лет</td>\n",
       "      <td>1-3 продукта 0-4 объекта</td>\n",
       "    </tr>\n",
       "    <tr>\n",
       "      <th>1</th>\n",
       "      <td>146556</td>\n",
       "      <td>861.000</td>\n",
       "      <td>37.000</td>\n",
       "      <td>5</td>\n",
       "      <td>850594.330</td>\n",
       "      <td>3</td>\n",
       "      <td>1</td>\n",
       "      <td>0</td>\n",
       "      <td>86621.770</td>\n",
       "      <td>0</td>\n",
       "      <td>...</td>\n",
       "      <td>Ж</td>\n",
       "      <td>0</td>\n",
       "      <td>0</td>\n",
       "      <td>0</td>\n",
       "      <td>1-3 продукта</td>\n",
       "      <td>other age</td>\n",
       "      <td>5-9 объектов</td>\n",
       "      <td>более 0,75 млн.руб.</td>\n",
       "      <td>Ж other age</td>\n",
       "      <td>1-3 продукта 5-9 объектов</td>\n",
       "    </tr>\n",
       "    <tr>\n",
       "      <th>2</th>\n",
       "      <td>120722</td>\n",
       "      <td>892.000</td>\n",
       "      <td>30.000</td>\n",
       "      <td>0</td>\n",
       "      <td>NaN</td>\n",
       "      <td>1</td>\n",
       "      <td>1</td>\n",
       "      <td>1</td>\n",
       "      <td>107683.340</td>\n",
       "      <td>0</td>\n",
       "      <td>...</td>\n",
       "      <td>Ж</td>\n",
       "      <td>1</td>\n",
       "      <td>0</td>\n",
       "      <td>1</td>\n",
       "      <td>1-3 продукта</td>\n",
       "      <td>25-35 лет</td>\n",
       "      <td>0-4 объекта</td>\n",
       "      <td>менее 0,75 млн.руб.</td>\n",
       "      <td>Ж 25-35 лет</td>\n",
       "      <td>1-3 продукта 0-4 объекта</td>\n",
       "    </tr>\n",
       "  </tbody>\n",
       "</table>\n",
       "<p>3 rows × 26 columns</p>\n",
       "</div>"
      ],
      "text/plain": [
       "   user_id   score    age  equity    balance  products  credit_card  \\\n",
       "0   183012 850.000 25.000       1  59214.820         2            0   \n",
       "1   146556 861.000 37.000       5 850594.330         3            1   \n",
       "2   120722 892.000 30.000       0        NaN         1            1   \n",
       "\n",
       "   last_activity  est_salary  churn  ...  gender  balance_is_anomaly  \\\n",
       "0              1   75719.140      1  ...       Ж                   0   \n",
       "1              0   86621.770      0  ...       Ж                   0   \n",
       "2              1  107683.340      0  ...       Ж                   1   \n",
       "\n",
       "   age_is_anomaly  is_any_anomaly     product_qty age_category  \\\n",
       "0               0               0   1-3 продукта     25-35 лет   \n",
       "1               0               0   1-3 продукта     other age   \n",
       "2               0               1   1-3 продукта     25-35 лет   \n",
       "\n",
       "  equity_category     balance_category  age_by_gender  \\\n",
       "0     0-4 объекта  менее 0,75 млн.руб.    Ж 25-35 лет   \n",
       "1    5-9 объектов  более 0,75 млн.руб.    Ж other age   \n",
       "2     0-4 объекта  менее 0,75 млн.руб.    Ж 25-35 лет   \n",
       "\n",
       "               product_equity  \n",
       "0    1-3 продукта 0-4 объекта  \n",
       "1   1-3 продукта 5-9 объектов  \n",
       "2    1-3 продукта 0-4 объекта  \n",
       "\n",
       "[3 rows x 26 columns]"
      ]
     },
     "execution_count": 43,
     "metadata": {},
     "output_type": "execute_result"
    }
   ],
   "source": [
    "df_filtered['product_equity'] = df_filtered['product_qty'] + df_filtered['equity_category']\n",
    "df_filtered.head(3)"
   ]
  },
  {
   "cell_type": "markdown",
   "metadata": {},
   "source": [
    "Теперь посмотрим на отток клиентов разрезе наличия кредитной карты и с разбивкой по количеству продуктов и объектов собственности."
   ]
  },
  {
   "cell_type": "code",
   "execution_count": 44,
   "metadata": {},
   "outputs": [
    {
     "data": {
      "image/png": "[encoded data removed]",
      "text/plain": [
       "<Figure size 1080x360 with 2 Axes>"
      ]
     },
     "metadata": {},
     "output_type": "display_data"
    }
   ],
   "source": [
    "pivoted = pd.pivot_table(df_filtered, values='churn', index='product_equity', columns='credit_card', aggfunc='mean')*100 \n",
    "ax = sns.heatmap(data=pivoted, annot=True, fmt='.1f',cmap=\"crest\")\n",
    "plt.tight_layout()\n",
    "plt.title('Отток клиентов банка в разрезе наличия кредитной карты с разбивкой по количеству продуктов и объектов собственности ')\n",
    "plt.show()"
   ]
  },
  {
   "cell_type": "markdown",
   "metadata": {},
   "source": [
    "Судя по полученной матрице, клиенты с кредитной картой больше склонны к оттоку. Однако высокий отток в целом характерен с пользователей 4-5 продуктов или с количеством объектов в собственности более 5 как с кредитной картой так и без. Далее, посмотрим на матрицу активности клиентов. "
   ]
  },
  {
   "cell_type": "code",
   "execution_count": 45,
   "metadata": {},
   "outputs": [
    {
     "data": {
      "image/png": "[encoded data removed]",
      "text/plain": [
       "<Figure size 1080x360 with 2 Axes>"
      ]
     },
     "metadata": {},
     "output_type": "display_data"
    }
   ],
   "source": [
    "pivoted = pd.pivot_table(df_filtered, values='churn', index='product_equity', columns='last_activity', aggfunc='mean')*100 \n",
    "ax = sns.heatmap(data=pivoted, annot=True, fmt='.1f',cmap=\"crest\")\n",
    "plt.tight_layout()\n",
    "plt.title('Отток клиентов банка  в разрезе актвиности клиента с разбивкой по количеству продуктов и объектов собственности ')\n",
    "plt.show()"
   ]
  },
  {
   "cell_type": "markdown",
   "metadata": {},
   "source": [
    "Как мы видим, чаще уходят неактивные клиенты. Также тенденция для 4-5 продуктов неутешительна - отток от 53 до 96%. Однако среди пользователей 1-3 продукта с большим количеством недвижимости чаще ухоят активные клиенты."
   ]
  },
  {
   "cell_type": "markdown",
   "metadata": {},
   "source": [
    "Теперь построим финальную матрицу для определения финальных сегментов."
   ]
  },
  {
   "cell_type": "code",
   "execution_count": 46,
   "metadata": {},
   "outputs": [
    {
     "data": {
      "image/png": "[encoded data removed]",
      "text/plain": [
       "<Figure size 1080x360 with 2 Axes>"
      ]
     },
     "metadata": {},
     "output_type": "display_data"
    }
   ],
   "source": [
    "pivoted = pd.pivot_table(df_filtered, values='churn', index='product_equity', columns='age_by_gender', aggfunc='mean')*100 \n",
    "ax = sns.heatmap(data=pivoted, annot=True, fmt='.1f',cmap=\"crest\")\n",
    "plt.tight_layout()\n",
    "plt.title('Отток клиентов банка  в разрезе количества продуктов с разбивкой по полу и категории возраста')\n",
    "plt.show()"
   ]
  },
  {
   "cell_type": "markdown",
   "metadata": {},
   "source": [
    "Таким образом, благодаря полученной матрице мы можем явно выделить следующие сегменты, с оттоком выше нормы на 5%:\n",
    "\n",
    "1. Женщины 25-35 и 50-60 лет, пользующиеся 1-3 продуктами и имеющими в собственности более 4 объектов. \n",
    "2. Мужчины любого возраста, пользующиеся 1-3 продуктами и имеющими в собственности более 4 объектов.\n",
    "3. Женщины и мужчины любого возраста пользующиеся 4-5 продуктами.\n",
    "\n",
    "Далее, посчитаем количество клиентов в каждом сегменте."
   ]
  },
  {
   "cell_type": "code",
   "execution_count": 47,
   "metadata": {},
   "outputs": [
    {
     "name": "stdout",
     "output_type": "stream",
     "text": [
      "Количество клиентов в первом сегменте 471\n",
      "Процент оттока в первом сегменте 26\n"
     ]
    }
   ],
   "source": [
    "first_segment = df_filtered.query('age_by_gender != \"Ж other age\" and gender!= \"М\" and product_equity==\" 1-3 продукта 5-9 объектов\"')\n",
    "print('Количество клиентов в первом сегменте', first_segment.shape[0])\n",
    "first_segment_churn = round(first_segment['churn'].mean()*100)\n",
    "print('Процент оттока в первом сегменте', first_segment_churn)"
   ]
  },
  {
   "cell_type": "code",
   "execution_count": 48,
   "metadata": {},
   "outputs": [
    {
     "name": "stdout",
     "output_type": "stream",
     "text": [
      "Количество клиентов во втором сегменте 965\n",
      "Процент оттока во втором сегменте 37\n"
     ]
    }
   ],
   "source": [
    "second_segment = df_filtered.query('gender != \"Ж\" and product_equity==\" 1-3 продукта 5-9 объектов\"')\n",
    "print('Количество клиентов во втором сегменте', second_segment.shape[0])\n",
    "second_segment_churn = round(second_segment['churn'].mean()*100)\n",
    "print('Процент оттока во втором сегменте', second_segment_churn)                      "
   ]
  },
  {
   "cell_type": "code",
   "execution_count": 49,
   "metadata": {},
   "outputs": [
    {
     "name": "stdout",
     "output_type": "stream",
     "text": [
      "Количество клиентов в третьем сегменте 493\n",
      "Процент оттока в третьем сегменте 62\n"
     ]
    }
   ],
   "source": [
    "third_segment = df_filtered.query('product_qty == \" 4-5 продуктов \"')\n",
    "print('Количество клиентов в третьем сегменте', third_segment.shape[0])\n",
    "third_segment_churn = round(third_segment['churn'].mean()*100)\n",
    "print('Процент оттока в третьем сегменте', third_segment_churn)"
   ]
  },
  {
   "cell_type": "markdown",
   "metadata": {},
   "source": [
    "Таким образом мы опредилили 3 сегмента с достаточным количеством клиентов в каждом и высоким процентом оттока. Для определения рекомендаций для каждого сегмента, посмотрим на распределение наличия кредитной карты среди сегментов."
   ]
  },
  {
   "cell_type": "code",
   "execution_count": 50,
   "metadata": {},
   "outputs": [
    {
     "name": "stdout",
     "output_type": "stream",
     "text": [
      "Процент наличия кредитной карты в первом сегменте 55\n",
      "Процент наличия кредитной карты во втором сегменте 59\n",
      "Процент наличия кредитной карты в третьем сегменте 69\n"
     ]
    }
   ],
   "source": [
    "credit_card_rate_fs = round(first_segment['credit_card'].mean()*100)\n",
    "credit_card_rate_ss = round(second_segment['credit_card'].mean()*100)\n",
    "credit_card_rate_ts = round(third_segment['credit_card'].mean()*100)\n",
    "print('Процент наличия кредитной карты в первом сегменте', credit_card_rate_fs)\n",
    "print('Процент наличия кредитной карты во втором сегменте', credit_card_rate_ss)   \n",
    "print('Процент наличия кредитной карты в третьем сегменте', credit_card_rate_ts) "
   ]
  },
  {
   "cell_type": "markdown",
   "metadata": {},
   "source": [
    "Мы видим, что у первого сегмента наименьший процент кредитных карт, что значит 45% процентам пользователей данного сегмента можно предложить приобрести кредитную карту для повышения их лояльности. "
   ]
  },
  {
   "cell_type": "markdown",
   "metadata": {},
   "source": [
    "### Выводы и рекомендации "
   ]
  },
  {
   "cell_type": "markdown",
   "metadata": {},
   "source": [
    "Мы получили данные банка МетанПром — данные о клиентах в трех городах: Ярославле, Рыбинске и Ростове Великом. С помощью предобработки данных мы смогли обработать полученный датасет, провести исследовательский анализ данных, проверить пару статистических гипотез. Это помогло нам выявить параметры, которые влияют на отток клиентов.\n",
    "\n",
    "Мы исследовали портрет среднего пользователя банка: мужчина/женщина 40 лет, пользующиеся 2 продуктами банка, с 3 объектами собственности и средним счетом в 0,5 млн. руб. Мы выявили, что лояльным клиентом скорее является женщина в возрасте 35-50 или после 6о лет,имеющей до 2х банковских продуктов и до 5ти объектов собственности. \n",
    "\n",
    "Мы выявили, что на отток клиентов в большей степени оказывает влиянипе наличие большого остатка на счету (более 750 тыс. руб.), большое количество объектов в собственности (более 5) и 4-5 используемых банковских продукта. Мы выделили два возрастных диапазона клиентов, склонных к оттоку, это 25-35 ет и 50-60 лет. В дополнении к этому, в основном уходят активные пользователи без кредитной карты. Скорее всего это зарплатные клиенты, которые уходят при смене работы или при выходе на пенсию.\n",
    "\n",
    "В дополнении, мы провели статистическую проверку различий между группами 1 и 2х продуктов и выявили, что разница в возрасте между двумя группами не имеет статистической значимости. Также, мы определили что гендерный признак имеет статистическую значимость между группами женскомго и мужчского пола.\n",
    "\n",
    "Таким образом, благодаря выявленным параметрам и дополнительной статистической проверке, мы определили сегментацию клиентов, учитывая отток. Мы обнаружили одну общую черту характерную для всех выделенных сегментов: баланс на счете более 750 тыс. руб. Возможно это связано с тем, что банк предлагает выгодный процент на остаток до 750 тыс. руб. на балансе, а далее предложение становится невыгодными. На основании этого, сегменты, что мы выделили, следующие:\n",
    "\n",
    "\n",
    "1. Женщины 25-35 и 50-60 лет, пользующиеся 1-3 продуктами и имеющими в собственности более 4 объектов (471 клиент, уровень оттока 26%). Для данного сегмента мы можем рекомендовать предложение по кредитной карте, т.к. мы выявили, что пользователи 1-3 продукта, пользующиеся кредитной картой, гораздо более лояльны к банку. Что значит, банк имеет хорошее предложение по кредитным картам. Если же у клиента уже есть кредитная карта, то можно предложить дополнительный процент на остаток более 750 тыс. руб. \n",
    "\n",
    "2. Мужчины любого возраста, пользующиеся 1-3 продуктами и имеющими в собственности более 4 объектов (966 клиентов, уровень оттока 37%).  Здесь стоит предложить выгодные условия по страхованию имущества и/или кэшбек на оплату коммунальных услуг.\n",
    "\n",
    "3. Женщины и мужчины любого возраста пользующиеся 4-5 продуктами(493 клиента, уровень оттока 62%). Возможно сумма оплат за каждый банковский продукт выше чем у конкурентов, поэтому стоит сформировать предложение по скидке на количество продуктов, превышающих 4.\n"
   ]
  },
  {
   "cell_type": "markdown",
   "metadata": {},
   "source": [
    "## Дашборд и презентация"
   ]
  },
  {
   "cell_type": "markdown",
   "metadata": {},
   "source": [
    "Ссылка на Дашборд: https://public.tableau.com/views/test_2_16942518948570/Dashboard2?:language=en-US&publish=yes&:display_count=n&:origin=viz_share_link \n",
    "\n",
    "Ссылка на презентацию: https://disk.yandex.ru/d/p1uOr-iUURnrlA"
   ]
  }
 ],
 "metadata": {
  "ExecuteTimeLog": [
   {
    "duration": 397,
    "start_time": "2023-08-26T09:06:27.441Z"
   },
   {
    "duration": 138,
    "start_time": "2023-08-26T09:08:18.184Z"
   },
   {
    "duration": 2,
    "start_time": "2023-08-26T09:21:25.426Z"
   },
   {
    "duration": 8,
    "start_time": "2023-08-26T09:21:36.561Z"
   },
   {
    "duration": 81,
    "start_time": "2023-08-26T09:23:36.826Z"
   },
   {
    "duration": 85,
    "start_time": "2023-08-26T09:23:39.037Z"
   },
   {
    "duration": 6,
    "start_time": "2023-08-26T09:23:41.362Z"
   },
   {
    "duration": 3,
    "start_time": "2023-08-26T09:23:59.287Z"
   },
   {
    "duration": 13,
    "start_time": "2023-08-26T09:24:00.278Z"
   },
   {
    "duration": 3,
    "start_time": "2023-08-26T09:24:11.686Z"
   },
   {
    "duration": 29,
    "start_time": "2023-08-26T09:24:13.373Z"
   },
   {
    "duration": 3,
    "start_time": "2023-08-26T09:26:34.455Z"
   },
   {
    "duration": 19,
    "start_time": "2023-08-26T09:26:35.183Z"
   },
   {
    "duration": 256,
    "start_time": "2023-08-26T09:27:16.594Z"
   },
   {
    "duration": 1,
    "start_time": "2023-08-26T09:27:16.851Z"
   },
   {
    "duration": 4,
    "start_time": "2023-08-26T09:27:34.425Z"
   },
   {
    "duration": 8,
    "start_time": "2023-08-26T09:27:36.134Z"
   },
   {
    "duration": 4,
    "start_time": "2023-08-26T09:27:48.462Z"
   },
   {
    "duration": 26,
    "start_time": "2023-08-26T09:27:51.453Z"
   },
   {
    "duration": 3,
    "start_time": "2023-08-26T09:28:06.397Z"
   },
   {
    "duration": 15,
    "start_time": "2023-08-26T09:28:06.613Z"
   },
   {
    "duration": 3,
    "start_time": "2023-08-26T09:28:11.390Z"
   },
   {
    "duration": 18,
    "start_time": "2023-08-26T09:28:12.196Z"
   },
   {
    "duration": 2,
    "start_time": "2023-08-26T09:30:45.550Z"
   },
   {
    "duration": 15,
    "start_time": "2023-08-26T09:30:45.771Z"
   },
   {
    "duration": 173,
    "start_time": "2023-08-26T09:33:41.094Z"
   },
   {
    "duration": 15,
    "start_time": "2023-08-26T09:33:41.446Z"
   },
   {
    "duration": 3,
    "start_time": "2023-08-26T09:33:46.712Z"
   },
   {
    "duration": 18,
    "start_time": "2023-08-26T09:33:47.469Z"
   },
   {
    "duration": 3,
    "start_time": "2023-08-26T09:33:56.732Z"
   },
   {
    "duration": 15,
    "start_time": "2023-08-26T09:33:58.741Z"
   },
   {
    "duration": 3,
    "start_time": "2023-08-26T09:34:20.569Z"
   },
   {
    "duration": 13,
    "start_time": "2023-08-26T09:34:21.097Z"
   },
   {
    "duration": 3,
    "start_time": "2023-08-26T09:35:27.819Z"
   },
   {
    "duration": 14,
    "start_time": "2023-08-26T09:35:28.549Z"
   },
   {
    "duration": 3,
    "start_time": "2023-08-26T09:35:40.237Z"
   },
   {
    "duration": 14,
    "start_time": "2023-08-26T09:35:40.942Z"
   },
   {
    "duration": 15,
    "start_time": "2023-08-26T09:35:57.556Z"
   },
   {
    "duration": 3,
    "start_time": "2023-08-26T09:36:44.091Z"
   },
   {
    "duration": 14,
    "start_time": "2023-08-26T09:36:45.017Z"
   },
   {
    "duration": 4,
    "start_time": "2023-08-26T09:37:12.793Z"
   },
   {
    "duration": 15,
    "start_time": "2023-08-26T09:37:13.870Z"
   },
   {
    "duration": 2,
    "start_time": "2023-08-26T09:37:35.741Z"
   },
   {
    "duration": 13,
    "start_time": "2023-08-26T09:37:38.667Z"
   },
   {
    "duration": 3,
    "start_time": "2023-08-26T09:38:59.109Z"
   },
   {
    "duration": 13,
    "start_time": "2023-08-26T09:38:59.596Z"
   },
   {
    "duration": 2,
    "start_time": "2023-08-26T09:40:50.414Z"
   },
   {
    "duration": 22,
    "start_time": "2023-08-26T09:40:51.568Z"
   },
   {
    "duration": 86,
    "start_time": "2023-08-26T09:44:39.115Z"
   },
   {
    "duration": 3,
    "start_time": "2023-08-26T09:44:46.696Z"
   },
   {
    "duration": 22,
    "start_time": "2023-08-26T09:44:48.098Z"
   },
   {
    "duration": 3,
    "start_time": "2023-08-26T09:44:54.649Z"
   },
   {
    "duration": 22,
    "start_time": "2023-08-26T09:44:55.610Z"
   },
   {
    "duration": 3,
    "start_time": "2023-08-26T09:45:08.756Z"
   },
   {
    "duration": 23,
    "start_time": "2023-08-26T09:45:09.405Z"
   },
   {
    "duration": 50,
    "start_time": "2023-08-26T09:45:40.693Z"
   },
   {
    "duration": 410,
    "start_time": "2023-08-26T09:45:43.198Z"
   },
   {
    "duration": 88,
    "start_time": "2023-08-26T09:45:43.789Z"
   },
   {
    "duration": 3,
    "start_time": "2023-08-26T09:45:48.647Z"
   },
   {
    "duration": 30,
    "start_time": "2023-08-26T09:45:49.799Z"
   },
   {
    "duration": 11,
    "start_time": "2023-08-26T09:50:54.638Z"
   },
   {
    "duration": 7,
    "start_time": "2023-08-26T09:52:43.424Z"
   },
   {
    "duration": 478,
    "start_time": "2023-08-26T09:52:48.323Z"
   },
   {
    "duration": 2,
    "start_time": "2023-08-26T11:23:58.662Z"
   },
   {
    "duration": 15,
    "start_time": "2023-08-26T11:23:58.942Z"
   },
   {
    "duration": 7,
    "start_time": "2023-08-26T11:25:08.118Z"
   },
   {
    "duration": 33,
    "start_time": "2023-08-26T11:25:08.127Z"
   },
   {
    "duration": 3,
    "start_time": "2023-08-26T11:25:19.763Z"
   },
   {
    "duration": 15,
    "start_time": "2023-08-26T11:25:20.862Z"
   },
   {
    "duration": 3,
    "start_time": "2023-08-26T11:25:53.673Z"
   },
   {
    "duration": 15,
    "start_time": "2023-08-26T11:25:53.873Z"
   },
   {
    "duration": 3,
    "start_time": "2023-08-26T11:32:20.448Z"
   },
   {
    "duration": 14,
    "start_time": "2023-08-26T11:32:27.963Z"
   },
   {
    "duration": 5,
    "start_time": "2023-08-26T11:34:04.585Z"
   },
   {
    "duration": 350,
    "start_time": "2023-08-26T11:45:23.319Z"
   },
   {
    "duration": 111,
    "start_time": "2023-08-26T11:45:23.671Z"
   },
   {
    "duration": 14,
    "start_time": "2023-08-26T11:45:23.784Z"
   },
   {
    "duration": 16,
    "start_time": "2023-08-26T11:45:23.801Z"
   },
   {
    "duration": 517,
    "start_time": "2023-08-26T11:45:23.819Z"
   },
   {
    "duration": 6,
    "start_time": "2023-08-26T11:45:24.338Z"
   },
   {
    "duration": 9,
    "start_time": "2023-08-26T11:51:09.919Z"
   },
   {
    "duration": 4,
    "start_time": "2023-08-26T11:56:57.465Z"
   },
   {
    "duration": 13,
    "start_time": "2023-08-26T11:56:58.001Z"
   },
   {
    "duration": 10,
    "start_time": "2023-08-26T11:57:02.537Z"
   },
   {
    "duration": 13,
    "start_time": "2023-08-26T11:57:02.970Z"
   },
   {
    "duration": 6,
    "start_time": "2023-08-26T11:57:03.594Z"
   },
   {
    "duration": 12,
    "start_time": "2023-08-26T11:57:03.915Z"
   },
   {
    "duration": 4,
    "start_time": "2023-08-26T12:01:14.582Z"
   },
   {
    "duration": 8,
    "start_time": "2023-08-26T12:01:27.205Z"
   },
   {
    "duration": 9,
    "start_time": "2023-08-26T12:01:33.982Z"
   },
   {
    "duration": 92,
    "start_time": "2023-08-26T12:01:52.389Z"
   },
   {
    "duration": 16,
    "start_time": "2023-08-26T12:02:54.613Z"
   },
   {
    "duration": 11,
    "start_time": "2023-08-26T12:03:18.719Z"
   },
   {
    "duration": 9,
    "start_time": "2023-08-26T12:05:38.107Z"
   },
   {
    "duration": 4,
    "start_time": "2023-08-26T12:09:55.952Z"
   },
   {
    "duration": 10,
    "start_time": "2023-08-26T12:09:56.607Z"
   },
   {
    "duration": 12,
    "start_time": "2023-08-26T12:10:10.711Z"
   },
   {
    "duration": 10,
    "start_time": "2023-08-26T12:10:15.485Z"
   },
   {
    "duration": 8,
    "start_time": "2023-08-26T12:10:48.719Z"
   },
   {
    "duration": 405,
    "start_time": "2023-08-26T12:11:12.885Z"
   },
   {
    "duration": 104,
    "start_time": "2023-08-26T12:11:13.292Z"
   },
   {
    "duration": 6,
    "start_time": "2023-08-26T12:11:13.398Z"
   },
   {
    "duration": 16,
    "start_time": "2023-08-26T12:11:13.406Z"
   },
   {
    "duration": 10,
    "start_time": "2023-08-26T12:11:13.423Z"
   },
   {
    "duration": 348,
    "start_time": "2023-08-26T12:11:13.435Z"
   },
   {
    "duration": 6,
    "start_time": "2023-08-26T12:11:13.785Z"
   },
   {
    "duration": 11,
    "start_time": "2023-08-26T12:11:13.793Z"
   },
   {
    "duration": 16,
    "start_time": "2023-08-26T12:11:13.806Z"
   },
   {
    "duration": 11,
    "start_time": "2023-08-26T12:11:13.825Z"
   },
   {
    "duration": 10,
    "start_time": "2023-08-26T12:12:07.742Z"
   },
   {
    "duration": 4,
    "start_time": "2023-08-26T12:12:56.835Z"
   },
   {
    "duration": 9,
    "start_time": "2023-08-26T12:12:58.597Z"
   },
   {
    "duration": 12,
    "start_time": "2023-08-26T12:15:34.111Z"
   },
   {
    "duration": 8,
    "start_time": "2023-08-26T12:15:47.410Z"
   },
   {
    "duration": 12,
    "start_time": "2023-08-26T12:17:52.747Z"
   },
   {
    "duration": 9,
    "start_time": "2023-08-26T12:18:02.065Z"
   },
   {
    "duration": 4,
    "start_time": "2023-08-26T12:18:27.243Z"
   },
   {
    "duration": 145,
    "start_time": "2023-08-26T12:18:43.514Z"
   },
   {
    "duration": 71,
    "start_time": "2023-08-26T12:19:07.922Z"
   },
   {
    "duration": 120,
    "start_time": "2023-08-26T12:22:05.702Z"
   },
   {
    "duration": 5,
    "start_time": "2023-08-26T12:22:10.678Z"
   },
   {
    "duration": 123,
    "start_time": "2023-08-26T12:22:20.919Z"
   },
   {
    "duration": 6,
    "start_time": "2023-08-26T12:22:26.870Z"
   },
   {
    "duration": 12,
    "start_time": "2023-08-26T12:22:56.614Z"
   },
   {
    "duration": 5,
    "start_time": "2023-08-26T12:23:49.489Z"
   },
   {
    "duration": 7,
    "start_time": "2023-08-26T12:23:56.209Z"
   },
   {
    "duration": 9,
    "start_time": "2023-08-26T12:23:56.386Z"
   },
   {
    "duration": 22,
    "start_time": "2023-08-26T12:24:13.716Z"
   },
   {
    "duration": 14,
    "start_time": "2023-08-26T12:24:35.349Z"
   },
   {
    "duration": 403,
    "start_time": "2023-08-26T12:25:42.303Z"
   },
   {
    "duration": 144,
    "start_time": "2023-08-26T12:25:42.708Z"
   },
   {
    "duration": 4,
    "start_time": "2023-08-26T12:25:42.853Z"
   },
   {
    "duration": 16,
    "start_time": "2023-08-26T12:25:42.859Z"
   },
   {
    "duration": 12,
    "start_time": "2023-08-26T12:25:42.878Z"
   },
   {
    "duration": 371,
    "start_time": "2023-08-26T12:25:42.892Z"
   },
   {
    "duration": 5,
    "start_time": "2023-08-26T12:25:43.266Z"
   },
   {
    "duration": 20,
    "start_time": "2023-08-26T12:25:43.272Z"
   },
   {
    "duration": 7,
    "start_time": "2023-08-26T12:25:43.294Z"
   },
   {
    "duration": 14,
    "start_time": "2023-08-26T12:25:43.302Z"
   },
   {
    "duration": 12,
    "start_time": "2023-08-26T12:25:43.318Z"
   },
   {
    "duration": 3,
    "start_time": "2023-08-26T12:41:41.097Z"
   },
   {
    "duration": 9,
    "start_time": "2023-08-26T12:41:42.431Z"
   },
   {
    "duration": 8,
    "start_time": "2023-08-26T12:44:03.925Z"
   },
   {
    "duration": 80,
    "start_time": "2023-08-26T12:44:10.020Z"
   },
   {
    "duration": 8,
    "start_time": "2023-08-26T12:44:17.250Z"
   },
   {
    "duration": 109,
    "start_time": "2023-08-26T12:44:28.558Z"
   },
   {
    "duration": 5,
    "start_time": "2023-08-26T12:44:34.342Z"
   },
   {
    "duration": 14,
    "start_time": "2023-08-26T12:45:30.294Z"
   },
   {
    "duration": 5,
    "start_time": "2023-08-26T12:45:34.545Z"
   },
   {
    "duration": 8,
    "start_time": "2023-08-26T12:45:42.784Z"
   },
   {
    "duration": 6,
    "start_time": "2023-08-26T12:45:43.977Z"
   },
   {
    "duration": 11,
    "start_time": "2023-08-26T12:45:52.735Z"
   },
   {
    "duration": 5,
    "start_time": "2023-08-26T12:46:09.152Z"
   },
   {
    "duration": 9,
    "start_time": "2023-08-26T12:46:34.086Z"
   },
   {
    "duration": 4,
    "start_time": "2023-08-26T12:46:34.402Z"
   },
   {
    "duration": 25,
    "start_time": "2023-08-26T12:46:42.963Z"
   },
   {
    "duration": 10,
    "start_time": "2023-08-26T12:46:59.218Z"
   },
   {
    "duration": 19,
    "start_time": "2023-08-26T12:47:20.628Z"
   },
   {
    "duration": 13,
    "start_time": "2023-08-26T12:49:48.999Z"
   },
   {
    "duration": 15,
    "start_time": "2023-08-26T12:49:49.260Z"
   },
   {
    "duration": 4,
    "start_time": "2023-08-26T12:49:56.189Z"
   },
   {
    "duration": 11,
    "start_time": "2023-08-26T12:50:16.232Z"
   },
   {
    "duration": 8,
    "start_time": "2023-08-26T12:52:53.688Z"
   },
   {
    "duration": 11,
    "start_time": "2023-08-26T12:52:58.248Z"
   },
   {
    "duration": 11,
    "start_time": "2023-08-26T12:53:13.322Z"
   },
   {
    "duration": 10,
    "start_time": "2023-08-26T12:56:07.149Z"
   },
   {
    "duration": 9,
    "start_time": "2023-08-26T12:56:27.002Z"
   },
   {
    "duration": 525,
    "start_time": "2023-08-26T12:56:51.410Z"
   },
   {
    "duration": 35,
    "start_time": "2023-08-26T12:56:53.810Z"
   },
   {
    "duration": 3,
    "start_time": "2023-08-26T12:57:51.944Z"
   },
   {
    "duration": 12,
    "start_time": "2023-08-26T12:57:55.194Z"
   },
   {
    "duration": 318,
    "start_time": "2023-08-26T12:58:31.912Z"
   },
   {
    "duration": 131,
    "start_time": "2023-08-26T12:59:28.829Z"
   },
   {
    "duration": 99,
    "start_time": "2023-08-26T12:59:42.427Z"
   },
   {
    "duration": 118,
    "start_time": "2023-08-26T12:59:46.936Z"
   },
   {
    "duration": 134,
    "start_time": "2023-08-26T13:02:16.263Z"
   },
   {
    "duration": 4,
    "start_time": "2023-08-26T13:03:25.061Z"
   },
   {
    "duration": 392,
    "start_time": "2023-08-26T13:05:10.741Z"
   },
   {
    "duration": 486,
    "start_time": "2023-08-26T13:05:34.956Z"
   },
   {
    "duration": 134,
    "start_time": "2023-08-26T13:06:28.008Z"
   },
   {
    "duration": 128,
    "start_time": "2023-08-26T13:06:36.466Z"
   },
   {
    "duration": 142,
    "start_time": "2023-08-26T13:06:52.955Z"
   },
   {
    "duration": 145,
    "start_time": "2023-08-26T13:07:06.669Z"
   },
   {
    "duration": 50,
    "start_time": "2023-08-26T14:33:24.299Z"
   },
   {
    "duration": 1251,
    "start_time": "2023-08-26T14:33:33.197Z"
   },
   {
    "duration": 115,
    "start_time": "2023-08-26T14:33:34.450Z"
   },
   {
    "duration": 5,
    "start_time": "2023-08-26T14:33:34.567Z"
   },
   {
    "duration": 25,
    "start_time": "2023-08-26T14:33:34.575Z"
   },
   {
    "duration": 13,
    "start_time": "2023-08-26T14:33:34.602Z"
   },
   {
    "duration": 97,
    "start_time": "2023-08-26T14:33:34.617Z"
   },
   {
    "duration": 8,
    "start_time": "2023-08-26T14:33:34.716Z"
   },
   {
    "duration": 12,
    "start_time": "2023-08-26T14:33:38.123Z"
   },
   {
    "duration": 16,
    "start_time": "2023-08-26T14:34:51.249Z"
   },
   {
    "duration": 12,
    "start_time": "2023-08-26T14:35:46.269Z"
   },
   {
    "duration": 39,
    "start_time": "2023-08-26T14:36:28.593Z"
   },
   {
    "duration": 14,
    "start_time": "2023-08-26T14:36:32.898Z"
   },
   {
    "duration": 11,
    "start_time": "2023-08-26T14:37:20.164Z"
   },
   {
    "duration": 11,
    "start_time": "2023-08-26T14:37:27.342Z"
   },
   {
    "duration": 25,
    "start_time": "2023-08-26T14:40:13.604Z"
   },
   {
    "duration": 8,
    "start_time": "2023-08-26T14:52:00.615Z"
   },
   {
    "duration": 12,
    "start_time": "2023-08-26T14:57:24.443Z"
   },
   {
    "duration": 21,
    "start_time": "2023-08-26T14:57:31.610Z"
   },
   {
    "duration": 135,
    "start_time": "2023-08-26T15:00:34.678Z"
   },
   {
    "duration": 113,
    "start_time": "2023-08-26T15:00:46.044Z"
   },
   {
    "duration": 112,
    "start_time": "2023-08-26T15:01:51.714Z"
   },
   {
    "duration": 129,
    "start_time": "2023-08-26T15:02:40.946Z"
   },
   {
    "duration": 3,
    "start_time": "2023-08-26T15:03:52.508Z"
   },
   {
    "duration": 9,
    "start_time": "2023-08-26T15:04:14.650Z"
   },
   {
    "duration": 13,
    "start_time": "2023-08-26T15:04:37.464Z"
   },
   {
    "duration": 13,
    "start_time": "2023-08-26T15:04:49.648Z"
   },
   {
    "duration": 181,
    "start_time": "2023-08-26T15:08:46.761Z"
   },
   {
    "duration": 635,
    "start_time": "2023-08-26T15:09:02.443Z"
   },
   {
    "duration": 141,
    "start_time": "2023-08-26T15:12:58.329Z"
   },
   {
    "duration": 461,
    "start_time": "2023-08-26T15:13:04.451Z"
   },
   {
    "duration": 110,
    "start_time": "2023-08-26T15:14:09.798Z"
   },
   {
    "duration": 94,
    "start_time": "2023-08-26T15:14:18.255Z"
   },
   {
    "duration": 90,
    "start_time": "2023-08-26T15:14:26.616Z"
   },
   {
    "duration": 109,
    "start_time": "2023-08-26T15:15:11.943Z"
   },
   {
    "duration": 113,
    "start_time": "2023-08-26T15:15:26.791Z"
   },
   {
    "duration": 110,
    "start_time": "2023-08-26T15:19:09.267Z"
   },
   {
    "duration": 715,
    "start_time": "2023-08-26T15:21:55.577Z"
   },
   {
    "duration": 252,
    "start_time": "2023-08-26T15:22:42.661Z"
   },
   {
    "duration": 251,
    "start_time": "2023-08-26T15:24:19.638Z"
   },
   {
    "duration": 714,
    "start_time": "2023-08-26T15:24:37.194Z"
   },
   {
    "duration": 50,
    "start_time": "2023-08-27T08:42:56.423Z"
   },
   {
    "duration": 1423,
    "start_time": "2023-08-27T08:43:00.544Z"
   },
   {
    "duration": 303,
    "start_time": "2023-08-27T08:43:01.970Z"
   },
   {
    "duration": 4,
    "start_time": "2023-08-27T08:43:02.275Z"
   },
   {
    "duration": 21,
    "start_time": "2023-08-27T08:43:02.282Z"
   },
   {
    "duration": 26,
    "start_time": "2023-08-27T08:43:02.305Z"
   },
   {
    "duration": 89,
    "start_time": "2023-08-27T08:43:02.333Z"
   },
   {
    "duration": 6,
    "start_time": "2023-08-27T08:43:02.424Z"
   },
   {
    "duration": 34,
    "start_time": "2023-08-27T08:43:02.432Z"
   },
   {
    "duration": 23,
    "start_time": "2023-08-27T08:43:02.468Z"
   },
   {
    "duration": 16,
    "start_time": "2023-08-27T08:43:02.494Z"
   },
   {
    "duration": 19,
    "start_time": "2023-08-27T08:43:02.512Z"
   },
   {
    "duration": 146,
    "start_time": "2023-08-27T08:43:02.533Z"
   },
   {
    "duration": 725,
    "start_time": "2023-08-27T08:43:02.681Z"
   },
   {
    "duration": 848,
    "start_time": "2023-08-27T08:43:03.408Z"
   },
   {
    "duration": 151,
    "start_time": "2023-08-27T08:43:04.258Z"
   },
   {
    "duration": 137,
    "start_time": "2023-08-27T08:43:04.411Z"
   },
   {
    "duration": 510,
    "start_time": "2023-08-27T08:44:17.475Z"
   },
   {
    "duration": 84,
    "start_time": "2023-08-27T08:44:18.137Z"
   },
   {
    "duration": 20,
    "start_time": "2023-08-27T08:44:54.875Z"
   },
   {
    "duration": 17,
    "start_time": "2023-08-27T08:45:08.953Z"
   },
   {
    "duration": 619,
    "start_time": "2023-08-27T08:46:10.794Z"
   },
   {
    "duration": 131,
    "start_time": "2023-08-27T08:46:23.050Z"
   },
   {
    "duration": 542,
    "start_time": "2023-08-27T08:47:21.611Z"
   },
   {
    "duration": 2162,
    "start_time": "2023-08-27T08:47:34.375Z"
   },
   {
    "duration": 733,
    "start_time": "2023-08-27T08:49:03.886Z"
   },
   {
    "duration": 581,
    "start_time": "2023-08-27T08:49:17.091Z"
   },
   {
    "duration": 2553,
    "start_time": "2023-08-27T08:49:20.285Z"
   },
   {
    "duration": 918,
    "start_time": "2023-08-27T08:49:23.936Z"
   },
   {
    "duration": 8,
    "start_time": "2023-08-27T08:50:17.537Z"
   },
   {
    "duration": 130,
    "start_time": "2023-08-27T08:53:51.124Z"
   },
   {
    "duration": 1341,
    "start_time": "2023-09-05T05:26:51.228Z"
   },
   {
    "duration": 121,
    "start_time": "2023-09-05T05:26:52.572Z"
   },
   {
    "duration": 17,
    "start_time": "2023-09-05T05:26:52.696Z"
   },
   {
    "duration": 6,
    "start_time": "2023-09-05T05:26:52.715Z"
   },
   {
    "duration": 42,
    "start_time": "2023-09-05T05:26:52.725Z"
   },
   {
    "duration": 14,
    "start_time": "2023-09-05T05:26:52.769Z"
   },
   {
    "duration": 27,
    "start_time": "2023-09-05T05:26:52.785Z"
   },
   {
    "duration": 60,
    "start_time": "2023-09-05T05:26:52.819Z"
   },
   {
    "duration": 17,
    "start_time": "2023-09-05T05:26:52.881Z"
   },
   {
    "duration": 15,
    "start_time": "2023-09-05T05:26:52.913Z"
   },
   {
    "duration": 23,
    "start_time": "2023-09-05T05:26:52.930Z"
   },
   {
    "duration": 22,
    "start_time": "2023-09-05T05:26:52.956Z"
   },
   {
    "duration": 60,
    "start_time": "2023-09-05T05:26:52.980Z"
   },
   {
    "duration": 21,
    "start_time": "2023-09-05T05:26:53.042Z"
   },
   {
    "duration": 57,
    "start_time": "2023-09-05T05:26:53.065Z"
   },
   {
    "duration": 3,
    "start_time": "2023-09-05T05:26:53.124Z"
   },
   {
    "duration": 475,
    "start_time": "2023-09-05T05:26:53.129Z"
   },
   {
    "duration": 21,
    "start_time": "2023-09-05T05:26:53.609Z"
   },
   {
    "duration": 29406,
    "start_time": "2023-09-05T05:26:53.634Z"
   },
   {
    "duration": 23,
    "start_time": "2023-09-05T05:27:23.042Z"
   },
   {
    "duration": 764,
    "start_time": "2023-09-05T05:27:23.067Z"
   },
   {
    "duration": 278,
    "start_time": "2023-09-05T05:27:23.833Z"
   },
   {
    "duration": 333,
    "start_time": "2023-09-05T05:27:24.114Z"
   },
   {
    "duration": 997,
    "start_time": "2023-09-05T05:27:24.450Z"
   },
   {
    "duration": 6,
    "start_time": "2023-09-05T05:27:25.450Z"
   },
   {
    "duration": 118,
    "start_time": "2023-09-05T05:27:25.458Z"
   },
   {
    "duration": 83,
    "start_time": "2023-09-05T05:27:25.578Z"
   },
   {
    "duration": 11,
    "start_time": "2023-09-05T05:27:25.667Z"
   },
   {
    "duration": 16,
    "start_time": "2023-09-05T05:27:25.679Z"
   },
   {
    "duration": 5,
    "start_time": "2023-09-05T05:27:25.697Z"
   },
   {
    "duration": 11,
    "start_time": "2023-09-05T05:27:25.704Z"
   },
   {
    "duration": 19,
    "start_time": "2023-09-05T05:27:25.717Z"
   },
   {
    "duration": 18,
    "start_time": "2023-09-05T05:27:25.739Z"
   },
   {
    "duration": 25,
    "start_time": "2023-09-05T05:27:25.759Z"
   },
   {
    "duration": 12,
    "start_time": "2023-09-05T05:27:25.786Z"
   },
   {
    "duration": 19,
    "start_time": "2023-09-05T05:27:25.801Z"
   },
   {
    "duration": 24,
    "start_time": "2023-09-05T05:27:25.822Z"
   },
   {
    "duration": 12,
    "start_time": "2023-09-05T05:27:25.849Z"
   },
   {
    "duration": 20,
    "start_time": "2023-09-05T05:27:25.863Z"
   },
   {
    "duration": 554,
    "start_time": "2023-09-05T05:27:25.885Z"
   },
   {
    "duration": 510,
    "start_time": "2023-09-05T05:27:26.441Z"
   },
   {
    "duration": 589,
    "start_time": "2023-09-05T05:27:26.953Z"
   },
   {
    "duration": 27,
    "start_time": "2023-09-05T05:27:27.545Z"
   },
   {
    "duration": 589,
    "start_time": "2023-09-05T05:27:27.574Z"
   },
   {
    "duration": 599,
    "start_time": "2023-09-05T05:27:28.165Z"
   },
   {
    "duration": 677,
    "start_time": "2023-09-05T05:27:28.767Z"
   },
   {
    "duration": 24,
    "start_time": "2023-09-05T05:27:29.446Z"
   },
   {
    "duration": 556,
    "start_time": "2023-09-05T05:27:29.471Z"
   },
   {
    "duration": 513,
    "start_time": "2023-09-05T05:27:30.029Z"
   },
   {
    "duration": 627,
    "start_time": "2023-09-05T05:27:30.544Z"
   },
   {
    "duration": 13,
    "start_time": "2023-09-05T05:27:31.173Z"
   },
   {
    "duration": 40,
    "start_time": "2023-09-05T05:27:31.188Z"
   },
   {
    "duration": 38,
    "start_time": "2023-09-05T05:27:31.230Z"
   },
   {
    "duration": 49,
    "start_time": "2023-09-05T08:22:25.829Z"
   },
   {
    "duration": 1327,
    "start_time": "2023-09-05T11:07:08.255Z"
   },
   {
    "duration": 108,
    "start_time": "2023-09-05T11:07:09.584Z"
   },
   {
    "duration": 12,
    "start_time": "2023-09-05T11:07:09.694Z"
   },
   {
    "duration": 4,
    "start_time": "2023-09-05T11:07:09.708Z"
   },
   {
    "duration": 41,
    "start_time": "2023-09-05T11:07:09.713Z"
   },
   {
    "duration": 9,
    "start_time": "2023-09-05T11:07:09.755Z"
   },
   {
    "duration": 4,
    "start_time": "2023-09-05T11:07:09.766Z"
   },
   {
    "duration": 58,
    "start_time": "2023-09-05T11:07:09.771Z"
   },
   {
    "duration": 24,
    "start_time": "2023-09-05T11:07:09.831Z"
   },
   {
    "duration": 11,
    "start_time": "2023-09-05T11:07:09.857Z"
   },
   {
    "duration": 17,
    "start_time": "2023-09-05T11:07:09.869Z"
   },
   {
    "duration": 21,
    "start_time": "2023-09-05T11:07:09.887Z"
   },
   {
    "duration": 48,
    "start_time": "2023-09-05T11:07:09.910Z"
   },
   {
    "duration": 21,
    "start_time": "2023-09-05T11:07:09.960Z"
   },
   {
    "duration": 38,
    "start_time": "2023-09-05T11:07:09.983Z"
   },
   {
    "duration": 3,
    "start_time": "2023-09-05T11:07:10.023Z"
   },
   {
    "duration": 224,
    "start_time": "2023-09-05T11:07:10.049Z"
   },
   {
    "duration": 3,
    "start_time": "2023-09-05T11:10:19.245Z"
   },
   {
    "duration": 71,
    "start_time": "2023-09-05T11:10:19.251Z"
   },
   {
    "duration": 10,
    "start_time": "2023-09-05T11:10:19.324Z"
   },
   {
    "duration": 7,
    "start_time": "2023-09-05T11:10:19.335Z"
   },
   {
    "duration": 33,
    "start_time": "2023-09-05T11:10:19.343Z"
   },
   {
    "duration": 11,
    "start_time": "2023-09-05T11:10:19.377Z"
   },
   {
    "duration": 7,
    "start_time": "2023-09-05T11:10:19.390Z"
   },
   {
    "duration": 15,
    "start_time": "2023-09-05T11:10:19.398Z"
   },
   {
    "duration": 38,
    "start_time": "2023-09-05T11:10:19.414Z"
   },
   {
    "duration": 14,
    "start_time": "2023-09-05T11:10:19.453Z"
   },
   {
    "duration": 13,
    "start_time": "2023-09-05T11:10:19.469Z"
   },
   {
    "duration": 25,
    "start_time": "2023-09-05T11:10:19.483Z"
   },
   {
    "duration": 41,
    "start_time": "2023-09-05T11:10:19.509Z"
   },
   {
    "duration": 17,
    "start_time": "2023-09-05T11:10:19.552Z"
   },
   {
    "duration": 34,
    "start_time": "2023-09-05T11:10:19.570Z"
   },
   {
    "duration": 4,
    "start_time": "2023-09-05T11:10:19.605Z"
   },
   {
    "duration": 207,
    "start_time": "2023-09-05T11:10:19.610Z"
   },
   {
    "duration": 4,
    "start_time": "2023-09-05T11:10:19.818Z"
   },
   {
    "duration": 25161,
    "start_time": "2023-09-05T11:10:19.823Z"
   },
   {
    "duration": 14,
    "start_time": "2023-09-05T11:10:44.986Z"
   },
   {
    "duration": 14,
    "start_time": "2023-09-05T11:41:01.021Z"
   },
   {
    "duration": 1178,
    "start_time": "2023-09-05T11:41:26.555Z"
   },
   {
    "duration": 80,
    "start_time": "2023-09-05T11:41:27.735Z"
   },
   {
    "duration": 13,
    "start_time": "2023-09-05T11:41:27.817Z"
   },
   {
    "duration": 4,
    "start_time": "2023-09-05T11:41:27.832Z"
   },
   {
    "duration": 57,
    "start_time": "2023-09-05T11:41:27.837Z"
   },
   {
    "duration": 15,
    "start_time": "2023-09-05T11:41:27.896Z"
   },
   {
    "duration": 10,
    "start_time": "2023-09-05T11:41:27.912Z"
   },
   {
    "duration": 84,
    "start_time": "2023-09-05T11:41:27.923Z"
   },
   {
    "duration": 15,
    "start_time": "2023-09-05T11:41:28.009Z"
   },
   {
    "duration": 12,
    "start_time": "2023-09-05T11:41:28.027Z"
   },
   {
    "duration": 12,
    "start_time": "2023-09-05T11:41:28.041Z"
   },
   {
    "duration": 35,
    "start_time": "2023-09-05T11:41:28.054Z"
   },
   {
    "duration": 54,
    "start_time": "2023-09-05T11:41:28.091Z"
   },
   {
    "duration": 22,
    "start_time": "2023-09-05T11:41:28.147Z"
   },
   {
    "duration": 38,
    "start_time": "2023-09-05T11:41:28.171Z"
   },
   {
    "duration": 6,
    "start_time": "2023-09-05T11:41:28.211Z"
   },
   {
    "duration": 252,
    "start_time": "2023-09-05T11:41:28.218Z"
   },
   {
    "duration": 6,
    "start_time": "2023-09-05T11:41:28.472Z"
   },
   {
    "duration": 25242,
    "start_time": "2023-09-05T11:41:28.479Z"
   },
   {
    "duration": 18,
    "start_time": "2023-09-05T11:41:53.723Z"
   },
   {
    "duration": 19,
    "start_time": "2023-09-05T11:42:24.560Z"
   },
   {
    "duration": 15,
    "start_time": "2023-09-05T11:44:19.434Z"
   },
   {
    "duration": 14,
    "start_time": "2023-09-05T11:44:27.312Z"
   },
   {
    "duration": 18,
    "start_time": "2023-09-05T11:48:52.302Z"
   },
   {
    "duration": 1120,
    "start_time": "2023-09-05T11:59:42.207Z"
   },
   {
    "duration": 72,
    "start_time": "2023-09-05T11:59:43.329Z"
   },
   {
    "duration": 12,
    "start_time": "2023-09-05T11:59:43.403Z"
   },
   {
    "duration": 4,
    "start_time": "2023-09-05T11:59:43.416Z"
   },
   {
    "duration": 44,
    "start_time": "2023-09-05T11:59:43.422Z"
   },
   {
    "duration": 10,
    "start_time": "2023-09-05T11:59:43.467Z"
   },
   {
    "duration": 5,
    "start_time": "2023-09-05T11:59:43.479Z"
   },
   {
    "duration": 70,
    "start_time": "2023-09-05T11:59:43.486Z"
   },
   {
    "duration": 14,
    "start_time": "2023-09-05T11:59:43.557Z"
   },
   {
    "duration": 14,
    "start_time": "2023-09-05T11:59:43.573Z"
   },
   {
    "duration": 24,
    "start_time": "2023-09-05T11:59:43.589Z"
   },
   {
    "duration": 16,
    "start_time": "2023-09-05T11:59:43.615Z"
   },
   {
    "duration": 39,
    "start_time": "2023-09-05T11:59:43.633Z"
   },
   {
    "duration": 20,
    "start_time": "2023-09-05T11:59:43.675Z"
   },
   {
    "duration": 36,
    "start_time": "2023-09-05T11:59:43.696Z"
   },
   {
    "duration": 18,
    "start_time": "2023-09-05T11:59:43.733Z"
   },
   {
    "duration": 213,
    "start_time": "2023-09-05T11:59:43.752Z"
   },
   {
    "duration": 4,
    "start_time": "2023-09-05T11:59:43.967Z"
   },
   {
    "duration": 25987,
    "start_time": "2023-09-05T11:59:43.972Z"
   },
   {
    "duration": 20,
    "start_time": "2023-09-05T12:00:09.962Z"
   },
   {
    "duration": 535,
    "start_time": "2023-09-05T12:00:09.984Z"
   },
   {
    "duration": 1061,
    "start_time": "2023-09-05T12:08:58.595Z"
   },
   {
    "duration": 134,
    "start_time": "2023-09-05T12:08:59.658Z"
   },
   {
    "duration": 11,
    "start_time": "2023-09-05T12:08:59.794Z"
   },
   {
    "duration": 3,
    "start_time": "2023-09-05T12:08:59.807Z"
   },
   {
    "duration": 38,
    "start_time": "2023-09-05T12:08:59.811Z"
   },
   {
    "duration": 9,
    "start_time": "2023-09-05T12:08:59.851Z"
   },
   {
    "duration": 4,
    "start_time": "2023-09-05T12:08:59.861Z"
   },
   {
    "duration": 47,
    "start_time": "2023-09-05T12:08:59.867Z"
   },
   {
    "duration": 34,
    "start_time": "2023-09-05T12:08:59.916Z"
   },
   {
    "duration": 18,
    "start_time": "2023-09-05T12:08:59.953Z"
   },
   {
    "duration": 14,
    "start_time": "2023-09-05T12:08:59.973Z"
   },
   {
    "duration": 16,
    "start_time": "2023-09-05T12:08:59.989Z"
   },
   {
    "duration": 44,
    "start_time": "2023-09-05T12:09:00.006Z"
   },
   {
    "duration": 20,
    "start_time": "2023-09-05T12:09:00.052Z"
   },
   {
    "duration": 49,
    "start_time": "2023-09-05T12:09:00.074Z"
   },
   {
    "duration": 4,
    "start_time": "2023-09-05T12:09:00.125Z"
   },
   {
    "duration": 240,
    "start_time": "2023-09-05T12:09:00.130Z"
   },
   {
    "duration": 4,
    "start_time": "2023-09-05T12:09:00.372Z"
   },
   {
    "duration": 24419,
    "start_time": "2023-09-05T12:09:00.377Z"
   },
   {
    "duration": 15,
    "start_time": "2023-09-05T12:09:24.797Z"
   },
   {
    "duration": 504,
    "start_time": "2023-09-05T12:09:24.814Z"
   },
   {
    "duration": 230,
    "start_time": "2023-09-05T12:09:25.319Z"
   },
   {
    "duration": 175,
    "start_time": "2023-09-05T12:10:48.592Z"
   },
   {
    "duration": 212,
    "start_time": "2023-09-05T12:11:14.937Z"
   },
   {
    "duration": 524,
    "start_time": "2023-09-05T12:13:43.104Z"
   },
   {
    "duration": 278,
    "start_time": "2023-09-05T12:14:48.920Z"
   },
   {
    "duration": 302,
    "start_time": "2023-09-05T12:15:02.237Z"
   },
   {
    "duration": 12,
    "start_time": "2023-09-05T12:29:18.877Z"
   },
   {
    "duration": 14,
    "start_time": "2023-09-05T12:30:16.674Z"
   },
   {
    "duration": 16,
    "start_time": "2023-09-05T12:30:26.684Z"
   },
   {
    "duration": 15,
    "start_time": "2023-09-05T12:30:56.607Z"
   },
   {
    "duration": 7,
    "start_time": "2023-09-05T12:31:16.544Z"
   },
   {
    "duration": 19,
    "start_time": "2023-09-05T12:31:23.065Z"
   },
   {
    "duration": 16,
    "start_time": "2023-09-05T12:31:27.893Z"
   },
   {
    "duration": 95,
    "start_time": "2023-09-05T12:32:17.251Z"
   },
   {
    "duration": 11,
    "start_time": "2023-09-05T12:32:20.526Z"
   },
   {
    "duration": 11,
    "start_time": "2023-09-05T12:32:55.318Z"
   },
   {
    "duration": 425,
    "start_time": "2023-09-05T12:33:01.476Z"
   },
   {
    "duration": 342,
    "start_time": "2023-09-05T12:33:11.340Z"
   },
   {
    "duration": 19,
    "start_time": "2023-09-05T12:33:51.450Z"
   },
   {
    "duration": 387,
    "start_time": "2023-09-05T12:33:58.313Z"
   },
   {
    "duration": 23,
    "start_time": "2023-09-05T12:34:03.929Z"
   },
   {
    "duration": 327,
    "start_time": "2023-09-05T12:34:08.779Z"
   },
   {
    "duration": 9,
    "start_time": "2023-09-05T12:35:17.164Z"
   },
   {
    "duration": 590,
    "start_time": "2023-09-05T12:35:26.329Z"
   },
   {
    "duration": 857,
    "start_time": "2023-09-05T12:36:02.264Z"
   },
   {
    "duration": 1066,
    "start_time": "2023-09-05T12:42:37.674Z"
   },
   {
    "duration": 1201,
    "start_time": "2023-09-05T12:42:51.554Z"
   },
   {
    "duration": 839,
    "start_time": "2023-09-05T12:45:54.614Z"
   },
   {
    "duration": 880,
    "start_time": "2023-09-05T12:46:02.215Z"
   },
   {
    "duration": 816,
    "start_time": "2023-09-05T12:46:11.838Z"
   },
   {
    "duration": 142,
    "start_time": "2023-09-05T12:46:33.421Z"
   },
   {
    "duration": 3,
    "start_time": "2023-09-05T12:47:06.700Z"
   },
   {
    "duration": 140,
    "start_time": "2023-09-05T12:47:07.484Z"
   },
   {
    "duration": 1053,
    "start_time": "2023-09-05T13:40:00.733Z"
   },
   {
    "duration": 722,
    "start_time": "2023-09-05T13:40:08.275Z"
   },
   {
    "duration": 23,
    "start_time": "2023-09-05T13:40:41.208Z"
   },
   {
    "duration": 687,
    "start_time": "2023-09-05T13:40:51.380Z"
   },
   {
    "duration": 710,
    "start_time": "2023-09-05T13:53:12.694Z"
   },
   {
    "duration": 409,
    "start_time": "2023-09-05T13:53:28.533Z"
   },
   {
    "duration": 355,
    "start_time": "2023-09-05T13:53:32.339Z"
   },
   {
    "duration": 418,
    "start_time": "2023-09-05T13:53:46.133Z"
   },
   {
    "duration": 475,
    "start_time": "2023-09-05T13:53:59.874Z"
   },
   {
    "duration": 359,
    "start_time": "2023-09-05T13:55:19.125Z"
   },
   {
    "duration": 21,
    "start_time": "2023-09-05T13:55:25.912Z"
   },
   {
    "duration": 324,
    "start_time": "2023-09-05T13:55:30.378Z"
   },
   {
    "duration": 18,
    "start_time": "2023-09-05T13:55:33.650Z"
   },
   {
    "duration": 304,
    "start_time": "2023-09-05T13:55:37.885Z"
   },
   {
    "duration": 385,
    "start_time": "2023-09-05T14:02:48.173Z"
   },
   {
    "duration": 11,
    "start_time": "2023-09-05T14:23:35.135Z"
   },
   {
    "duration": 430,
    "start_time": "2023-09-05T14:23:40.100Z"
   },
   {
    "duration": 16,
    "start_time": "2023-09-05T14:25:57.864Z"
   },
   {
    "duration": 3,
    "start_time": "2023-09-05T14:26:19.644Z"
   },
   {
    "duration": 83,
    "start_time": "2023-09-05T14:26:19.651Z"
   },
   {
    "duration": 11,
    "start_time": "2023-09-05T14:26:19.735Z"
   },
   {
    "duration": 11,
    "start_time": "2023-09-05T14:26:19.748Z"
   },
   {
    "duration": 49,
    "start_time": "2023-09-05T14:26:19.762Z"
   },
   {
    "duration": 8,
    "start_time": "2023-09-05T14:26:19.813Z"
   },
   {
    "duration": 14,
    "start_time": "2023-09-05T14:26:19.822Z"
   },
   {
    "duration": 27,
    "start_time": "2023-09-05T14:26:19.838Z"
   },
   {
    "duration": 16,
    "start_time": "2023-09-05T14:26:19.868Z"
   },
   {
    "duration": 12,
    "start_time": "2023-09-05T14:26:19.886Z"
   },
   {
    "duration": 37,
    "start_time": "2023-09-05T14:26:19.900Z"
   },
   {
    "duration": 35,
    "start_time": "2023-09-05T14:26:19.938Z"
   },
   {
    "duration": 41,
    "start_time": "2023-09-05T14:26:19.975Z"
   },
   {
    "duration": 42,
    "start_time": "2023-09-05T14:26:20.018Z"
   },
   {
    "duration": 75,
    "start_time": "2023-09-05T14:26:20.063Z"
   },
   {
    "duration": 49,
    "start_time": "2023-09-05T14:26:20.139Z"
   },
   {
    "duration": 291,
    "start_time": "2023-09-05T14:26:20.189Z"
   },
   {
    "duration": 5,
    "start_time": "2023-09-05T14:26:20.481Z"
   },
   {
    "duration": 26068,
    "start_time": "2023-09-05T14:26:20.487Z"
   },
   {
    "duration": 18,
    "start_time": "2023-09-05T14:26:46.557Z"
   },
   {
    "duration": 281,
    "start_time": "2023-09-05T14:26:46.576Z"
   },
   {
    "duration": 251,
    "start_time": "2023-09-05T14:26:46.858Z"
   },
   {
    "duration": 227,
    "start_time": "2023-09-05T14:26:47.111Z"
   },
   {
    "duration": 415,
    "start_time": "2023-09-05T14:26:47.340Z"
   },
   {
    "duration": 815,
    "start_time": "2023-09-05T14:26:47.757Z"
   },
   {
    "duration": 4,
    "start_time": "2023-09-05T14:26:48.574Z"
   },
   {
    "duration": 68,
    "start_time": "2023-09-05T14:26:48.579Z"
   },
   {
    "duration": 440,
    "start_time": "2023-09-05T14:26:48.650Z"
   },
   {
    "duration": 459,
    "start_time": "2023-09-05T14:26:49.093Z"
   },
   {
    "duration": 456,
    "start_time": "2023-09-05T14:26:49.554Z"
   },
   {
    "duration": 5,
    "start_time": "2023-09-05T14:26:50.011Z"
   },
   {
    "duration": 42,
    "start_time": "2023-09-05T14:26:50.018Z"
   },
   {
    "duration": 17,
    "start_time": "2023-09-05T14:26:50.062Z"
   },
   {
    "duration": 10,
    "start_time": "2023-09-05T14:26:50.081Z"
   },
   {
    "duration": 12,
    "start_time": "2023-09-05T14:26:50.092Z"
   },
   {
    "duration": 28,
    "start_time": "2023-09-05T14:26:50.106Z"
   },
   {
    "duration": 25,
    "start_time": "2023-09-05T14:26:50.135Z"
   },
   {
    "duration": 19,
    "start_time": "2023-09-05T14:26:50.161Z"
   },
   {
    "duration": 27,
    "start_time": "2023-09-05T14:26:50.181Z"
   },
   {
    "duration": 21,
    "start_time": "2023-09-05T14:26:50.210Z"
   },
   {
    "duration": 12,
    "start_time": "2023-09-05T14:26:50.233Z"
   },
   {
    "duration": 14,
    "start_time": "2023-09-05T14:26:50.246Z"
   },
   {
    "duration": 15,
    "start_time": "2023-09-05T14:26:50.261Z"
   },
   {
    "duration": 464,
    "start_time": "2023-09-05T14:26:50.278Z"
   },
   {
    "duration": 458,
    "start_time": "2023-09-05T14:26:50.744Z"
   },
   {
    "duration": 526,
    "start_time": "2023-09-05T14:26:51.204Z"
   },
   {
    "duration": 39,
    "start_time": "2023-09-05T14:26:51.731Z"
   },
   {
    "duration": 501,
    "start_time": "2023-09-05T14:26:51.773Z"
   },
   {
    "duration": 518,
    "start_time": "2023-09-05T14:26:52.275Z"
   },
   {
    "duration": 560,
    "start_time": "2023-09-05T14:26:52.795Z"
   },
   {
    "duration": 34,
    "start_time": "2023-09-05T14:26:53.356Z"
   },
   {
    "duration": 647,
    "start_time": "2023-09-05T14:26:53.392Z"
   },
   {
    "duration": 84,
    "start_time": "2023-09-05T14:27:03.402Z"
   },
   {
    "duration": 32,
    "start_time": "2023-09-05T14:27:08.953Z"
   },
   {
    "duration": 415,
    "start_time": "2023-09-05T14:27:21.996Z"
   },
   {
    "duration": 497,
    "start_time": "2023-09-05T14:29:36.984Z"
   },
   {
    "duration": 500,
    "start_time": "2023-09-05T14:31:05.680Z"
   },
   {
    "duration": 531,
    "start_time": "2023-09-05T14:35:38.046Z"
   },
   {
    "duration": 11,
    "start_time": "2023-09-05T14:40:54.338Z"
   },
   {
    "duration": 87,
    "start_time": "2023-09-05T14:41:34.961Z"
   },
   {
    "duration": 105,
    "start_time": "2023-09-05T14:42:00.379Z"
   },
   {
    "duration": 12,
    "start_time": "2023-09-05T14:44:35.944Z"
   },
   {
    "duration": 83,
    "start_time": "2023-09-05T14:44:48.607Z"
   },
   {
    "duration": 12,
    "start_time": "2023-09-05T14:44:55.111Z"
   },
   {
    "duration": 9,
    "start_time": "2023-09-05T14:45:27.886Z"
   },
   {
    "duration": 9,
    "start_time": "2023-09-05T14:45:49.526Z"
   },
   {
    "duration": 11,
    "start_time": "2023-09-05T14:46:11.688Z"
   },
   {
    "duration": 83,
    "start_time": "2023-09-05T14:46:27.481Z"
   },
   {
    "duration": 9,
    "start_time": "2023-09-05T14:46:35.094Z"
   },
   {
    "duration": 10,
    "start_time": "2023-09-05T14:47:01.805Z"
   },
   {
    "duration": 8,
    "start_time": "2023-09-05T14:47:24.734Z"
   },
   {
    "duration": 10,
    "start_time": "2023-09-05T14:49:21.637Z"
   },
   {
    "duration": 5,
    "start_time": "2023-09-05T14:49:27.058Z"
   },
   {
    "duration": 11,
    "start_time": "2023-09-05T14:50:06.074Z"
   },
   {
    "duration": 8,
    "start_time": "2023-09-05T14:50:07.283Z"
   },
   {
    "duration": 5,
    "start_time": "2023-09-05T14:50:20.988Z"
   },
   {
    "duration": 50,
    "start_time": "2023-09-06T10:54:20.878Z"
   },
   {
    "duration": 1347,
    "start_time": "2023-09-06T10:54:25.595Z"
   },
   {
    "duration": 155,
    "start_time": "2023-09-06T10:54:26.945Z"
   },
   {
    "duration": 12,
    "start_time": "2023-09-06T10:54:27.101Z"
   },
   {
    "duration": 23,
    "start_time": "2023-09-06T10:54:27.115Z"
   },
   {
    "duration": 57,
    "start_time": "2023-09-06T10:54:27.140Z"
   },
   {
    "duration": 9,
    "start_time": "2023-09-06T10:54:27.198Z"
   },
   {
    "duration": 23,
    "start_time": "2023-09-06T10:54:27.209Z"
   },
   {
    "duration": 48,
    "start_time": "2023-09-06T10:54:27.233Z"
   },
   {
    "duration": 14,
    "start_time": "2023-09-06T10:54:27.282Z"
   },
   {
    "duration": 18,
    "start_time": "2023-09-06T10:54:27.298Z"
   },
   {
    "duration": 22,
    "start_time": "2023-09-06T10:54:27.317Z"
   },
   {
    "duration": 27,
    "start_time": "2023-09-06T10:54:27.340Z"
   },
   {
    "duration": 29,
    "start_time": "2023-09-06T10:54:27.368Z"
   },
   {
    "duration": 19,
    "start_time": "2023-09-06T10:54:27.398Z"
   },
   {
    "duration": 42,
    "start_time": "2023-09-06T10:54:27.433Z"
   },
   {
    "duration": 63,
    "start_time": "2023-09-06T11:01:03.082Z"
   },
   {
    "duration": 400,
    "start_time": "2023-09-06T11:01:12.700Z"
   },
   {
    "duration": 11,
    "start_time": "2023-09-06T11:07:35.535Z"
   },
   {
    "duration": 176,
    "start_time": "2023-09-06T11:07:44.194Z"
   },
   {
    "duration": 176,
    "start_time": "2023-09-06T11:11:45.967Z"
   },
   {
    "duration": 792,
    "start_time": "2023-09-06T11:11:51.862Z"
   },
   {
    "duration": 877,
    "start_time": "2023-09-06T11:11:59.562Z"
   },
   {
    "duration": 826,
    "start_time": "2023-09-06T11:12:18.100Z"
   },
   {
    "duration": 823,
    "start_time": "2023-09-06T11:12:25.374Z"
   },
   {
    "duration": 881,
    "start_time": "2023-09-06T11:12:30.713Z"
   },
   {
    "duration": 180,
    "start_time": "2023-09-06T11:12:37.490Z"
   },
   {
    "duration": 807,
    "start_time": "2023-09-06T11:12:49.084Z"
   },
   {
    "duration": 18,
    "start_time": "2023-09-06T11:14:22.384Z"
   },
   {
    "duration": 329,
    "start_time": "2023-09-06T11:14:34.362Z"
   },
   {
    "duration": 18,
    "start_time": "2023-09-06T11:14:45.377Z"
   },
   {
    "duration": 350,
    "start_time": "2023-09-06T11:14:58.215Z"
   },
   {
    "duration": 28,
    "start_time": "2023-09-06T11:15:04.490Z"
   },
   {
    "duration": 443,
    "start_time": "2023-09-06T11:15:15.974Z"
   },
   {
    "duration": 912,
    "start_time": "2023-09-06T11:15:38.128Z"
   },
   {
    "duration": 237,
    "start_time": "2023-09-06T11:16:23.990Z"
   },
   {
    "duration": 219,
    "start_time": "2023-09-06T11:16:33.494Z"
   },
   {
    "duration": 804,
    "start_time": "2023-09-06T11:17:21.146Z"
   },
   {
    "duration": 2397,
    "start_time": "2023-09-06T11:18:23.363Z"
   },
   {
    "duration": 2153,
    "start_time": "2023-09-06T11:18:54.700Z"
   },
   {
    "duration": 231,
    "start_time": "2023-09-06T11:25:25.498Z"
   },
   {
    "duration": 445,
    "start_time": "2023-09-06T11:25:29.469Z"
   },
   {
    "duration": 511,
    "start_time": "2023-09-06T11:25:54.078Z"
   },
   {
    "duration": 526,
    "start_time": "2023-09-06T11:26:15.981Z"
   },
   {
    "duration": 619,
    "start_time": "2023-09-06T11:30:33.964Z"
   },
   {
    "duration": 131,
    "start_time": "2023-09-06T11:59:28.784Z"
   },
   {
    "duration": 104,
    "start_time": "2023-09-06T11:59:35.597Z"
   },
   {
    "duration": 213,
    "start_time": "2023-09-06T11:59:42.952Z"
   },
   {
    "duration": 116,
    "start_time": "2023-09-06T11:59:51.375Z"
   },
   {
    "duration": 185,
    "start_time": "2023-09-06T12:00:32.725Z"
   },
   {
    "duration": 106,
    "start_time": "2023-09-06T12:00:39.580Z"
   },
   {
    "duration": 22,
    "start_time": "2023-09-06T12:05:00.530Z"
   },
   {
    "duration": 336,
    "start_time": "2023-09-06T12:05:12.376Z"
   },
   {
    "duration": 24,
    "start_time": "2023-09-06T12:05:29.289Z"
   },
   {
    "duration": 315,
    "start_time": "2023-09-06T12:05:59.974Z"
   },
   {
    "duration": 22,
    "start_time": "2023-09-06T12:06:05.713Z"
   },
   {
    "duration": 323,
    "start_time": "2023-09-06T12:06:14.260Z"
   },
   {
    "duration": 23,
    "start_time": "2023-09-06T12:06:18.045Z"
   },
   {
    "duration": 344,
    "start_time": "2023-09-06T12:06:42.684Z"
   },
   {
    "duration": 21,
    "start_time": "2023-09-06T12:06:52.124Z"
   },
   {
    "duration": 296,
    "start_time": "2023-09-06T12:07:23.976Z"
   },
   {
    "duration": 21,
    "start_time": "2023-09-06T12:07:31.497Z"
   },
   {
    "duration": 294,
    "start_time": "2023-09-06T12:07:34.672Z"
   },
   {
    "duration": 22,
    "start_time": "2023-09-06T12:07:37.887Z"
   },
   {
    "duration": 310,
    "start_time": "2023-09-06T12:08:05.232Z"
   },
   {
    "duration": 1124,
    "start_time": "2023-09-06T12:42:16.201Z"
   },
   {
    "duration": 133,
    "start_time": "2023-09-06T12:42:17.326Z"
   },
   {
    "duration": 12,
    "start_time": "2023-09-06T12:42:17.461Z"
   },
   {
    "duration": 4,
    "start_time": "2023-09-06T12:42:17.475Z"
   },
   {
    "duration": 33,
    "start_time": "2023-09-06T12:42:17.480Z"
   },
   {
    "duration": 32,
    "start_time": "2023-09-06T12:42:17.515Z"
   },
   {
    "duration": 5,
    "start_time": "2023-09-06T12:42:17.549Z"
   },
   {
    "duration": 48,
    "start_time": "2023-09-06T12:42:17.556Z"
   },
   {
    "duration": 42,
    "start_time": "2023-09-06T12:42:17.605Z"
   },
   {
    "duration": 8,
    "start_time": "2023-09-06T12:42:17.650Z"
   },
   {
    "duration": 11,
    "start_time": "2023-09-06T12:42:17.659Z"
   },
   {
    "duration": 17,
    "start_time": "2023-09-06T12:42:17.671Z"
   },
   {
    "duration": 51,
    "start_time": "2023-09-06T12:42:17.689Z"
   },
   {
    "duration": 24,
    "start_time": "2023-09-06T12:42:17.741Z"
   },
   {
    "duration": 35,
    "start_time": "2023-09-06T12:42:17.766Z"
   },
   {
    "duration": 3,
    "start_time": "2023-09-06T12:42:17.802Z"
   },
   {
    "duration": 230,
    "start_time": "2023-09-06T12:42:17.807Z"
   },
   {
    "duration": 5,
    "start_time": "2023-09-06T12:42:18.038Z"
   },
   {
    "duration": 26106,
    "start_time": "2023-09-06T12:42:18.047Z"
   },
   {
    "duration": 17,
    "start_time": "2023-09-06T12:42:44.154Z"
   },
   {
    "duration": 292,
    "start_time": "2023-09-06T12:42:44.173Z"
   },
   {
    "duration": 299,
    "start_time": "2023-09-06T12:42:44.466Z"
   },
   {
    "duration": 216,
    "start_time": "2023-09-06T12:42:44.767Z"
   },
   {
    "duration": 355,
    "start_time": "2023-09-06T12:42:44.985Z"
   },
   {
    "duration": 720,
    "start_time": "2023-09-06T12:42:45.346Z"
   },
   {
    "duration": 3,
    "start_time": "2023-09-06T12:42:46.068Z"
   },
   {
    "duration": 616,
    "start_time": "2023-09-06T12:42:46.073Z"
   },
   {
    "duration": 6,
    "start_time": "2023-09-06T12:42:46.692Z"
   },
   {
    "duration": 120,
    "start_time": "2023-09-06T12:42:46.700Z"
   },
   {
    "duration": 18,
    "start_time": "2023-09-06T12:42:46.822Z"
   },
   {
    "duration": 5,
    "start_time": "2023-09-06T12:42:46.845Z"
   },
   {
    "duration": 12,
    "start_time": "2023-09-06T12:42:46.851Z"
   },
   {
    "duration": 15,
    "start_time": "2023-09-06T12:42:46.865Z"
   },
   {
    "duration": 32,
    "start_time": "2023-09-06T12:42:46.882Z"
   },
   {
    "duration": 33,
    "start_time": "2023-09-06T12:42:46.916Z"
   },
   {
    "duration": 7,
    "start_time": "2023-09-06T12:42:46.950Z"
   },
   {
    "duration": 24,
    "start_time": "2023-09-06T12:42:46.958Z"
   },
   {
    "duration": 24,
    "start_time": "2023-09-06T12:42:46.984Z"
   },
   {
    "duration": 7,
    "start_time": "2023-09-06T12:42:47.010Z"
   },
   {
    "duration": 12,
    "start_time": "2023-09-06T12:42:47.019Z"
   },
   {
    "duration": 382,
    "start_time": "2023-09-06T12:42:47.032Z"
   },
   {
    "duration": 401,
    "start_time": "2023-09-06T12:42:47.415Z"
   },
   {
    "duration": 404,
    "start_time": "2023-09-06T12:42:47.818Z"
   },
   {
    "duration": 36,
    "start_time": "2023-09-06T12:42:48.223Z"
   },
   {
    "duration": 590,
    "start_time": "2023-09-06T12:42:48.261Z"
   },
   {
    "duration": 495,
    "start_time": "2023-09-06T12:42:48.853Z"
   },
   {
    "duration": 471,
    "start_time": "2023-09-06T12:42:49.349Z"
   },
   {
    "duration": 40,
    "start_time": "2023-09-06T12:42:49.821Z"
   },
   {
    "duration": 484,
    "start_time": "2023-09-06T12:42:49.863Z"
   },
   {
    "duration": 464,
    "start_time": "2023-09-06T12:42:50.349Z"
   },
   {
    "duration": 561,
    "start_time": "2023-09-06T12:42:50.815Z"
   },
   {
    "duration": 11,
    "start_time": "2023-09-06T12:42:51.377Z"
   },
   {
    "duration": 55,
    "start_time": "2023-09-06T12:42:51.389Z"
   },
   {
    "duration": 20,
    "start_time": "2023-09-06T12:42:51.447Z"
   },
   {
    "duration": 13,
    "start_time": "2023-09-06T12:42:51.469Z"
   },
   {
    "duration": 1283,
    "start_time": "2023-09-07T05:55:24.351Z"
   },
   {
    "duration": 132,
    "start_time": "2023-09-07T05:55:25.636Z"
   },
   {
    "duration": 15,
    "start_time": "2023-09-07T05:55:25.769Z"
   },
   {
    "duration": 22,
    "start_time": "2023-09-07T05:55:25.786Z"
   },
   {
    "duration": 45,
    "start_time": "2023-09-07T05:55:25.810Z"
   },
   {
    "duration": 11,
    "start_time": "2023-09-07T05:55:25.857Z"
   },
   {
    "duration": 7,
    "start_time": "2023-09-07T05:55:25.869Z"
   },
   {
    "duration": 75,
    "start_time": "2023-09-07T05:55:25.878Z"
   },
   {
    "duration": 16,
    "start_time": "2023-09-07T05:55:25.955Z"
   },
   {
    "duration": 31,
    "start_time": "2023-09-07T05:55:25.974Z"
   },
   {
    "duration": 19,
    "start_time": "2023-09-07T05:55:26.007Z"
   },
   {
    "duration": 19,
    "start_time": "2023-09-07T05:55:26.028Z"
   },
   {
    "duration": 60,
    "start_time": "2023-09-07T05:55:26.048Z"
   },
   {
    "duration": 24,
    "start_time": "2023-09-07T05:55:26.110Z"
   },
   {
    "duration": 46,
    "start_time": "2023-09-07T05:55:26.136Z"
   },
   {
    "duration": 28,
    "start_time": "2023-09-07T05:55:26.185Z"
   },
   {
    "duration": 269,
    "start_time": "2023-09-07T05:55:26.215Z"
   },
   {
    "duration": 19,
    "start_time": "2023-09-07T05:55:26.485Z"
   },
   {
    "duration": 29855,
    "start_time": "2023-09-07T05:55:26.508Z"
   },
   {
    "duration": 19,
    "start_time": "2023-09-07T05:55:56.364Z"
   },
   {
    "duration": 348,
    "start_time": "2023-09-07T05:55:56.384Z"
   },
   {
    "duration": 279,
    "start_time": "2023-09-07T05:55:56.735Z"
   },
   {
    "duration": 223,
    "start_time": "2023-09-07T05:55:57.015Z"
   },
   {
    "duration": 407,
    "start_time": "2023-09-07T05:55:57.240Z"
   },
   {
    "duration": 836,
    "start_time": "2023-09-07T05:55:57.649Z"
   },
   {
    "duration": 3,
    "start_time": "2023-09-07T05:55:58.487Z"
   },
   {
    "duration": 723,
    "start_time": "2023-09-07T05:55:58.492Z"
   },
   {
    "duration": 6,
    "start_time": "2023-09-07T05:55:59.219Z"
   },
   {
    "duration": 26,
    "start_time": "2023-09-07T05:55:59.226Z"
   },
   {
    "duration": 13,
    "start_time": "2023-09-07T05:55:59.253Z"
   },
   {
    "duration": 43,
    "start_time": "2023-09-07T05:55:59.267Z"
   },
   {
    "duration": 30,
    "start_time": "2023-09-07T05:55:59.312Z"
   },
   {
    "duration": 22,
    "start_time": "2023-09-07T05:55:59.344Z"
   },
   {
    "duration": 26,
    "start_time": "2023-09-07T05:55:59.368Z"
   },
   {
    "duration": 27,
    "start_time": "2023-09-07T05:55:59.396Z"
   },
   {
    "duration": 30,
    "start_time": "2023-09-07T05:55:59.425Z"
   },
   {
    "duration": 29,
    "start_time": "2023-09-07T05:55:59.456Z"
   },
   {
    "duration": 47,
    "start_time": "2023-09-07T05:55:59.487Z"
   },
   {
    "duration": 19,
    "start_time": "2023-09-07T05:55:59.536Z"
   },
   {
    "duration": 10,
    "start_time": "2023-09-07T05:55:59.557Z"
   },
   {
    "duration": 513,
    "start_time": "2023-09-07T05:55:59.569Z"
   },
   {
    "duration": 489,
    "start_time": "2023-09-07T05:56:00.084Z"
   },
   {
    "duration": 515,
    "start_time": "2023-09-07T05:56:00.575Z"
   },
   {
    "duration": 31,
    "start_time": "2023-09-07T05:56:01.092Z"
   },
   {
    "duration": 622,
    "start_time": "2023-09-07T05:56:01.125Z"
   },
   {
    "duration": 589,
    "start_time": "2023-09-07T05:56:01.749Z"
   },
   {
    "duration": 492,
    "start_time": "2023-09-07T05:56:02.339Z"
   },
   {
    "duration": 24,
    "start_time": "2023-09-07T05:56:02.833Z"
   },
   {
    "duration": 550,
    "start_time": "2023-09-07T05:56:02.858Z"
   },
   {
    "duration": 495,
    "start_time": "2023-09-07T05:56:03.414Z"
   },
   {
    "duration": 548,
    "start_time": "2023-09-07T05:56:03.916Z"
   },
   {
    "duration": 11,
    "start_time": "2023-09-07T05:56:04.466Z"
   },
   {
    "duration": 31,
    "start_time": "2023-09-07T05:56:04.479Z"
   },
   {
    "duration": 10,
    "start_time": "2023-09-07T05:56:04.512Z"
   },
   {
    "duration": 15,
    "start_time": "2023-09-07T05:56:04.524Z"
   },
   {
    "duration": 8,
    "start_time": "2023-09-07T05:56:30.746Z"
   },
   {
    "duration": 7,
    "start_time": "2023-09-07T05:56:42.062Z"
   },
   {
    "duration": 7,
    "start_time": "2023-09-07T05:56:46.690Z"
   },
   {
    "duration": 7,
    "start_time": "2023-09-07T05:56:50.290Z"
   },
   {
    "duration": 1548,
    "start_time": "2023-09-08T04:10:23.262Z"
   },
   {
    "duration": 96,
    "start_time": "2023-09-08T04:10:24.815Z"
   },
   {
    "duration": 16,
    "start_time": "2023-09-08T04:10:24.913Z"
   },
   {
    "duration": 16,
    "start_time": "2023-09-08T04:10:24.932Z"
   },
   {
    "duration": 63,
    "start_time": "2023-09-08T04:10:24.949Z"
   },
   {
    "duration": 13,
    "start_time": "2023-09-08T04:10:25.022Z"
   },
   {
    "duration": 6,
    "start_time": "2023-09-08T04:10:25.037Z"
   },
   {
    "duration": 86,
    "start_time": "2023-09-08T04:10:25.045Z"
   },
   {
    "duration": 16,
    "start_time": "2023-09-08T04:10:25.133Z"
   },
   {
    "duration": 10,
    "start_time": "2023-09-08T04:10:25.152Z"
   },
   {
    "duration": 19,
    "start_time": "2023-09-08T04:10:25.163Z"
   },
   {
    "duration": 45,
    "start_time": "2023-09-08T04:10:25.184Z"
   },
   {
    "duration": 33,
    "start_time": "2023-09-08T04:10:25.231Z"
   },
   {
    "duration": 20,
    "start_time": "2023-09-08T04:10:25.266Z"
   },
   {
    "duration": 58,
    "start_time": "2023-09-08T04:10:25.288Z"
   },
   {
    "duration": 3,
    "start_time": "2023-09-08T04:10:25.348Z"
   },
   {
    "duration": 293,
    "start_time": "2023-09-08T04:10:25.353Z"
   },
   {
    "duration": 5,
    "start_time": "2023-09-08T04:10:25.648Z"
   },
   {
    "duration": 32789,
    "start_time": "2023-09-08T04:10:25.655Z"
   },
   {
    "duration": 18,
    "start_time": "2023-09-08T04:10:58.446Z"
   },
   {
    "duration": 24,
    "start_time": "2023-09-08T04:10:58.466Z"
   },
   {
    "duration": 363,
    "start_time": "2023-09-08T04:10:58.492Z"
   },
   {
    "duration": 310,
    "start_time": "2023-09-08T04:10:58.857Z"
   },
   {
    "duration": 264,
    "start_time": "2023-09-08T04:10:59.168Z"
   },
   {
    "duration": 435,
    "start_time": "2023-09-08T04:10:59.433Z"
   },
   {
    "duration": 966,
    "start_time": "2023-09-08T04:10:59.870Z"
   },
   {
    "duration": 5,
    "start_time": "2023-09-08T04:11:00.841Z"
   },
   {
    "duration": 818,
    "start_time": "2023-09-08T04:11:00.849Z"
   },
   {
    "duration": 7,
    "start_time": "2023-09-08T04:11:01.670Z"
   },
   {
    "duration": 152,
    "start_time": "2023-09-08T04:11:01.679Z"
   },
   {
    "duration": 51,
    "start_time": "2023-09-08T04:11:01.833Z"
   },
   {
    "duration": 48,
    "start_time": "2023-09-08T04:11:01.886Z"
   },
   {
    "duration": 55,
    "start_time": "2023-09-08T04:11:01.936Z"
   },
   {
    "duration": 55,
    "start_time": "2023-09-08T04:11:01.992Z"
   },
   {
    "duration": 64,
    "start_time": "2023-09-08T04:11:02.049Z"
   },
   {
    "duration": 32,
    "start_time": "2023-09-08T04:11:02.115Z"
   },
   {
    "duration": 43,
    "start_time": "2023-09-08T04:11:02.149Z"
   },
   {
    "duration": 59,
    "start_time": "2023-09-08T04:11:02.194Z"
   },
   {
    "duration": 58,
    "start_time": "2023-09-08T04:11:02.254Z"
   },
   {
    "duration": 28,
    "start_time": "2023-09-08T04:11:02.314Z"
   },
   {
    "duration": 46,
    "start_time": "2023-09-08T04:11:02.344Z"
   },
   {
    "duration": 501,
    "start_time": "2023-09-08T04:11:02.392Z"
   },
   {
    "duration": 498,
    "start_time": "2023-09-08T04:11:02.894Z"
   },
   {
    "duration": 524,
    "start_time": "2023-09-08T04:11:03.394Z"
   },
   {
    "duration": 28,
    "start_time": "2023-09-08T04:11:03.920Z"
   },
   {
    "duration": 723,
    "start_time": "2023-09-08T04:11:03.950Z"
   },
   {
    "duration": 585,
    "start_time": "2023-09-08T04:11:04.675Z"
   },
   {
    "duration": 585,
    "start_time": "2023-09-08T04:11:05.262Z"
   },
   {
    "duration": 24,
    "start_time": "2023-09-08T04:11:05.849Z"
   },
   {
    "duration": 554,
    "start_time": "2023-09-08T04:11:05.875Z"
   },
   {
    "duration": 517,
    "start_time": "2023-09-08T04:11:06.437Z"
   },
   {
    "duration": 642,
    "start_time": "2023-09-08T04:11:06.956Z"
   },
   {
    "duration": 16,
    "start_time": "2023-09-08T04:11:07.601Z"
   },
   {
    "duration": 17,
    "start_time": "2023-09-08T04:11:07.619Z"
   },
   {
    "duration": 9,
    "start_time": "2023-09-08T04:11:07.639Z"
   },
   {
    "duration": 16,
    "start_time": "2023-09-08T04:11:07.650Z"
   }
  ],
  "kernelspec": {
   "display_name": "Python 3 (ipykernel)",
   "language": "python",
   "name": "python3"
  },
  "language_info": {
   "codemirror_mode": {
    "name": "ipython",
    "version": 3
   },
   "file_extension": ".py",
   "mimetype": "text/x-python",
   "name": "python",
   "nbconvert_exporter": "python",
   "pygments_lexer": "ipython3",
   "version": "3.9.7"
  },
  "toc": {
   "base_numbering": 1,
   "nav_menu": {},
   "number_sections": true,
   "sideBar": true,
   "skip_h1_title": true,
   "title_cell": "Table of Contents",
   "title_sidebar": "Contents",
   "toc_cell": false,
   "toc_position": {},
   "toc_section_display": true,
   "toc_window_display": false
  }
 },
 "nbformat": 4,
 "nbformat_minor": 2
}
